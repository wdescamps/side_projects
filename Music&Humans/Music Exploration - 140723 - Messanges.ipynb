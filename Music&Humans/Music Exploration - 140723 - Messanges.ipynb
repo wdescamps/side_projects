{
 "cells": [
  {
   "cell_type": "raw",
   "id": "064836c0",
   "metadata": {},
   "source": [
    "https://web.mit.edu/music21/doc/usersGuide"
   ]
  },
  {
   "cell_type": "markdown",
   "id": "08b0eb1c",
   "metadata": {},
   "source": [
    "## Imports"
   ]
  },
  {
   "cell_type": "raw",
   "id": "b5649933",
   "metadata": {},
   "source": [
    "#Random ideas \n",
    "\n",
    "Explore language translation models between music / emotions and specific languages?\n",
    "\n",
    "Creer un business qui permet de faire une étude de posture sur une selle, puis créer une selle en impression 3D/ ou plus simple, de donner une selle adaptée dans le commerce."
   ]
  },
  {
   "cell_type": "code",
   "execution_count": 193,
   "id": "7fea3108",
   "metadata": {},
   "outputs": [],
   "source": [
    "# Oui c'est pas bien de faire ca, \n",
    "# mais au moins on peut utiliser les objets comme dans la notice\n",
    "\n",
    "from music21 import *"
   ]
  },
  {
   "cell_type": "code",
   "execution_count": 8,
   "id": "1f3fdbf6",
   "metadata": {},
   "outputs": [],
   "source": [
    "import numpy as np\n",
    "from matplotlib import pyplot as plt\n",
    "from ipywidgets import interact, fixed\n",
    "import random"
   ]
  },
  {
   "cell_type": "code",
   "execution_count": null,
   "id": "72ce6486",
   "metadata": {},
   "outputs": [],
   "source": []
  },
  {
   "cell_type": "markdown",
   "id": "cae21507",
   "metadata": {
    "heading_collapsed": true
   },
   "source": [
    "## Chapter 2 : Notes"
   ]
  },
  {
   "cell_type": "code",
   "execution_count": 84,
   "id": "c2a33907",
   "metadata": {
    "hidden": true
   },
   "outputs": [
    {
     "data": {
      "text/plain": [
       "<module 'music21.note' from '/Users/WDescamps/.pyenv/versions/3.10.10/envs/human/lib/python3.10/site-packages/music21/note.py'>"
      ]
     },
     "execution_count": 84,
     "metadata": {},
     "output_type": "execute_result"
    }
   ],
   "source": [
    "note"
   ]
  },
  {
   "cell_type": "code",
   "execution_count": 85,
   "id": "a4eaab20",
   "metadata": {
    "hidden": true
   },
   "outputs": [],
   "source": [
    "#dir(note)"
   ]
  },
  {
   "cell_type": "code",
   "execution_count": 86,
   "id": "c6069cbb",
   "metadata": {
    "hidden": true
   },
   "outputs": [],
   "source": [
    "f = note.Note(\"F5\")"
   ]
  },
  {
   "cell_type": "markdown",
   "id": "36ef2d5b",
   "metadata": {
    "hidden": true
   },
   "source": [
    "#### What's a note anyway?"
   ]
  },
  {
   "cell_type": "raw",
   "id": "68e97360",
   "metadata": {
    "hidden": true
   },
   "source": [
    "We use the convention where middle-C is C4"
   ]
  },
  {
   "cell_type": "code",
   "execution_count": 87,
   "id": "36509799",
   "metadata": {
    "hidden": true
   },
   "outputs": [
    {
     "data": {
      "text/plain": [
       "<music21.note.Note F>"
      ]
     },
     "execution_count": 87,
     "metadata": {},
     "output_type": "execute_result"
    }
   ],
   "source": [
    "f"
   ]
  },
  {
   "cell_type": "code",
   "execution_count": 88,
   "id": "e9b96dd6",
   "metadata": {
    "hidden": true
   },
   "outputs": [
    {
     "data": {
      "text/plain": [
       "'F'"
      ]
     },
     "execution_count": 88,
     "metadata": {},
     "output_type": "execute_result"
    }
   ],
   "source": [
    "f.name"
   ]
  },
  {
   "cell_type": "raw",
   "id": "df57b2a6",
   "metadata": {
    "hidden": true
   },
   "source": [
    "There are single quotes around some of the output (like the 'F' in f.name) and none around others (like the 5 in f.octave). The quotes mean that that attribute is returning a String (a bunch of letters or numbers or simple symbols). The lack of quotes means that it’s returning a number (either an integer or if there’s a decimal point, a sneakingly decimal-like thingy called a float (or “floating-point number”) which looks and acts just like a decimal, except when it doesn’t, which is never when you’d expect."
   ]
  },
  {
   "cell_type": "code",
   "execution_count": 89,
   "id": "de147bd6",
   "metadata": {
    "hidden": true
   },
   "outputs": [
    {
     "data": {
      "text/plain": [
       "5"
      ]
     },
     "execution_count": 89,
     "metadata": {},
     "output_type": "execute_result"
    }
   ],
   "source": [
    "f.octave"
   ]
  },
  {
   "cell_type": "code",
   "execution_count": 90,
   "id": "51079532",
   "metadata": {
    "hidden": true
   },
   "outputs": [
    {
     "data": {
      "text/plain": [
       "698.456462866008"
      ]
     },
     "execution_count": 90,
     "metadata": {},
     "output_type": "execute_result"
    }
   ],
   "source": [
    "f.pitch.frequency"
   ]
  },
  {
   "cell_type": "code",
   "execution_count": 91,
   "id": "0d3d9d0b",
   "metadata": {
    "hidden": true
   },
   "outputs": [
    {
     "data": {
      "text/plain": [
       "'5'"
      ]
     },
     "execution_count": 91,
     "metadata": {},
     "output_type": "execute_result"
    }
   ],
   "source": [
    "f.pitch.pitchClassString"
   ]
  },
  {
   "cell_type": "raw",
   "id": "04bfc25c",
   "metadata": {
    "hidden": true
   },
   "source": [
    "An f is about 698hz (if A4 = 440hz), and it is pitch class 5 (where C = 0, C# and Db = 1, etc.)."
   ]
  },
  {
   "cell_type": "code",
   "execution_count": null,
   "id": "5f85ec2e",
   "metadata": {
    "hidden": true
   },
   "outputs": [],
   "source": []
  },
  {
   "cell_type": "raw",
   "id": "7ffc7bae",
   "metadata": {
    "hidden": true
   },
   "source": [
    "The difference between the string '5' and the number 5 is essential to keep in mind. In Python (like most modern programming languages) we use two equal signs (==) to ask if two things are equal. So:"
   ]
  },
  {
   "cell_type": "code",
   "execution_count": 55,
   "id": "e3f717c1",
   "metadata": {
    "hidden": true
   },
   "outputs": [
    {
     "data": {
      "text/plain": [
       "True"
      ]
     },
     "execution_count": 55,
     "metadata": {},
     "output_type": "execute_result"
    }
   ],
   "source": [
    "f.octave == 5"
   ]
  },
  {
   "cell_type": "code",
   "execution_count": 56,
   "id": "95073f5c",
   "metadata": {
    "hidden": true
   },
   "outputs": [
    {
     "data": {
      "text/plain": [
       "False"
      ]
     },
     "execution_count": 56,
     "metadata": {},
     "output_type": "execute_result"
    }
   ],
   "source": [
    "f.pitch.pitchClassString == 5"
   ]
  },
  {
   "cell_type": "raw",
   "id": "6c6ce2aa",
   "metadata": {
    "hidden": true
   },
   "source": [
    "That’s because 5 == '5' is False. (There are some lovely languages such as JavaScript and Perl where it’s True; Python’s not one of them. This has many disadvantages at first, but as you go on, you might see this as an advantage). So to see if f.pitchClassString is '5' we need to make '5' a string by putting it in quotes:"
   ]
  },
  {
   "cell_type": "code",
   "execution_count": 57,
   "id": "49b4dd2b",
   "metadata": {
    "hidden": true
   },
   "outputs": [
    {
     "data": {
      "text/plain": [
       "True"
      ]
     },
     "execution_count": 57,
     "metadata": {},
     "output_type": "execute_result"
    }
   ],
   "source": [
    "f.pitch.pitchClassString == \"5\""
   ]
  },
  {
   "cell_type": "raw",
   "id": "c42160da",
   "metadata": {
    "hidden": true
   },
   "source": [
    "pitchClassString tells you that you should expect a string, because we’ve put it in the name. There’s also a .pitch.pitchClass which returns a number:"
   ]
  },
  {
   "cell_type": "code",
   "execution_count": 58,
   "id": "8346199c",
   "metadata": {
    "hidden": true
   },
   "outputs": [
    {
     "data": {
      "text/plain": [
       "5"
      ]
     },
     "execution_count": 58,
     "metadata": {},
     "output_type": "execute_result"
    }
   ],
   "source": [
    "f.pitch.pitchClass"
   ]
  },
  {
   "cell_type": "markdown",
   "id": "286afd96",
   "metadata": {
    "hidden": true
   },
   "source": [
    "#### Sharps and flats"
   ]
  },
  {
   "cell_type": "raw",
   "id": "0f25d8aa",
   "metadata": {
    "hidden": true
   },
   "source": [
    "In music21, sharps are “#” as you might expect, but flats are “-”. That’s because it’s otherwise hard to tell the difference between the Note “b”"
   ]
  },
  {
   "cell_type": "code",
   "execution_count": 59,
   "id": "b127e3e7",
   "metadata": {
    "hidden": true
   },
   "outputs": [],
   "source": [
    "bflat = note.Note(\"B-2\")"
   ]
  },
  {
   "cell_type": "raw",
   "id": "9d3085b6",
   "metadata": {
    "hidden": true
   },
   "source": [
    "I’ve called the variable “bflat” here. You could call it “Bb” if you want or “b_flat”, but not “b-flat” because dashes aren’t allowed in variable names"
   ]
  },
  {
   "cell_type": "code",
   "execution_count": null,
   "id": "2c164e4b",
   "metadata": {
    "hidden": true
   },
   "outputs": [],
   "source": []
  },
  {
   "cell_type": "raw",
   "id": "6fe89e59",
   "metadata": {
    "hidden": true
   },
   "source": [
    "Since this note has an accidental you can get it by using the .pitch.accidental subproperty:\n",
    "\n",
    "In music, an accidental is a note of a pitch (or pitch class) that is not a member of the scale or mode indicated by the most recently applied key signature. In musical notation, the sharp (♯), flat (♭), and natural (♮) symbols, among others, mark such notes—and those symbols are also called accidentals."
   ]
  },
  {
   "cell_type": "code",
   "execution_count": 60,
   "id": "27fd8d28",
   "metadata": {
    "hidden": true
   },
   "outputs": [
    {
     "data": {
      "text/plain": [
       "<music21.pitch.Accidental flat>"
      ]
     },
     "execution_count": 60,
     "metadata": {},
     "output_type": "execute_result"
    }
   ],
   "source": [
    "bflat.pitch.accidental"
   ]
  },
  {
   "cell_type": "raw",
   "id": "28e106cd",
   "metadata": {
    "hidden": true
   },
   "source": [
    "Here we have something that isn’t a number and doesn’t have quotes around it. That usually means that what .accidental returns is another object – in this case an Accidental object. As we saw above, objects have attributes (and other goodies we’ll get to in a second) and the Accidental object is no exception. So let’s make a new variable that will store bflat’s accidental:"
   ]
  },
  {
   "cell_type": "code",
   "execution_count": 61,
   "id": "5421571c",
   "metadata": {
    "hidden": true
   },
   "outputs": [],
   "source": [
    "bflatacc = bflat.pitch.accidental"
   ]
  },
  {
   "cell_type": "raw",
   "id": "f3a5d6ad",
   "metadata": {
    "hidden": true
   },
   "source": [
    "We’ll get to all the attributes of Accidental objects in a bit, but here are two of them: .alter and .displayLocation. You’ll use the first one quite a bit: it shows how many semitones this Accidental changes the Note:"
   ]
  },
  {
   "cell_type": "code",
   "execution_count": 62,
   "id": "dda8234f",
   "metadata": {
    "hidden": true
   },
   "outputs": [
    {
     "data": {
      "text/plain": [
       "-1.0"
      ]
     },
     "execution_count": 62,
     "metadata": {},
     "output_type": "execute_result"
    }
   ],
   "source": [
    "bflatacc.alter"
   ]
  },
  {
   "cell_type": "raw",
   "id": "2dea0bb0",
   "metadata": {
    "hidden": true
   },
   "source": [
    "Since this Accidental is a flat, its .alter is a negative number. Notice that it’s also not an integer, but a float. That might indicate that music21 supports things like quarter-tones, and in this case you’d be right."
   ]
  },
  {
   "cell_type": "raw",
   "id": "1266826a",
   "metadata": {
    "hidden": true
   },
   "source": [
    "We could have skipped the first step altogether and “chained” the two attributes together in one step:"
   ]
  },
  {
   "cell_type": "code",
   "execution_count": 63,
   "id": "3d179214",
   "metadata": {
    "hidden": true
   },
   "outputs": [
    {
     "data": {
      "text/plain": [
       "-1.0"
      ]
     },
     "execution_count": 63,
     "metadata": {},
     "output_type": "execute_result"
    }
   ],
   "source": [
    "bflat.pitch.accidental.alter"
   ]
  },
  {
   "cell_type": "code",
   "execution_count": 64,
   "id": "a158210c",
   "metadata": {
    "hidden": true
   },
   "outputs": [
    {
     "data": {
      "text/plain": [
       "'normal'"
      ]
     },
     "execution_count": 64,
     "metadata": {},
     "output_type": "execute_result"
    }
   ],
   "source": [
    "bflatacc.displayLocation"
   ]
  },
  {
   "cell_type": "raw",
   "id": "b05f3e4d",
   "metadata": {
    "hidden": true
   },
   "source": [
    "If you want to have the accidental display above the note, you’ll have to set that yourself:"
   ]
  },
  {
   "cell_type": "code",
   "execution_count": 65,
   "id": "5b01a0d2",
   "metadata": {
    "hidden": true
   },
   "outputs": [],
   "source": [
    "bflatacc.displayLocation = 'above'"
   ]
  },
  {
   "cell_type": "raw",
   "id": "554fcc3a",
   "metadata": {
    "hidden": true
   },
   "source": [
    "Python is one of those cool computer languages where if an object doesn’t have a particular attribute but you think it should, you can add it to the object (some people find that this makes objects messy, but I don’t mind it). For what I hope are obvious reasons, the Note object does not have an attribute called “wasWrittenByStockhausen”. "
   ]
  },
  {
   "cell_type": "code",
   "execution_count": 66,
   "id": "eb19729d",
   "metadata": {
    "hidden": true
   },
   "outputs": [
    {
     "ename": "SyntaxError",
     "evalue": "invalid syntax (1186549779.py, line 1)",
     "output_type": "error",
     "traceback": [
      "\u001b[0;36m  Cell \u001b[0;32mIn [66], line 1\u001b[0;36m\u001b[0m\n\u001b[0;31m    If you set the value of that weird attribute, you can use it later:\u001b[0m\n\u001b[0m       ^\u001b[0m\n\u001b[0;31mSyntaxError\u001b[0m\u001b[0;31m:\u001b[0m invalid syntax\n"
     ]
    }
   ],
   "source": [
    "If you set the value of that weird attribute, you can use it later:"
   ]
  },
  {
   "cell_type": "code",
   "execution_count": 67,
   "id": "8de579bb",
   "metadata": {
    "hidden": true
   },
   "outputs": [
    {
     "name": "stdout",
     "output_type": "stream",
     "text": [
      "Hope you're enjoying Sirius!\n"
     ]
    }
   ],
   "source": [
    "bflat.wasWrittenByStockhausen = True\n",
    "\n",
    "if bflat.wasWrittenByStockhausen == True:\n",
    "    print(\"Hope you're enjoying Sirius!\")"
   ]
  },
  {
   "cell_type": "code",
   "execution_count": 92,
   "id": "836dae29",
   "metadata": {
    "hidden": true,
    "scrolled": true
   },
   "outputs": [
    {
     "data": {
      "image/png": "[encoded data removed]",
      "text/plain": [
       "<IPython.core.display.Image object>"
      ]
     },
     "metadata": {
      "image/png": {
       "height": 1100,
       "width": 850
      }
     },
     "output_type": "display_data"
    }
   ],
   "source": [
    "f.show()"
   ]
  },
  {
   "cell_type": "code",
   "execution_count": 70,
   "id": "c8ff03f0",
   "metadata": {
    "hidden": true
   },
   "outputs": [
    {
     "data": {
      "text/html": [
       "\n",
       "                <div id=\"midiPlayerDiv235\"></div>\n",
       "                <link rel=\"stylesheet\" href=\"//cuthbertLab.github.io/music21j/css/m21.css\"\n",
       "                    type=\"text/css\" />\n",
       "                \n",
       "                <script>\n",
       "                require.config({\n",
       "                    paths: {'music21': '//cuthbertLab.github.io/music21j/src/music21'}\n",
       "                });\n",
       "                require(['music21'], function() {\n",
       "                               mp = new music21.miditools.MidiPlayer();\n",
       "                               mp.addPlayer(\"#midiPlayerDiv235\");\n",
       "                               mp.base64Load(\"data:audio/midi;base64,TVRoZAAAAAYAAQACBABNVHJrAAAAFAD/UQMHoSAA/1gEBAIYCIgA/y8ATVRyawAAABcA/wMAAOAAQIgAkE1aiACATQCIAP8vAA==\");\n",
       "                        });\n",
       "                </script>"
      ],
      "text/plain": [
       "<IPython.core.display.HTML object>"
      ]
     },
     "metadata": {},
     "output_type": "display_data"
    }
   ],
   "source": [
    "f.show('midi')"
   ]
  },
  {
   "cell_type": "raw",
   "id": "185d0009",
   "metadata": {
    "hidden": true
   },
   "source": [
    "The method above doesn't work, because apple & Quicktime bull****. So let's just append it to a stream and play it."
   ]
  },
  {
   "cell_type": "code",
   "execution_count": 93,
   "id": "fce535d4",
   "metadata": {
    "hidden": true
   },
   "outputs": [],
   "source": [
    "note_stream = stream.Stream()"
   ]
  },
  {
   "cell_type": "code",
   "execution_count": 94,
   "id": "da04e67c",
   "metadata": {
    "hidden": true
   },
   "outputs": [],
   "source": [
    "note_stream.append(f)"
   ]
  },
  {
   "cell_type": "code",
   "execution_count": 96,
   "id": "86d7e2b1",
   "metadata": {
    "hidden": true
   },
   "outputs": [],
   "source": [
    "StreamPlayer(note_stream).play()"
   ]
  },
  {
   "cell_type": "raw",
   "id": "d7f161b2",
   "metadata": {
    "hidden": true
   },
   "source": [
    ".show() is what’s called a method on the Note object,\n",
    "while .octave is an attribute. \n",
    "\n",
    "Think of methods as like verbs (“O Note: show thyself!”) while attributes are like adjectives that describe the object. \n",
    "All methods need to have parentheses after them and inside the parentheses you can usually put other things (“parameters”) that control how to perform the action. \n",
    "For instance, let’s create a new note, D by transposing our B-flat up a major-third (“M3”):"
   ]
  },
  {
   "cell_type": "code",
   "execution_count": 97,
   "id": "117d152f",
   "metadata": {
    "hidden": true
   },
   "outputs": [
    {
     "data": {
      "text/plain": [
       "<music21.note.Note G>"
      ]
     },
     "execution_count": 97,
     "metadata": {},
     "output_type": "execute_result"
    }
   ],
   "source": [
    "d = bflat.transpose(\"M3\")\n",
    "d"
   ]
  },
  {
   "cell_type": "raw",
   "id": "8df9ebc6",
   "metadata": {
    "hidden": true
   },
   "source": [
    "Instead of changing the original note, the transpose() method “returns” (that is, spits out) a new note.Note object that represents the operation of transposing it up (or down if you want to try “-M3”) a certain interval."
   ]
  },
  {
   "cell_type": "code",
   "execution_count": 98,
   "id": "7581de1b",
   "metadata": {
    "hidden": true
   },
   "outputs": [],
   "source": [
    "note_stream.append(d)"
   ]
  },
  {
   "cell_type": "code",
   "execution_count": 99,
   "id": "890aa416",
   "metadata": {
    "hidden": true
   },
   "outputs": [],
   "source": [
    "# Let's play it\n",
    "StreamPlayer(note_stream).play()"
   ]
  },
  {
   "cell_type": "raw",
   "id": "a2d8e30d",
   "metadata": {
    "hidden": true
   },
   "source": [
    "If you want to change bflat itself, you can add “inPlace = True” to the parameters of .transpose() separating it from the interval by a comma. Let’s take it up a perfect fourth:"
   ]
  },
  {
   "cell_type": "code",
   "execution_count": 100,
   "id": "e8ded6ee",
   "metadata": {
    "hidden": true
   },
   "outputs": [],
   "source": [
    "bflat.transpose(\"P4\", inPlace=True)\n",
    "note_stream.append(bflat)"
   ]
  },
  {
   "cell_type": "code",
   "execution_count": 101,
   "id": "745c713d",
   "metadata": {
    "hidden": true
   },
   "outputs": [
    {
     "name": "stdout",
     "output_type": "stream",
     "text": [
      "{0.0} <music21.note.Note F>\n",
      "{1.0} <music21.note.Note G>\n",
      "{2.0} <music21.note.Note A->\n"
     ]
    }
   ],
   "source": [
    "note_stream.show(\"text\")"
   ]
  },
  {
   "cell_type": "code",
   "execution_count": 102,
   "id": "5ed368e5",
   "metadata": {
    "hidden": true
   },
   "outputs": [],
   "source": [
    "# Let's play it\n",
    "StreamPlayer(note_stream).play()"
   ]
  },
  {
   "cell_type": "raw",
   "id": "935613ad",
   "metadata": {
    "hidden": true
   },
   "source": [
    "One last thing: not every note has an accidental. The d for instance doesn’t have one, so it returns None, which is a special value that puts nothing on the output."
   ]
  },
  {
   "cell_type": "code",
   "execution_count": 79,
   "id": "291a97ab",
   "metadata": {
    "hidden": true
   },
   "outputs": [
    {
     "name": "stdout",
     "output_type": "stream",
     "text": [
      "None\n"
     ]
    }
   ],
   "source": [
    "print(d.pitch.accidental)"
   ]
  },
  {
   "cell_type": "raw",
   "id": "e5e80218",
   "metadata": {
    "hidden": true
   },
   "source": [
    "This might be a good place to take a rest for a second. So make a Rest:"
   ]
  },
  {
   "cell_type": "code",
   "execution_count": 103,
   "id": "1a4e218f",
   "metadata": {
    "hidden": true
   },
   "outputs": [],
   "source": [
    "r = note.Rest()"
   ]
  },
  {
   "cell_type": "code",
   "execution_count": 104,
   "id": "f6d5d1bb",
   "metadata": {
    "hidden": true
   },
   "outputs": [],
   "source": [
    "note_stream.append(r)"
   ]
  },
  {
   "cell_type": "code",
   "execution_count": 105,
   "id": "6e4cdb23",
   "metadata": {
    "hidden": true,
    "scrolled": true
   },
   "outputs": [
    {
     "data": {
      "image/png": "[encoded data removed]",
      "text/plain": [
       "<IPython.core.display.Image object>"
      ]
     },
     "metadata": {
      "image/png": {
       "height": 1100,
       "width": 850
      }
     },
     "output_type": "display_data"
    }
   ],
   "source": [
    "note_stream.show()"
   ]
  },
  {
   "cell_type": "raw",
   "id": "6f59b8d2",
   "metadata": {
    "hidden": true
   },
   "source": [
    "One last thing: notice that we never used a variable name called “note” to store a note.Note object.\n",
    "Don’t do this."
   ]
  },
  {
   "cell_type": "markdown",
   "id": "be99c788",
   "metadata": {
    "heading_collapsed": true
   },
   "source": [
    "## Chapter 3 : Pitches, Durations and Notes again"
   ]
  },
  {
   "cell_type": "markdown",
   "id": "9518136c",
   "metadata": {
    "hidden": true
   },
   "source": [
    "### Pitches"
   ]
  },
  {
   "cell_type": "raw",
   "id": "e2892115",
   "metadata": {
    "hidden": true
   },
   "source": [
    "Pitch : the quality of a sound governed by the rate of vibrations producing it; the degree of highness or lowness of a tone."
   ]
  },
  {
   "cell_type": "raw",
   "id": "e4f12223",
   "metadata": {
    "hidden": true
   },
   "source": [
    "Just like how the Note object is found in the note module, the Pitch object is found in the pitch module."
   ]
  },
  {
   "cell_type": "raw",
   "id": "18ec3d0b",
   "metadata": {
    "hidden": true
   },
   "source": [
    "Let’s create a Pitch. Like we did with Notes, just class the class with a note name, such as B with the optional symbols for sharp or flat, (# or - respectively).\n",
    "You can put an octave number after the name (4 = low treble clef), but you don’t have to:"
   ]
  },
  {
   "cell_type": "code",
   "execution_count": 83,
   "id": "81e0b095",
   "metadata": {
    "hidden": true
   },
   "outputs": [],
   "source": [
    "p1 = pitch.Pitch('b-4')"
   ]
  },
  {
   "cell_type": "raw",
   "id": "d5afea89",
   "metadata": {
    "hidden": true
   },
   "source": [
    "We’ll use a more abstract variable name, p1 for our first Pitch, just in case we change the pitch later (via .transpose() or something else)."
   ]
  },
  {
   "cell_type": "code",
   "execution_count": 106,
   "id": "3576832c",
   "metadata": {
    "hidden": true
   },
   "outputs": [
    {
     "data": {
      "text/plain": [
       "<music21.pitch.Pitch B-4>"
      ]
     },
     "execution_count": 106,
     "metadata": {},
     "output_type": "execute_result"
    }
   ],
   "source": [
    "p1"
   ]
  },
  {
   "cell_type": "code",
   "execution_count": 113,
   "id": "d2a6fedd",
   "metadata": {
    "hidden": true
   },
   "outputs": [
    {
     "data": {
      "text/plain": [
       "10"
      ]
     },
     "execution_count": 113,
     "metadata": {},
     "output_type": "execute_result"
    }
   ],
   "source": [
    "# why 10?\n",
    "p1.pitchClass"
   ]
  },
  {
   "cell_type": "code",
   "execution_count": 114,
   "id": "de85707c",
   "metadata": {
    "hidden": true
   },
   "outputs": [
    {
     "data": {
      "text/plain": [
       "70"
      ]
     },
     "execution_count": 114,
     "metadata": {},
     "output_type": "execute_result"
    }
   ],
   "source": [
    "# # gives the value of the Pitch in the older, “MIDI” representation that is still in use today. It’s a number between 0 and 127 where middle C (C4) is 60 and C#4/Db4 is 61, B3 is 59, etc.\n",
    "p1.midi"
   ]
  },
  {
   "cell_type": "code",
   "execution_count": 108,
   "id": "14500c97",
   "metadata": {
    "hidden": true
   },
   "outputs": [
    {
     "data": {
      "text/plain": [
       "'B-'"
      ]
     },
     "execution_count": 108,
     "metadata": {},
     "output_type": "execute_result"
    }
   ],
   "source": [
    "p1.name"
   ]
  },
  {
   "cell_type": "code",
   "execution_count": 111,
   "id": "253ef2b1",
   "metadata": {
    "hidden": true
   },
   "outputs": [
    {
     "data": {
      "text/plain": [
       "'B-4'"
      ]
     },
     "execution_count": 111,
     "metadata": {},
     "output_type": "execute_result"
    }
   ],
   "source": [
    "p1.nameWithOctave"
   ]
  },
  {
   "cell_type": "code",
   "execution_count": 109,
   "id": "f17e2f86",
   "metadata": {
    "hidden": true
   },
   "outputs": [
    {
     "data": {
      "text/plain": [
       "-1.0"
      ]
     },
     "execution_count": 109,
     "metadata": {},
     "output_type": "execute_result"
    }
   ],
   "source": [
    "p1.accidental.alter"
   ]
  },
  {
   "cell_type": "raw",
   "id": "e3fb3535",
   "metadata": {
    "hidden": true
   },
   "source": [
    "When an attribute is set, the Pitch object changes whatever is necessary to reflect the new value:"
   ]
  },
  {
   "cell_type": "code",
   "execution_count": 115,
   "id": "404ec04f",
   "metadata": {
    "hidden": true
   },
   "outputs": [
    {
     "data": {
      "text/plain": [
       "'D#3'"
      ]
     },
     "execution_count": 115,
     "metadata": {},
     "output_type": "execute_result"
    }
   ],
   "source": [
    "p1.name = 'd#'\n",
    "p1.octave = 3\n",
    "p1.nameWithOctave"
   ]
  },
  {
   "cell_type": "code",
   "execution_count": null,
   "id": "e9d7f8c4",
   "metadata": {
    "hidden": true
   },
   "outputs": [],
   "source": [
    "And our familiar .transpose() method also appears on Pitch as well. Remember that p1 is now a D#:"
   ]
  },
  {
   "cell_type": "code",
   "execution_count": 116,
   "id": "c3cd5d77",
   "metadata": {
    "hidden": true
   },
   "outputs": [
    {
     "data": {
      "text/plain": [
       "<music21.pitch.Pitch C##4>"
      ]
     },
     "execution_count": 116,
     "metadata": {},
     "output_type": "execute_result"
    }
   ],
   "source": [
    "p2 = p1.transpose('M7')\n",
    "p2"
   ]
  },
  {
   "cell_type": "code",
   "execution_count": 119,
   "id": "d546891d",
   "metadata": {
    "hidden": true
   },
   "outputs": [],
   "source": [
    "#another way to show the variable p2 is \n",
    "repr(p2)"
   ]
  },
  {
   "cell_type": "raw",
   "id": "9bb23f05",
   "metadata": {
    "hidden": true
   },
   "source": [
    "Notes and pitch are so similar because actually every Note object has a Pitch object inside it "
   ]
  },
  {
   "cell_type": "code",
   "execution_count": 132,
   "id": "65301f37",
   "metadata": {
    "hidden": true
   },
   "outputs": [
    {
     "data": {
      "text/plain": [
       "'C#'"
      ]
     },
     "execution_count": 132,
     "metadata": {},
     "output_type": "execute_result"
    }
   ],
   "source": [
    "csharp = note.Note('C#4')\n",
    "csharp.name"
   ]
  },
  {
   "cell_type": "code",
   "execution_count": 121,
   "id": "f2548393",
   "metadata": {
    "hidden": true
   },
   "outputs": [
    {
     "data": {
      "text/plain": [
       "'C#'"
      ]
     },
     "execution_count": 121,
     "metadata": {},
     "output_type": "execute_result"
    }
   ],
   "source": [
    "csharp.pitch.name"
   ]
  },
  {
   "cell_type": "code",
   "execution_count": 122,
   "id": "a6728f15",
   "metadata": {
    "hidden": true
   },
   "outputs": [
    {
     "data": {
      "text/plain": [
       "4"
      ]
     },
     "execution_count": 122,
     "metadata": {},
     "output_type": "execute_result"
    }
   ],
   "source": [
    "csharp.octave"
   ]
  },
  {
   "cell_type": "code",
   "execution_count": 123,
   "id": "6f40b3d8",
   "metadata": {
    "hidden": true
   },
   "outputs": [
    {
     "data": {
      "text/plain": [
       "4"
      ]
     },
     "execution_count": 123,
     "metadata": {},
     "output_type": "execute_result"
    }
   ],
   "source": [
    "csharp.pitch.octave"
   ]
  },
  {
   "cell_type": "raw",
   "id": "6e7073de",
   "metadata": {
    "hidden": true
   },
   "source": [
    "But pitch objects have a lot more to offer for more technical working, for instance, Pitch objects know their names in french"
   ]
  },
  {
   "cell_type": "code",
   "execution_count": 134,
   "id": "fde1bd77",
   "metadata": {
    "hidden": true
   },
   "outputs": [
    {
     "data": {
      "text/plain": [
       "'do dièse'"
      ]
     },
     "execution_count": 134,
     "metadata": {},
     "output_type": "execute_result"
    }
   ],
   "source": [
    "csharp.pitch.french"
   ]
  },
  {
   "cell_type": "code",
   "execution_count": 127,
   "id": "5622bfc6",
   "metadata": {
    "hidden": true
   },
   "outputs": [
    {
     "ename": "AttributeError",
     "evalue": "'Note' object has no attribute 'spanish'",
     "output_type": "error",
     "traceback": [
      "\u001b[0;31m---------------------------------------------------------------------------\u001b[0m",
      "\u001b[0;31mAttributeError\u001b[0m                            Traceback (most recent call last)",
      "Cell \u001b[0;32mIn [127], line 2\u001b[0m\n\u001b[1;32m      1\u001b[0m \u001b[38;5;66;03m#Notes don't\u001b[39;00m\n\u001b[0;32m----> 2\u001b[0m \u001b[43mcsharp\u001b[49m\u001b[38;5;241;43m.\u001b[39;49m\u001b[43mspanish\u001b[49m\n",
      "\u001b[0;31mAttributeError\u001b[0m: 'Note' object has no attribute 'spanish'"
     ]
    }
   ],
   "source": [
    "#Notes don't\n",
    "csharp.spanish"
   ]
  },
  {
   "cell_type": "raw",
   "id": "99c33a86",
   "metadata": {
    "hidden": true
   },
   "source": [
    "Here are some other things you can do with Pitch objects. Get the sharp printed nicely:"
   ]
  },
  {
   "cell_type": "code",
   "execution_count": 135,
   "id": "0a4d7b60",
   "metadata": {
    "hidden": true
   },
   "outputs": [
    {
     "name": "stdout",
     "output_type": "stream",
     "text": [
      "C♯\n"
     ]
    }
   ],
   "source": [
    "print(csharp.pitch.unicodeName)"
   ]
  },
  {
   "cell_type": "raw",
   "id": "bc99111c",
   "metadata": {
    "hidden": true
   },
   "source": [
    "Get some enharmonics – these are methods, so we add () to them:"
   ]
  },
  {
   "cell_type": "code",
   "execution_count": 130,
   "id": "164c7a8e",
   "metadata": {
    "hidden": true
   },
   "outputs": [
    {
     "name": "stdout",
     "output_type": "stream",
     "text": [
      "D-4\n",
      "B##3\n"
     ]
    }
   ],
   "source": [
    "print( csharp.pitch.getEnharmonic() )\n",
    "print( csharp.pitch.getLowerEnharmonic() )"
   ]
  },
  {
   "cell_type": "raw",
   "id": "c8bea521",
   "metadata": {
    "hidden": true
   },
   "source": [
    "So far, it looks like Pitch objects can do everything Note objects can do and more. So why do we need Note objects? It’s because they also have Duration attributes, as we’ll see in the next section. Without a Duration attribute, you cannot put an object into a Measure or show it on your screen."
   ]
  },
  {
   "cell_type": "markdown",
   "id": "621efff8",
   "metadata": {
    "hidden": true
   },
   "source": [
    "### Duration"
   ]
  },
  {
   "cell_type": "raw",
   "id": "d999ad15",
   "metadata": {
    "hidden": true
   },
   "source": [
    "For a Note to occupy musical space, it has to last a certain amount of time. We call that time the Note’s Duration.\n",
    "Duration objects are best used when they’re attached to something else, like a Note or a Rest, but for now, let’s look at what we can do with them on their own."
   ]
  },
  {
   "cell_type": "raw",
   "id": "9a69cb60",
   "metadata": {
    "hidden": true
   },
   "source": [
    "Duration objects reside in the duration module. When you create a Duration object, you can say what type of duration you want it to be when you create it.\n",
    "Here we’ll create the duration of a half note:"
   ]
  },
  {
   "cell_type": "code",
   "execution_count": 137,
   "id": "43855aaf",
   "metadata": {
    "hidden": true
   },
   "outputs": [],
   "source": [
    "halfDuration = duration.Duration('half')"
   ]
  },
  {
   "cell_type": "raw",
   "id": "c113c3a7",
   "metadata": {
    "hidden": true
   },
   "source": [
    "The string “half” is called the “type” of the Duration."
   ]
  },
  {
   "cell_type": "raw",
   "id": "f78df161",
   "metadata": {
    "hidden": true
   },
   "source": [
    "Durations use the common American duration types: “whole”, “half”, “quarter”, “eighth”, “16th”, “32nd”, “64th”. Note that for durations shorter than an eighth note, we use numbers instead of spelling out the whole name of the Duration type."
   ]
  },
  {
   "cell_type": "raw",
   "id": "89b25301",
   "metadata": {
    "hidden": true
   },
   "source": [
    "The other standard way of creating a Duration is by passing it a number when it is created. That number represents how many quarter notes long it is. So we could have created our half note Duration by saying 2 or 2.0. But we can also create Durations that aren’t exactly “whole”, “half”, “quarter”, etc. Let’s create a dotted quarter note, which is 1.5 quarter notes long:"
   ]
  },
  {
   "cell_type": "code",
   "execution_count": 138,
   "id": "34174ccb",
   "metadata": {
    "hidden": true
   },
   "outputs": [],
   "source": [
    "dottedQuarter = duration.Duration(1.5)"
   ]
  },
  {
   "cell_type": "raw",
   "id": "6980faec",
   "metadata": {
    "hidden": true
   },
   "source": [
    "As with the Pitch and Note objects we’ve already seen, there are a bunch of attributes that Duration objects have. The most important one is .quarterLength. The quarterLength of our dottedQuarter variable is of course 1.5: we set it to be. But just as importantly, the halfDuration object also has its quarterLength set:"
   ]
  },
  {
   "cell_type": "code",
   "execution_count": 143,
   "id": "d0e29946",
   "metadata": {
    "hidden": true
   },
   "outputs": [
    {
     "data": {
      "text/plain": [
       "1.5"
      ]
     },
     "execution_count": 143,
     "metadata": {},
     "output_type": "execute_result"
    }
   ],
   "source": [
    "dottedQuarter.quarterLength"
   ]
  },
  {
   "cell_type": "code",
   "execution_count": 140,
   "id": "2a3c6fa1",
   "metadata": {
    "hidden": true
   },
   "outputs": [
    {
     "data": {
      "text/plain": [
       "2.0"
      ]
     },
     "execution_count": 140,
     "metadata": {},
     "output_type": "execute_result"
    }
   ],
   "source": [
    "halfDuration.quarterLength"
   ]
  },
  {
   "cell_type": "raw",
   "id": "d7b133df",
   "metadata": {
    "hidden": true
   },
   "source": [
    "The .type attribute tells you what general type of Duration you have:"
   ]
  },
  {
   "cell_type": "code",
   "execution_count": 144,
   "id": "efbaff7c",
   "metadata": {
    "hidden": true
   },
   "outputs": [
    {
     "data": {
      "text/plain": [
       "'half'"
      ]
     },
     "execution_count": 144,
     "metadata": {},
     "output_type": "execute_result"
    }
   ],
   "source": [
    "halfDuration.type"
   ]
  },
  {
   "cell_type": "code",
   "execution_count": 145,
   "id": "69c23990",
   "metadata": {
    "hidden": true
   },
   "outputs": [
    {
     "data": {
      "text/plain": [
       "'quarter'"
      ]
     },
     "execution_count": 145,
     "metadata": {},
     "output_type": "execute_result"
    }
   ],
   "source": [
    "dottedQuarter.type"
   ]
  },
  {
   "cell_type": "raw",
   "id": "29d6a0ae",
   "metadata": {
    "hidden": true
   },
   "source": [
    "The type attribute cannot be everything that describes the Duration, there has to be some place where music21 keeps track of the fact that the dottedQuarter variable has a dot (otherwise it wouldn’t have a quarterLength of 1.5). You’ll find the attribute called .dots:"
   ]
  },
  {
   "cell_type": "code",
   "execution_count": 146,
   "id": "bfee19ef",
   "metadata": {
    "hidden": true
   },
   "outputs": [
    {
     "data": {
      "text/plain": [
       "1"
      ]
     },
     "execution_count": 146,
     "metadata": {},
     "output_type": "execute_result"
    }
   ],
   "source": [
    "dottedQuarter.dots"
   ]
  },
  {
   "cell_type": "raw",
   "id": "fee39fdb",
   "metadata": {
    "hidden": true
   },
   "source": [
    "The attributes of dots, type, and quarterLength are actually special attributes called “properties”. A property is an attribute that is smart in some way. Let’s change the number of dots on our dottedQuarter object and see what happens to the quarterLength property:"
   ]
  },
  {
   "cell_type": "code",
   "execution_count": 147,
   "id": "f5e6c698",
   "metadata": {
    "hidden": true
   },
   "outputs": [
    {
     "data": {
      "text/plain": [
       "1.75"
      ]
     },
     "execution_count": 147,
     "metadata": {},
     "output_type": "execute_result"
    }
   ],
   "source": [
    "dottedQuarter.dots = 2\n",
    "dottedQuarter.quarterLength"
   ]
  },
  {
   "cell_type": "code",
   "execution_count": 148,
   "id": "4a47487e",
   "metadata": {
    "hidden": true
   },
   "outputs": [
    {
     "data": {
      "text/plain": [
       "1.875"
      ]
     },
     "execution_count": 148,
     "metadata": {},
     "output_type": "execute_result"
    }
   ],
   "source": [
    "dottedQuarter.dots = 3\n",
    "dottedQuarter.quarterLength"
   ]
  },
  {
   "cell_type": "raw",
   "id": "492aa91e",
   "metadata": {
    "hidden": true
   },
   "source": [
    "Or let’s change the quarterLength of the dottedQuarter and see what happens to the type and dots:"
   ]
  },
  {
   "cell_type": "code",
   "execution_count": 149,
   "id": "e1ad57a0",
   "metadata": {
    "hidden": true
   },
   "outputs": [
    {
     "data": {
      "text/plain": [
       "'16th'"
      ]
     },
     "execution_count": 149,
     "metadata": {},
     "output_type": "execute_result"
    }
   ],
   "source": [
    "dottedQuarter.quarterLength = 0.25\n",
    "dottedQuarter.type"
   ]
  },
  {
   "cell_type": "code",
   "execution_count": 150,
   "id": "923e9bf6",
   "metadata": {
    "hidden": true
   },
   "outputs": [
    {
     "data": {
      "text/plain": [
       "0"
      ]
     },
     "execution_count": 150,
     "metadata": {},
     "output_type": "execute_result"
    }
   ],
   "source": [
    "dottedQuarter.dots"
   ]
  },
  {
   "cell_type": "raw",
   "id": "127a7129",
   "metadata": {
    "hidden": true
   },
   "source": [
    "QuarterLengths are so important to music21 that we’ll sometimes abbreviate them as qL or qLs. Almost everything that is measured in music21 is measured in qLs."
   ]
  },
  {
   "cell_type": "raw",
   "id": "ae18c4d4",
   "metadata": {
    "hidden": true
   },
   "source": [
    "Music21 can also deal with other quarterLengths such as 0.8, which is 4/5ths of a quarter note, or 1/3, which is an eighth note triplet. (For this reason, users compiling spreadsheets or other text-based output should expect to find the occasional quarterLength expressed as a Fraction.)"
   ]
  },
  {
   "cell_type": "markdown",
   "id": "d9bc9ce1",
   "metadata": {
    "hidden": true
   },
   "source": [
    "### Back to notes"
   ]
  },
  {
   "cell_type": "raw",
   "id": "f222ce00",
   "metadata": {
    "hidden": true
   },
   "source": [
    "So now you can see the advantage of working with Note objects: they have both a .pitch attribute, which contains a Pitch object, and a .duration attribute, which contains a Duration object. The default Pitch for a Note is C (meaning C4) and the default Duration is 1.0, or a quarter note."
   ]
  },
  {
   "cell_type": "code",
   "execution_count": 152,
   "id": "97370121",
   "metadata": {
    "hidden": true
   },
   "outputs": [
    {
     "data": {
      "text/plain": [
       "<music21.pitch.Pitch C4>"
      ]
     },
     "execution_count": 152,
     "metadata": {},
     "output_type": "execute_result"
    }
   ],
   "source": [
    "n1 = note.Note()\n",
    "n1.pitch"
   ]
  },
  {
   "cell_type": "code",
   "execution_count": 153,
   "id": "3c1e0eb5",
   "metadata": {
    "hidden": true
   },
   "outputs": [
    {
     "data": {
      "text/plain": [
       "<music21.duration.Duration 1.0>"
      ]
     },
     "execution_count": 153,
     "metadata": {},
     "output_type": "execute_result"
    }
   ],
   "source": [
    "n1.duration"
   ]
  },
  {
   "cell_type": "code",
   "execution_count": 154,
   "id": "3b70f5c2",
   "metadata": {
    "hidden": true
   },
   "outputs": [],
   "source": [
    "#But we can play around with them:\n",
    "n1.pitch.nameWithOctave = 'E-5'\n",
    "n1.duration.quarterLength = 3.0"
   ]
  },
  {
   "cell_type": "code",
   "execution_count": 155,
   "id": "c71728d3",
   "metadata": {
    "hidden": true
   },
   "outputs": [],
   "source": [
    "# and then the other properties change accordingly:"
   ]
  },
  {
   "cell_type": "code",
   "execution_count": 156,
   "id": "e4cf029f",
   "metadata": {
    "hidden": true
   },
   "outputs": [
    {
     "data": {
      "text/plain": [
       "'half'"
      ]
     },
     "execution_count": 156,
     "metadata": {},
     "output_type": "execute_result"
    }
   ],
   "source": [
    "n1.duration.type"
   ]
  },
  {
   "cell_type": "code",
   "execution_count": 157,
   "id": "378f7422",
   "metadata": {
    "hidden": true
   },
   "outputs": [
    {
     "data": {
      "text/plain": [
       "1"
      ]
     },
     "execution_count": 157,
     "metadata": {},
     "output_type": "execute_result"
    }
   ],
   "source": [
    "n1.duration.dots"
   ]
  },
  {
   "cell_type": "code",
   "execution_count": 159,
   "id": "bbde1cff",
   "metadata": {
    "hidden": true
   },
   "outputs": [
    {
     "data": {
      "text/plain": [
       "'E-5'"
      ]
     },
     "execution_count": 159,
     "metadata": {},
     "output_type": "execute_result"
    }
   ],
   "source": [
    "n1.pitch.nameWithOctave"
   ]
  },
  {
   "cell_type": "code",
   "execution_count": 160,
   "id": "31438ca3",
   "metadata": {
    "hidden": true
   },
   "outputs": [
    {
     "data": {
      "text/plain": [
       "<music21.pitch.Accidental flat>"
      ]
     },
     "execution_count": 160,
     "metadata": {},
     "output_type": "execute_result"
    }
   ],
   "source": [
    "n1.pitch.accidental"
   ]
  },
  {
   "cell_type": "raw",
   "id": "4c1ba1d5",
   "metadata": {
    "hidden": true
   },
   "source": [
    "We already said that some of the attributes of Pitch can also be called on the Note object itself. The same is true for the most important attributes of Duration:"
   ]
  },
  {
   "cell_type": "code",
   "execution_count": 161,
   "id": "80fb06df",
   "metadata": {
    "hidden": true
   },
   "outputs": [
    {
     "data": {
      "text/plain": [
       "'E-'"
      ]
     },
     "execution_count": 161,
     "metadata": {},
     "output_type": "execute_result"
    }
   ],
   "source": [
    "n1.name"
   ]
  },
  {
   "cell_type": "code",
   "execution_count": 162,
   "id": "b9287020",
   "metadata": {
    "hidden": true
   },
   "outputs": [
    {
     "data": {
      "text/plain": [
       "3.0"
      ]
     },
     "execution_count": 162,
     "metadata": {},
     "output_type": "execute_result"
    }
   ],
   "source": [
    "n1.quarterLength"
   ]
  },
  {
   "cell_type": "code",
   "execution_count": 164,
   "id": "b8c30172",
   "metadata": {
    "hidden": true
   },
   "outputs": [],
   "source": [
    "# Let’s change the quarterLength back to 1.0 for now:\n",
    "n1.quarterLength = 1.0"
   ]
  },
  {
   "cell_type": "raw",
   "id": "82bb62c2",
   "metadata": {
    "hidden": true
   },
   "source": [
    "Notes can do things that neither Pitch or Duration objects can do. For instance, they can have lyrics. Let’s add some lyrics to Notes. You can easily set Lyric objects just by setting the lyric property. (For reference, the lyric attribute is actually an attribute of GeneralNote, which is a “base class” from which the Note class “inherits”. In other words, the Note class gains the lyric attribute from GeneralNote. But that’s not too important.)"
   ]
  },
  {
   "cell_type": "code",
   "execution_count": 169,
   "id": "49482f68",
   "metadata": {
    "hidden": true
   },
   "outputs": [],
   "source": [
    "otherNote = note.Note(\"F6\")\n",
    "otherNote.lyric = \"Hello bitcheeeez!\""
   ]
  },
  {
   "cell_type": "code",
   "execution_count": 170,
   "id": "27bbdbfa",
   "metadata": {
    "hidden": true,
    "scrolled": true
   },
   "outputs": [
    {
     "data": {
      "image/png": "[encoded data removed]",
      "text/plain": [
       "<IPython.core.display.Image object>"
      ]
     },
     "metadata": {
      "image/png": {
       "height": 1100,
       "width": 850
      }
     },
     "output_type": "display_data"
    }
   ],
   "source": [
    "otherNote.show()"
   ]
  },
  {
   "cell_type": "raw",
   "id": "3f2bced3",
   "metadata": {
    "hidden": true
   },
   "source": [
    "But let’s do something more complex. Here I add multiple lyrics to n1 using the Note's addLyric() method. And instead of adding a simple String, I’ll add as a lyric the name of the note itself and its pitchClassString."
   ]
  },
  {
   "cell_type": "code",
   "execution_count": 173,
   "id": "00c3ecbe",
   "metadata": {
    "hidden": true
   },
   "outputs": [],
   "source": [
    "n1.addLyric(n1.nameWithOctave)\n",
    "n1.addLyric(n1.pitch.pitchClassString)"
   ]
  },
  {
   "cell_type": "code",
   "execution_count": 175,
   "id": "c01a6f95",
   "metadata": {
    "hidden": true
   },
   "outputs": [],
   "source": [
    "#Finally, lets put the quarterLength of the note as a string with a preface “QL:”:\n",
    "n1.addLyric(f'QL: {n1.quarterLength}')"
   ]
  },
  {
   "cell_type": "code",
   "execution_count": 176,
   "id": "d2217467",
   "metadata": {
    "hidden": true
   },
   "outputs": [
    {
     "data": {
      "image/png": "[encoded data removed]",
      "text/plain": [
       "<IPython.core.display.Image object>"
      ]
     },
     "metadata": {
      "image/png": {
       "height": 1100,
       "width": 850
      }
     },
     "output_type": "display_data"
    }
   ],
   "source": [
    "n1.show()"
   ]
  },
  {
   "cell_type": "raw",
   "id": "35a23ced",
   "metadata": {
    "hidden": true
   },
   "source": [
    "If we now edit the quarterLength property we can still change the Note’s Duration. But because we already set the lyric to show “QL: 1.0, it won’t be changed when we .show() it again in the following example."
   ]
  },
  {
   "cell_type": "code",
   "execution_count": 177,
   "id": "7096a688",
   "metadata": {
    "hidden": true
   },
   "outputs": [
    {
     "data": {
      "image/png": "[encoded data removed]",
      "text/plain": [
       "<IPython.core.display.Image object>"
      ]
     },
     "metadata": {
      "image/png": {
       "height": 1100,
       "width": 850
      }
     },
     "output_type": "display_data"
    }
   ],
   "source": [
    "n1.quarterLength = 6.25\n",
    "n1.show()"
   ]
  },
  {
   "cell_type": "markdown",
   "id": "59bf82a0",
   "metadata": {},
   "source": [
    "## Chapter 4 : Streams"
   ]
  },
  {
   "cell_type": "raw",
   "id": "4a12cb5b",
   "metadata": {},
   "source": [
    "Python has ways of working with multiple objects and music21 extends those ways to be more musical. Let’s look at how Python does it first and then see how music21 extends these ways. (If you’ve been programming for a bit, or especially if you have Python experience, skip to the section on Streams below after creating the objects note1, note2 and note3 described below)."
   ]
  },
  {
   "cell_type": "raw",
   "id": "cc38da91",
   "metadata": {},
   "source": [
    "Say you have two notes, a C and an F# in the middle of the treble staff. (If the concept of working with a tritone bothers you, go ahead and make the second note a G; we won’t mind; we’ll just call you Pope Gregory from now on). Lets create those notes:"
   ]
  },
  {
   "cell_type": "markdown",
   "id": "cf843656",
   "metadata": {},
   "source": [
    "### Working with multiple objects via Lists"
   ]
  },
  {
   "cell_type": "code",
   "execution_count": 180,
   "id": "f6bbc1d3",
   "metadata": {},
   "outputs": [],
   "source": [
    "note1 = note.Note(\"C4\")\n",
    "note2 = note.Note(\"F#4\")"
   ]
  },
  {
   "cell_type": "raw",
   "id": "486ddb0c",
   "metadata": {},
   "source": [
    "Let’s make the first note a half note by modifying its duration (by default all Note objects are quarter notes):"
   ]
  },
  {
   "cell_type": "code",
   "execution_count": 182,
   "id": "204b8bf7",
   "metadata": {},
   "outputs": [],
   "source": [
    "note1.duration.type = 'half'"
   ]
  },
  {
   "cell_type": "code",
   "execution_count": 183,
   "id": "decf9b21",
   "metadata": {},
   "outputs": [
    {
     "data": {
      "text/plain": [
       "2.0"
      ]
     },
     "execution_count": 183,
     "metadata": {},
     "output_type": "execute_result"
    }
   ],
   "source": [
    "note1.duration.quarterLength"
   ]
  },
  {
   "cell_type": "raw",
   "id": "7be05227",
   "metadata": {},
   "source": [
    "To print the step (that is, the name without any octave or accidental information) of each of these notes, you could do something like this:"
   ]
  },
  {
   "cell_type": "code",
   "execution_count": 186,
   "id": "5c588887",
   "metadata": {},
   "outputs": [
    {
     "data": {
      "text/plain": [
       "'C'"
      ]
     },
     "execution_count": 186,
     "metadata": {},
     "output_type": "execute_result"
    }
   ],
   "source": [
    "note1.step"
   ]
  },
  {
   "cell_type": "code",
   "execution_count": 185,
   "id": "c00a2c45",
   "metadata": {},
   "outputs": [
    {
     "data": {
      "text/plain": [
       "'F'"
      ]
     },
     "execution_count": 185,
     "metadata": {},
     "output_type": "execute_result"
    }
   ],
   "source": [
    "note2.step"
   ]
  },
  {
   "cell_type": "raw",
   "id": "c4795fb3",
   "metadata": {},
   "source": [
    "But suppose you had thirty notes? Then it’d be a pain to type “print(noteX.step)” thirty times. Fortunately, there’s a solution: we can put each of the note objects into a List which is a built in Python object that stores multiple other objects (like Notes or Chords, or even things like numbers). To create a list in Python, put square brackets ([]) around the things that you want to put in the list, separated by commas. Let’s create a list called noteList that contains note1 and note2:"
   ]
  },
  {
   "cell_type": "code",
   "execution_count": 187,
   "id": "eacff652",
   "metadata": {},
   "outputs": [],
   "source": [
    "noteList = [note1, note2]"
   ]
  },
  {
   "cell_type": "code",
   "execution_count": 188,
   "id": "fc72c3df",
   "metadata": {},
   "outputs": [
    {
     "data": {
      "text/plain": [
       "[<music21.note.Note C>, <music21.note.Note F#>]"
      ]
     },
     "execution_count": 188,
     "metadata": {},
     "output_type": "execute_result"
    }
   ],
   "source": [
    "noteList"
   ]
  },
  {
   "cell_type": "raw",
   "id": "2500042d",
   "metadata": {},
   "source": [
    "The list is represented by the square brackets around the end with the comma in between them, just like how they were created originally. The act of creation is mirrored in the representation. That’s nice. Medieval philosophers would approve."
   ]
  },
  {
   "cell_type": "raw",
   "id": "3636ab74",
   "metadata": {},
   "source": [
    "Now we can write a two-line program that will print the step of each note in noteList. Most modern languages have a way of doing some action for each member (“element”) in a list (also called an “array” or sometimes “row”). In Python this is the “for” command. When you type these lines, make sure to type the spaces at the start of the second line. (When you’re done typing print(thisNote.step), you’ll probably have to hit enter twice to see the results.)"
   ]
  },
  {
   "cell_type": "code",
   "execution_count": 194,
   "id": "bacca591",
   "metadata": {},
   "outputs": [
    {
     "name": "stdout",
     "output_type": "stream",
     "text": [
      "<music21.note.Note C>\n",
      "<music21.note.Note F#>\n"
     ]
    }
   ],
   "source": [
    "for i in noteList:\n",
    "    print(i)"
   ]
  },
  {
   "cell_type": "raw",
   "id": "f770f198",
   "metadata": {},
   "source": [
    "Let’s add another note to noteList. First let’s create another note, a low B-flat:"
   ]
  },
  {
   "cell_type": "code",
   "execution_count": 195,
   "id": "6ec95a7c",
   "metadata": {},
   "outputs": [],
   "source": [
    "note3 = note.Note(\"B-2\")"
   ]
  },
  {
   "cell_type": "raw",
   "id": "f5a0e54b",
   "metadata": {},
   "source": [
    "Then we’ll append that note to the end of noteList:"
   ]
  },
  {
   "cell_type": "code",
   "execution_count": 197,
   "id": "7e154bc2",
   "metadata": {},
   "outputs": [],
   "source": [
    "noteList.append(note3)"
   ]
  },
  {
   "cell_type": "code",
   "execution_count": 198,
   "id": "71b0ce31",
   "metadata": {},
   "outputs": [
    {
     "data": {
      "text/plain": [
       "3"
      ]
     },
     "execution_count": 198,
     "metadata": {},
     "output_type": "execute_result"
    }
   ],
   "source": [
    "len(noteList)"
   ]
  },
  {
   "cell_type": "code",
   "execution_count": 208,
   "id": "1c9413f7",
   "metadata": {},
   "outputs": [
    {
     "data": {
      "text/plain": [
       "['C', 'F#', 'B-']"
      ]
     },
     "execution_count": 208,
     "metadata": {},
     "output_type": "execute_result"
    }
   ],
   "source": [
    "# fancy python list comprehension \n",
    "[i.name for i in noteList]"
   ]
  },
  {
   "cell_type": "code",
   "execution_count": 210,
   "id": "bbdc7e24",
   "metadata": {},
   "outputs": [
    {
     "data": {
      "text/plain": [
       "<music21.note.Note B->"
      ]
     },
     "execution_count": 210,
     "metadata": {},
     "output_type": "execute_result"
    }
   ],
   "source": [
    "#All python methods are available\n",
    "noteList[-1]"
   ]
  },
  {
   "cell_type": "raw",
   "id": "e0f3f3a1",
   "metadata": {},
   "source": [
    "Lists will become important tools in your programming, but they don’t know anything about music. To get some intelligence into our music we’ll need to know about a music21 object similar to lists, called a Stream."
   ]
  },
  {
   "cell_type": "markdown",
   "id": "cb6f7ed8",
   "metadata": {},
   "source": [
    "### Streams"
   ]
  },
  {
   "cell_type": "raw",
   "id": "e97393b8",
   "metadata": {},
   "source": [
    "The Stream object and its subclasses (Score, Part, Measure) are the fundamental containers for music21 objects such as Note, Chord, Clef, TimeSignature objects."
   ]
  },
  {
   "cell_type": "raw",
   "id": "5055e6ef",
   "metadata": {},
   "source": [
    "Objects stored in a Stream are generally spaced in time; each stored object has an offset usually representing how many quarter notes it lies from the beginning of the Stream. For instance in a 4/4 measure of two half notes, the first note will be at offset 0.0, and the second at offset 2.0."
   ]
  },
  {
   "cell_type": "raw",
   "id": "49abf3c6",
   "metadata": {},
   "source": [
    "Streams, further, can store other Streams, permitting a wide variety of nested, ordered, and timed structures. These stored streams also have offsets. So if we put two 4/4 Measure objects (subclasses of Stream) into a Part (also a type of Stream), then the first measure will be at offset 0.0 and the second measure will be at offset 4.0."
   ]
  },
  {
   "cell_type": "raw",
   "id": "cfc89cb0",
   "metadata": {},
   "source": [
    "Commonly used subclasses of Streams include the Score, Part, and Measure."
   ]
  },
  {
   "cell_type": "raw",
   "id": "fa283997",
   "metadata": {},
   "source": [
    "It is important to grasp that any time we want to collect and contain a group of music21 objects, we put them into a Stream. Streams can also be used for less conventional organizational structures. We frequently will build and pass around short-lived, temporary Streams, since doing this opens up a wide variety of tools for extracting, processing, and manipulating objects on the Stream. For instance, if you are looking at only notes on beat 2 of any measure, you’ll probably want to put them into a Stream as well."
   ]
  },
  {
   "cell_type": "raw",
   "id": "6351dcc8",
   "metadata": {},
   "source": [
    "A critical feature of music21’s design that distinguishes it from other music analysis frameworks is that one music21 object can be simultaneously stored (or, more accurately, referenced) in more than one Stream. For examples, we might have numerous Measure Streams contained in a Part Stream. If we extract a region of this Part (using the measures() method), we get a new Stream containing the specified Measures and the contained notes. We have not actually created new notes within these extracted measures; the output Stream simply has references to the same objects. Changes made to Notes in this output Stream will be simultaneously reflected in Notes in the source Part. There is one limitation though: the same object should not appear twice in one hierarchical structure of Streams. For instance, you should not put a note object in both measure 3 and measure 5 of the same piece – it can appear in measure 3 of one piece and measure 5 of another piece. (For instance, if you wanted to track a particular note’s context in an original version of a score and an arrangement). Most users will never need to worry about these details: just know that this feature lets music21 do some things that no other software package can do."
   ]
  },
  {
   "cell_type": "markdown",
   "id": "2c7781b2",
   "metadata": {},
   "source": [
    "#### Creating simple streams"
   ]
  },
  {
   "cell_type": "raw",
   "id": "e8617439",
   "metadata": {},
   "source": [
    "Objects stored in Streams are called elements and must be some type of Music21Object (don’t worry, almost everything in music21 is a Music21Object, such as Note, Chord, TimeSignature, etc.).\n",
    "(If you want to put an object that’s not a Music21Object in a Stream, put it in an ElementWrapper.)"
   ]
  },
  {
   "cell_type": "raw",
   "id": "c6ac3fa7",
   "metadata": {},
   "source": [
    "Streams are similar to Python lists in that they hold individual elements in order. They’re different in that they can only hold music21 objects such as Notes or Clef objects. But they’re a lot smarter and more powerful."
   ]
  },
  {
   "cell_type": "raw",
   "id": "4b6b9ffc",
   "metadata": {},
   "source": [
    "To create a Stream you’ll need to type stream.Stream() and assign it to a variable using the equal sign. Let’s call our Stream stream1:"
   ]
  },
  {
   "cell_type": "code",
   "execution_count": 216,
   "id": "5bc3e1f2",
   "metadata": {},
   "outputs": [],
   "source": [
    "stream1 = stream.Stream()"
   ]
  },
  {
   "cell_type": "raw",
   "id": "c8f791b8",
   "metadata": {},
   "source": [
    "The most common use of Streams is as places to store Notes. So let’s do just that: we can add the three Note objects we created above by using the append method of Stream:"
   ]
  },
  {
   "cell_type": "code",
   "execution_count": 217,
   "id": "3fea2002",
   "metadata": {},
   "outputs": [],
   "source": [
    "stream1.append(note1)\n",
    "stream1.append(note2)\n",
    "stream1.append(note3)"
   ]
  },
  {
   "cell_type": "code",
   "execution_count": 226,
   "id": "d588faec",
   "metadata": {
    "scrolled": true
   },
   "outputs": [
    {
     "data": {
      "image/png": "[encoded data removed]",
      "text/plain": [
       "<IPython.core.display.Image object>"
      ]
     },
     "metadata": {
      "image/png": {
       "height": 1100,
       "width": 850
      }
     },
     "output_type": "display_data"
    }
   ],
   "source": [
    "stream1.show()"
   ]
  },
  {
   "cell_type": "markdown",
   "id": "3441e504",
   "metadata": {},
   "source": [
    "Of course, this would be a pain to type for hundreds of Notes, so we could also use the Stream method repeatAppend() to add a number of independent, unique copies of the same Note. This creates independent copies (using Python’s copy.deepcopy function) of the supplied object, not references."
   ]
  },
  {
   "cell_type": "code",
   "execution_count": 221,
   "id": "6d0baead",
   "metadata": {
    "scrolled": true
   },
   "outputs": [
    {
     "data": {
      "image/png": "[encoded data removed]",
      "text/plain": [
       "<IPython.core.display.Image object>"
      ]
     },
     "metadata": {
      "image/png": {
       "height": 1100,
       "width": 850
      }
     },
     "output_type": "display_data"
    }
   ],
   "source": [
    "stream2 = stream.Stream()\n",
    "n3 = note.Note('D#5')  # octave values can be included in creation arguments\n",
    "stream2.repeatAppend(n3, 4)\n",
    "stream2.show()"
   ]
  },
  {
   "cell_type": "code",
   "execution_count": 224,
   "id": "324315fa",
   "metadata": {},
   "outputs": [
    {
     "data": {
      "text/plain": [
       "4"
      ]
     },
     "execution_count": 224,
     "metadata": {},
     "output_type": "execute_result"
    }
   ],
   "source": [
    "len(stream2)"
   ]
  },
  {
   "cell_type": "code",
   "execution_count": 225,
   "id": "dffa758f",
   "metadata": {},
   "outputs": [
    {
     "name": "stdout",
     "output_type": "stream",
     "text": [
      "{0.0} <music21.note.Note D#>\n",
      "{1.0} <music21.note.Note D#>\n",
      "{2.0} <music21.note.Note D#>\n",
      "{3.0} <music21.note.Note D#>\n"
     ]
    }
   ],
   "source": [
    "stream2.show('text')"
   ]
  },
  {
   "cell_type": "markdown",
   "id": "13b66c70",
   "metadata": {},
   "source": [
    "#### Accessing Streams"
   ]
  },
  {
   "cell_type": "markdown",
   "id": "bbd2d854",
   "metadata": {},
   "source": [
    "We can also dive deeper into streams. Let’s get the step of each Note using the for thisNote in ...: command. But now we’ll use stream1 instead of noteList:"
   ]
  },
  {
   "cell_type": "code",
   "execution_count": 227,
   "id": "ffa6664d",
   "metadata": {},
   "outputs": [
    {
     "name": "stdout",
     "output_type": "stream",
     "text": [
      "C\n",
      "F#\n",
      "B-\n"
     ]
    }
   ],
   "source": [
    "for thisNote in stream1:\n",
    "    print(thisNote.name)"
   ]
  },
  {
   "cell_type": "code",
   "execution_count": 228,
   "id": "bc3a3216",
   "metadata": {},
   "outputs": [
    {
     "data": {
      "text/plain": [
       "'B-2'"
      ]
     },
     "execution_count": 228,
     "metadata": {},
     "output_type": "execute_result"
    }
   ],
   "source": [
    "stream1[-1].nameWithOctave"
   ]
  },
  {
   "cell_type": "markdown",
   "id": "6ae52edc",
   "metadata": {},
   "source": [
    "While full list-like functionality of the Stream isn’t there, some additional methods familiar to users of Python lists are also available. The Stream index() method can be used to get the first-encountered index of a supplied object."
   ]
  },
  {
   "cell_type": "code",
   "execution_count": 230,
   "id": "173ce054",
   "metadata": {},
   "outputs": [
    {
     "data": {
      "text/plain": [
       "2"
      ]
     },
     "execution_count": 230,
     "metadata": {},
     "output_type": "execute_result"
    }
   ],
   "source": [
    "str1Note3Index = stream1.index(note3)\n",
    "str1Note3Index"
   ]
  },
  {
   "cell_type": "markdown",
   "id": "b203330c",
   "metadata": {},
   "source": [
    "Given an index, an element from the Stream can be removed with the pop() method."
   ]
  },
  {
   "cell_type": "code",
   "execution_count": 237,
   "id": "bc9ab420",
   "metadata": {},
   "outputs": [
    {
     "data": {
      "text/plain": [
       "<music21.note.Note B->"
      ]
     },
     "execution_count": 237,
     "metadata": {},
     "output_type": "execute_result"
    }
   ],
   "source": [
    "stream1.pop(str1Note3Index)"
   ]
  },
  {
   "cell_type": "code",
   "execution_count": 238,
   "id": "208924c5",
   "metadata": {
    "scrolled": true
   },
   "outputs": [
    {
     "data": {
      "image/png": "[encoded data removed]",
      "text/plain": [
       "<IPython.core.display.Image object>"
      ]
     },
     "metadata": {
      "image/png": {
       "height": 1100,
       "width": 850
      }
     },
     "output_type": "display_data"
    }
   ],
   "source": [
    "stream1.show()"
   ]
  },
  {
   "cell_type": "markdown",
   "id": "f624091a",
   "metadata": {},
   "source": [
    "Since we removed note3 from stream1 with the the pop() method, let’s add note3 back into stream1 so that we can continue with the examples below using stream1 as we originally created it."
   ]
  },
  {
   "cell_type": "code",
   "execution_count": 239,
   "id": "a0136db1",
   "metadata": {},
   "outputs": [],
   "source": [
    "stream1.append(note3)"
   ]
  },
  {
   "cell_type": "code",
   "execution_count": 240,
   "id": "a8732803",
   "metadata": {
    "scrolled": true
   },
   "outputs": [
    {
     "data": {
      "image/png": "[encoded data removed]",
      "text/plain": [
       "<IPython.core.display.Image object>"
      ]
     },
     "metadata": {
      "image/png": {
       "height": 1100,
       "width": 850
      }
     },
     "output_type": "display_data"
    }
   ],
   "source": [
    "stream1.show()"
   ]
  },
  {
   "cell_type": "markdown",
   "id": "80e5200b",
   "metadata": {},
   "source": [
    "#### Separating out elements by class with .getElementsByClass()¶"
   ]
  },
  {
   "cell_type": "markdown",
   "id": "378c9d33",
   "metadata": {},
   "source": [
    "We can also gather elements based on the class (object type) of the element, by offset range, or by specific identifiers attached to the element. Gathering elements from a Stream based on the class of the element provides a way to filter the Stream for desired types of objects. The getElementsByClass() method iterates over a Stream of elements that are instances or subclasses of the provided classes. The example below gathers all Note objects and then all Rest objects. The easiest way to do this is to use for loops with .getElementsByClass():"
   ]
  },
  {
   "cell_type": "code",
   "execution_count": 241,
   "id": "7f817016",
   "metadata": {},
   "outputs": [
    {
     "name": "stdout",
     "output_type": "stream",
     "text": [
      "<music21.note.Note C> 0.0\n",
      "<music21.note.Note F#> 2.0\n",
      "<music21.note.Note B-> 3.0\n"
     ]
    }
   ],
   "source": [
    "for thisNote in stream1.getElementsByClass(note.Note):\n",
    "    print(thisNote, thisNote.offset)"
   ]
  },
  {
   "cell_type": "raw",
   "id": "00825719",
   "metadata": {},
   "source": [
    "If you want instead of passing the class note.Note you could instead pass the string \"Note\"."
   ]
  },
  {
   "cell_type": "code",
   "execution_count": 243,
   "id": "8ba6f438",
   "metadata": {},
   "outputs": [
    {
     "name": "stdout",
     "output_type": "stream",
     "text": [
      "<music21.note.Note C> 0.0\n",
      "<music21.note.Note F#> 2.0\n",
      "<music21.note.Note B-> 3.0\n"
     ]
    }
   ],
   "source": [
    "for thisNote in stream1.getElementsByClass(\"Note\"):\n",
    "    print(thisNote, thisNote.offset)"
   ]
  },
  {
   "cell_type": "markdown",
   "id": "e0d8d9a4",
   "metadata": {},
   "source": [
    "It is also possible to pass in a list of classes or strings of class names to .getElementsByClass() which will return anything that matches any of the classes. Notice the [] marks in the next call, indicating that we are creating a list to pass to .getElementsByClass():"
   ]
  },
  {
   "cell_type": "code",
   "execution_count": 244,
   "id": "0b927b97",
   "metadata": {},
   "outputs": [
    {
     "name": "stdout",
     "output_type": "stream",
     "text": [
      "<music21.note.Note C> 0.0\n",
      "<music21.note.Note F#> 2.0\n",
      "<music21.note.Note B-> 3.0\n"
     ]
    }
   ],
   "source": [
    "for thisNote in stream1.getElementsByClass(['Note', 'Rest']):\n",
    "    print(thisNote, thisNote.offset)"
   ]
  },
  {
   "cell_type": "markdown",
   "id": "341995ad",
   "metadata": {},
   "source": [
    "Since there are no note.Rest objects, it’s the same as above. Oh well…"
   ]
  },
  {
   "cell_type": "markdown",
   "id": "3177eac6",
   "metadata": {},
   "source": [
    "music21 has a couple of shortcuts that are equivalent to .getElementsByClass. For instance .notes is equivalent to .getElementsByClass(['Note', 'Chord']) (we’ll get to chords soon):"
   ]
  },
  {
   "cell_type": "code",
   "execution_count": 245,
   "id": "b3d6584a",
   "metadata": {},
   "outputs": [
    {
     "name": "stdout",
     "output_type": "stream",
     "text": [
      "<music21.note.Note C>\n",
      "<music21.note.Note F#>\n",
      "<music21.note.Note B->\n"
     ]
    }
   ],
   "source": [
    "for thisNote in stream1.notes:\n",
    "    print(thisNote)"
   ]
  },
  {
   "cell_type": "raw",
   "id": "24cf90e6",
   "metadata": {},
   "source": [
    "And .notesAndRests is equivalent to .getElementsByClass(['Note', 'Chord', 'Rest'])."
   ]
  },
  {
   "cell_type": "code",
   "execution_count": 246,
   "id": "43340133",
   "metadata": {},
   "outputs": [
    {
     "name": "stdout",
     "output_type": "stream",
     "text": [
      "<music21.note.Note C>\n",
      "<music21.note.Note F#>\n",
      "<music21.note.Note B->\n"
     ]
    }
   ],
   "source": [
    "for thisNote in stream1.notesAndRests:\n",
    "    print(thisNote)"
   ]
  },
  {
   "cell_type": "markdown",
   "id": "fccb036f",
   "metadata": {},
   "source": [
    "Finally, there’s something slightly different. .pitches begins with a call to .notes, but then returns a list of all the pitches from every Note or Chord in the Stream:"
   ]
  },
  {
   "cell_type": "code",
   "execution_count": 247,
   "id": "f4b088e6",
   "metadata": {},
   "outputs": [
    {
     "data": {
      "text/plain": [
       "[<music21.pitch.Pitch C4>,\n",
       " <music21.pitch.Pitch F#4>,\n",
       " <music21.pitch.Pitch B-2>]"
      ]
     },
     "execution_count": 247,
     "metadata": {},
     "output_type": "execute_result"
    }
   ],
   "source": [
    "listOut = stream1.pitches\n",
    "listOut"
   ]
  },
  {
   "cell_type": "markdown",
   "id": "901c8621",
   "metadata": {},
   "source": [
    "The result of a .getElementsByClass are not technically streams, but you can convert it to a stream with .stream() and then call .show() on it:"
   ]
  },
  {
   "cell_type": "code",
   "execution_count": 256,
   "id": "780219da",
   "metadata": {},
   "outputs": [
    {
     "name": "stdout",
     "output_type": "stream",
     "text": [
      "{0.0} <music21.note.Note C>\n",
      "{2.0} <music21.note.Note F#>\n",
      "{3.0} <music21.note.Note B->\n"
     ]
    }
   ],
   "source": [
    "streamIterator = stream1.getElementsByClass(note.Note)\n",
    "sOut = streamIterator.stream()\n",
    "sOut.show('text')"
   ]
  },
  {
   "cell_type": "markdown",
   "id": "775353e8",
   "metadata": {},
   "source": [
    "#### Separating out elements by offset with .getElementsByOffset()"
   ]
  },
  {
   "cell_type": "markdown",
   "id": "c5c936f5",
   "metadata": {},
   "source": [
    "The getElementsByOffset() method returns a Stream of all elements that fall either at a single offset or within a range of two offsets provided as an argument. In both cases a Stream is returned."
   ]
  },
  {
   "cell_type": "code",
   "execution_count": 257,
   "id": "32fc289c",
   "metadata": {},
   "outputs": [
    {
     "data": {
      "text/plain": [
       "1"
      ]
     },
     "execution_count": 257,
     "metadata": {},
     "output_type": "execute_result"
    }
   ],
   "source": [
    "sOut = stream1.getElementsByOffset(3)\n",
    "len(sOut)"
   ]
  },
  {
   "cell_type": "code",
   "execution_count": 261,
   "id": "957048b6",
   "metadata": {},
   "outputs": [
    {
     "data": {
      "text/plain": [
       "<music21.note.Note B->"
      ]
     },
     "execution_count": 261,
     "metadata": {},
     "output_type": "execute_result"
    }
   ],
   "source": [
    "sOut[0]"
   ]
  },
  {
   "cell_type": "markdown",
   "id": "94a1aa56",
   "metadata": {},
   "source": [
    "Like with .getElementsByClass() if you want a Stream from .getElementsByOffset(), add .stream() to the end of it."
   ]
  },
  {
   "cell_type": "code",
   "execution_count": 262,
   "id": "f66e28e4",
   "metadata": {},
   "outputs": [
    {
     "name": "stdout",
     "output_type": "stream",
     "text": [
      "{2.0} <music21.note.Note F#>\n",
      "{3.0} <music21.note.Note B->\n"
     ]
    }
   ],
   "source": [
    "sOut = stream1.getElementsByOffset(2, 3).stream()\n",
    "sOut.show('text')"
   ]
  },
  {
   "cell_type": "markdown",
   "id": "fcb5cfe3",
   "metadata": {},
   "source": [
    "We will do more with .getElementsByOffset() later when we also talk about getElementAtOrBefore() and getElementAfterElement()"
   ]
  },
  {
   "cell_type": "markdown",
   "id": "b22e19ef",
   "metadata": {},
   "source": [
    "#### More Stream features"
   ]
  },
  {
   "cell_type": "markdown",
   "id": "abe5c755",
   "metadata": {},
   "source": [
    "Okay, so far we’ve seen that Streams can do the same things as lists, but can they do more? Let’s call the analyze method on stream to get the ambitus (that is, the range from the lowest note to the highest note) of the Notes in the Stream:"
   ]
  },
  {
   "cell_type": "code",
   "execution_count": 263,
   "id": "b6352e5a",
   "metadata": {},
   "outputs": [
    {
     "data": {
      "text/plain": [
       "<music21.interval.Interval A12>"
      ]
     },
     "execution_count": 263,
     "metadata": {},
     "output_type": "execute_result"
    }
   ],
   "source": [
    "stream1.analyze('ambitus')"
   ]
  },
  {
   "cell_type": "markdown",
   "id": "0efc7e28",
   "metadata": {},
   "source": [
    "Let’s take a second to check this. Our lowest note is note3 (B-flat in octave 2) and our highest note is note2 (F-sharp in octave 4). From B-flat to the F-sharp above it, is an augmented fifth. An augmented fifth plus an octave is an augmented twelfth. So we’re doing well so far. (We’ll get to other things we can analyze in chapter 18 and we’ll see what an Interval object can do in chapter 15)."
   ]
  },
  {
   "cell_type": "markdown",
   "id": "20959d2a",
   "metadata": {},
   "source": [
    "As we mentioned earlier, when placed in a Stream, Notes and other elements also have an offset (stored in .offset) that describes their position from the beginning of the stream. These offset values are also given in quarter-lengths (QLs)."
   ]
  },
  {
   "cell_type": "code",
   "execution_count": 264,
   "id": "472dd4e6",
   "metadata": {},
   "outputs": [
    {
     "data": {
      "text/plain": [
       "0.0"
      ]
     },
     "execution_count": 264,
     "metadata": {},
     "output_type": "execute_result"
    }
   ],
   "source": [
    "note1.offset"
   ]
  },
  {
   "cell_type": "markdown",
   "id": "97a23d13",
   "metadata": {},
   "source": [
    "note2’s offset will be 2.0, since note1 is a half note, worth two quarter notes:"
   ]
  },
  {
   "cell_type": "code",
   "execution_count": 265,
   "id": "a695ef38",
   "metadata": {},
   "outputs": [
    {
     "data": {
      "text/plain": [
       "2.0"
      ]
     },
     "execution_count": 265,
     "metadata": {},
     "output_type": "execute_result"
    }
   ],
   "source": [
    "note2.offset"
   ]
  },
  {
   "cell_type": "markdown",
   "id": "da47fa4e",
   "metadata": {},
   "source": [
    "And note3, which follows the quarter note note2 will be at offset 3.0:"
   ]
  },
  {
   "cell_type": "code",
   "execution_count": 266,
   "id": "98be2b67",
   "metadata": {},
   "outputs": [
    {
     "data": {
      "text/plain": [
       "3.0"
      ]
     },
     "execution_count": 266,
     "metadata": {},
     "output_type": "execute_result"
    }
   ],
   "source": [
    "note3.offset"
   ]
  },
  {
   "cell_type": "markdown",
   "id": "171f28b2",
   "metadata": {},
   "source": [
    "(If we made note2 an eighth note, then note3’s offset would be the floating point [decimal] value 2.5. But we didn’t.) So now when we’re looping we can see the offset of each note. Let’s print the note’s offset followed by its name by putting .offset and .name in the same line, separated by a comma:"
   ]
  },
  {
   "cell_type": "code",
   "execution_count": 267,
   "id": "8bb62b21",
   "metadata": {},
   "outputs": [
    {
     "name": "stdout",
     "output_type": "stream",
     "text": [
      "0.0 C\n",
      "2.0 F#\n",
      "3.0 B-\n"
     ]
    }
   ],
   "source": [
    "for thisNote in stream1:\n",
    "    print(thisNote.offset, thisNote.name)"
   ]
  },
  {
   "cell_type": "markdown",
   "id": "57e14867",
   "metadata": {},
   "source": [
    "(Digression: It’s probably not too early to learn that a safer form of .offset is .getOffsetBySite(stream1):"
   ]
  },
  {
   "cell_type": "code",
   "execution_count": 268,
   "id": "a2f0fbd7",
   "metadata": {},
   "outputs": [
    {
     "data": {
      "text/plain": [
       "2.0"
      ]
     },
     "execution_count": 268,
     "metadata": {},
     "output_type": "execute_result"
    }
   ],
   "source": [
    "note2.offset"
   ]
  },
  {
   "cell_type": "code",
   "execution_count": 269,
   "id": "09550063",
   "metadata": {},
   "outputs": [
    {
     "data": {
      "text/plain": [
       "2.0"
      ]
     },
     "execution_count": 269,
     "metadata": {},
     "output_type": "execute_result"
    }
   ],
   "source": [
    "note2.getOffsetBySite(stream1)"
   ]
  },
  {
   "cell_type": "markdown",
   "id": "2d01f4c3",
   "metadata": {},
   "source": [
    "What’s the difference?\n",
    "\n",
    "Remember how I said that .offset refers to the number of quarter notes that the Note is from the front of a Stream? \n",
    "\n",
    "Well, eventually you may put the same Note in different places in multiple Streams, so the .getOffsetBySite(X) command is a safer way that specifies exactly which Stream we are talking about. End of digression…)"
   ]
  },
  {
   "cell_type": "markdown",
   "id": "869951d1",
   "metadata": {},
   "source": [
    "As a final note about offsets, the lowestOffset property returns the minimum of all offsets for all elements on the Stream."
   ]
  },
  {
   "cell_type": "markdown",
   "id": "ad633d72",
   "metadata": {},
   "source": [
    "So, what else can we do with Streams? Like Note objects, we can show() them in a couple of different ways. Let’s hear these three Notes as a MIDI file:"
   ]
  },
  {
   "cell_type": "code",
   "execution_count": null,
   "id": "b8187a4d",
   "metadata": {},
   "outputs": [],
   "source": []
  }
 ],
 "metadata": {
  "kernelspec": {
   "display_name": "Python 3 (ipykernel)",
   "language": "python",
   "name": "python3"
  },
  "language_info": {
   "codemirror_mode": {
    "name": "ipython",
    "version": 3
   },
   "file_extension": ".py",
   "mimetype": "text/x-python",
   "name": "python",
   "nbconvert_exporter": "python",
   "pygments_lexer": "ipython3",
   "version": "3.10.10"
  },
  "toc": {
   "base_numbering": 1,
   "nav_menu": {},
   "number_sections": true,
   "sideBar": true,
   "skip_h1_title": false,
   "title_cell": "Table of Contents",
   "title_sidebar": "Contents",
   "toc_cell": false,
   "toc_position": {},
   "toc_section_display": true,
   "toc_window_display": false
  }
 },
 "nbformat": 4,
 "nbformat_minor": 5
}
