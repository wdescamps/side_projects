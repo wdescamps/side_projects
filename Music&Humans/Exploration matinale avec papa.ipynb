{
 "cells": [
  {
   "cell_type": "code",
   "execution_count": 111,
   "id": "c9cc8c4b",
   "metadata": {},
   "outputs": [],
   "source": [
    "from configparser import ConfigParser\n",
    "from tqdm import tqdm\n",
    "import datetime\n",
    "import networkx as nx\n",
    "import matplotlib.pyplot as plt\n",
    "import requests\n",
    "import openai\n",
    "import json\n",
    "import os\n",
    "from music21.midi.realtime import StreamPlayer"
   ]
  },
  {
   "cell_type": "code",
   "execution_count": 34,
   "id": "8533418a",
   "metadata": {},
   "outputs": [],
   "source": [
    "from music21 import *\n"
   ]
  },
  {
   "cell_type": "code",
   "execution_count": 93,
   "id": "2f35c066",
   "metadata": {},
   "outputs": [],
   "source": [
    "stream1 = stream.Stream()\n"
   ]
  },
  {
   "cell_type": "code",
   "execution_count": 94,
   "id": "f805cf9d",
   "metadata": {},
   "outputs": [],
   "source": [
    "# Define the G chord\n",
    "g_chord = chord.Chord(['G', 'B', 'D'])"
   ]
  },
  {
   "cell_type": "code",
   "execution_count": 95,
   "id": "564cc0dd",
   "metadata": {},
   "outputs": [
    {
     "name": "stdout",
     "output_type": "stream",
     "text": [
      "2\n"
     ]
    }
   ],
   "source": [
    "print(g_chord.inversion())"
   ]
  },
  {
   "cell_type": "code",
   "execution_count": 101,
   "id": "fa30c3e4",
   "metadata": {},
   "outputs": [
    {
     "data": {
      "text/plain": [
       "<music21.chord.Chord B6 D7 G7>"
      ]
     },
     "execution_count": 101,
     "metadata": {},
     "output_type": "execute_result"
    }
   ],
   "source": [
    "g_chord.inversion(1)\n",
    "g_chord"
   ]
  },
  {
   "cell_type": "code",
   "execution_count": 102,
   "id": "19cd4912",
   "metadata": {},
   "outputs": [
    {
     "data": {
      "text/plain": [
       "<music21.chord.Chord G7 B7 D8>"
      ]
     },
     "execution_count": 102,
     "metadata": {},
     "output_type": "execute_result"
    }
   ],
   "source": [
    "g_chord.inversion(0)\n",
    "g_chord"
   ]
  },
  {
   "cell_type": "code",
   "execution_count": null,
   "id": "12984870",
   "metadata": {},
   "outputs": [],
   "source": []
  },
  {
   "cell_type": "markdown",
   "id": "4531c8d1",
   "metadata": {},
   "source": [
    "### On change d'approche"
   ]
  },
  {
   "cell_type": "code",
   "execution_count": 132,
   "id": "37135e77",
   "metadata": {},
   "outputs": [],
   "source": [
    "# Define the chord types\n",
    "chord_types = ['major', 'minor', 'dominantSeventh', 'diminishedSeventh']\n"
   ]
  },
  {
   "cell_type": "code",
   "execution_count": 133,
   "id": "126627bb",
   "metadata": {},
   "outputs": [],
   "source": [
    "# Define the root note and octave\n",
    "root_note = 'C'\n",
    "octave = 4\n"
   ]
  },
  {
   "cell_type": "code",
   "execution_count": 134,
   "id": "597c07e4",
   "metadata": {},
   "outputs": [],
   "source": [
    "from music21 import chord as chords_module"
   ]
  },
  {
   "cell_type": "code",
   "execution_count": 136,
   "id": "2d59334a",
   "metadata": {},
   "outputs": [
    {
     "data": {
      "text/plain": [
       "['major', 'minor', 'dominantSeventh', 'diminishedSeventh']"
      ]
     },
     "execution_count": 136,
     "metadata": {},
     "output_type": "execute_result"
    }
   ],
   "source": [
    "chord_types"
   ]
  },
  {
   "cell_type": "code",
   "execution_count": null,
   "id": "e6db4f9e",
   "metadata": {},
   "outputs": [],
   "source": [
    "# Set the duration for each chord (in seconds)\n",
    "chord_duration = 2\n"
   ]
  },
  {
   "cell_type": "code",
   "execution_count": 120,
   "id": "210b531d",
   "metadata": {},
   "outputs": [
    {
     "name": "stdout",
     "output_type": "stream",
     "text": [
      "<music21.chord.Chord C4>\n",
      "<music21.chord.Chord C4>\n",
      "<music21.chord.Chord C4>\n",
      "<music21.chord.Chord C4>\n"
     ]
    }
   ],
   "source": [
    "# Loop through each chord type\n",
    "for chord_type in chord_types:\n",
    "    # Create the chord\n",
    "    chord_obj = chord.Chord(root_note + str(octave))\n",
    "    print(chord_obj)\n",
    "    # Create a stream and append the chord\n",
    "    note_stream = stream.Stream()\n",
    "    note_stream.append(chord_obj)\n",
    "    \n",
    "    # Wait for the chord duration\n"
   ]
  },
  {
   "cell_type": "code",
   "execution_count": 114,
   "id": "dbdbccf3",
   "metadata": {},
   "outputs": [
    {
     "ename": "NameError",
     "evalue": "name 'note_stream' is not defined",
     "output_type": "error",
     "traceback": [
      "\u001b[0;31m---------------------------------------------------------------------------\u001b[0m",
      "\u001b[0;31mNameError\u001b[0m                                 Traceback (most recent call last)",
      "Cell \u001b[0;32mIn [114], line 2\u001b[0m\n\u001b[1;32m      1\u001b[0m \u001b[38;5;66;03m# Let's play it\u001b[39;00m\n\u001b[0;32m----> 2\u001b[0m StreamPlayer(\u001b[43mnote_stream\u001b[49m)\u001b[38;5;241m.\u001b[39mplay()\n",
      "\u001b[0;31mNameError\u001b[0m: name 'note_stream' is not defined"
     ]
    }
   ],
   "source": [
    "# Let's play it\n",
    "StreamPlayer(note_stream).play()"
   ]
  },
  {
   "cell_type": "code",
   "execution_count": 138,
   "id": "85e1c2c4",
   "metadata": {},
   "outputs": [],
   "source": [
    "csharp = note.Note('C#4')"
   ]
  },
  {
   "cell_type": "code",
   "execution_count": 139,
   "id": "900fc788",
   "metadata": {},
   "outputs": [],
   "source": [
    "csharp_en = csharp.pitch.getEnharmonic()\n",
    "csharp_low_en = csharp.pitch.getLowerEnharmonic()"
   ]
  },
  {
   "cell_type": "code",
   "execution_count": 140,
   "id": "547d1eae",
   "metadata": {},
   "outputs": [],
   "source": [
    "stream_harmonics = stream.Stream()"
   ]
  },
  {
   "cell_type": "code",
   "execution_count": 144,
   "id": "b06ae2cc",
   "metadata": {},
   "outputs": [
    {
     "data": {
      "text/plain": [
       "<music21.pitch.Pitch D-4>"
      ]
     },
     "execution_count": 144,
     "metadata": {},
     "output_type": "execute_result"
    }
   ],
   "source": [
    "csharp_en"
   ]
  },
  {
   "cell_type": "code",
   "execution_count": 142,
   "id": "aa9fb220",
   "metadata": {},
   "outputs": [],
   "source": [
    "stream_harmonics.append(csharp)"
   ]
  },
  {
   "cell_type": "code",
   "execution_count": 145,
   "id": "7ad6dfae",
   "metadata": {},
   "outputs": [],
   "source": [
    "stream_harmonics.append(note.Note(csharp_en))"
   ]
  },
  {
   "cell_type": "code",
   "execution_count": 146,
   "id": "0809141f",
   "metadata": {},
   "outputs": [],
   "source": [
    "stream_harmonics.append(note.Note(csharp_low_en))"
   ]
  },
  {
   "cell_type": "code",
   "execution_count": 147,
   "id": "713f8545",
   "metadata": {},
   "outputs": [],
   "source": [
    "StreamPlayer(stream_harmonics).play()"
   ]
  },
  {
   "cell_type": "code",
   "execution_count": null,
   "id": "9b03500e",
   "metadata": {},
   "outputs": [],
   "source": []
  }
 ],
 "metadata": {
  "kernelspec": {
   "display_name": "Python 3 (ipykernel)",
   "language": "python",
   "name": "python3"
  },
  "language_info": {
   "codemirror_mode": {
    "name": "ipython",
    "version": 3
   },
   "file_extension": ".py",
   "mimetype": "text/x-python",
   "name": "python",
   "nbconvert_exporter": "python",
   "pygments_lexer": "ipython3",
   "version": "3.10.10"
  },
  "toc": {
   "base_numbering": 1,
   "nav_menu": {},
   "number_sections": true,
   "sideBar": true,
   "skip_h1_title": false,
   "title_cell": "Table of Contents",
   "title_sidebar": "Contents",
   "toc_cell": false,
   "toc_position": {},
   "toc_section_display": true,
   "toc_window_display": false
  }
 },
 "nbformat": 4,
 "nbformat_minor": 5
}
