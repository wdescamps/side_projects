{
 "cells": [
  {
   "cell_type": "code",
   "execution_count": null,
   "id": "14e89ff0",
   "metadata": {},
   "outputs": [],
   "source": [
    "How to add minor and other notes to music21 chords? Does not function atm"
   ]
  },
  {
   "cell_type": "code",
   "execution_count": 2,
   "id": "b3bc8796",
   "metadata": {},
   "outputs": [],
   "source": [
    "#!pip install music21\n",
    "#!pip install pygame"
   ]
  },
  {
   "cell_type": "code",
   "execution_count": 5,
   "id": "ff814c4e",
   "metadata": {},
   "outputs": [],
   "source": [
    "from music21 import *\n",
    "from music21.midi.realtime import StreamPlayer\n",
    "import numpy as np\n",
    "import music21\n",
    "from matplotlib import pyplot as plt\n",
    "from ipywidgets import interact, fixed\n",
    "import numpy as np\n",
    "import random"
   ]
  },
  {
   "cell_type": "markdown",
   "id": "853a20f1",
   "metadata": {},
   "source": [
    "# Random Jazz Chords"
   ]
  },
  {
   "cell_type": "code",
   "execution_count": 15,
   "id": "b894cf70",
   "metadata": {},
   "outputs": [],
   "source": [
    "def random_jazz_chord():\n",
    "    root = random.choice([\"C\", \"D\", \"E\", \"F\", \"G\", \"A\", \"B\"])\n",
    "    quality = random.choice([\"maj7\", \"min7\", \"dom7\", \"m7b5\", \"dim7\", \"aug7\"])\n",
    "    inversion = random.choice([0, 1, 2, 3])\n",
    "    return harmony.ChordSymbol(f\"{root}{quality}\")"
   ]
  },
  {
   "cell_type": "code",
   "execution_count": 16,
   "id": "908d037f",
   "metadata": {},
   "outputs": [
    {
     "data": {
      "text/plain": [
       "<music21.harmony.ChordSymbol Emin7>"
      ]
     },
     "execution_count": 16,
     "metadata": {},
     "output_type": "execute_result"
    }
   ],
   "source": [
    "random_jazz_chord()"
   ]
  },
  {
   "cell_type": "code",
   "execution_count": 17,
   "id": "e54067a0",
   "metadata": {},
   "outputs": [],
   "source": [
    "num_chords = 10"
   ]
  },
  {
   "cell_type": "code",
   "execution_count": 18,
   "id": "4147086f",
   "metadata": {},
   "outputs": [],
   "source": [
    "jazz_chords = [random_jazz_chord() for _ in range(num_chords)]"
   ]
  },
  {
   "cell_type": "code",
   "execution_count": 19,
   "id": "719976e9",
   "metadata": {},
   "outputs": [],
   "source": [
    "for i in jazz_chords:\n",
    "    i.writeAsChord = True"
   ]
  },
  {
   "cell_type": "code",
   "execution_count": 20,
   "id": "a6025a0b",
   "metadata": {},
   "outputs": [
    {
     "data": {
      "text/plain": [
       "[<music21.harmony.ChordSymbol Edom7: E G# B D>,\n",
       " <music21.harmony.ChordSymbol Bdim7: B D F A->,\n",
       " <music21.harmony.ChordSymbol Fdom7: F A C E->,\n",
       " <music21.harmony.ChordSymbol Amaj7: A C# E G#>,\n",
       " <music21.harmony.ChordSymbol Bdim7: B D F A->,\n",
       " <music21.harmony.ChordSymbol Bmaj7: B D# F# A#>,\n",
       " <music21.harmony.ChordSymbol Faug7: F A C# E->,\n",
       " <music21.harmony.ChordSymbol Emin7: E G B D>,\n",
       " <music21.harmony.ChordSymbol Gmaj7: G B D F#>,\n",
       " <music21.harmony.ChordSymbol Emin7: E G B D>]"
      ]
     },
     "execution_count": 20,
     "metadata": {},
     "output_type": "execute_result"
    }
   ],
   "source": [
    "jazz_chords"
   ]
  },
  {
   "cell_type": "raw",
   "id": "631e7858",
   "metadata": {},
   "source": [
    "Documentation available here :\n",
    "https://web.mit.edu/music21/doc/moduleReference/moduleHarmony.html"
   ]
  },
  {
   "cell_type": "code",
   "execution_count": 22,
   "id": "a68aadcb",
   "metadata": {},
   "outputs": [
    {
     "name": "stdout",
     "output_type": "stream",
     "text": [
      "{0.0} <music21.harmony.ChordSymbol Edom7: E G# B D>\n",
      "{1.0} <music21.harmony.ChordSymbol Bdim7: B D F A->\n",
      "{2.0} <music21.harmony.ChordSymbol Fdom7: F A C E->\n",
      "{3.0} <music21.harmony.ChordSymbol Amaj7: A C# E G#>\n",
      "{4.0} <music21.harmony.ChordSymbol Bdim7: B D F A->\n",
      "{5.0} <music21.harmony.ChordSymbol Bmaj7: B D# F# A#>\n",
      "{6.0} <music21.harmony.ChordSymbol Faug7: F A C# E->\n",
      "{7.0} <music21.harmony.ChordSymbol Emin7: E G B D>\n",
      "{8.0} <music21.harmony.ChordSymbol Gmaj7: G B D F#>\n",
      "{9.0} <music21.harmony.ChordSymbol Emin7: E G B D>\n"
     ]
    },
    {
     "data": {
      "text/html": [
       "\n",
       "                <div id=\"midiPlayerDiv295\"></div>\n",
       "                <link rel=\"stylesheet\" href=\"//cuthbertLab.github.io/music21j/css/m21.css\"\n",
       "                    type=\"text/css\" />\n",
       "                \n",
       "                <script>\n",
       "                require.config({\n",
       "                    paths: {'music21': '//cuthbertLab.github.io/music21j/src/music21'}\n",
       "                });\n",
       "                require(['music21'], function() {\n",
       "                               mp = new music21.miditools.MidiPlayer();\n",
       "                               mp.addPlayer(\"#midiPlayerDiv295\");\n",
       "                               mp.base64Load(\"data:audio/midi;base64,TVRoZAAAAAYAAQACBABNVHJrAAAAFAD/UQMHoSAA/1gEBAIYCIgA/y8ATVRyawAAAVgA/wMAAOAAQIgAkDRaAJA4WgCQO1oAkD5aiACANAAAgDgAAIA7AACAPgAAkC9aAJAyWgCQNVoAkDhaiACALwAAgDIAAIA1AACAOAAAkClaAJAtWgCQMFoAkDNaiACAKQAAgC0AAIAwAACAMwAAkC1aAJAxWgCQNFoAkDhaiACALQAAgDEAAIA0AACAOAAAkC9aAJAyWgCQNVoAkDhaiACALwAAgDIAAIA1AACAOAAAkC9aAJAzWgCQNloAkDpaiACALwAAgDMAAIA2AACAOgAAkClaAJAtWgCQMVoAkDNaiACAKQAAgC0AAIAxAACAMwAAkDRaAJA3WgCQO1oAkD5aiACANAAAgDcAAIA7AACAPgAAkCtaAJAvWgCQMloAkDZaiACAKwAAgC8AAIAyAACANgAAkDRaAJA3WgCQO1oAkD5aiACANAAAgDcAAIA7AACAPgCIAP8vAA==\");\n",
       "                        });\n",
       "                </script>"
      ],
      "text/plain": [
       "<IPython.core.display.HTML object>"
      ]
     },
     "metadata": {},
     "output_type": "display_data"
    }
   ],
   "source": [
    "stream1 = stream.Stream()\n",
    "stream1.append(jazz_chords)\n",
    "stream1.show('text')\n",
    "stream1.show(\"midi\")"
   ]
  },
  {
   "cell_type": "code",
   "execution_count": 24,
   "id": "917d52d3",
   "metadata": {},
   "outputs": [],
   "source": [
    "# yay ! this plays the chords\n",
    "StreamPlayer(stream1).play()"
   ]
  },
  {
   "cell_type": "code",
   "execution_count": null,
   "id": "9a87c234",
   "metadata": {},
   "outputs": [],
   "source": []
  },
  {
   "cell_type": "markdown",
   "id": "162023ee",
   "metadata": {},
   "source": [
    "# Circle of Fifth"
   ]
  },
  {
   "cell_type": "code",
   "execution_count": 58,
   "id": "f94fbcac",
   "metadata": {},
   "outputs": [],
   "source": []
  },
  {
   "cell_type": "code",
   "execution_count": 1,
   "id": "35e4c44a",
   "metadata": {},
   "outputs": [],
   "source": [
    "# Define a function to plot the circle of fifths\n",
    "def plot_circle_of_fifths():\n",
    "    circle_keys = [\"C\", \"G\", \"D\", \"A\", \"E\", \"B\", \"F#\", \"Db\", \"Ab\", \"Eb\", \"Bb\", \"F\"]\n",
    "    circle_minor_keys = [key.Key(k).relative.name for k in circle_keys]\n",
    "    \n",
    "    # Define the angular position of each key\n",
    "    angles = np.linspace(0, 2 * np.pi, len(circle_keys) + 1)[:-1]\n",
    "    \n",
    "    # Create a polar plot\n",
    "    fig, ax = plt.subplots(subplot_kw={\"polar\": True})\n",
    "    \n",
    "    # Major keys\n",
    "    for i, (angle, key_name) in enumerate(zip(angles, circle_keys)):\n",
    "        ax.text(angle, 1.3, key_name, fontsize=20, ha=\"center\", va=\"center\")\n",
    "        \n",
    "    # Minor keys\n",
    "    for i, (angle, key_name) in enumerate(zip(angles, circle_minor_keys)):\n",
    "        ax.text(angle, 0.85, key_name.lower(), fontsize=12, ha=\"center\", va=\"center\")\n",
    "    \n",
    "    # Set the radius and background color\n",
    "    ax.set_yticklabels([])\n",
    "    ax.set_xticklabels([])\n",
    "    ax.set_rticks([])\n",
    "    ax.set_rlim(0, 1.5)\n",
    "    ax.set_facecolor(\"lavender\")\n",
    "    plt.title(\"Circle of Fifths, Major Keys on the outside\", y=1.1)\n",
    "    plt.show()"
   ]
  },
  {
   "cell_type": "code",
   "execution_count": 2,
   "id": "71b49196",
   "metadata": {},
   "outputs": [
    {
     "ename": "NameError",
     "evalue": "name 'key' is not defined",
     "output_type": "error",
     "traceback": [
      "\u001b[0;31m---------------------------------------------------------------------------\u001b[0m",
      "\u001b[0;31mNameError\u001b[0m                                 Traceback (most recent call last)",
      "Cell \u001b[0;32mIn [2], line 2\u001b[0m\n\u001b[1;32m      1\u001b[0m \u001b[38;5;66;03m# Call the function to plot the circle of fifths\u001b[39;00m\n\u001b[0;32m----> 2\u001b[0m \u001b[43mplot_circle_of_fifths\u001b[49m\u001b[43m(\u001b[49m\u001b[43m)\u001b[49m\n",
      "Cell \u001b[0;32mIn [1], line 4\u001b[0m, in \u001b[0;36mplot_circle_of_fifths\u001b[0;34m()\u001b[0m\n\u001b[1;32m      2\u001b[0m \u001b[38;5;28;01mdef\u001b[39;00m \u001b[38;5;21mplot_circle_of_fifths\u001b[39m():\n\u001b[1;32m      3\u001b[0m     circle_keys \u001b[38;5;241m=\u001b[39m [\u001b[38;5;124m\"\u001b[39m\u001b[38;5;124mC\u001b[39m\u001b[38;5;124m\"\u001b[39m, \u001b[38;5;124m\"\u001b[39m\u001b[38;5;124mG\u001b[39m\u001b[38;5;124m\"\u001b[39m, \u001b[38;5;124m\"\u001b[39m\u001b[38;5;124mD\u001b[39m\u001b[38;5;124m\"\u001b[39m, \u001b[38;5;124m\"\u001b[39m\u001b[38;5;124mA\u001b[39m\u001b[38;5;124m\"\u001b[39m, \u001b[38;5;124m\"\u001b[39m\u001b[38;5;124mE\u001b[39m\u001b[38;5;124m\"\u001b[39m, \u001b[38;5;124m\"\u001b[39m\u001b[38;5;124mB\u001b[39m\u001b[38;5;124m\"\u001b[39m, \u001b[38;5;124m\"\u001b[39m\u001b[38;5;124mF#\u001b[39m\u001b[38;5;124m\"\u001b[39m, \u001b[38;5;124m\"\u001b[39m\u001b[38;5;124mDb\u001b[39m\u001b[38;5;124m\"\u001b[39m, \u001b[38;5;124m\"\u001b[39m\u001b[38;5;124mAb\u001b[39m\u001b[38;5;124m\"\u001b[39m, \u001b[38;5;124m\"\u001b[39m\u001b[38;5;124mEb\u001b[39m\u001b[38;5;124m\"\u001b[39m, \u001b[38;5;124m\"\u001b[39m\u001b[38;5;124mBb\u001b[39m\u001b[38;5;124m\"\u001b[39m, \u001b[38;5;124m\"\u001b[39m\u001b[38;5;124mF\u001b[39m\u001b[38;5;124m\"\u001b[39m]\n\u001b[0;32m----> 4\u001b[0m     circle_minor_keys \u001b[38;5;241m=\u001b[39m [key\u001b[38;5;241m.\u001b[39mKey(k)\u001b[38;5;241m.\u001b[39mrelative\u001b[38;5;241m.\u001b[39mname \u001b[38;5;28;01mfor\u001b[39;00m k \u001b[38;5;129;01min\u001b[39;00m circle_keys]\n\u001b[1;32m      6\u001b[0m     \u001b[38;5;66;03m# Define the angular position of each key\u001b[39;00m\n\u001b[1;32m      7\u001b[0m     angles \u001b[38;5;241m=\u001b[39m np\u001b[38;5;241m.\u001b[39mlinspace(\u001b[38;5;241m0\u001b[39m, \u001b[38;5;241m2\u001b[39m \u001b[38;5;241m*\u001b[39m np\u001b[38;5;241m.\u001b[39mpi, \u001b[38;5;28mlen\u001b[39m(circle_keys) \u001b[38;5;241m+\u001b[39m \u001b[38;5;241m1\u001b[39m)[:\u001b[38;5;241m-\u001b[39m\u001b[38;5;241m1\u001b[39m]\n",
      "Cell \u001b[0;32mIn [1], line 4\u001b[0m, in \u001b[0;36m<listcomp>\u001b[0;34m(.0)\u001b[0m\n\u001b[1;32m      2\u001b[0m \u001b[38;5;28;01mdef\u001b[39;00m \u001b[38;5;21mplot_circle_of_fifths\u001b[39m():\n\u001b[1;32m      3\u001b[0m     circle_keys \u001b[38;5;241m=\u001b[39m [\u001b[38;5;124m\"\u001b[39m\u001b[38;5;124mC\u001b[39m\u001b[38;5;124m\"\u001b[39m, \u001b[38;5;124m\"\u001b[39m\u001b[38;5;124mG\u001b[39m\u001b[38;5;124m\"\u001b[39m, \u001b[38;5;124m\"\u001b[39m\u001b[38;5;124mD\u001b[39m\u001b[38;5;124m\"\u001b[39m, \u001b[38;5;124m\"\u001b[39m\u001b[38;5;124mA\u001b[39m\u001b[38;5;124m\"\u001b[39m, \u001b[38;5;124m\"\u001b[39m\u001b[38;5;124mE\u001b[39m\u001b[38;5;124m\"\u001b[39m, \u001b[38;5;124m\"\u001b[39m\u001b[38;5;124mB\u001b[39m\u001b[38;5;124m\"\u001b[39m, \u001b[38;5;124m\"\u001b[39m\u001b[38;5;124mF#\u001b[39m\u001b[38;5;124m\"\u001b[39m, \u001b[38;5;124m\"\u001b[39m\u001b[38;5;124mDb\u001b[39m\u001b[38;5;124m\"\u001b[39m, \u001b[38;5;124m\"\u001b[39m\u001b[38;5;124mAb\u001b[39m\u001b[38;5;124m\"\u001b[39m, \u001b[38;5;124m\"\u001b[39m\u001b[38;5;124mEb\u001b[39m\u001b[38;5;124m\"\u001b[39m, \u001b[38;5;124m\"\u001b[39m\u001b[38;5;124mBb\u001b[39m\u001b[38;5;124m\"\u001b[39m, \u001b[38;5;124m\"\u001b[39m\u001b[38;5;124mF\u001b[39m\u001b[38;5;124m\"\u001b[39m]\n\u001b[0;32m----> 4\u001b[0m     circle_minor_keys \u001b[38;5;241m=\u001b[39m [\u001b[43mkey\u001b[49m\u001b[38;5;241m.\u001b[39mKey(k)\u001b[38;5;241m.\u001b[39mrelative\u001b[38;5;241m.\u001b[39mname \u001b[38;5;28;01mfor\u001b[39;00m k \u001b[38;5;129;01min\u001b[39;00m circle_keys]\n\u001b[1;32m      6\u001b[0m     \u001b[38;5;66;03m# Define the angular position of each key\u001b[39;00m\n\u001b[1;32m      7\u001b[0m     angles \u001b[38;5;241m=\u001b[39m np\u001b[38;5;241m.\u001b[39mlinspace(\u001b[38;5;241m0\u001b[39m, \u001b[38;5;241m2\u001b[39m \u001b[38;5;241m*\u001b[39m np\u001b[38;5;241m.\u001b[39mpi, \u001b[38;5;28mlen\u001b[39m(circle_keys) \u001b[38;5;241m+\u001b[39m \u001b[38;5;241m1\u001b[39m)[:\u001b[38;5;241m-\u001b[39m\u001b[38;5;241m1\u001b[39m]\n",
      "\u001b[0;31mNameError\u001b[0m: name 'key' is not defined"
     ]
    }
   ],
   "source": [
    "# Call the function to plot the circle of fifths\n",
    "plot_circle_of_fifths()"
   ]
  },
  {
   "cell_type": "code",
   "execution_count": null,
   "id": "c834b1ba",
   "metadata": {},
   "outputs": [],
   "source": [
    "# Function to extract chords from a music21 stream\n",
    "def extract_chords(music_stream):\n",
    "    return [c for c in music_stream.recurse().getElementsByClass('Chord')]\n",
    "\n",
    "# Function to plot chords on a polar graph\n",
    "def plot_chords_polar(chords, index):\n",
    "    if not chords:\n",
    "        print(\"No chords found.\")\n",
    "        return\n",
    "\n",
    "    if index < 0 or index >= len(chords):\n",
    "        print(\"Invalid index.\")\n",
    "        return\n",
    "\n",
    "    chord = chords[index]\n",
    "\n",
    "    # Convert pitches to pitch classes\n",
    "    pitch_classes = [p.pitchClass for p in chord.pitches]\n",
    "\n",
    "    # Prepare the polar plot\n",
    "    fig, ax = plt.subplots(subplot_kw={'projection': 'polar'})\n",
    "\n",
    "    # Set the direction of the polar plot\n",
    "    ax.set_theta_direction(-1)\n",
    "    ax.set_theta_zero_location(\"N\")\n",
    "\n",
    "    # Set the range of the polar plot\n",
    "    ax.set_rlim([0, 12])\n",
    "    ax.set_rticks([])\n",
    "\n",
    "    # Plot the chord\n",
    "    ax.scatter([np.deg2rad(p * 30) for p in pitch_classes], [p for p in pitch_classes], s=100)\n",
    "\n",
    "    # Add labels to the plot\n",
    "    for i, p in enumerate(pitch_classes):\n",
    "        ax.annotate(music21.pitch.Pitch(p).nameWithOctave,\n",
    "                    xy=(np.deg2rad(p * 30), p),\n",
    "                    xytext=(np.deg2rad(p * 30), p + 1),\n",
    "                    fontsize=12,\n",
    "                    horizontalalignment='center')\n",
    "\n",
    "    plt.title(f\"Chord {index + 1}:{chord} {chord.commonName}\")\n",
    "    plt.show()\n",
    "\n",
    "# Load a music file and extract chords\n",
    "#filename = 'path/to/your/music/file.mid'\n",
    "#music_stream = music21.converter.parse(filename)\n",
    "chords = extract_chords(stream1)\n",
    "\n",
    "# Display the interactive widget\n",
    "interact(plot_chords_polar, chords=fixed(chords), index=(0, len(chords) - 1))\n"
   ]
  },
  {
   "cell_type": "markdown",
   "id": "482d2a4b",
   "metadata": {},
   "source": [
    "# Chord resolution exploration"
   ]
  },
  {
   "cell_type": "raw",
   "id": "6460b8d1",
   "metadata": {},
   "source": [
    "In jazz, resolving a note typically refers to moving a dissonant or tension-creating note to a consonant or stable note. Resolving notes creates a sense of completion and satisfaction in the music. Here are some common techniques to resolve notes in jazz:"
   ]
  },
  {
   "cell_type": "markdown",
   "id": "c89e075d",
   "metadata": {},
   "source": [
    "## Useful python functions"
   ]
  },
  {
   "cell_type": "code",
   "execution_count": 62,
   "id": "9554ed0a",
   "metadata": {},
   "outputs": [],
   "source": [
    "def show_score(score, title = None):\n",
    "    if title:\n",
    "        score.metadata = music21.metadata.Metadata()\n",
    "        score.metadata.title = title\n",
    "    score.show('text')\n",
    "    #score.show('midi')\n",
    "    StreamPlayer(score).play()\n",
    "    #score.show()"
   ]
  },
  {
   "cell_type": "code",
   "execution_count": 47,
   "id": "e7cb3185",
   "metadata": {},
   "outputs": [],
   "source": [
    "def create_progression_chords(chord_progression):\n",
    "    l=[]\n",
    "    for chord in chord_progression:\n",
    "        #chord.Chord works for midi numbers!\n",
    "        l.append(music21.chord.Chord(chord, quarterLength=1))\n",
    "    return l"
   ]
  },
  {
   "cell_type": "code",
   "execution_count": 48,
   "id": "b0369af7",
   "metadata": {},
   "outputs": [],
   "source": [
    "def create_progression_score(progression, title):\n",
    "    score = music21.stream.Score()\n",
    "    chords = music21.stream.Stream(create_progression_chords(progression))\n",
    "    score.append(chords)\n",
    "    show_score(score, title)"
   ]
  },
  {
   "cell_type": "markdown",
   "id": "31ccaf95",
   "metadata": {},
   "source": [
    "## Voice leading"
   ]
  },
  {
   "cell_type": "raw",
   "id": "79d3f2b3",
   "metadata": {},
   "source": [
    "Good voice leading is essential for smooth resolution. In jazz harmony, voice leading often involves resolving chord tones and extensions by step, either by half step or whole step. For example, the 7th of a chord typically resolves down by a step, while the 3rd resolves up by a step."
   ]
  },
  {
   "cell_type": "code",
   "execution_count": 77,
   "id": "30f62d70",
   "metadata": {},
   "outputs": [
    {
     "ename": "AccidentalException",
     "evalue": "m is not a supported accidental type",
     "output_type": "error",
     "traceback": [
      "\u001b[0;31m---------------------------------------------------------------------------\u001b[0m",
      "\u001b[0;31mAccidentalException\u001b[0m                       Traceback (most recent call last)",
      "Cell \u001b[0;32mIn [77], line 11\u001b[0m\n\u001b[1;32m      8\u001b[0m     score\u001b[38;5;241m.\u001b[39mappend(chords)\n\u001b[1;32m      9\u001b[0m     show_score(score)\n\u001b[0;32m---> 11\u001b[0m \u001b[43mvoice_leading\u001b[49m\u001b[43m(\u001b[49m\u001b[43m)\u001b[49m\n",
      "Cell \u001b[0;32mIn [77], line 7\u001b[0m, in \u001b[0;36mvoice_leading\u001b[0;34m()\u001b[0m\n\u001b[1;32m      5\u001b[0m chords \u001b[38;5;241m=\u001b[39m music21\u001b[38;5;241m.\u001b[39mstream\u001b[38;5;241m.\u001b[39mStream()\n\u001b[1;32m      6\u001b[0m \u001b[38;5;28;01mfor\u001b[39;00m p \u001b[38;5;129;01min\u001b[39;00m progression:\n\u001b[0;32m----> 7\u001b[0m     chords\u001b[38;5;241m.\u001b[39mappend(\u001b[43mmusic21\u001b[49m\u001b[38;5;241;43m.\u001b[39;49m\u001b[43mchord\u001b[49m\u001b[38;5;241;43m.\u001b[39;49m\u001b[43mChord\u001b[49m\u001b[43m(\u001b[49m\u001b[43mp\u001b[49m\u001b[43m,\u001b[49m\u001b[43m \u001b[49m\u001b[43mquarterLength\u001b[49m\u001b[38;5;241;43m=\u001b[39;49m\u001b[38;5;241;43m4\u001b[39;49m\u001b[43m)\u001b[49m)\n\u001b[1;32m      8\u001b[0m score\u001b[38;5;241m.\u001b[39mappend(chords)\n\u001b[1;32m      9\u001b[0m show_score(score)\n",
      "File \u001b[0;32m~/.pyenv/versions/3.10.10/envs/human/lib/python3.10/site-packages/music21/chord/__init__.py:726\u001b[0m, in \u001b[0;36mChord.__init__\u001b[0;34m(self, notes, **keywords)\u001b[0m\n\u001b[1;32m    722\u001b[0m \u001b[38;5;28;01mif\u001b[39;00m notes \u001b[38;5;129;01mis\u001b[39;00m \u001b[38;5;129;01mnot\u001b[39;00m \u001b[38;5;28;01mNone\u001b[39;00m \u001b[38;5;129;01mand\u001b[39;00m \u001b[38;5;28many\u001b[39m(\u001b[38;5;28misinstance\u001b[39m(n, note\u001b[38;5;241m.\u001b[39mGeneralNote)\n\u001b[1;32m    723\u001b[0m                              \u001b[38;5;129;01mand\u001b[39;00m \u001b[38;5;129;01mnot\u001b[39;00m \u001b[38;5;28misinstance\u001b[39m(n, (note\u001b[38;5;241m.\u001b[39mNote, Chord))\n\u001b[1;32m    724\u001b[0m                              \u001b[38;5;28;01mfor\u001b[39;00m n \u001b[38;5;129;01min\u001b[39;00m notes):\n\u001b[1;32m    725\u001b[0m     \u001b[38;5;28;01mraise\u001b[39;00m \u001b[38;5;167;01mTypeError\u001b[39;00m(\u001b[38;5;124mf\u001b[39m\u001b[38;5;124m'\u001b[39m\u001b[38;5;124mUse a PercussionChord to contain Unpitched objects; got \u001b[39m\u001b[38;5;132;01m{\u001b[39;00mnotes\u001b[38;5;132;01m}\u001b[39;00m\u001b[38;5;124m'\u001b[39m)\n\u001b[0;32m--> 726\u001b[0m \u001b[38;5;28;43msuper\u001b[39;49m\u001b[43m(\u001b[49m\u001b[43m)\u001b[49m\u001b[38;5;241;43m.\u001b[39;49m\u001b[38;5;21;43m__init__\u001b[39;49m\u001b[43m(\u001b[49m\u001b[43mnotes\u001b[49m\u001b[38;5;241;43m=\u001b[39;49m\u001b[43mnotes\u001b[49m\u001b[43m,\u001b[49m\u001b[43m \u001b[49m\u001b[38;5;241;43m*\u001b[39;49m\u001b[38;5;241;43m*\u001b[39;49m\u001b[43mkeywords\u001b[49m\u001b[43m)\u001b[49m\n\u001b[1;32m    728\u001b[0m \u001b[38;5;66;03m# if there were a covariant list, we would use that instead.\u001b[39;00m\n\u001b[1;32m    729\u001b[0m \u001b[38;5;28mself\u001b[39m\u001b[38;5;241m.\u001b[39m_notes: t\u001b[38;5;241m.\u001b[39mList[note\u001b[38;5;241m.\u001b[39mNote]  \u001b[38;5;66;03m# type: ignore\u001b[39;00m\n",
      "File \u001b[0;32m~/.pyenv/versions/3.10.10/envs/human/lib/python3.10/site-packages/music21/chord/__init__.py:115\u001b[0m, in \u001b[0;36mChordBase.__init__\u001b[0;34m(self, notes, **keywords)\u001b[0m\n\u001b[1;32m    112\u001b[0m \u001b[38;5;28;01mif\u001b[39;00m \u001b[38;5;124m'\u001b[39m\u001b[38;5;124mduration\u001b[39m\u001b[38;5;124m'\u001b[39m \u001b[38;5;129;01min\u001b[39;00m keywords:\n\u001b[1;32m    113\u001b[0m     durationKeyword \u001b[38;5;241m=\u001b[39m keywords[\u001b[38;5;124m'\u001b[39m\u001b[38;5;124mduration\u001b[39m\u001b[38;5;124m'\u001b[39m]\n\u001b[0;32m--> 115\u001b[0m durationKeyword \u001b[38;5;241m=\u001b[39m \u001b[38;5;28;43mself\u001b[39;49m\u001b[38;5;241;43m.\u001b[39;49m\u001b[43m_add_core_or_init\u001b[49m\u001b[43m(\u001b[49m\u001b[43mnotes\u001b[49m\u001b[43m,\u001b[49m\u001b[43m \u001b[49m\u001b[43museDuration\u001b[49m\u001b[38;5;241;43m=\u001b[39;49m\u001b[43mdurationKeyword\u001b[49m\u001b[43m)\u001b[49m\n\u001b[1;32m    117\u001b[0m \u001b[38;5;28;01mif\u001b[39;00m durationKeyword \u001b[38;5;129;01mis\u001b[39;00m \u001b[38;5;129;01mnot\u001b[39;00m \u001b[38;5;28;01mNone\u001b[39;00m:\n\u001b[1;32m    118\u001b[0m     \u001b[38;5;28mself\u001b[39m\u001b[38;5;241m.\u001b[39mduration \u001b[38;5;241m=\u001b[39m durationKeyword\n",
      "File \u001b[0;32m~/.pyenv/versions/3.10.10/envs/human/lib/python3.10/site-packages/music21/chord/__init__.py:237\u001b[0m, in \u001b[0;36mChordBase._add_core_or_init\u001b[0;34m(self, notes, useDuration)\u001b[0m\n\u001b[1;32m    235\u001b[0m \u001b[38;5;28;01melif\u001b[39;00m \u001b[38;5;28misinstance\u001b[39m(n, (\u001b[38;5;28mstr\u001b[39m, \u001b[38;5;28mint\u001b[39m)):\n\u001b[1;32m    236\u001b[0m     \u001b[38;5;28;01mif\u001b[39;00m useDuration:\n\u001b[0;32m--> 237\u001b[0m         \u001b[38;5;28mself\u001b[39m\u001b[38;5;241m.\u001b[39m_notes\u001b[38;5;241m.\u001b[39mappend(\u001b[43mnote\u001b[49m\u001b[38;5;241;43m.\u001b[39;49m\u001b[43mNote\u001b[49m\u001b[43m(\u001b[49m\u001b[43mn\u001b[49m\u001b[43m,\u001b[49m\u001b[43m \u001b[49m\u001b[43mduration\u001b[49m\u001b[38;5;241;43m=\u001b[39;49m\u001b[43museDuration\u001b[49m\u001b[43m)\u001b[49m)\n\u001b[1;32m    238\u001b[0m     \u001b[38;5;28;01melse\u001b[39;00m:\n\u001b[1;32m    239\u001b[0m         \u001b[38;5;28mself\u001b[39m\u001b[38;5;241m.\u001b[39m_notes\u001b[38;5;241m.\u001b[39mappend(note\u001b[38;5;241m.\u001b[39mNote(n))\n",
      "File \u001b[0;32m~/.pyenv/versions/3.10.10/envs/human/lib/python3.10/site-packages/music21/note.py:1471\u001b[0m, in \u001b[0;36mNote.__init__\u001b[0;34m(self, pitch, name, nameWithOctave, **keywords)\u001b[0m\n\u001b[1;32m   1469\u001b[0m         \u001b[38;5;28mself\u001b[39m\u001b[38;5;241m.\u001b[39mpitch \u001b[38;5;241m=\u001b[39m pitch\n\u001b[1;32m   1470\u001b[0m     \u001b[38;5;28;01melse\u001b[39;00m:  \u001b[38;5;66;03m# assume first argument is pitch\u001b[39;00m\n\u001b[0;32m-> 1471\u001b[0m         \u001b[38;5;28mself\u001b[39m\u001b[38;5;241m.\u001b[39mpitch \u001b[38;5;241m=\u001b[39m \u001b[43mPitch\u001b[49m\u001b[43m(\u001b[49m\u001b[43mpitch\u001b[49m\u001b[43m,\u001b[49m\u001b[43m \u001b[49m\u001b[38;5;241;43m*\u001b[39;49m\u001b[38;5;241;43m*\u001b[39;49m\u001b[43mkeywords\u001b[49m\u001b[43m)\u001b[49m\n\u001b[1;32m   1472\u001b[0m \u001b[38;5;28;01melse\u001b[39;00m:  \u001b[38;5;66;03m# supply a default pitch\u001b[39;00m\n\u001b[1;32m   1473\u001b[0m     \u001b[38;5;28;01mif\u001b[39;00m nameWithOctave \u001b[38;5;129;01mis\u001b[39;00m \u001b[38;5;129;01mnot\u001b[39;00m \u001b[38;5;28;01mNone\u001b[39;00m:\n",
      "File \u001b[0;32m~/.pyenv/versions/3.10.10/envs/human/lib/python3.10/site-packages/music21/pitch.py:1848\u001b[0m, in \u001b[0;36mPitch.__init__\u001b[0;34m(self, name, step, octave, accidental, microtone, pitchClass, midi, ps, fundamental, **keywords)\u001b[0m\n\u001b[1;32m   1846\u001b[0m \u001b[38;5;28;01mif\u001b[39;00m name \u001b[38;5;129;01mis\u001b[39;00m \u001b[38;5;129;01mnot\u001b[39;00m \u001b[38;5;28;01mNone\u001b[39;00m:\n\u001b[1;32m   1847\u001b[0m     \u001b[38;5;28;01mif\u001b[39;00m \u001b[38;5;28misinstance\u001b[39m(name, \u001b[38;5;28mstr\u001b[39m):\n\u001b[0;32m-> 1848\u001b[0m         \u001b[38;5;28;43mself\u001b[39;49m\u001b[38;5;241;43m.\u001b[39;49m\u001b[43mname\u001b[49m \u001b[38;5;241m=\u001b[39m name  \u001b[38;5;66;03m# set based on string\u001b[39;00m\n\u001b[1;32m   1849\u001b[0m     \u001b[38;5;28;01melse\u001b[39;00m:  \u001b[38;5;66;03m# is a number\u001b[39;00m\n\u001b[1;32m   1850\u001b[0m         \u001b[38;5;66;03m# is a midiNumber or a ps -- a float midiNumber\u001b[39;00m\n\u001b[1;32m   1851\u001b[0m         \u001b[38;5;66;03m# get step and accidental w/o octave\u001b[39;00m\n\u001b[1;32m   1852\u001b[0m         \u001b[38;5;28mself\u001b[39m\u001b[38;5;241m.\u001b[39mstep, \u001b[38;5;28mself\u001b[39m\u001b[38;5;241m.\u001b[39m_accidental \u001b[38;5;241m=\u001b[39m _convertPsToStep(name)[\u001b[38;5;241m0\u001b[39m:\u001b[38;5;241m2\u001b[39m]\n",
      "File \u001b[0;32m~/.pyenv/versions/3.10.10/envs/human/lib/python3.10/site-packages/music21/pitch.py:2680\u001b[0m, in \u001b[0;36mPitch.name\u001b[0;34m(self, usrStr)\u001b[0m\n\u001b[1;32m   2678\u001b[0m \u001b[38;5;28;01melif\u001b[39;00m \u001b[38;5;28mlen\u001b[39m(usrStr) \u001b[38;5;241m>\u001b[39m \u001b[38;5;241m1\u001b[39m:\n\u001b[1;32m   2679\u001b[0m     \u001b[38;5;28mself\u001b[39m\u001b[38;5;241m.\u001b[39mstep \u001b[38;5;241m=\u001b[39m usrStr[\u001b[38;5;241m0\u001b[39m]  \u001b[38;5;66;03m# type: ignore\u001b[39;00m\n\u001b[0;32m-> 2680\u001b[0m     \u001b[38;5;28mself\u001b[39m\u001b[38;5;241m.\u001b[39maccidental \u001b[38;5;241m=\u001b[39m \u001b[43mAccidental\u001b[49m\u001b[43m(\u001b[49m\u001b[43musrStr\u001b[49m\u001b[43m[\u001b[49m\u001b[38;5;241;43m1\u001b[39;49m\u001b[43m:\u001b[49m\u001b[43m]\u001b[49m\u001b[43m)\u001b[49m\n\u001b[1;32m   2681\u001b[0m \u001b[38;5;28;01melse\u001b[39;00m:\n\u001b[1;32m   2682\u001b[0m     \u001b[38;5;28;01mraise\u001b[39;00m PitchException(\u001b[38;5;124mf\u001b[39m\u001b[38;5;124m'\u001b[39m\u001b[38;5;124mCannot make a name out of \u001b[39m\u001b[38;5;132;01m{\u001b[39;00musrStr\u001b[38;5;132;01m!r}\u001b[39;00m\u001b[38;5;124m'\u001b[39m)\n",
      "File \u001b[0;32m~/.pyenv/versions/3.10.10/envs/human/lib/python3.10/site-packages/music21/pitch.py:906\u001b[0m, in \u001b[0;36mAccidental.__init__\u001b[0;34m(self, specifier)\u001b[0m\n\u001b[1;32m    904\u001b[0m \u001b[38;5;28mself\u001b[39m\u001b[38;5;241m.\u001b[39m_alter \u001b[38;5;241m=\u001b[39m \u001b[38;5;241m0.0\u001b[39m     \u001b[38;5;66;03m# semitones to alter step\u001b[39;00m\n\u001b[1;32m    905\u001b[0m \u001b[38;5;66;03m# potentially can be a fraction... but not exponent...\u001b[39;00m\n\u001b[0;32m--> 906\u001b[0m \u001b[38;5;28;43mself\u001b[39;49m\u001b[38;5;241;43m.\u001b[39;49m\u001b[43mset\u001b[49m\u001b[43m(\u001b[49m\u001b[43mspecifier\u001b[49m\u001b[43m)\u001b[49m\n",
      "File \u001b[0;32m~/.pyenv/versions/3.10.10/envs/human/lib/python3.10/site-packages/music21/pitch.py:1170\u001b[0m, in \u001b[0;36mAccidental.set\u001b[0;34m(self, name, allowNonStandardValue)\u001b[0m\n\u001b[1;32m   1168\u001b[0m \u001b[38;5;28;01melse\u001b[39;00m:\n\u001b[1;32m   1169\u001b[0m     \u001b[38;5;28;01mif\u001b[39;00m \u001b[38;5;129;01mnot\u001b[39;00m allowNonStandardValue:\n\u001b[0;32m-> 1170\u001b[0m         \u001b[38;5;28;01mraise\u001b[39;00m AccidentalException(\u001b[38;5;124mf\u001b[39m\u001b[38;5;124m'\u001b[39m\u001b[38;5;132;01m{\u001b[39;00mname\u001b[38;5;132;01m}\u001b[39;00m\u001b[38;5;124m is not a supported accidental type\u001b[39m\u001b[38;5;124m'\u001b[39m)\n\u001b[1;32m   1172\u001b[0m     \u001b[38;5;28;01mif\u001b[39;00m \u001b[38;5;28misinstance\u001b[39m(name, \u001b[38;5;28mstr\u001b[39m):\n\u001b[1;32m   1173\u001b[0m         \u001b[38;5;28mself\u001b[39m\u001b[38;5;241m.\u001b[39m_name \u001b[38;5;241m=\u001b[39m name\n",
      "\u001b[0;31mAccidentalException\u001b[0m: m is not a supported accidental type"
     ]
    }
   ],
   "source": [
    "# Voice leading\n",
    "def voice_leading():\n",
    "    score = music21.stream.Score()\n",
    "    progression = ['C7', 'F']\n",
    "    chords = music21.stream.Stream()\n",
    "    for p in progression:\n",
    "        chords.append(music21.chord.Chord(p, quarterLength=4))\n",
    "    score.append(chords)\n",
    "    show_score(score)\n",
    "\n",
    "voice_leading()"
   ]
  },
  {
   "cell_type": "markdown",
   "id": "fd643411",
   "metadata": {},
   "source": [
    "## Tritone resolution:"
   ]
  },
  {
   "cell_type": "raw",
   "id": "2d6e2473",
   "metadata": {},
   "source": [
    "A tritone is an interval of three whole tones (six half steps) and is a significant source of tension in jazz harmony. The tritone is commonly found between the 3rd and 7th of a dominant 7th chord. Resolving the tritone inward or outward to a consonant interval, such as a major or minor 6th, can create a strong sense of resolution. For example, in a V7-I progression in the key of C major, the tritone between F and B in a G7 chord resolves to E and C in the Cmaj7 chord."
   ]
  },
  {
   "cell_type": "code",
   "execution_count": 63,
   "id": "5f1ba993",
   "metadata": {},
   "outputs": [
    {
     "name": "stdout",
     "output_type": "stream",
     "text": [
      "{0.0} <music21.stream.Stream 0x12d46b610>\n",
      "    {0.0} <music21.chord.Chord G7>\n",
      "    {4.0} <music21.chord.Chord C>\n"
     ]
    }
   ],
   "source": [
    "def tritone_resolution():\n",
    "    score = music21.stream.Score()\n",
    "    progression = ['G7', 'C']\n",
    "    chords = music21.stream.Stream()\n",
    "    for p in progression:\n",
    "        chords.append(music21.chord.Chord(p, quarterLength=4))\n",
    "    score.append(chords)\n",
    "    show_score(score)\n",
    "\n",
    "tritone_resolution()"
   ]
  },
  {
   "cell_type": "markdown",
   "id": "5523d77c",
   "metadata": {},
   "source": [
    "## Enclosure or surrounding:"
   ]
  },
  {
   "cell_type": "raw",
   "id": "9251db09",
   "metadata": {},
   "source": [
    "Enclosure is a technique where a target note is approached by a combination of stepwise and chromatic movement from above and below. This creates tension that resolves when the target note is reached. For example, to resolve to the note C, you might play D (a whole step above), B (a half step below), and then C."
   ]
  },
  {
   "cell_type": "code",
   "execution_count": 64,
   "id": "b02aa1c3",
   "metadata": {},
   "outputs": [
    {
     "name": "stdout",
     "output_type": "stream",
     "text": [
      "{0.0} <music21.stream.Part 0x12d46b100>\n",
      "    {0.0} <music21.note.Note D>\n",
      "    {1.0} <music21.note.Note B>\n",
      "    {2.0} <music21.note.Note C>\n",
      "{4.0} <music21.stream.Part 0x12d50a2f0>\n",
      "    {0.0} <music21.chord.Chord C>\n"
     ]
    }
   ],
   "source": [
    "def enclosure():\n",
    "    score = music21.stream.Score()\n",
    "    melody = music21.stream.Part()\n",
    "    melody.append(music21.note.Note('D4', quarterLength=1))\n",
    "    melody.append(music21.note.Note('B3', quarterLength=1))\n",
    "    melody.append(music21.note.Note('C4', quarterLength=2))\n",
    "    score.append(melody)\n",
    "\n",
    "    progression = ['C']\n",
    "    chords = music21.stream.Part()\n",
    "    for p in progression:\n",
    "        chords.append(music21.chord.Chord(p, quarterLength=4))\n",
    "    score.append(chords)\n",
    "    show_score(score)\n",
    "\n",
    "enclosure()"
   ]
  },
  {
   "cell_type": "code",
   "execution_count": 52,
   "id": "17115268",
   "metadata": {},
   "outputs": [],
   "source": [
    "## Chromatic approach"
   ]
  },
  {
   "cell_type": "raw",
   "id": "db105e79",
   "metadata": {},
   "source": [
    "Chromatic approach involves resolving a note by moving a half step up or down. This technique is commonly used in jazz improvisation and can create smooth, unexpected resolutions. For example, if the target note is C, you could resolve to it from either B (a half step below) or C# (a half step above)."
   ]
  },
  {
   "cell_type": "code",
   "execution_count": 53,
   "id": "eaec20fc",
   "metadata": {},
   "outputs": [
    {
     "name": "stdout",
     "output_type": "stream",
     "text": [
      "{0.0} <music21.stream.Part 0x13590c940>\n",
      "    {0.0} <music21.note.Note B>\n",
      "    {1.0} <music21.note.Note C>\n",
      "{4.0} <music21.stream.Part 0x13590f820>\n",
      "    {0.0} <music21.chord.Chord C>\n"
     ]
    },
    {
     "data": {
      "text/html": [
       "\n",
       "                <div id=\"midiPlayerDiv516\"></div>\n",
       "                <link rel=\"stylesheet\" href=\"//cuthbertLab.github.io/music21j/css/m21.css\"\n",
       "                    type=\"text/css\" />\n",
       "                \n",
       "                <script>\n",
       "                require.config({\n",
       "                    paths: {'music21': '//cuthbertLab.github.io/music21j/src/music21'}\n",
       "                });\n",
       "                require(['music21'], function() {\n",
       "                               mp = new music21.miditools.MidiPlayer();\n",
       "                               mp.addPlayer(\"#midiPlayerDiv516\");\n",
       "                               mp.base64Load(\"data:audio/midi;base64,TVRoZAAAAAYAAQADBABNVHJrAAAAFAD/UQMHoSAA/1gEBAIYCIgA/y8ATVRyawAAACAA/wMAAOAAQIgAkDtaiACAOwAAkDxamACAPACIAP8vAE1UcmsAAAAXAP8DAADgAECIAJA8WqAAgDwAiAD/LwA=\");\n",
       "                        });\n",
       "                </script>"
      ],
      "text/plain": [
       "<IPython.core.display.HTML object>"
      ]
     },
     "metadata": {},
     "output_type": "display_data"
    }
   ],
   "source": [
    "def chromatic_approach():\n",
    "    score = music21.stream.Score()\n",
    "    melody = music21.stream.Part()\n",
    "    melody.append(music21.note.Note('B3', quarterLength=1))\n",
    "    melody.append(music21.note.Note('C4', quarterLength=3))\n",
    "    score.append(melody)\n",
    "\n",
    "    progression = ['C']\n",
    "    chords = music21.stream.Part()\n",
    "    for p in progression:\n",
    "        chords.append(music21.chord.Chord(p, quarterLength=4))\n",
    "    score.append(chords)\n",
    "    show_score(score)\n",
    "\n",
    "chromatic_approach()"
   ]
  },
  {
   "cell_type": "code",
   "execution_count": 54,
   "id": "d340306f",
   "metadata": {},
   "outputs": [],
   "source": [
    "## Delayed resolution"
   ]
  },
  {
   "cell_type": "raw",
   "id": "11a5ea3b",
   "metadata": {},
   "source": [
    "In jazz, tension can be prolonged by delaying the resolution of a note. This can be achieved by using passing tones, neighboring tones, or other non-chord tones that temporarily create dissonance before eventually resolving to a stable note."
   ]
  },
  {
   "cell_type": "code",
   "execution_count": 55,
   "id": "1b89615c",
   "metadata": {},
   "outputs": [
    {
     "name": "stdout",
     "output_type": "stream",
     "text": [
      "{0.0} <music21.stream.Part 0x13599db10>\n",
      "    {0.0} <music21.note.Note G>\n",
      "    {2.0} <music21.note.Note A>\n",
      "    {3.0} <music21.note.Note G>\n",
      "{4.0} <music21.stream.Part 0x13599e590>\n",
      "    {0.0} <music21.chord.Chord C>\n",
      "    {2.0} <music21.chord.Chord G>\n"
     ]
    },
    {
     "data": {
      "text/html": [
       "\n",
       "                <div id=\"midiPlayerDiv555\"></div>\n",
       "                <link rel=\"stylesheet\" href=\"//cuthbertLab.github.io/music21j/css/m21.css\"\n",
       "                    type=\"text/css\" />\n",
       "                \n",
       "                <script>\n",
       "                require.config({\n",
       "                    paths: {'music21': '//cuthbertLab.github.io/music21j/src/music21'}\n",
       "                });\n",
       "                require(['music21'], function() {\n",
       "                               mp = new music21.miditools.MidiPlayer();\n",
       "                               mp.addPlayer(\"#midiPlayerDiv555\");\n",
       "                               mp.base64Load(\"data:audio/midi;base64,TVRoZAAAAAYAAQADBABNVHJrAAAAFAD/UQMHoSAA/1gEBAIYCIgA/y8ATVRyawAAACkA/wMAAOAAQIgAkENakACAQwAAkEVaiACARQAAkENaiACAQwCIAP8vAE1UcmsAAAAgAP8DAADgAECIAJA8WpAAgDwAAJBDWpAAgEMAiAD/LwA=\");\n",
       "                        });\n",
       "                </script>"
      ],
      "text/plain": [
       "<IPython.core.display.HTML object>"
      ]
     },
     "metadata": {},
     "output_type": "display_data"
    }
   ],
   "source": [
    "def delayed_resolution():\n",
    "    score = music21.stream.Score()\n",
    "    melody = music21.stream.Part()\n",
    "    melody.append(music21.note.Note('G4', quarterLength=2))\n",
    "    melody.append(music21.note.Note('A4', quarterLength=1))\n",
    "    melody.append(music21.note.Note('G4', quarterLength=1))\n",
    "    score.append(melody)\n",
    "\n",
    "    progression = ['C', 'G']\n",
    "    chords = music21.stream.Part()\n",
    "    for p in progression:\n",
    "        chords.append(music21.chord.Chord(p, quarterLength=2))\n",
    "    score.append(chords)\n",
    "    show_score(score)\n",
    "\n",
    "delayed_resolution()"
   ]
  },
  {
   "cell_type": "raw",
   "id": "318c44a9",
   "metadata": {},
   "source": [
    "Remember that jazz is a highly expressive and flexible genre, so these techniques can be applied creatively and adapted to fit the context of the music. Experiment with different ways of resolving notes, and listen to jazz recordings to develop a deeper understanding of how skilled musicians use resolution in their performances."
   ]
  },
  {
   "cell_type": "markdown",
   "id": "5b12f581",
   "metadata": {},
   "source": [
    "# Human Feelings and chord progressions"
   ]
  },
  {
   "cell_type": "raw",
   "id": "db0b4bd0",
   "metadata": {},
   "source": [
    "It's important to note that the association between human feelings and piano chord progressions is subjective and can vary greatly between individuals and cultural backgrounds. However, here is a list of some common human feelings and chord progressions that are often associated with them:"
   ]
  },
  {
   "cell_type": "markdown",
   "id": "49cdb465",
   "metadata": {},
   "source": [
    "## Happiness"
   ]
  },
  {
   "cell_type": "raw",
   "id": "bd15f148",
   "metadata": {},
   "source": [
    "Major chords and progressions, such as:\n",
    "C - G - Am - F (I - V - vi - IV)\n",
    "C - F - G - C (I - IV - V - I)"
   ]
  },
  {
   "cell_type": "code",
   "execution_count": 65,
   "id": "2b1f06e0",
   "metadata": {},
   "outputs": [
    {
     "name": "stdout",
     "output_type": "stream",
     "text": [
      "{0.0} <music21.stream.Stream 0x12d46ace0>\n",
      "    {0.0} <music21.chord.Chord C>\n",
      "    {1.0} <music21.chord.Chord G>\n",
      "    {2.0} <music21.chord.Chord A->\n",
      "    {3.0} <music21.chord.Chord F>\n"
     ]
    }
   ],
   "source": [
    "def happiness():\n",
    "    score = music21.stream.Score()\n",
    "    progression = ['C', 'G', 'A-','F']\n",
    "    chords = music21.stream.Stream(create_progression_chords(progression))\n",
    "    score.append(chords)\n",
    "    show_score(score)\n",
    "\n",
    "happiness()"
   ]
  },
  {
   "cell_type": "markdown",
   "id": "06f32815",
   "metadata": {},
   "source": [
    "## Sadness"
   ]
  },
  {
   "cell_type": "raw",
   "id": "2013e1ef",
   "metadata": {},
   "source": [
    "Minor chords and progressions, such as:\n",
    "Am - F - C - G (vi - IV - I - V)\n",
    "Cm - G - Cm (i - V - i)"
   ]
  },
  {
   "cell_type": "code",
   "execution_count": 67,
   "id": "9c66499d",
   "metadata": {},
   "outputs": [
    {
     "name": "stdout",
     "output_type": "stream",
     "text": [
      "{0.0} <music21.stream.Stream 0x12d46b6d0>\n",
      "    {0.0} <music21.chord.Chord A->\n",
      "    {1.0} <music21.chord.Chord F>\n",
      "    {2.0} <music21.chord.Chord C>\n",
      "    {3.0} <music21.chord.Chord G>\n"
     ]
    }
   ],
   "source": [
    "def sadness():\n",
    "    score = music21.stream.Score()\n",
    "    progression = ['A-', 'F', 'C', 'G']\n",
    "    chords = music21.stream.Stream(create_progression_chords(progression))\n",
    "    score.append(chords)\n",
    "    show_score(score) \n",
    "\n",
    "sadness()"
   ]
  },
  {
   "cell_type": "markdown",
   "id": "66a72d7b",
   "metadata": {},
   "source": [
    "## Melancholy"
   ]
  },
  {
   "cell_type": "raw",
   "id": "eb96b4a1",
   "metadata": {},
   "source": [
    "Melancholy:\n",
    "Combinations of major and minor chords, such as:\n",
    "C - G - Am - Fmaj7 (I - V - vi - IVmaj7)\n",
    "C - Am - F - G (I - vi - IV - V)"
   ]
  },
  {
   "cell_type": "code",
   "execution_count": 69,
   "id": "28f3624a",
   "metadata": {},
   "outputs": [
    {
     "name": "stdout",
     "output_type": "stream",
     "text": [
      "{0.0} <music21.stream.Stream 0x1323a3a60>\n",
      "    {0.0} <music21.chord.Chord C>\n",
      "    {1.0} <music21.chord.Chord G>\n",
      "    {2.0} <music21.chord.Chord A->\n",
      "    {3.0} <music21.chord.Chord F7>\n"
     ]
    }
   ],
   "source": [
    "def melancholy():\n",
    "    score = music21.stream.Score()\n",
    "    progression = ['C', 'G', 'A-', 'F7']\n",
    "    chords = music21.stream.Stream(create_progression_chords(progression))\n",
    "    score.append(chords)\n",
    "    show_score(score)\n",
    "\n",
    "melancholy()"
   ]
  },
  {
   "cell_type": "markdown",
   "id": "106d83bd",
   "metadata": {},
   "source": [
    "## Nostalgia"
   ]
  },
  {
   "cell_type": "raw",
   "id": "28cdefc2",
   "metadata": {},
   "source": [
    "Progressions with chromatic elements, such as:\n",
    "C - E7 - F - G (I - III7 - IV - V)\n",
    "C - A7 - Dm - G (I - VI7 - ii - V)"
   ]
  },
  {
   "cell_type": "code",
   "execution_count": 70,
   "id": "796131af",
   "metadata": {},
   "outputs": [
    {
     "name": "stdout",
     "output_type": "stream",
     "text": [
      "{0.0} <music21.stream.Stream 0x13599ef50>\n",
      "    {0.0} <music21.chord.Chord C>\n",
      "    {1.0} <music21.chord.Chord E7>\n",
      "    {2.0} <music21.chord.Chord F>\n",
      "    {3.0} <music21.chord.Chord G>\n"
     ]
    }
   ],
   "source": [
    "def nostalgia():\n",
    "    score = music21.stream.Score()\n",
    "    progression = ['C', 'E7', 'F', 'G']\n",
    "    chords = music21.stream.Stream(create_progression_chords(progression))\n",
    "    score.append(chords)\n",
    "    show_score(score)\n",
    "\n",
    "nostalgia()"
   ]
  },
  {
   "cell_type": "code",
   "execution_count": null,
   "id": "43ce66a6",
   "metadata": {},
   "outputs": [],
   "source": []
  },
  {
   "cell_type": "markdown",
   "id": "8ee9ee3c",
   "metadata": {},
   "source": [
    "## Tension or suspense"
   ]
  },
  {
   "cell_type": "raw",
   "id": "9ae930a8",
   "metadata": {},
   "source": [
    "Progressions with dissonant or unresolved chords, such as:\n",
    "C - F - G7 - Bdim (I - IV - V7 - vii°)\n",
    "C - G - Bb - F (I - V - bVII - IV)"
   ]
  },
  {
   "cell_type": "code",
   "execution_count": 71,
   "id": "14e7c8ee",
   "metadata": {},
   "outputs": [
    {
     "ename": "AccidentalException",
     "evalue": "m is not a supported accidental type",
     "output_type": "error",
     "traceback": [
      "\u001b[0;31m---------------------------------------------------------------------------\u001b[0m",
      "\u001b[0;31mAccidentalException\u001b[0m                       Traceback (most recent call last)",
      "Cell \u001b[0;32mIn [71], line 9\u001b[0m\n\u001b[1;32m      6\u001b[0m     score\u001b[38;5;241m.\u001b[39mappend(chords)\n\u001b[1;32m      7\u001b[0m     show_score(score)\n\u001b[0;32m----> 9\u001b[0m \u001b[43mtension_suspense\u001b[49m\u001b[43m(\u001b[49m\u001b[43m)\u001b[49m\n",
      "Cell \u001b[0;32mIn [71], line 5\u001b[0m, in \u001b[0;36mtension_suspense\u001b[0;34m()\u001b[0m\n\u001b[1;32m      3\u001b[0m score \u001b[38;5;241m=\u001b[39m music21\u001b[38;5;241m.\u001b[39mstream\u001b[38;5;241m.\u001b[39mScore()\n\u001b[1;32m      4\u001b[0m progression \u001b[38;5;241m=\u001b[39m [\u001b[38;5;124m'\u001b[39m\u001b[38;5;124mC\u001b[39m\u001b[38;5;124m'\u001b[39m, \u001b[38;5;124m'\u001b[39m\u001b[38;5;124mF\u001b[39m\u001b[38;5;124m'\u001b[39m, \u001b[38;5;124m'\u001b[39m\u001b[38;5;124mG7\u001b[39m\u001b[38;5;124m'\u001b[39m, \u001b[38;5;124m'\u001b[39m\u001b[38;5;124mBm\u001b[39m\u001b[38;5;124m'\u001b[39m]\n\u001b[0;32m----> 5\u001b[0m chords \u001b[38;5;241m=\u001b[39m music21\u001b[38;5;241m.\u001b[39mstream\u001b[38;5;241m.\u001b[39mStream(\u001b[43mcreate_progression_chords\u001b[49m\u001b[43m(\u001b[49m\u001b[43mprogression\u001b[49m\u001b[43m)\u001b[49m)\n\u001b[1;32m      6\u001b[0m score\u001b[38;5;241m.\u001b[39mappend(chords)\n\u001b[1;32m      7\u001b[0m show_score(score)\n",
      "Cell \u001b[0;32mIn [47], line 5\u001b[0m, in \u001b[0;36mcreate_progression_chords\u001b[0;34m(chord_progression)\u001b[0m\n\u001b[1;32m      2\u001b[0m l\u001b[38;5;241m=\u001b[39m[]\n\u001b[1;32m      3\u001b[0m \u001b[38;5;28;01mfor\u001b[39;00m chord \u001b[38;5;129;01min\u001b[39;00m chord_progression:\n\u001b[1;32m      4\u001b[0m     \u001b[38;5;66;03m#chord.Chord works for midi numbers!\u001b[39;00m\n\u001b[0;32m----> 5\u001b[0m     l\u001b[38;5;241m.\u001b[39mappend(\u001b[43mmusic21\u001b[49m\u001b[38;5;241;43m.\u001b[39;49m\u001b[43mchord\u001b[49m\u001b[38;5;241;43m.\u001b[39;49m\u001b[43mChord\u001b[49m\u001b[43m(\u001b[49m\u001b[43mchord\u001b[49m\u001b[43m,\u001b[49m\u001b[43m \u001b[49m\u001b[43mquarterLength\u001b[49m\u001b[38;5;241;43m=\u001b[39;49m\u001b[38;5;241;43m1\u001b[39;49m\u001b[43m,\u001b[49m\u001b[43m \u001b[49m\u001b[43m)\u001b[49m)\n\u001b[1;32m      6\u001b[0m \u001b[38;5;28;01mreturn\u001b[39;00m l\n",
      "File \u001b[0;32m~/.pyenv/versions/3.10.10/envs/human/lib/python3.10/site-packages/music21/chord/__init__.py:726\u001b[0m, in \u001b[0;36mChord.__init__\u001b[0;34m(self, notes, **keywords)\u001b[0m\n\u001b[1;32m    722\u001b[0m \u001b[38;5;28;01mif\u001b[39;00m notes \u001b[38;5;129;01mis\u001b[39;00m \u001b[38;5;129;01mnot\u001b[39;00m \u001b[38;5;28;01mNone\u001b[39;00m \u001b[38;5;129;01mand\u001b[39;00m \u001b[38;5;28many\u001b[39m(\u001b[38;5;28misinstance\u001b[39m(n, note\u001b[38;5;241m.\u001b[39mGeneralNote)\n\u001b[1;32m    723\u001b[0m                              \u001b[38;5;129;01mand\u001b[39;00m \u001b[38;5;129;01mnot\u001b[39;00m \u001b[38;5;28misinstance\u001b[39m(n, (note\u001b[38;5;241m.\u001b[39mNote, Chord))\n\u001b[1;32m    724\u001b[0m                              \u001b[38;5;28;01mfor\u001b[39;00m n \u001b[38;5;129;01min\u001b[39;00m notes):\n\u001b[1;32m    725\u001b[0m     \u001b[38;5;28;01mraise\u001b[39;00m \u001b[38;5;167;01mTypeError\u001b[39;00m(\u001b[38;5;124mf\u001b[39m\u001b[38;5;124m'\u001b[39m\u001b[38;5;124mUse a PercussionChord to contain Unpitched objects; got \u001b[39m\u001b[38;5;132;01m{\u001b[39;00mnotes\u001b[38;5;132;01m}\u001b[39;00m\u001b[38;5;124m'\u001b[39m)\n\u001b[0;32m--> 726\u001b[0m \u001b[38;5;28;43msuper\u001b[39;49m\u001b[43m(\u001b[49m\u001b[43m)\u001b[49m\u001b[38;5;241;43m.\u001b[39;49m\u001b[38;5;21;43m__init__\u001b[39;49m\u001b[43m(\u001b[49m\u001b[43mnotes\u001b[49m\u001b[38;5;241;43m=\u001b[39;49m\u001b[43mnotes\u001b[49m\u001b[43m,\u001b[49m\u001b[43m \u001b[49m\u001b[38;5;241;43m*\u001b[39;49m\u001b[38;5;241;43m*\u001b[39;49m\u001b[43mkeywords\u001b[49m\u001b[43m)\u001b[49m\n\u001b[1;32m    728\u001b[0m \u001b[38;5;66;03m# if there were a covariant list, we would use that instead.\u001b[39;00m\n\u001b[1;32m    729\u001b[0m \u001b[38;5;28mself\u001b[39m\u001b[38;5;241m.\u001b[39m_notes: t\u001b[38;5;241m.\u001b[39mList[note\u001b[38;5;241m.\u001b[39mNote]  \u001b[38;5;66;03m# type: ignore\u001b[39;00m\n",
      "File \u001b[0;32m~/.pyenv/versions/3.10.10/envs/human/lib/python3.10/site-packages/music21/chord/__init__.py:115\u001b[0m, in \u001b[0;36mChordBase.__init__\u001b[0;34m(self, notes, **keywords)\u001b[0m\n\u001b[1;32m    112\u001b[0m \u001b[38;5;28;01mif\u001b[39;00m \u001b[38;5;124m'\u001b[39m\u001b[38;5;124mduration\u001b[39m\u001b[38;5;124m'\u001b[39m \u001b[38;5;129;01min\u001b[39;00m keywords:\n\u001b[1;32m    113\u001b[0m     durationKeyword \u001b[38;5;241m=\u001b[39m keywords[\u001b[38;5;124m'\u001b[39m\u001b[38;5;124mduration\u001b[39m\u001b[38;5;124m'\u001b[39m]\n\u001b[0;32m--> 115\u001b[0m durationKeyword \u001b[38;5;241m=\u001b[39m \u001b[38;5;28;43mself\u001b[39;49m\u001b[38;5;241;43m.\u001b[39;49m\u001b[43m_add_core_or_init\u001b[49m\u001b[43m(\u001b[49m\u001b[43mnotes\u001b[49m\u001b[43m,\u001b[49m\u001b[43m \u001b[49m\u001b[43museDuration\u001b[49m\u001b[38;5;241;43m=\u001b[39;49m\u001b[43mdurationKeyword\u001b[49m\u001b[43m)\u001b[49m\n\u001b[1;32m    117\u001b[0m \u001b[38;5;28;01mif\u001b[39;00m durationKeyword \u001b[38;5;129;01mis\u001b[39;00m \u001b[38;5;129;01mnot\u001b[39;00m \u001b[38;5;28;01mNone\u001b[39;00m:\n\u001b[1;32m    118\u001b[0m     \u001b[38;5;28mself\u001b[39m\u001b[38;5;241m.\u001b[39mduration \u001b[38;5;241m=\u001b[39m durationKeyword\n",
      "File \u001b[0;32m~/.pyenv/versions/3.10.10/envs/human/lib/python3.10/site-packages/music21/chord/__init__.py:237\u001b[0m, in \u001b[0;36mChordBase._add_core_or_init\u001b[0;34m(self, notes, useDuration)\u001b[0m\n\u001b[1;32m    235\u001b[0m \u001b[38;5;28;01melif\u001b[39;00m \u001b[38;5;28misinstance\u001b[39m(n, (\u001b[38;5;28mstr\u001b[39m, \u001b[38;5;28mint\u001b[39m)):\n\u001b[1;32m    236\u001b[0m     \u001b[38;5;28;01mif\u001b[39;00m useDuration:\n\u001b[0;32m--> 237\u001b[0m         \u001b[38;5;28mself\u001b[39m\u001b[38;5;241m.\u001b[39m_notes\u001b[38;5;241m.\u001b[39mappend(\u001b[43mnote\u001b[49m\u001b[38;5;241;43m.\u001b[39;49m\u001b[43mNote\u001b[49m\u001b[43m(\u001b[49m\u001b[43mn\u001b[49m\u001b[43m,\u001b[49m\u001b[43m \u001b[49m\u001b[43mduration\u001b[49m\u001b[38;5;241;43m=\u001b[39;49m\u001b[43museDuration\u001b[49m\u001b[43m)\u001b[49m)\n\u001b[1;32m    238\u001b[0m     \u001b[38;5;28;01melse\u001b[39;00m:\n\u001b[1;32m    239\u001b[0m         \u001b[38;5;28mself\u001b[39m\u001b[38;5;241m.\u001b[39m_notes\u001b[38;5;241m.\u001b[39mappend(note\u001b[38;5;241m.\u001b[39mNote(n))\n",
      "File \u001b[0;32m~/.pyenv/versions/3.10.10/envs/human/lib/python3.10/site-packages/music21/note.py:1471\u001b[0m, in \u001b[0;36mNote.__init__\u001b[0;34m(self, pitch, name, nameWithOctave, **keywords)\u001b[0m\n\u001b[1;32m   1469\u001b[0m         \u001b[38;5;28mself\u001b[39m\u001b[38;5;241m.\u001b[39mpitch \u001b[38;5;241m=\u001b[39m pitch\n\u001b[1;32m   1470\u001b[0m     \u001b[38;5;28;01melse\u001b[39;00m:  \u001b[38;5;66;03m# assume first argument is pitch\u001b[39;00m\n\u001b[0;32m-> 1471\u001b[0m         \u001b[38;5;28mself\u001b[39m\u001b[38;5;241m.\u001b[39mpitch \u001b[38;5;241m=\u001b[39m \u001b[43mPitch\u001b[49m\u001b[43m(\u001b[49m\u001b[43mpitch\u001b[49m\u001b[43m,\u001b[49m\u001b[43m \u001b[49m\u001b[38;5;241;43m*\u001b[39;49m\u001b[38;5;241;43m*\u001b[39;49m\u001b[43mkeywords\u001b[49m\u001b[43m)\u001b[49m\n\u001b[1;32m   1472\u001b[0m \u001b[38;5;28;01melse\u001b[39;00m:  \u001b[38;5;66;03m# supply a default pitch\u001b[39;00m\n\u001b[1;32m   1473\u001b[0m     \u001b[38;5;28;01mif\u001b[39;00m nameWithOctave \u001b[38;5;129;01mis\u001b[39;00m \u001b[38;5;129;01mnot\u001b[39;00m \u001b[38;5;28;01mNone\u001b[39;00m:\n",
      "File \u001b[0;32m~/.pyenv/versions/3.10.10/envs/human/lib/python3.10/site-packages/music21/pitch.py:1848\u001b[0m, in \u001b[0;36mPitch.__init__\u001b[0;34m(self, name, step, octave, accidental, microtone, pitchClass, midi, ps, fundamental, **keywords)\u001b[0m\n\u001b[1;32m   1846\u001b[0m \u001b[38;5;28;01mif\u001b[39;00m name \u001b[38;5;129;01mis\u001b[39;00m \u001b[38;5;129;01mnot\u001b[39;00m \u001b[38;5;28;01mNone\u001b[39;00m:\n\u001b[1;32m   1847\u001b[0m     \u001b[38;5;28;01mif\u001b[39;00m \u001b[38;5;28misinstance\u001b[39m(name, \u001b[38;5;28mstr\u001b[39m):\n\u001b[0;32m-> 1848\u001b[0m         \u001b[38;5;28;43mself\u001b[39;49m\u001b[38;5;241;43m.\u001b[39;49m\u001b[43mname\u001b[49m \u001b[38;5;241m=\u001b[39m name  \u001b[38;5;66;03m# set based on string\u001b[39;00m\n\u001b[1;32m   1849\u001b[0m     \u001b[38;5;28;01melse\u001b[39;00m:  \u001b[38;5;66;03m# is a number\u001b[39;00m\n\u001b[1;32m   1850\u001b[0m         \u001b[38;5;66;03m# is a midiNumber or a ps -- a float midiNumber\u001b[39;00m\n\u001b[1;32m   1851\u001b[0m         \u001b[38;5;66;03m# get step and accidental w/o octave\u001b[39;00m\n\u001b[1;32m   1852\u001b[0m         \u001b[38;5;28mself\u001b[39m\u001b[38;5;241m.\u001b[39mstep, \u001b[38;5;28mself\u001b[39m\u001b[38;5;241m.\u001b[39m_accidental \u001b[38;5;241m=\u001b[39m _convertPsToStep(name)[\u001b[38;5;241m0\u001b[39m:\u001b[38;5;241m2\u001b[39m]\n",
      "File \u001b[0;32m~/.pyenv/versions/3.10.10/envs/human/lib/python3.10/site-packages/music21/pitch.py:2680\u001b[0m, in \u001b[0;36mPitch.name\u001b[0;34m(self, usrStr)\u001b[0m\n\u001b[1;32m   2678\u001b[0m \u001b[38;5;28;01melif\u001b[39;00m \u001b[38;5;28mlen\u001b[39m(usrStr) \u001b[38;5;241m>\u001b[39m \u001b[38;5;241m1\u001b[39m:\n\u001b[1;32m   2679\u001b[0m     \u001b[38;5;28mself\u001b[39m\u001b[38;5;241m.\u001b[39mstep \u001b[38;5;241m=\u001b[39m usrStr[\u001b[38;5;241m0\u001b[39m]  \u001b[38;5;66;03m# type: ignore\u001b[39;00m\n\u001b[0;32m-> 2680\u001b[0m     \u001b[38;5;28mself\u001b[39m\u001b[38;5;241m.\u001b[39maccidental \u001b[38;5;241m=\u001b[39m \u001b[43mAccidental\u001b[49m\u001b[43m(\u001b[49m\u001b[43musrStr\u001b[49m\u001b[43m[\u001b[49m\u001b[38;5;241;43m1\u001b[39;49m\u001b[43m:\u001b[49m\u001b[43m]\u001b[49m\u001b[43m)\u001b[49m\n\u001b[1;32m   2681\u001b[0m \u001b[38;5;28;01melse\u001b[39;00m:\n\u001b[1;32m   2682\u001b[0m     \u001b[38;5;28;01mraise\u001b[39;00m PitchException(\u001b[38;5;124mf\u001b[39m\u001b[38;5;124m'\u001b[39m\u001b[38;5;124mCannot make a name out of \u001b[39m\u001b[38;5;132;01m{\u001b[39;00musrStr\u001b[38;5;132;01m!r}\u001b[39;00m\u001b[38;5;124m'\u001b[39m)\n",
      "File \u001b[0;32m~/.pyenv/versions/3.10.10/envs/human/lib/python3.10/site-packages/music21/pitch.py:906\u001b[0m, in \u001b[0;36mAccidental.__init__\u001b[0;34m(self, specifier)\u001b[0m\n\u001b[1;32m    904\u001b[0m \u001b[38;5;28mself\u001b[39m\u001b[38;5;241m.\u001b[39m_alter \u001b[38;5;241m=\u001b[39m \u001b[38;5;241m0.0\u001b[39m     \u001b[38;5;66;03m# semitones to alter step\u001b[39;00m\n\u001b[1;32m    905\u001b[0m \u001b[38;5;66;03m# potentially can be a fraction... but not exponent...\u001b[39;00m\n\u001b[0;32m--> 906\u001b[0m \u001b[38;5;28;43mself\u001b[39;49m\u001b[38;5;241;43m.\u001b[39;49m\u001b[43mset\u001b[49m\u001b[43m(\u001b[49m\u001b[43mspecifier\u001b[49m\u001b[43m)\u001b[49m\n",
      "File \u001b[0;32m~/.pyenv/versions/3.10.10/envs/human/lib/python3.10/site-packages/music21/pitch.py:1170\u001b[0m, in \u001b[0;36mAccidental.set\u001b[0;34m(self, name, allowNonStandardValue)\u001b[0m\n\u001b[1;32m   1168\u001b[0m \u001b[38;5;28;01melse\u001b[39;00m:\n\u001b[1;32m   1169\u001b[0m     \u001b[38;5;28;01mif\u001b[39;00m \u001b[38;5;129;01mnot\u001b[39;00m allowNonStandardValue:\n\u001b[0;32m-> 1170\u001b[0m         \u001b[38;5;28;01mraise\u001b[39;00m AccidentalException(\u001b[38;5;124mf\u001b[39m\u001b[38;5;124m'\u001b[39m\u001b[38;5;132;01m{\u001b[39;00mname\u001b[38;5;132;01m}\u001b[39;00m\u001b[38;5;124m is not a supported accidental type\u001b[39m\u001b[38;5;124m'\u001b[39m)\n\u001b[1;32m   1172\u001b[0m     \u001b[38;5;28;01mif\u001b[39;00m \u001b[38;5;28misinstance\u001b[39m(name, \u001b[38;5;28mstr\u001b[39m):\n\u001b[1;32m   1173\u001b[0m         \u001b[38;5;28mself\u001b[39m\u001b[38;5;241m.\u001b[39m_name \u001b[38;5;241m=\u001b[39m name\n",
      "\u001b[0;31mAccidentalException\u001b[0m: m is not a supported accidental type"
     ]
    }
   ],
   "source": [
    "# Tension or suspense\n",
    "def tension_suspense():\n",
    "    score = music21.stream.Score()\n",
    "    progression = ['C', 'F', 'G', 'b']\n",
    "    chords = music21.stream.Stream(create_progression_chords(progression))\n",
    "    score.append(chords)\n",
    "    show_score(score)\n",
    "\n",
    "tension_suspense()"
   ]
  },
  {
   "cell_type": "code",
   "execution_count": null,
   "id": "7a222e7e",
   "metadata": {},
   "outputs": [],
   "source": []
  },
  {
   "cell_type": "markdown",
   "id": "fdcfd70c",
   "metadata": {},
   "source": [
    "## Mystery"
   ]
  },
  {
   "cell_type": "raw",
   "id": "a2f27579",
   "metadata": {},
   "source": [
    "Modal progressions or chords, such as:\n",
    "Dm - G - Am (Dorian mode: i - IV - v)\n",
    "C - F - C - Db (I - IV - I - bII)"
   ]
  },
  {
   "cell_type": "code",
   "execution_count": 72,
   "id": "deebcc56",
   "metadata": {},
   "outputs": [
    {
     "name": "stdout",
     "output_type": "stream",
     "text": [
      "{0.0} <music21.stream.Stream 0x1323a3e50>\n",
      "    {0.0} <music21.chord.Chord D->\n",
      "    {1.0} <music21.chord.Chord G>\n",
      "    {2.0} <music21.chord.Chord A->\n"
     ]
    }
   ],
   "source": [
    "def mystery():\n",
    "    score = music21.stream.Score()\n",
    "    progression = ['D-', 'G', 'A-']\n",
    "    chords = music21.stream.Stream(create_progression_chords(progression))\n",
    "    score.append(chords)\n",
    "    show_score(score)\n",
    "\n",
    "mystery()"
   ]
  },
  {
   "cell_type": "code",
   "execution_count": null,
   "id": "215c3824",
   "metadata": {},
   "outputs": [],
   "source": []
  },
  {
   "cell_type": "markdown",
   "id": "b7662ea6",
   "metadata": {},
   "source": [
    "## Romantic"
   ]
  },
  {
   "cell_type": "raw",
   "id": "9934bd7c",
   "metadata": {},
   "source": [
    "Progressions with rich harmonies, such as:\n",
    "C - Dm7 - G7 - Cmaj7 (I - ii7 - V7 - Imaj7)\n",
    "C - Am7 - Dm7 - G7 (I - vi7 - ii7 - V7)"
   ]
  },
  {
   "cell_type": "code",
   "execution_count": 73,
   "id": "af5be639",
   "metadata": {},
   "outputs": [
    {
     "name": "stdout",
     "output_type": "stream",
     "text": [
      "{0.0} <music21.stream.Stream 0x1323a1060>\n",
      "    {0.0} <music21.chord.Chord C>\n",
      "    {1.0} <music21.chord.Chord D->\n",
      "    {2.0} <music21.chord.Chord G7>\n",
      "    {3.0} <music21.chord.Chord C7>\n"
     ]
    }
   ],
   "source": [
    "# Romantic\n",
    "def romantic():\n",
    "    score = music21.stream.Score()\n",
    "    progression = ['C', 'D-', 'G7', 'C7']\n",
    "    chords = music21.stream.Stream(create_progression_chords(progression))\n",
    "    score.append(chords)\n",
    "    show_score(score)\n",
    "\n",
    "romantic()"
   ]
  },
  {
   "cell_type": "code",
   "execution_count": null,
   "id": "6c4609dc",
   "metadata": {},
   "outputs": [],
   "source": []
  },
  {
   "cell_type": "markdown",
   "id": "099e5214",
   "metadata": {},
   "source": [
    "## Uplifting or triumphant"
   ]
  },
  {
   "cell_type": "raw",
   "id": "89f76f44",
   "metadata": {},
   "source": [
    "Circle of fifths progression, such as:\n",
    "C - A - Dm - G - C (I - VI - ii - V - I)\n",
    "C - Em - F - G (I - iii - IV - V)"
   ]
  },
  {
   "cell_type": "code",
   "execution_count": 74,
   "id": "2fca3c1c",
   "metadata": {},
   "outputs": [
    {
     "name": "stdout",
     "output_type": "stream",
     "text": [
      "{0.0} <music21.stream.Stream 0x12d468dc0>\n",
      "    {0.0} <music21.chord.Chord C>\n",
      "    {1.0} <music21.chord.Chord E->\n",
      "    {2.0} <music21.chord.Chord F>\n",
      "    {3.0} <music21.chord.Chord G>\n"
     ]
    }
   ],
   "source": [
    "def uplifting_triumphant():\n",
    "    score = music21.stream.Score()\n",
    "    progression = ['C', 'E-', 'F', 'G']\n",
    "    chords = music21.stream.Stream(create_progression_chords(progression))\n",
    "    score.append(chords)\n",
    "    show_score(score)\n",
    "\n",
    "uplifting_triumphant()"
   ]
  },
  {
   "cell_type": "code",
   "execution_count": null,
   "id": "7377514e",
   "metadata": {},
   "outputs": [],
   "source": []
  },
  {
   "cell_type": "raw",
   "id": "ad5a9ec4",
   "metadata": {},
   "source": [
    "Remember that these associations are not definitive, and the emotional impact of a chord progression can be influenced by various factors, such as tempo, rhythm, instrumentation, and the melody played over the chords. Feel free to experiment with different progressions to convey the emotions you want to express in your music."
   ]
  },
  {
   "cell_type": "markdown",
   "id": "4f3473bc",
   "metadata": {},
   "source": [
    "# Other examples "
   ]
  },
  {
   "cell_type": "code",
   "execution_count": 18,
   "id": "31362147",
   "metadata": {},
   "outputs": [
    {
     "ename": "NameError",
     "evalue": "name 'create_progression_score' is not defined",
     "output_type": "error",
     "traceback": [
      "\u001b[0;31m---------------------------------------------------------------------------\u001b[0m",
      "\u001b[0;31mNameError\u001b[0m                                 Traceback (most recent call last)",
      "Cell \u001b[0;32mIn [18], line 2\u001b[0m\n\u001b[1;32m      1\u001b[0m \u001b[38;5;66;03m# Happiness\u001b[39;00m\n\u001b[0;32m----> 2\u001b[0m \u001b[43mcreate_progression_score\u001b[49m([\u001b[38;5;124m'\u001b[39m\u001b[38;5;124mC\u001b[39m\u001b[38;5;124m'\u001b[39m, \u001b[38;5;124m'\u001b[39m\u001b[38;5;124mG\u001b[39m\u001b[38;5;124m'\u001b[39m, \u001b[38;5;124m'\u001b[39m\u001b[38;5;124ma\u001b[39m\u001b[38;5;124m'\u001b[39m, \u001b[38;5;124m'\u001b[39m\u001b[38;5;124mF\u001b[39m\u001b[38;5;124m'\u001b[39m], \u001b[38;5;124m\"\u001b[39m\u001b[38;5;124mHappiness 1: I - V - vi - IV\u001b[39m\u001b[38;5;124m\"\u001b[39m)\n\u001b[1;32m      3\u001b[0m create_progression_score([\u001b[38;5;124m'\u001b[39m\u001b[38;5;124mC\u001b[39m\u001b[38;5;124m'\u001b[39m, \u001b[38;5;124m'\u001b[39m\u001b[38;5;124mF\u001b[39m\u001b[38;5;124m'\u001b[39m, \u001b[38;5;124m'\u001b[39m\u001b[38;5;124mG\u001b[39m\u001b[38;5;124m'\u001b[39m, \u001b[38;5;124m'\u001b[39m\u001b[38;5;124mC\u001b[39m\u001b[38;5;124m'\u001b[39m], \u001b[38;5;124m\"\u001b[39m\u001b[38;5;124mHappiness 2: I - IV - V - I\u001b[39m\u001b[38;5;124m\"\u001b[39m)\n",
      "\u001b[0;31mNameError\u001b[0m: name 'create_progression_score' is not defined"
     ]
    }
   ],
   "source": [
    "# Happiness\n",
    "create_progression_score(['C', 'G', 'a', 'F'], \"Happiness 1: I - V - vi - IV\")\n",
    "create_progression_score(['C', 'F', 'G', 'C'], \"Happiness 2: I - IV - V - I\")"
   ]
  },
  {
   "cell_type": "code",
   "execution_count": 171,
   "id": "410031df",
   "metadata": {},
   "outputs": [
    {
     "ename": "AccidentalException",
     "evalue": "m is not a supported accidental type",
     "output_type": "error",
     "traceback": [
      "\u001b[0;31m---------------------------------------------------------------------------\u001b[0m",
      "\u001b[0;31mAccidentalException\u001b[0m                       Traceback (most recent call last)",
      "Cell \u001b[0;32mIn [171], line 2\u001b[0m\n\u001b[1;32m      1\u001b[0m \u001b[38;5;66;03m# Sadness\u001b[39;00m\n\u001b[0;32m----> 2\u001b[0m \u001b[43mcreate_progression_score\u001b[49m\u001b[43m(\u001b[49m\u001b[43m[\u001b[49m\u001b[38;5;124;43m'\u001b[39;49m\u001b[38;5;124;43mAm\u001b[39;49m\u001b[38;5;124;43m'\u001b[39;49m\u001b[43m,\u001b[49m\u001b[43m \u001b[49m\u001b[38;5;124;43m'\u001b[39;49m\u001b[38;5;124;43mF\u001b[39;49m\u001b[38;5;124;43m'\u001b[39;49m\u001b[43m,\u001b[49m\u001b[43m \u001b[49m\u001b[38;5;124;43m'\u001b[39;49m\u001b[38;5;124;43mC\u001b[39;49m\u001b[38;5;124;43m'\u001b[39;49m\u001b[43m,\u001b[49m\u001b[43m \u001b[49m\u001b[38;5;124;43m'\u001b[39;49m\u001b[38;5;124;43mG\u001b[39;49m\u001b[38;5;124;43m'\u001b[39;49m\u001b[43m]\u001b[49m\u001b[43m,\u001b[49m\u001b[43m \u001b[49m\u001b[38;5;124;43m\"\u001b[39;49m\u001b[38;5;124;43mSadness 1: vi - IV - I - V\u001b[39;49m\u001b[38;5;124;43m\"\u001b[39;49m\u001b[43m)\u001b[49m\n\u001b[1;32m      3\u001b[0m create_progression_score([\u001b[38;5;124m'\u001b[39m\u001b[38;5;124mCm\u001b[39m\u001b[38;5;124m'\u001b[39m, \u001b[38;5;124m'\u001b[39m\u001b[38;5;124mG\u001b[39m\u001b[38;5;124m'\u001b[39m, \u001b[38;5;124m'\u001b[39m\u001b[38;5;124mCm\u001b[39m\u001b[38;5;124m'\u001b[39m], \u001b[38;5;124m\"\u001b[39m\u001b[38;5;124mSadness 2: i - V - i\u001b[39m\u001b[38;5;124m\"\u001b[39m)\n",
      "Cell \u001b[0;32mIn [147], line 3\u001b[0m, in \u001b[0;36mcreate_progression_score\u001b[0;34m(progression, title)\u001b[0m\n\u001b[1;32m      1\u001b[0m \u001b[38;5;28;01mdef\u001b[39;00m \u001b[38;5;21mcreate_progression_score\u001b[39m(progression, title):\n\u001b[1;32m      2\u001b[0m     score \u001b[38;5;241m=\u001b[39m music21\u001b[38;5;241m.\u001b[39mstream\u001b[38;5;241m.\u001b[39mScore()\n\u001b[0;32m----> 3\u001b[0m     chords \u001b[38;5;241m=\u001b[39m music21\u001b[38;5;241m.\u001b[39mstream\u001b[38;5;241m.\u001b[39mStream(\u001b[43mcreate_progression_chords\u001b[49m\u001b[43m(\u001b[49m\u001b[43mprogression\u001b[49m\u001b[43m)\u001b[49m)\n\u001b[1;32m      4\u001b[0m     score\u001b[38;5;241m.\u001b[39mappend(chords)\n\u001b[1;32m      5\u001b[0m     show_score(score, title)\n",
      "Cell \u001b[0;32mIn [170], line 4\u001b[0m, in \u001b[0;36mcreate_progression_chords\u001b[0;34m(chord_progression)\u001b[0m\n\u001b[1;32m      2\u001b[0m l\u001b[38;5;241m=\u001b[39m[]\n\u001b[1;32m      3\u001b[0m \u001b[38;5;28;01mfor\u001b[39;00m chord \u001b[38;5;129;01min\u001b[39;00m chord_progression:\n\u001b[0;32m----> 4\u001b[0m     l\u001b[38;5;241m.\u001b[39mappend(\u001b[43mmusic21\u001b[49m\u001b[38;5;241;43m.\u001b[39;49m\u001b[43mchord\u001b[49m\u001b[38;5;241;43m.\u001b[39;49m\u001b[43mChordBase\u001b[49m\u001b[43m(\u001b[49m\u001b[43mchord\u001b[49m\u001b[43m,\u001b[49m\u001b[43m \u001b[49m\u001b[43mquarterLength\u001b[49m\u001b[38;5;241;43m=\u001b[39;49m\u001b[38;5;241;43m1\u001b[39;49m\u001b[43m)\u001b[49m)\n\u001b[1;32m      5\u001b[0m \u001b[38;5;28;01mreturn\u001b[39;00m l\n",
      "File \u001b[0;32m~/.pyenv/versions/3.10.10/envs/human/lib/python3.10/site-packages/music21/chord/__init__.py:115\u001b[0m, in \u001b[0;36mChordBase.__init__\u001b[0;34m(self, notes, **keywords)\u001b[0m\n\u001b[1;32m    112\u001b[0m \u001b[38;5;28;01mif\u001b[39;00m \u001b[38;5;124m'\u001b[39m\u001b[38;5;124mduration\u001b[39m\u001b[38;5;124m'\u001b[39m \u001b[38;5;129;01min\u001b[39;00m keywords:\n\u001b[1;32m    113\u001b[0m     durationKeyword \u001b[38;5;241m=\u001b[39m keywords[\u001b[38;5;124m'\u001b[39m\u001b[38;5;124mduration\u001b[39m\u001b[38;5;124m'\u001b[39m]\n\u001b[0;32m--> 115\u001b[0m durationKeyword \u001b[38;5;241m=\u001b[39m \u001b[38;5;28;43mself\u001b[39;49m\u001b[38;5;241;43m.\u001b[39;49m\u001b[43m_add_core_or_init\u001b[49m\u001b[43m(\u001b[49m\u001b[43mnotes\u001b[49m\u001b[43m,\u001b[49m\u001b[43m \u001b[49m\u001b[43museDuration\u001b[49m\u001b[38;5;241;43m=\u001b[39;49m\u001b[43mdurationKeyword\u001b[49m\u001b[43m)\u001b[49m\n\u001b[1;32m    117\u001b[0m \u001b[38;5;28;01mif\u001b[39;00m durationKeyword \u001b[38;5;129;01mis\u001b[39;00m \u001b[38;5;129;01mnot\u001b[39;00m \u001b[38;5;28;01mNone\u001b[39;00m:\n\u001b[1;32m    118\u001b[0m     \u001b[38;5;28mself\u001b[39m\u001b[38;5;241m.\u001b[39mduration \u001b[38;5;241m=\u001b[39m durationKeyword\n",
      "File \u001b[0;32m~/.pyenv/versions/3.10.10/envs/human/lib/python3.10/site-packages/music21/chord/__init__.py:237\u001b[0m, in \u001b[0;36mChordBase._add_core_or_init\u001b[0;34m(self, notes, useDuration)\u001b[0m\n\u001b[1;32m    235\u001b[0m \u001b[38;5;28;01melif\u001b[39;00m \u001b[38;5;28misinstance\u001b[39m(n, (\u001b[38;5;28mstr\u001b[39m, \u001b[38;5;28mint\u001b[39m)):\n\u001b[1;32m    236\u001b[0m     \u001b[38;5;28;01mif\u001b[39;00m useDuration:\n\u001b[0;32m--> 237\u001b[0m         \u001b[38;5;28mself\u001b[39m\u001b[38;5;241m.\u001b[39m_notes\u001b[38;5;241m.\u001b[39mappend(\u001b[43mnote\u001b[49m\u001b[38;5;241;43m.\u001b[39;49m\u001b[43mNote\u001b[49m\u001b[43m(\u001b[49m\u001b[43mn\u001b[49m\u001b[43m,\u001b[49m\u001b[43m \u001b[49m\u001b[43mduration\u001b[49m\u001b[38;5;241;43m=\u001b[39;49m\u001b[43museDuration\u001b[49m\u001b[43m)\u001b[49m)\n\u001b[1;32m    238\u001b[0m     \u001b[38;5;28;01melse\u001b[39;00m:\n\u001b[1;32m    239\u001b[0m         \u001b[38;5;28mself\u001b[39m\u001b[38;5;241m.\u001b[39m_notes\u001b[38;5;241m.\u001b[39mappend(note\u001b[38;5;241m.\u001b[39mNote(n))\n",
      "File \u001b[0;32m~/.pyenv/versions/3.10.10/envs/human/lib/python3.10/site-packages/music21/note.py:1471\u001b[0m, in \u001b[0;36mNote.__init__\u001b[0;34m(self, pitch, name, nameWithOctave, **keywords)\u001b[0m\n\u001b[1;32m   1469\u001b[0m         \u001b[38;5;28mself\u001b[39m\u001b[38;5;241m.\u001b[39mpitch \u001b[38;5;241m=\u001b[39m pitch\n\u001b[1;32m   1470\u001b[0m     \u001b[38;5;28;01melse\u001b[39;00m:  \u001b[38;5;66;03m# assume first argument is pitch\u001b[39;00m\n\u001b[0;32m-> 1471\u001b[0m         \u001b[38;5;28mself\u001b[39m\u001b[38;5;241m.\u001b[39mpitch \u001b[38;5;241m=\u001b[39m \u001b[43mPitch\u001b[49m\u001b[43m(\u001b[49m\u001b[43mpitch\u001b[49m\u001b[43m,\u001b[49m\u001b[43m \u001b[49m\u001b[38;5;241;43m*\u001b[39;49m\u001b[38;5;241;43m*\u001b[39;49m\u001b[43mkeywords\u001b[49m\u001b[43m)\u001b[49m\n\u001b[1;32m   1472\u001b[0m \u001b[38;5;28;01melse\u001b[39;00m:  \u001b[38;5;66;03m# supply a default pitch\u001b[39;00m\n\u001b[1;32m   1473\u001b[0m     \u001b[38;5;28;01mif\u001b[39;00m nameWithOctave \u001b[38;5;129;01mis\u001b[39;00m \u001b[38;5;129;01mnot\u001b[39;00m \u001b[38;5;28;01mNone\u001b[39;00m:\n",
      "File \u001b[0;32m~/.pyenv/versions/3.10.10/envs/human/lib/python3.10/site-packages/music21/pitch.py:1848\u001b[0m, in \u001b[0;36mPitch.__init__\u001b[0;34m(self, name, step, octave, accidental, microtone, pitchClass, midi, ps, fundamental, **keywords)\u001b[0m\n\u001b[1;32m   1846\u001b[0m \u001b[38;5;28;01mif\u001b[39;00m name \u001b[38;5;129;01mis\u001b[39;00m \u001b[38;5;129;01mnot\u001b[39;00m \u001b[38;5;28;01mNone\u001b[39;00m:\n\u001b[1;32m   1847\u001b[0m     \u001b[38;5;28;01mif\u001b[39;00m \u001b[38;5;28misinstance\u001b[39m(name, \u001b[38;5;28mstr\u001b[39m):\n\u001b[0;32m-> 1848\u001b[0m         \u001b[38;5;28;43mself\u001b[39;49m\u001b[38;5;241;43m.\u001b[39;49m\u001b[43mname\u001b[49m \u001b[38;5;241m=\u001b[39m name  \u001b[38;5;66;03m# set based on string\u001b[39;00m\n\u001b[1;32m   1849\u001b[0m     \u001b[38;5;28;01melse\u001b[39;00m:  \u001b[38;5;66;03m# is a number\u001b[39;00m\n\u001b[1;32m   1850\u001b[0m         \u001b[38;5;66;03m# is a midiNumber or a ps -- a float midiNumber\u001b[39;00m\n\u001b[1;32m   1851\u001b[0m         \u001b[38;5;66;03m# get step and accidental w/o octave\u001b[39;00m\n\u001b[1;32m   1852\u001b[0m         \u001b[38;5;28mself\u001b[39m\u001b[38;5;241m.\u001b[39mstep, \u001b[38;5;28mself\u001b[39m\u001b[38;5;241m.\u001b[39m_accidental \u001b[38;5;241m=\u001b[39m _convertPsToStep(name)[\u001b[38;5;241m0\u001b[39m:\u001b[38;5;241m2\u001b[39m]\n",
      "File \u001b[0;32m~/.pyenv/versions/3.10.10/envs/human/lib/python3.10/site-packages/music21/pitch.py:2680\u001b[0m, in \u001b[0;36mPitch.name\u001b[0;34m(self, usrStr)\u001b[0m\n\u001b[1;32m   2678\u001b[0m \u001b[38;5;28;01melif\u001b[39;00m \u001b[38;5;28mlen\u001b[39m(usrStr) \u001b[38;5;241m>\u001b[39m \u001b[38;5;241m1\u001b[39m:\n\u001b[1;32m   2679\u001b[0m     \u001b[38;5;28mself\u001b[39m\u001b[38;5;241m.\u001b[39mstep \u001b[38;5;241m=\u001b[39m usrStr[\u001b[38;5;241m0\u001b[39m]  \u001b[38;5;66;03m# type: ignore\u001b[39;00m\n\u001b[0;32m-> 2680\u001b[0m     \u001b[38;5;28mself\u001b[39m\u001b[38;5;241m.\u001b[39maccidental \u001b[38;5;241m=\u001b[39m \u001b[43mAccidental\u001b[49m\u001b[43m(\u001b[49m\u001b[43musrStr\u001b[49m\u001b[43m[\u001b[49m\u001b[38;5;241;43m1\u001b[39;49m\u001b[43m:\u001b[49m\u001b[43m]\u001b[49m\u001b[43m)\u001b[49m\n\u001b[1;32m   2681\u001b[0m \u001b[38;5;28;01melse\u001b[39;00m:\n\u001b[1;32m   2682\u001b[0m     \u001b[38;5;28;01mraise\u001b[39;00m PitchException(\u001b[38;5;124mf\u001b[39m\u001b[38;5;124m'\u001b[39m\u001b[38;5;124mCannot make a name out of \u001b[39m\u001b[38;5;132;01m{\u001b[39;00musrStr\u001b[38;5;132;01m!r}\u001b[39;00m\u001b[38;5;124m'\u001b[39m)\n",
      "File \u001b[0;32m~/.pyenv/versions/3.10.10/envs/human/lib/python3.10/site-packages/music21/pitch.py:906\u001b[0m, in \u001b[0;36mAccidental.__init__\u001b[0;34m(self, specifier)\u001b[0m\n\u001b[1;32m    904\u001b[0m \u001b[38;5;28mself\u001b[39m\u001b[38;5;241m.\u001b[39m_alter \u001b[38;5;241m=\u001b[39m \u001b[38;5;241m0.0\u001b[39m     \u001b[38;5;66;03m# semitones to alter step\u001b[39;00m\n\u001b[1;32m    905\u001b[0m \u001b[38;5;66;03m# potentially can be a fraction... but not exponent...\u001b[39;00m\n\u001b[0;32m--> 906\u001b[0m \u001b[38;5;28;43mself\u001b[39;49m\u001b[38;5;241;43m.\u001b[39;49m\u001b[43mset\u001b[49m\u001b[43m(\u001b[49m\u001b[43mspecifier\u001b[49m\u001b[43m)\u001b[49m\n",
      "File \u001b[0;32m~/.pyenv/versions/3.10.10/envs/human/lib/python3.10/site-packages/music21/pitch.py:1170\u001b[0m, in \u001b[0;36mAccidental.set\u001b[0;34m(self, name, allowNonStandardValue)\u001b[0m\n\u001b[1;32m   1168\u001b[0m \u001b[38;5;28;01melse\u001b[39;00m:\n\u001b[1;32m   1169\u001b[0m     \u001b[38;5;28;01mif\u001b[39;00m \u001b[38;5;129;01mnot\u001b[39;00m allowNonStandardValue:\n\u001b[0;32m-> 1170\u001b[0m         \u001b[38;5;28;01mraise\u001b[39;00m AccidentalException(\u001b[38;5;124mf\u001b[39m\u001b[38;5;124m'\u001b[39m\u001b[38;5;132;01m{\u001b[39;00mname\u001b[38;5;132;01m}\u001b[39;00m\u001b[38;5;124m is not a supported accidental type\u001b[39m\u001b[38;5;124m'\u001b[39m)\n\u001b[1;32m   1172\u001b[0m     \u001b[38;5;28;01mif\u001b[39;00m \u001b[38;5;28misinstance\u001b[39m(name, \u001b[38;5;28mstr\u001b[39m):\n\u001b[1;32m   1173\u001b[0m         \u001b[38;5;28mself\u001b[39m\u001b[38;5;241m.\u001b[39m_name \u001b[38;5;241m=\u001b[39m name\n",
      "\u001b[0;31mAccidentalException\u001b[0m: m is not a supported accidental type"
     ]
    }
   ],
   "source": [
    "# Sadness\n",
    "create_progression_score(['a', 'F', 'C', 'G'], \"Sadness 1: vi - IV - I - V\")\n",
    "create_progression_score(['c', 'G', 'c'], \"Sadness 2: i - V - i\")"
   ]
  },
  {
   "cell_type": "code",
   "execution_count": 82,
   "id": "755b0716",
   "metadata": {},
   "outputs": [
    {
     "name": "stdout",
     "output_type": "stream",
     "text": [
      "{0.0} <music21.metadata.Metadata object at 0x13b069f00>\n",
      "{0.0} <music21.stream.Stream 0x13b069fc0>\n",
      "    {0.0} <music21.chord.Chord C>\n",
      "    {1.0} <music21.chord.Chord G>\n",
      "    {2.0} <music21.chord.Chord A->\n",
      "    {3.0} <music21.chord.Chord F7>\n",
      "{0.0} <music21.metadata.Metadata object at 0x13b057c10>\n",
      "{0.0} <music21.stream.Stream 0x13a767e20>\n",
      "    {0.0} <music21.chord.Chord C>\n",
      "    {1.0} <music21.chord.Chord A->\n",
      "    {2.0} <music21.chord.Chord F>\n",
      "    {3.0} <music21.chord.Chord G>\n"
     ]
    }
   ],
   "source": [
    "# Melancholy\n",
    "create_progression_score(['C', 'G', 'A-', 'F7'], \"Melancholy 1: I - V - vi - IVmaj7\")\n",
    "create_progression_score(['C', 'A-', 'F', 'G'], \"Melancholy 2: I - vi - IV - V\")"
   ]
  },
  {
   "cell_type": "code",
   "execution_count": 85,
   "id": "49b3d785",
   "metadata": {},
   "outputs": [
    {
     "ename": "AttributeError",
     "evalue": "'function' object has no attribute 'seventh'",
     "output_type": "error",
     "traceback": [
      "\u001b[0;31m---------------------------------------------------------------------------\u001b[0m",
      "\u001b[0;31mAttributeError\u001b[0m                            Traceback (most recent call last)",
      "Cell \u001b[0;32mIn [85], line 2\u001b[0m\n\u001b[1;32m      1\u001b[0m \u001b[38;5;66;03m# Nostalgia\u001b[39;00m\n\u001b[0;32m----> 2\u001b[0m \u001b[43mcreate_progression_score\u001b[49m\u001b[43m(\u001b[49m\u001b[43m[\u001b[49m\u001b[38;5;124;43m'\u001b[39;49m\u001b[38;5;124;43mC\u001b[39;49m\u001b[38;5;124;43m'\u001b[39;49m\u001b[43m,\u001b[49m\u001b[43m \u001b[49m\u001b[38;5;124;43m'\u001b[39;49m\u001b[38;5;124;43mE7\u001b[39;49m\u001b[38;5;124;43m'\u001b[39;49m\u001b[43m,\u001b[49m\u001b[43m \u001b[49m\u001b[38;5;124;43m'\u001b[39;49m\u001b[38;5;124;43mF\u001b[39;49m\u001b[38;5;124;43m'\u001b[39;49m\u001b[43m,\u001b[49m\u001b[43m \u001b[49m\u001b[38;5;124;43m'\u001b[39;49m\u001b[38;5;124;43mG\u001b[39;49m\u001b[38;5;124;43m'\u001b[39;49m\u001b[43m]\u001b[49m\u001b[43m,\u001b[49m\u001b[43m \u001b[49m\u001b[38;5;124;43m\"\u001b[39;49m\u001b[38;5;124;43mNostalgia 1: I - III7 - IV - V\u001b[39;49m\u001b[38;5;124;43m\"\u001b[39;49m\u001b[43m)\u001b[49m\n\u001b[1;32m      3\u001b[0m create_progression_score([\u001b[38;5;124m'\u001b[39m\u001b[38;5;124mC\u001b[39m\u001b[38;5;124m'\u001b[39m, \u001b[38;5;124m'\u001b[39m\u001b[38;5;124mA7\u001b[39m\u001b[38;5;124m'\u001b[39m, \u001b[38;5;124m'\u001b[39m\u001b[38;5;124mD-\u001b[39m\u001b[38;5;124m'\u001b[39m, \u001b[38;5;124m'\u001b[39m\u001b[38;5;124mG\u001b[39m\u001b[38;5;124m'\u001b[39m], \u001b[38;5;124m\"\u001b[39m\u001b[38;5;124mNostalgia 2: I - VI7 - ii - V\u001b[39m\u001b[38;5;124m\"\u001b[39m)\n",
      "Cell \u001b[0;32mIn [23], line 3\u001b[0m, in \u001b[0;36mcreate_progression_score\u001b[0;34m(progression, title)\u001b[0m\n\u001b[1;32m      1\u001b[0m \u001b[38;5;28;01mdef\u001b[39;00m \u001b[38;5;21mcreate_progression_score\u001b[39m(progression, title):\n\u001b[1;32m      2\u001b[0m     score \u001b[38;5;241m=\u001b[39m music21\u001b[38;5;241m.\u001b[39mstream\u001b[38;5;241m.\u001b[39mScore()\n\u001b[0;32m----> 3\u001b[0m     chords \u001b[38;5;241m=\u001b[39m music21\u001b[38;5;241m.\u001b[39mstream\u001b[38;5;241m.\u001b[39mStream(\u001b[43mcreate_progression_chords\u001b[49m\u001b[43m(\u001b[49m\u001b[43mprogression\u001b[49m\u001b[43m)\u001b[49m)\n\u001b[1;32m      4\u001b[0m     score\u001b[38;5;241m.\u001b[39mappend(chords)\n\u001b[1;32m      5\u001b[0m     show_score(score, title)\n",
      "Cell \u001b[0;32mIn [70], line 6\u001b[0m, in \u001b[0;36mcreate_progression_chords\u001b[0;34m(progression)\u001b[0m\n\u001b[1;32m      4\u001b[0m \u001b[38;5;28;01mif\u001b[39;00m chord_symbol \u001b[38;5;241m==\u001b[39m \u001b[38;5;124m'\u001b[39m\u001b[38;5;124mE7\u001b[39m\u001b[38;5;124m'\u001b[39m:\n\u001b[1;32m      5\u001b[0m     chord \u001b[38;5;241m=\u001b[39m music21\u001b[38;5;241m.\u001b[39mchord\u001b[38;5;241m.\u001b[39mChord([\u001b[38;5;124m'\u001b[39m\u001b[38;5;124mE7\u001b[39m\u001b[38;5;124m'\u001b[39m])\n\u001b[0;32m----> 6\u001b[0m     \u001b[43mchord\u001b[49m\u001b[38;5;241;43m.\u001b[39;49m\u001b[43mroot\u001b[49m\u001b[38;5;241;43m.\u001b[39;49m\u001b[43mseventh\u001b[49m()\n\u001b[1;32m      7\u001b[0m     chord_list\u001b[38;5;241m.\u001b[39mappend(chord)\n\u001b[1;32m      8\u001b[0m \u001b[38;5;28;01melse\u001b[39;00m:\n",
      "\u001b[0;31mAttributeError\u001b[0m: 'function' object has no attribute 'seventh'"
     ]
    }
   ],
   "source": [
    "# Nostalgia\n",
    "create_progression_score(['C', 'E7', 'F', 'G'], \"Nostalgia 1: I - III7 - IV - V\")\n",
    "create_progression_score(['C', 'A7', 'D-', 'G'], \"Nostalgia 2: I - VI7 - ii - V\")"
   ]
  },
  {
   "cell_type": "code",
   "execution_count": null,
   "id": "64cb3b6f",
   "metadata": {},
   "outputs": [],
   "source": [
    "# Tension or suspense\n",
    "create_progression_score(['C', 'F', 'G7', 'Bdim'], \"Tension 1: I - IV - V7 - vii°\")\n",
    "create_progression_score(['C', 'G', 'Bb', 'F'], \"Tension 2: I - V - bVII - IV\")"
   ]
  },
  {
   "cell_type": "code",
   "execution_count": null,
   "id": "95aece7c",
   "metadata": {},
   "outputs": [],
   "source": [
    "# Mystery\n",
    "create_progression_score(['d', 'G', 'a'], \"Mystery 1: Dorian mode - i - IV - v\")\n",
    "create_progression_score(['C', 'F', 'C', 'Db'], \"Mystery 2: I - IV - I - bII\")"
   ]
  },
  {
   "cell_type": "code",
   "execution_count": 114,
   "id": "33baff2c",
   "metadata": {},
   "outputs": [
    {
     "name": "stdout",
     "output_type": "stream",
     "text": [
      "{0.0} <music21.metadata.Metadata object at 0x1323eb100>\n",
      "{0.0} <music21.stream.Stream 0x1323ebb80>\n",
      "    {0.0} <music21.chord.Chord C7>\n",
      "    {1.0} <music21.chord.Chord D7>\n",
      "    {2.0} <music21.chord.Chord G7>\n",
      "    {3.0} <music21.chord.Chord C7>\n",
      "{0.0} <music21.metadata.Metadata object at 0x1323d6ec0>\n",
      "{0.0} <music21.stream.Stream 0x1353d1060>\n",
      "    {0.0} <music21.chord.Chord C7>\n",
      "    {1.0} <music21.chord.Chord A7>\n",
      "    {2.0} <music21.chord.Chord D7>\n",
      "    {3.0} <music21.chord.Chord G7>\n"
     ]
    }
   ],
   "source": [
    "# Romantic\n",
    "create_progression_score(['C7', 'd7', 'G7', 'C7'], \"Romantic 1: I - ii7 - V7 - Imaj7\")\n",
    "create_progression_score(['C7', 'a7', 'd7', 'G7'], \"Romantic 2: I - vi7 - ii7 - V7\")"
   ]
  },
  {
   "cell_type": "code",
   "execution_count": null,
   "id": "84ec0145",
   "metadata": {},
   "outputs": [],
   "source": [
    "# Uplifting or triumphant\n",
    "create_progression_score(['C', 'A', 'Dm', 'G', 'C'], \"Triumphant 1: I - VI - ii - V - I\")\n",
    "create_progression_score(['C', 'Em', 'F', 'G'], \"Triumphant 2: I - iii - IV - V\")"
   ]
  },
  {
   "cell_type": "markdown",
   "id": "f977fed4",
   "metadata": {},
   "source": [
    "# Minor, seventh, dominant Seventh, diminished Chord"
   ]
  },
  {
   "cell_type": "code",
   "execution_count": 80,
   "id": "a20f4a7c",
   "metadata": {},
   "outputs": [],
   "source": [
    "def create_multi_chord_progression(root):\n",
    "    # Define chords types\n",
    "    minor_chord = [0, 3, 7]\n",
    "    seventh_chord = [0, 4, 7]\n",
    "    dominant_seventh_chord = [0, 4, 7, 10]\n",
    "    diminished_chord = [0, 3, 6]\n",
    "\n",
    "    # Create chords\n",
    "    chords = [\n",
    "        chord.Chord([note.Note(root).pitch.transpose(interval) for interval in minor_chord]),\n",
    "        chord.Chord([note.Note(root).pitch.transpose(interval) for interval in seventh_chord]),\n",
    "        chord.Chord([note.Note(root).pitch.transpose(interval) for interval in dominant_seventh_chord]),\n",
    "        chord.Chord([note.Note(root).pitch.transpose(interval) for interval in diminished_chord]),\n",
    "    ]\n",
    "\n",
    "    return chords"
   ]
  },
  {
   "cell_type": "code",
   "execution_count": 81,
   "id": "dae20761",
   "metadata": {},
   "outputs": [],
   "source": [
    "root = \"C4\"\n",
    "chords = create_multi_chord_progression(root)\n",
    "\n",
    "# Create a stream and add the chords\n",
    "s = stream.Stream()\n",
    "for c in chords:\n",
    "    s.append(c)\n",
    "\n",
    "# Show the score\n",
    "StreamPlayer(s).play()"
   ]
  },
  {
   "cell_type": "markdown",
   "id": "10c7b0dd",
   "metadata": {},
   "source": [
    "# Other test "
   ]
  },
  {
   "cell_type": "code",
   "execution_count": 74,
   "id": "3a6a595f",
   "metadata": {},
   "outputs": [],
   "source": [
    "# Define chord progressions for main human emotions\n",
    "emotions_chord_progressions = {\n",
    "    'happy': [['I', 'IV', 'V'], ['I', 'vi', 'IV', 'V'], ['I', 'IV', 'ii', 'V']],\n",
    "    'sad': [['i', 'VI', 'III'], ['i', 'iv', 'V'], ['i', 'iv', 'VII']],\n",
    "    'angry': [['i', 'bII', 'V'], ['i', 'bII', 'bVII'], ['i', 'bIII', 'bVII']],\n",
    "    'calm': [['I', 'ii', 'IV'], ['I', 'vi', 'IV'], ['I', 'ii', 'V']],\n",
    "}"
   ]
  },
  {
   "cell_type": "code",
   "execution_count": 75,
   "id": "c5aa5b91",
   "metadata": {},
   "outputs": [],
   "source": [
    "# Function to convert chord progressions to music21 chords and play them\n",
    "def play_chord_progression(tonality: key.Key, progression: list, play=True):\n",
    "    s = stream.Stream()\n",
    "\n",
    "    for numeral in progression:\n",
    "        rn = roman.RomanNumeral(numeral, tonality)\n",
    "        s.append(rn)\n",
    "\n",
    "    if play:\n",
    "        sp = midi.realtime.StreamPlayer(s)\n",
    "        sp.play()\n",
    "    else:\n",
    "        return s"
   ]
  },
  {
   "cell_type": "code",
   "execution_count": 76,
   "id": "39a328c9",
   "metadata": {},
   "outputs": [],
   "source": [
    "# Function to play chord progressions for a given emotion\n",
    "def play_emotion_chord_progressions(emotion: str, key_str: str = 'C'):\n",
    "    if emotion not in emotions_chord_progressions:\n",
    "        print(f\"Invalid emotion: {emotion}. Please choose from {list(emotions_chord_progressions.keys())}.\")\n",
    "        return\n",
    "\n",
    "    progressions = emotions_chord_progressions[emotion]\n",
    "    tonality = key.Key(key_str) if emotion in ['happy', 'calm'] else key.Key(key_str, 'minor')\n",
    "\n",
    "    for p in progressions:\n",
    "        play_chord_progression(tonality, p)\n",
    "        print(f\"Chord progression for {emotion}: {', '.join(p)}\")"
   ]
  },
  {
   "cell_type": "code",
   "execution_count": 77,
   "id": "fff23c99",
   "metadata": {},
   "outputs": [
    {
     "name": "stdout",
     "output_type": "stream",
     "text": [
      "Chord progression for sad: i, VI, III\n",
      "Chord progression for sad: i, iv, V\n",
      "Chord progression for sad: i, iv, VII\n"
     ]
    }
   ],
   "source": [
    "# Example usage\n",
    "emotion = random.choice(list(emotions_chord_progressions.keys()))\n",
    "play_emotion_chord_progressions(emotion)"
   ]
  },
  {
   "cell_type": "markdown",
   "id": "41d8eeef",
   "metadata": {},
   "source": [
    "# Write to midi"
   ]
  },
  {
   "cell_type": "code",
   "execution_count": 111,
   "id": "16ae418f",
   "metadata": {},
   "outputs": [],
   "source": [
    "def create_midi_from_chords(chords, filename, tempo=120, repeat=4):\n",
    "    s = stream.Stream()\n",
    "    s.append(tempo)\n",
    "    for _ in range(repeat):\n",
    "        for ch in chords:\n",
    "            s.append(ch)\n",
    "    #s.write('midi', fp=filename)"
   ]
  },
  {
   "cell_type": "code",
   "execution_count": null,
   "id": "e3d968ec",
   "metadata": {},
   "outputs": [],
   "source": []
  }
 ],
 "metadata": {
  "kernelspec": {
   "display_name": "Python 3 (ipykernel)",
   "language": "python",
   "name": "python3"
  },
  "language_info": {
   "codemirror_mode": {
    "name": "ipython",
    "version": 3
   },
   "file_extension": ".py",
   "mimetype": "text/x-python",
   "name": "python",
   "nbconvert_exporter": "python",
   "pygments_lexer": "ipython3",
   "version": "3.10.10"
  },
  "toc": {
   "base_numbering": 1,
   "nav_menu": {},
   "number_sections": true,
   "sideBar": true,
   "skip_h1_title": false,
   "title_cell": "Table of Contents",
   "title_sidebar": "Contents",
   "toc_cell": false,
   "toc_position": {
    "height": "calc(100% - 180px)",
    "left": "10px",
    "top": "150px",
    "width": "196.390625px"
   },
   "toc_section_display": true,
   "toc_window_display": true
  }
 },
 "nbformat": 4,
 "nbformat_minor": 5
}
