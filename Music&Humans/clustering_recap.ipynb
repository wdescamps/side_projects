{
 "cells": [
  {
   "cell_type": "code",
   "execution_count": null,
   "metadata": {},
   "outputs": [],
   "source": [
    "# Bibliotheques audio / midi\n",
    "import mido\n",
    "import threading\n",
    "\n",
    "# Bibliotheques pour le traitement de signal et l'analyse\n",
    "from sklearn.cluster import KMeans\n",
    "import numpy as np\n",
    "import matplotlib.pyplot as plt"
   ]
  },
  {
   "cell_type": "code",
   "execution_count": null,
   "metadata": {},
   "outputs": [],
   "source": [
    "mido.get_output_names()"
   ]
  },
  {
   "cell_type": "code",
   "execution_count": null,
   "metadata": {},
   "outputs": [],
   "source": [
    "# Open the input port for your MIDI device\n",
    "input_port = mido.open_input('LPK25')"
   ]
  },
  {
   "cell_type": "markdown",
   "metadata": {},
   "source": [
    "# Example 1 - Clustering Piano Notes"
   ]
  },
  {
   "cell_type": "code",
   "execution_count": null,
   "metadata": {},
   "outputs": [],
   "source": [
    "'''Objective: Cluster MIDI notes played on a piano keyboard in real-time based on pitch and velocity.'''"
   ]
  },
  {
   "cell_type": "markdown",
   "metadata": {},
   "source": [
    "### Get Notes"
   ]
  },
  {
   "cell_type": "code",
   "execution_count": null,
   "metadata": {},
   "outputs": [],
   "source": [
    "# Function to collect MIDI data\n",
    "# Initialize an empty list to store notes\n",
    "notes = []\n",
    "\n",
    "def collect_midi_data(nb_notes=100):\n",
    "    for msg in input_port:\n",
    "        if msg.type == 'note_on' and msg.velocity > 0:  # Only consider note_on messages with non-zero velocity\n",
    "            notes.append([msg.note, msg.velocity])\n",
    "            print(f\"Note: {msg.note}, Velocity: {msg.velocity}\")\n",
    "            if len(notes) >= nb_notes:  # Stop collecting after 100 notes\n",
    "                break\n"
   ]
  },
  {
   "cell_type": "code",
   "execution_count": null,
   "metadata": {},
   "outputs": [],
   "source": [
    "# Run the MIDI data collection in a separate thread\n",
    "midi_thread = threading.Thread(target=collect_midi_data)\n",
    "midi_thread.start()\n",
    "\n",
    "# Wait for the thread to finish\n",
    "midi_thread.join()\n",
    "\n",
    "print(\"MIDI data collection complete.\")\n"
   ]
  },
  {
   "cell_type": "markdown",
   "metadata": {},
   "source": [
    "### Clustering MIDI notes"
   ]
  },
  {
   "cell_type": "code",
   "execution_count": null,
   "metadata": {},
   "outputs": [],
   "source": [
    "\n",
    "# Convert the collected notes to a NumPy array\n",
    "notes_array = np.array(notes)\n",
    "\n",
    "# Perform KMeans clustering\n",
    "kmeans = KMeans(n_clusters=3)\n",
    "kmeans.fit(notes_array)\n",
    "\n",
    "# Get the cluster labels\n",
    "labels = kmeans.labels_\n",
    "\n",
    "labels\n"
   ]
  },
  {
   "cell_type": "markdown",
   "metadata": {},
   "source": [
    "### Plot Midi Notes"
   ]
  },
  {
   "cell_type": "code",
   "execution_count": null,
   "metadata": {},
   "outputs": [],
   "source": [
    "\n",
    "# Plot the clusters\n",
    "plt.scatter(notes_array[:, 0], notes_array[:, 1], c=labels, cmap='viridis')\n",
    "plt.xlabel('Note (Pitch)')\n",
    "plt.ylabel('Velocity')\n",
    "plt.title('MIDI Note Clustering')\n",
    "plt.colorbar(label='Cluster')\n",
    "plt.show()"
   ]
  },
  {
   "cell_type": "code",
   "execution_count": null,
   "metadata": {},
   "outputs": [],
   "source": []
  },
  {
   "cell_type": "code",
   "execution_count": null,
   "metadata": {},
   "outputs": [],
   "source": []
  },
  {
   "cell_type": "code",
   "execution_count": null,
   "metadata": {},
   "outputs": [],
   "source": []
  },
  {
   "cell_type": "code",
   "execution_count": null,
   "metadata": {},
   "outputs": [],
   "source": []
  },
  {
   "cell_type": "markdown",
   "metadata": {},
   "source": [
    "## Clustering on live piano data"
   ]
  },
  {
   "cell_type": "code",
   "execution_count": 26,
   "metadata": {},
   "outputs": [],
   "source": [
    "import mido\n",
    "import threading\n",
    "from sklearn.cluster import KMeans\n",
    "import numpy as np\n",
    "import time\n",
    "import plotly.express as px\n",
    "import pandas as pd\n"
   ]
  },
  {
   "cell_type": "code",
   "execution_count": 28,
   "metadata": {},
   "outputs": [
    {
     "data": {
      "text/plain": [
       "['IAC_Driver python_to_logic', 'IAC_Driver logic_to_python', 'LPK25']"
      ]
     },
     "execution_count": 28,
     "metadata": {},
     "output_type": "execute_result"
    }
   ],
   "source": [
    "mido.get_output_names()"
   ]
  },
  {
   "cell_type": "code",
   "execution_count": 29,
   "metadata": {},
   "outputs": [],
   "source": [
    "# Open the input port for your MIDI device\n",
    "input_port = mido.open_input('LPK25')"
   ]
  },
  {
   "cell_type": "code",
   "execution_count": 30,
   "metadata": {},
   "outputs": [
    {
     "name": "stdout",
     "output_type": "stream",
     "text": [
      "Note: 0, Length: 0.17, Velocity: 84\n",
      "Note: 7, Length: 0.15, Velocity: 100\n",
      "Note: 9, Length: 0.17, Velocity: 96\n",
      "Note: 4, Length: 0.20, Velocity: 86\n",
      "Note: 7, Length: 0.11, Velocity: 98\n",
      "Note: 9, Length: 0.11, Velocity: 98\n",
      "Note: 4, Length: 0.13, Velocity: 97\n",
      "Note: 0, Length: 0.14, Velocity: 102\n",
      "Note: 9, Length: 0.14, Velocity: 97\n",
      "Note: 0, Length: 0.16, Velocity: 100\n",
      "Note: 4, Length: 0.17, Velocity: 102\n",
      "Note: 4, Length: 0.18, Velocity: 109\n",
      "Note: 0, Length: 0.19, Velocity: 108\n",
      "Note: 9, Length: 0.20, Velocity: 100\n",
      "Note: 4, Length: 0.16, Velocity: 60\n",
      "Note: 0, Length: 0.18, Velocity: 65\n",
      "Note: 9, Length: 0.14, Velocity: 21\n",
      "Note: 9, Length: 3.14, Velocity: 78\n",
      "Note: 0, Length: 3.17, Velocity: 90\n",
      "Note: 4, Length: 3.18, Velocity: 63\n",
      "Note: 117, Length: 0.21, Velocity: 94\n",
      "Note: 120, Length: 0.24, Velocity: 99\n",
      "Note: 113, Length: 0.24, Velocity: 102\n",
      "Note: 117, Length: 0.23, Velocity: 106\n",
      "Note: 120, Length: 0.24, Velocity: 96\n",
      "Note: 113, Length: 0.25, Velocity: 103\n",
      "Note: 105, Length: 0.20, Velocity: 105\n",
      "Note: 108, Length: 0.22, Velocity: 100\n",
      "Note: 101, Length: 0.22, Velocity: 105\n",
      "Note: 93, Length: 0.17, Velocity: 104\n",
      "Note: 89, Length: 0.21, Velocity: 104\n",
      "Note: 96, Length: 0.34, Velocity: 99\n",
      "Note: 81, Length: 0.20, Velocity: 103\n",
      "Note: 77, Length: 0.23, Velocity: 102\n",
      "Note: 84, Length: 0.25, Velocity: 97\n",
      "Note: 77, Length: 0.11, Velocity: 107\n",
      "Note: 81, Length: 0.13, Velocity: 104\n",
      "Note: 84, Length: 0.13, Velocity: 102\n",
      "Note: 84, Length: 0.09, Velocity: 107\n",
      "Note: 81, Length: 0.10, Velocity: 114\n",
      "Note: 77, Length: 0.10, Velocity: 109\n",
      "Note: 83, Length: 0.16, Velocity: 85\n",
      "Note: 78, Length: 0.18, Velocity: 88\n",
      "Note: 74, Length: 0.21, Velocity: 94\n",
      "Note: 79, Length: 0.19, Velocity: 89\n",
      "Note: 75, Length: 0.19, Velocity: 100\n",
      "Note: 71, Length: 0.24, Velocity: 66\n",
      "Note: 72, Length: 0.14, Velocity: 17\n",
      "Note: 76, Length: 0.22, Velocity: 98\n",
      "Note: 67, Length: 0.29, Velocity: 100\n",
      "Note: 58, Length: 0.16, Velocity: 85\n",
      "Note: 62, Length: 0.18, Velocity: 107\n",
      "Note: 55, Length: 0.18, Velocity: 98\n",
      "Note: 53, Length: 0.19, Velocity: 97\n",
      "Note: 46, Length: 0.11, Velocity: 63\n",
      "Note: 40, Length: 0.16, Velocity: 108\n",
      "Note: 41, Length: 0.19, Velocity: 108\n",
      "Note: 50, Length: 0.21, Velocity: 102\n",
      "Note: 43, Length: 0.12, Velocity: 102\n",
      "Note: 46, Length: 0.12, Velocity: 115\n",
      "Note: 50, Length: 0.11, Velocity: 103\n",
      "Note: 52, Length: 0.12, Velocity: 105\n",
      "Note: 65, Length: 0.11, Velocity: 101\n",
      "Note: 59, Length: 0.11, Velocity: 93\n",
      "Note: 67, Length: 0.12, Velocity: 105\n",
      "Note: 0, Length: 0.09, Velocity: 119\n",
      "Note: 7, Length: 0.10, Velocity: 116\n",
      "Note: 4, Length: 0.11, Velocity: 116\n",
      "Note: 0, Length: 0.06, Velocity: 115\n",
      "Note: 7, Length: 0.07, Velocity: 102\n",
      "Note: 4, Length: 0.07, Velocity: 112\n",
      "Note: 2, Length: 0.05, Velocity: 127\n",
      "Note: 5, Length: 0.05, Velocity: 117\n",
      "Note: 0, Length: 0.06, Velocity: 127\n",
      "Note: 4, Length: 0.07, Velocity: 122\n",
      "Note: 7, Length: 0.07, Velocity: 122\n",
      "Note: 0, Length: 0.06, Velocity: 121\n",
      "Note: 4, Length: 0.06, Velocity: 122\n",
      "Note: 7, Length: 0.07, Velocity: 118\n",
      "Note: 6, Length: 0.01, Velocity: 121\n",
      "Note: 0, Length: 0.06, Velocity: 121\n",
      "Note: 7, Length: 0.06, Velocity: 116\n",
      "Note: 4, Length: 0.06, Velocity: 121\n",
      "Note: 0, Length: 0.07, Velocity: 122\n",
      "Note: 7, Length: 0.07, Velocity: 119\n",
      "Note: 4, Length: 0.07, Velocity: 122\n",
      "Note: 6, Length: 0.01, Velocity: 123\n",
      "Note: 0, Length: 0.06, Velocity: 122\n",
      "Note: 7, Length: 0.07, Velocity: 120\n",
      "Note: 4, Length: 0.07, Velocity: 127\n",
      "Note: 0, Length: 0.06, Velocity: 122\n",
      "Note: 4, Length: 0.06, Velocity: 122\n",
      "Note: 7, Length: 0.06, Velocity: 122\n",
      "Note: 0, Length: 0.06, Velocity: 121\n",
      "Note: 4, Length: 0.07, Velocity: 124\n",
      "Note: 7, Length: 0.07, Velocity: 119\n",
      "Note: 0, Length: 0.06, Velocity: 120\n",
      "Note: 7, Length: 0.07, Velocity: 117\n",
      "Note: 4, Length: 0.06, Velocity: 122\n",
      "Note: 7, Length: 0.06, Velocity: 120\n",
      "MIDI data collection complete.\n"
     ]
    }
   ],
   "source": [
    "\n",
    "# Function to collect MIDI data\n",
    "# Initialize a dictionary to store note_on times and velocities, and a list to store notes\n",
    "note_on_times = {}\n",
    "note_velocities = {}\n",
    "notes = []\n",
    "\n",
    "def collect_midi_data():\n",
    "    for msg in input_port:\n",
    "        current_time = time.time()  # Get the current time\n",
    "        if msg.type == 'note_on' and msg.velocity > 0:  # Only consider note_on messages with non-zero velocity\n",
    "            note_on_times[msg.note] = current_time  # Record the time of the note_on event\n",
    "            note_velocities[msg.note] = msg.velocity  # Record the velocity of the note_on event\n",
    "        elif msg.type == 'note_off' or (msg.type == 'note_on' and msg.velocity == 0):  # Note off events\n",
    "            if msg.note in note_on_times:\n",
    "                note_length = current_time - note_on_times[msg.note]\n",
    "                velocity = note_velocities[msg.note]\n",
    "                notes.append([msg.note, note_length, velocity])\n",
    "                print(f\"Note: {msg.note}, Length: {note_length:.2f}, Velocity: {velocity}\")\n",
    "                del note_on_times[msg.note]\n",
    "                del note_velocities[msg.note]\n",
    "                if len(notes) >= 100:  # Stop collecting after 100 notes\n",
    "                    break\n",
    "\n",
    "# Run the MIDI data collection in a separate thread\n",
    "midi_thread = threading.Thread(target=collect_midi_data)\n",
    "midi_thread.start()\n",
    "\n",
    "# Wait for the thread to finish\n",
    "midi_thread.join()\n",
    "\n",
    "print(\"MIDI data collection complete.\")\n",
    "\n",
    "# Convert the collected notes to a NumPy array\n",
    "notes_array = np.array(notes)\n"
   ]
  },
  {
   "cell_type": "code",
   "execution_count": 31,
   "metadata": {},
   "outputs": [
    {
     "data": {
      "application/vnd.plotly.v1+json": {
       "config": {
        "plotlyServerURL": "https://plot.ly"
       },
       "data": [
        {
         "hovertemplate": "Note (Pitch)=%{x}<br>Length=%{y}<br>Velocity=%{z}<extra></extra>",
         "legendgroup": "",
         "marker": {
          "color": "#636efa",
          "symbol": "circle"
         },
         "mode": "markers",
         "name": "",
         "scene": "scene",
         "showlegend": false,
         "type": "scatter3d",
         "x": [
          0,
          7,
          9,
          4,
          7,
          9,
          4,
          0,
          9,
          0,
          4,
          4,
          0,
          9,
          4,
          0,
          9,
          9,
          0,
          4,
          117,
          120,
          113,
          117,
          120,
          113,
          105,
          108,
          101,
          93,
          89,
          96,
          81,
          77,
          84,
          77,
          81,
          84,
          84,
          81,
          77,
          83,
          78,
          74,
          79,
          75,
          71,
          72,
          76,
          67,
          58,
          62,
          55,
          53,
          46,
          40,
          41,
          50,
          43,
          46,
          50,
          52,
          65,
          59,
          67,
          0,
          7,
          4,
          0,
          7,
          4,
          2,
          5,
          0,
          4,
          7,
          0,
          4,
          7,
          6,
          0,
          7,
          4,
          0,
          7,
          4,
          6,
          0,
          7,
          4,
          0,
          4,
          7,
          0,
          4,
          7,
          0,
          7,
          4,
          7
         ],
         "y": [
          0.16689586639404297,
          0.1515812873840332,
          0.17208290100097656,
          0.19951367378234863,
          0.10602092742919922,
          0.10506796836853027,
          0.13368487358093262,
          0.13994884490966797,
          0.14252591133117676,
          0.16345787048339844,
          0.1680309772491455,
          0.18425774574279785,
          0.1920938491821289,
          0.20076203346252441,
          0.1592409610748291,
          0.17750811576843262,
          0.13807010650634766,
          3.143894910812378,
          3.1677849292755127,
          3.179348945617676,
          0.21153616905212402,
          0.24396276473999023,
          0.24426603317260742,
          0.23108291625976562,
          0.2400970458984375,
          0.2527191638946533,
          0.2036747932434082,
          0.2172989845275879,
          0.217695951461792,
          0.1689138412475586,
          0.21059417724609375,
          0.3379819393157959,
          0.1983480453491211,
          0.22959685325622559,
          0.2529900074005127,
          0.1141350269317627,
          0.12677812576293945,
          0.12726712226867676,
          0.0938420295715332,
          0.09565210342407227,
          0.09617280960083008,
          0.15586614608764648,
          0.1814267635345459,
          0.2103440761566162,
          0.18924593925476074,
          0.19124078750610352,
          0.24360895156860352,
          0.13802194595336914,
          0.22013187408447266,
          0.28878211975097656,
          0.16044068336486816,
          0.1817018985748291,
          0.18051934242248535,
          0.18783187866210938,
          0.10971498489379883,
          0.15763306617736816,
          0.1883378028869629,
          0.2128620147705078,
          0.12093997001647949,
          0.12023806571960449,
          0.10775494575500488,
          0.1154320240020752,
          0.10616302490234375,
          0.11301708221435547,
          0.11638998985290527,
          0.09449315071105957,
          0.10050296783447266,
          0.10677719116210938,
          0.06190299987792969,
          0.06598687171936035,
          0.06742715835571289,
          0.0484461784362793,
          0.05033683776855469,
          0.06396126747131348,
          0.06616592407226562,
          0.07441091537475586,
          0.05718398094177246,
          0.0620570182800293,
          0.06760120391845703,
          0.009193897247314453,
          0.05857396125793457,
          0.0595400333404541,
          0.0630350112915039,
          0.06653904914855957,
          0.06816506385803223,
          0.06824278831481934,
          0.007919073104858398,
          0.0626678466796875,
          0.06562185287475586,
          0.06565284729003906,
          0.057872772216796875,
          0.062026023864746094,
          0.06405186653137207,
          0.0623631477355957,
          0.06769490242004395,
          0.07178115844726562,
          0.057393789291381836,
          0.06587409973144531,
          0.0636301040649414,
          0.061395883560180664
         ],
         "z": [
          84,
          100,
          96,
          86,
          98,
          98,
          97,
          102,
          97,
          100,
          102,
          109,
          108,
          100,
          60,
          65,
          21,
          78,
          90,
          63,
          94,
          99,
          102,
          106,
          96,
          103,
          105,
          100,
          105,
          104,
          104,
          99,
          103,
          102,
          97,
          107,
          104,
          102,
          107,
          114,
          109,
          85,
          88,
          94,
          89,
          100,
          66,
          17,
          98,
          100,
          85,
          107,
          98,
          97,
          63,
          108,
          108,
          102,
          102,
          115,
          103,
          105,
          101,
          93,
          105,
          119,
          116,
          116,
          115,
          102,
          112,
          127,
          117,
          127,
          122,
          122,
          121,
          122,
          118,
          121,
          121,
          116,
          121,
          122,
          119,
          122,
          123,
          122,
          120,
          127,
          122,
          122,
          122,
          121,
          124,
          119,
          120,
          117,
          122,
          120
         ]
        }
       ],
       "layout": {
        "legend": {
         "tracegroupgap": 0
        },
        "scene": {
         "domain": {
          "x": [
           0,
           1
          ],
          "y": [
           0,
           1
          ]
         },
         "xaxis": {
          "title": {
           "text": "Note (Pitch)"
          }
         },
         "yaxis": {
          "title": {
           "text": "Length"
          }
         },
         "zaxis": {
          "title": {
           "text": "Velocity"
          }
         }
        },
        "template": {
         "data": {
          "bar": [
           {
            "error_x": {
             "color": "#2a3f5f"
            },
            "error_y": {
             "color": "#2a3f5f"
            },
            "marker": {
             "line": {
              "color": "#E5ECF6",
              "width": 0.5
             },
             "pattern": {
              "fillmode": "overlay",
              "size": 10,
              "solidity": 0.2
             }
            },
            "type": "bar"
           }
          ],
          "barpolar": [
           {
            "marker": {
             "line": {
              "color": "#E5ECF6",
              "width": 0.5
             },
             "pattern": {
              "fillmode": "overlay",
              "size": 10,
              "solidity": 0.2
             }
            },
            "type": "barpolar"
           }
          ],
          "carpet": [
           {
            "aaxis": {
             "endlinecolor": "#2a3f5f",
             "gridcolor": "white",
             "linecolor": "white",
             "minorgridcolor": "white",
             "startlinecolor": "#2a3f5f"
            },
            "baxis": {
             "endlinecolor": "#2a3f5f",
             "gridcolor": "white",
             "linecolor": "white",
             "minorgridcolor": "white",
             "startlinecolor": "#2a3f5f"
            },
            "type": "carpet"
           }
          ],
          "choropleth": [
           {
            "colorbar": {
             "outlinewidth": 0,
             "ticks": ""
            },
            "type": "choropleth"
           }
          ],
          "contour": [
           {
            "colorbar": {
             "outlinewidth": 0,
             "ticks": ""
            },
            "colorscale": [
             [
              0,
              "#0d0887"
             ],
             [
              0.1111111111111111,
              "#46039f"
             ],
             [
              0.2222222222222222,
              "#7201a8"
             ],
             [
              0.3333333333333333,
              "#9c179e"
             ],
             [
              0.4444444444444444,
              "#bd3786"
             ],
             [
              0.5555555555555556,
              "#d8576b"
             ],
             [
              0.6666666666666666,
              "#ed7953"
             ],
             [
              0.7777777777777778,
              "#fb9f3a"
             ],
             [
              0.8888888888888888,
              "#fdca26"
             ],
             [
              1,
              "#f0f921"
             ]
            ],
            "type": "contour"
           }
          ],
          "contourcarpet": [
           {
            "colorbar": {
             "outlinewidth": 0,
             "ticks": ""
            },
            "type": "contourcarpet"
           }
          ],
          "heatmap": [
           {
            "colorbar": {
             "outlinewidth": 0,
             "ticks": ""
            },
            "colorscale": [
             [
              0,
              "#0d0887"
             ],
             [
              0.1111111111111111,
              "#46039f"
             ],
             [
              0.2222222222222222,
              "#7201a8"
             ],
             [
              0.3333333333333333,
              "#9c179e"
             ],
             [
              0.4444444444444444,
              "#bd3786"
             ],
             [
              0.5555555555555556,
              "#d8576b"
             ],
             [
              0.6666666666666666,
              "#ed7953"
             ],
             [
              0.7777777777777778,
              "#fb9f3a"
             ],
             [
              0.8888888888888888,
              "#fdca26"
             ],
             [
              1,
              "#f0f921"
             ]
            ],
            "type": "heatmap"
           }
          ],
          "heatmapgl": [
           {
            "colorbar": {
             "outlinewidth": 0,
             "ticks": ""
            },
            "colorscale": [
             [
              0,
              "#0d0887"
             ],
             [
              0.1111111111111111,
              "#46039f"
             ],
             [
              0.2222222222222222,
              "#7201a8"
             ],
             [
              0.3333333333333333,
              "#9c179e"
             ],
             [
              0.4444444444444444,
              "#bd3786"
             ],
             [
              0.5555555555555556,
              "#d8576b"
             ],
             [
              0.6666666666666666,
              "#ed7953"
             ],
             [
              0.7777777777777778,
              "#fb9f3a"
             ],
             [
              0.8888888888888888,
              "#fdca26"
             ],
             [
              1,
              "#f0f921"
             ]
            ],
            "type": "heatmapgl"
           }
          ],
          "histogram": [
           {
            "marker": {
             "pattern": {
              "fillmode": "overlay",
              "size": 10,
              "solidity": 0.2
             }
            },
            "type": "histogram"
           }
          ],
          "histogram2d": [
           {
            "colorbar": {
             "outlinewidth": 0,
             "ticks": ""
            },
            "colorscale": [
             [
              0,
              "#0d0887"
             ],
             [
              0.1111111111111111,
              "#46039f"
             ],
             [
              0.2222222222222222,
              "#7201a8"
             ],
             [
              0.3333333333333333,
              "#9c179e"
             ],
             [
              0.4444444444444444,
              "#bd3786"
             ],
             [
              0.5555555555555556,
              "#d8576b"
             ],
             [
              0.6666666666666666,
              "#ed7953"
             ],
             [
              0.7777777777777778,
              "#fb9f3a"
             ],
             [
              0.8888888888888888,
              "#fdca26"
             ],
             [
              1,
              "#f0f921"
             ]
            ],
            "type": "histogram2d"
           }
          ],
          "histogram2dcontour": [
           {
            "colorbar": {
             "outlinewidth": 0,
             "ticks": ""
            },
            "colorscale": [
             [
              0,
              "#0d0887"
             ],
             [
              0.1111111111111111,
              "#46039f"
             ],
             [
              0.2222222222222222,
              "#7201a8"
             ],
             [
              0.3333333333333333,
              "#9c179e"
             ],
             [
              0.4444444444444444,
              "#bd3786"
             ],
             [
              0.5555555555555556,
              "#d8576b"
             ],
             [
              0.6666666666666666,
              "#ed7953"
             ],
             [
              0.7777777777777778,
              "#fb9f3a"
             ],
             [
              0.8888888888888888,
              "#fdca26"
             ],
             [
              1,
              "#f0f921"
             ]
            ],
            "type": "histogram2dcontour"
           }
          ],
          "mesh3d": [
           {
            "colorbar": {
             "outlinewidth": 0,
             "ticks": ""
            },
            "type": "mesh3d"
           }
          ],
          "parcoords": [
           {
            "line": {
             "colorbar": {
              "outlinewidth": 0,
              "ticks": ""
             }
            },
            "type": "parcoords"
           }
          ],
          "pie": [
           {
            "automargin": true,
            "type": "pie"
           }
          ],
          "scatter": [
           {
            "fillpattern": {
             "fillmode": "overlay",
             "size": 10,
             "solidity": 0.2
            },
            "type": "scatter"
           }
          ],
          "scatter3d": [
           {
            "line": {
             "colorbar": {
              "outlinewidth": 0,
              "ticks": ""
             }
            },
            "marker": {
             "colorbar": {
              "outlinewidth": 0,
              "ticks": ""
             }
            },
            "type": "scatter3d"
           }
          ],
          "scattercarpet": [
           {
            "marker": {
             "colorbar": {
              "outlinewidth": 0,
              "ticks": ""
             }
            },
            "type": "scattercarpet"
           }
          ],
          "scattergeo": [
           {
            "marker": {
             "colorbar": {
              "outlinewidth": 0,
              "ticks": ""
             }
            },
            "type": "scattergeo"
           }
          ],
          "scattergl": [
           {
            "marker": {
             "colorbar": {
              "outlinewidth": 0,
              "ticks": ""
             }
            },
            "type": "scattergl"
           }
          ],
          "scattermapbox": [
           {
            "marker": {
             "colorbar": {
              "outlinewidth": 0,
              "ticks": ""
             }
            },
            "type": "scattermapbox"
           }
          ],
          "scatterpolar": [
           {
            "marker": {
             "colorbar": {
              "outlinewidth": 0,
              "ticks": ""
             }
            },
            "type": "scatterpolar"
           }
          ],
          "scatterpolargl": [
           {
            "marker": {
             "colorbar": {
              "outlinewidth": 0,
              "ticks": ""
             }
            },
            "type": "scatterpolargl"
           }
          ],
          "scatterternary": [
           {
            "marker": {
             "colorbar": {
              "outlinewidth": 0,
              "ticks": ""
             }
            },
            "type": "scatterternary"
           }
          ],
          "surface": [
           {
            "colorbar": {
             "outlinewidth": 0,
             "ticks": ""
            },
            "colorscale": [
             [
              0,
              "#0d0887"
             ],
             [
              0.1111111111111111,
              "#46039f"
             ],
             [
              0.2222222222222222,
              "#7201a8"
             ],
             [
              0.3333333333333333,
              "#9c179e"
             ],
             [
              0.4444444444444444,
              "#bd3786"
             ],
             [
              0.5555555555555556,
              "#d8576b"
             ],
             [
              0.6666666666666666,
              "#ed7953"
             ],
             [
              0.7777777777777778,
              "#fb9f3a"
             ],
             [
              0.8888888888888888,
              "#fdca26"
             ],
             [
              1,
              "#f0f921"
             ]
            ],
            "type": "surface"
           }
          ],
          "table": [
           {
            "cells": {
             "fill": {
              "color": "#EBF0F8"
             },
             "line": {
              "color": "white"
             }
            },
            "header": {
             "fill": {
              "color": "#C8D4E3"
             },
             "line": {
              "color": "white"
             }
            },
            "type": "table"
           }
          ]
         },
         "layout": {
          "annotationdefaults": {
           "arrowcolor": "#2a3f5f",
           "arrowhead": 0,
           "arrowwidth": 1
          },
          "autotypenumbers": "strict",
          "coloraxis": {
           "colorbar": {
            "outlinewidth": 0,
            "ticks": ""
           }
          },
          "colorscale": {
           "diverging": [
            [
             0,
             "#8e0152"
            ],
            [
             0.1,
             "#c51b7d"
            ],
            [
             0.2,
             "#de77ae"
            ],
            [
             0.3,
             "#f1b6da"
            ],
            [
             0.4,
             "#fde0ef"
            ],
            [
             0.5,
             "#f7f7f7"
            ],
            [
             0.6,
             "#e6f5d0"
            ],
            [
             0.7,
             "#b8e186"
            ],
            [
             0.8,
             "#7fbc41"
            ],
            [
             0.9,
             "#4d9221"
            ],
            [
             1,
             "#276419"
            ]
           ],
           "sequential": [
            [
             0,
             "#0d0887"
            ],
            [
             0.1111111111111111,
             "#46039f"
            ],
            [
             0.2222222222222222,
             "#7201a8"
            ],
            [
             0.3333333333333333,
             "#9c179e"
            ],
            [
             0.4444444444444444,
             "#bd3786"
            ],
            [
             0.5555555555555556,
             "#d8576b"
            ],
            [
             0.6666666666666666,
             "#ed7953"
            ],
            [
             0.7777777777777778,
             "#fb9f3a"
            ],
            [
             0.8888888888888888,
             "#fdca26"
            ],
            [
             1,
             "#f0f921"
            ]
           ],
           "sequentialminus": [
            [
             0,
             "#0d0887"
            ],
            [
             0.1111111111111111,
             "#46039f"
            ],
            [
             0.2222222222222222,
             "#7201a8"
            ],
            [
             0.3333333333333333,
             "#9c179e"
            ],
            [
             0.4444444444444444,
             "#bd3786"
            ],
            [
             0.5555555555555556,
             "#d8576b"
            ],
            [
             0.6666666666666666,
             "#ed7953"
            ],
            [
             0.7777777777777778,
             "#fb9f3a"
            ],
            [
             0.8888888888888888,
             "#fdca26"
            ],
            [
             1,
             "#f0f921"
            ]
           ]
          },
          "colorway": [
           "#636efa",
           "#EF553B",
           "#00cc96",
           "#ab63fa",
           "#FFA15A",
           "#19d3f3",
           "#FF6692",
           "#B6E880",
           "#FF97FF",
           "#FECB52"
          ],
          "font": {
           "color": "#2a3f5f"
          },
          "geo": {
           "bgcolor": "white",
           "lakecolor": "white",
           "landcolor": "#E5ECF6",
           "showlakes": true,
           "showland": true,
           "subunitcolor": "white"
          },
          "hoverlabel": {
           "align": "left"
          },
          "hovermode": "closest",
          "mapbox": {
           "style": "light"
          },
          "paper_bgcolor": "white",
          "plot_bgcolor": "#E5ECF6",
          "polar": {
           "angularaxis": {
            "gridcolor": "white",
            "linecolor": "white",
            "ticks": ""
           },
           "bgcolor": "#E5ECF6",
           "radialaxis": {
            "gridcolor": "white",
            "linecolor": "white",
            "ticks": ""
           }
          },
          "scene": {
           "xaxis": {
            "backgroundcolor": "#E5ECF6",
            "gridcolor": "white",
            "gridwidth": 2,
            "linecolor": "white",
            "showbackground": true,
            "ticks": "",
            "zerolinecolor": "white"
           },
           "yaxis": {
            "backgroundcolor": "#E5ECF6",
            "gridcolor": "white",
            "gridwidth": 2,
            "linecolor": "white",
            "showbackground": true,
            "ticks": "",
            "zerolinecolor": "white"
           },
           "zaxis": {
            "backgroundcolor": "#E5ECF6",
            "gridcolor": "white",
            "gridwidth": 2,
            "linecolor": "white",
            "showbackground": true,
            "ticks": "",
            "zerolinecolor": "white"
           }
          },
          "shapedefaults": {
           "line": {
            "color": "#2a3f5f"
           }
          },
          "ternary": {
           "aaxis": {
            "gridcolor": "white",
            "linecolor": "white",
            "ticks": ""
           },
           "baxis": {
            "gridcolor": "white",
            "linecolor": "white",
            "ticks": ""
           },
           "bgcolor": "#E5ECF6",
           "caxis": {
            "gridcolor": "white",
            "linecolor": "white",
            "ticks": ""
           }
          },
          "title": {
           "x": 0.05
          },
          "xaxis": {
           "automargin": true,
           "gridcolor": "white",
           "linecolor": "white",
           "ticks": "",
           "title": {
            "standoff": 15
           },
           "zerolinecolor": "white",
           "zerolinewidth": 2
          },
          "yaxis": {
           "automargin": true,
           "gridcolor": "white",
           "linecolor": "white",
           "ticks": "",
           "title": {
            "standoff": 15
           },
           "zerolinecolor": "white",
           "zerolinewidth": 2
          }
         }
        },
        "title": {
         "text": "MIDI Notes in 3D Space"
        }
       }
      }
     },
     "metadata": {},
     "output_type": "display_data"
    }
   ],
   "source": [
    "# Show our notes in a  3D plot\n",
    "df = pd.DataFrame(notes_array, columns=['Note', 'Length', 'Velocity'])\n",
    "fig = px.scatter_3d(df, x='Note', y='Length', z='Velocity',\n",
    "                    labels={'Note': 'Note (Pitch)', 'Length': 'Length', 'Velocity': 'Velocity'},\n",
    "                    title='MIDI Notes in 3D Space')\n",
    "fig.show()"
   ]
  },
  {
   "cell_type": "code",
   "execution_count": 32,
   "metadata": {},
   "outputs": [
    {
     "name": "stdout",
     "output_type": "stream",
     "text": [
      "Clustering complete.\n"
     ]
    }
   ],
   "source": [
    "\n",
    "# Perform KMeans clustering\n",
    "kmeans = KMeans(n_clusters=3)\n",
    "kmeans.fit(notes_array)\n",
    "\n",
    "# Get the cluster labels\n",
    "labels = kmeans.labels_\n",
    "\n",
    "print(\"Clustering complete.\")\n"
   ]
  },
  {
   "cell_type": "code",
   "execution_count": 33,
   "metadata": {},
   "outputs": [
    {
     "data": {
      "text/plain": [
       "array([2, 2, 2, 2, 2, 2, 2, 2, 2, 2, 2, 2, 2, 2, 0, 0, 0, 0, 2, 0, 1, 1,\n",
       "       1, 1, 1, 1, 1, 1, 1, 1, 1, 1, 1, 1, 1, 1, 1, 1, 1, 1, 1, 1, 1, 1,\n",
       "       1, 1, 1, 0, 1, 1, 1, 1, 1, 1, 0, 2, 2, 1, 1, 1, 1, 1, 1, 1, 1, 2,\n",
       "       2, 2, 2, 2, 2, 2, 2, 2, 2, 2, 2, 2, 2, 2, 2, 2, 2, 2, 2, 2, 2, 2,\n",
       "       2, 2, 2, 2, 2, 2, 2, 2, 2, 2, 2, 2], dtype=int32)"
      ]
     },
     "execution_count": 33,
     "metadata": {},
     "output_type": "execute_result"
    }
   ],
   "source": [
    "labels"
   ]
  },
  {
   "cell_type": "code",
   "execution_count": 34,
   "metadata": {},
   "outputs": [
    {
     "data": {
      "application/vnd.plotly.v1+json": {
       "config": {
        "plotlyServerURL": "https://plot.ly"
       },
       "data": [
        {
         "hovertemplate": "Note (Pitch)=%{x}<br>Length=%{y}<br>Velocity=%{z}<br>Cluster=%{marker.color}<extra></extra>",
         "legendgroup": "",
         "marker": {
          "color": [
           2,
           2,
           2,
           2,
           2,
           2,
           2,
           2,
           2,
           2,
           2,
           2,
           2,
           2,
           0,
           0,
           0,
           0,
           2,
           0,
           1,
           1,
           1,
           1,
           1,
           1,
           1,
           1,
           1,
           1,
           1,
           1,
           1,
           1,
           1,
           1,
           1,
           1,
           1,
           1,
           1,
           1,
           1,
           1,
           1,
           1,
           1,
           0,
           1,
           1,
           1,
           1,
           1,
           1,
           0,
           2,
           2,
           1,
           1,
           1,
           1,
           1,
           1,
           1,
           1,
           2,
           2,
           2,
           2,
           2,
           2,
           2,
           2,
           2,
           2,
           2,
           2,
           2,
           2,
           2,
           2,
           2,
           2,
           2,
           2,
           2,
           2,
           2,
           2,
           2,
           2,
           2,
           2,
           2,
           2,
           2,
           2,
           2,
           2,
           2
          ],
          "coloraxis": "coloraxis",
          "symbol": "circle"
         },
         "mode": "markers",
         "name": "",
         "scene": "scene",
         "showlegend": false,
         "type": "scatter3d",
         "x": [
          0,
          7,
          9,
          4,
          7,
          9,
          4,
          0,
          9,
          0,
          4,
          4,
          0,
          9,
          4,
          0,
          9,
          9,
          0,
          4,
          117,
          120,
          113,
          117,
          120,
          113,
          105,
          108,
          101,
          93,
          89,
          96,
          81,
          77,
          84,
          77,
          81,
          84,
          84,
          81,
          77,
          83,
          78,
          74,
          79,
          75,
          71,
          72,
          76,
          67,
          58,
          62,
          55,
          53,
          46,
          40,
          41,
          50,
          43,
          46,
          50,
          52,
          65,
          59,
          67,
          0,
          7,
          4,
          0,
          7,
          4,
          2,
          5,
          0,
          4,
          7,
          0,
          4,
          7,
          6,
          0,
          7,
          4,
          0,
          7,
          4,
          6,
          0,
          7,
          4,
          0,
          4,
          7,
          0,
          4,
          7,
          0,
          7,
          4,
          7
         ],
         "y": [
          0.16689586639404297,
          0.1515812873840332,
          0.17208290100097656,
          0.19951367378234863,
          0.10602092742919922,
          0.10506796836853027,
          0.13368487358093262,
          0.13994884490966797,
          0.14252591133117676,
          0.16345787048339844,
          0.1680309772491455,
          0.18425774574279785,
          0.1920938491821289,
          0.20076203346252441,
          0.1592409610748291,
          0.17750811576843262,
          0.13807010650634766,
          3.143894910812378,
          3.1677849292755127,
          3.179348945617676,
          0.21153616905212402,
          0.24396276473999023,
          0.24426603317260742,
          0.23108291625976562,
          0.2400970458984375,
          0.2527191638946533,
          0.2036747932434082,
          0.2172989845275879,
          0.217695951461792,
          0.1689138412475586,
          0.21059417724609375,
          0.3379819393157959,
          0.1983480453491211,
          0.22959685325622559,
          0.2529900074005127,
          0.1141350269317627,
          0.12677812576293945,
          0.12726712226867676,
          0.0938420295715332,
          0.09565210342407227,
          0.09617280960083008,
          0.15586614608764648,
          0.1814267635345459,
          0.2103440761566162,
          0.18924593925476074,
          0.19124078750610352,
          0.24360895156860352,
          0.13802194595336914,
          0.22013187408447266,
          0.28878211975097656,
          0.16044068336486816,
          0.1817018985748291,
          0.18051934242248535,
          0.18783187866210938,
          0.10971498489379883,
          0.15763306617736816,
          0.1883378028869629,
          0.2128620147705078,
          0.12093997001647949,
          0.12023806571960449,
          0.10775494575500488,
          0.1154320240020752,
          0.10616302490234375,
          0.11301708221435547,
          0.11638998985290527,
          0.09449315071105957,
          0.10050296783447266,
          0.10677719116210938,
          0.06190299987792969,
          0.06598687171936035,
          0.06742715835571289,
          0.0484461784362793,
          0.05033683776855469,
          0.06396126747131348,
          0.06616592407226562,
          0.07441091537475586,
          0.05718398094177246,
          0.0620570182800293,
          0.06760120391845703,
          0.009193897247314453,
          0.05857396125793457,
          0.0595400333404541,
          0.0630350112915039,
          0.06653904914855957,
          0.06816506385803223,
          0.06824278831481934,
          0.007919073104858398,
          0.0626678466796875,
          0.06562185287475586,
          0.06565284729003906,
          0.057872772216796875,
          0.062026023864746094,
          0.06405186653137207,
          0.0623631477355957,
          0.06769490242004395,
          0.07178115844726562,
          0.057393789291381836,
          0.06587409973144531,
          0.0636301040649414,
          0.061395883560180664
         ],
         "z": [
          84,
          100,
          96,
          86,
          98,
          98,
          97,
          102,
          97,
          100,
          102,
          109,
          108,
          100,
          60,
          65,
          21,
          78,
          90,
          63,
          94,
          99,
          102,
          106,
          96,
          103,
          105,
          100,
          105,
          104,
          104,
          99,
          103,
          102,
          97,
          107,
          104,
          102,
          107,
          114,
          109,
          85,
          88,
          94,
          89,
          100,
          66,
          17,
          98,
          100,
          85,
          107,
          98,
          97,
          63,
          108,
          108,
          102,
          102,
          115,
          103,
          105,
          101,
          93,
          105,
          119,
          116,
          116,
          115,
          102,
          112,
          127,
          117,
          127,
          122,
          122,
          121,
          122,
          118,
          121,
          121,
          116,
          121,
          122,
          119,
          122,
          123,
          122,
          120,
          127,
          122,
          122,
          122,
          121,
          124,
          119,
          120,
          117,
          122,
          120
         ]
        }
       ],
       "layout": {
        "coloraxis": {
         "colorbar": {
          "title": {
           "text": "Cluster"
          }
         },
         "colorscale": [
          [
           0,
           "#0d0887"
          ],
          [
           0.1111111111111111,
           "#46039f"
          ],
          [
           0.2222222222222222,
           "#7201a8"
          ],
          [
           0.3333333333333333,
           "#9c179e"
          ],
          [
           0.4444444444444444,
           "#bd3786"
          ],
          [
           0.5555555555555556,
           "#d8576b"
          ],
          [
           0.6666666666666666,
           "#ed7953"
          ],
          [
           0.7777777777777778,
           "#fb9f3a"
          ],
          [
           0.8888888888888888,
           "#fdca26"
          ],
          [
           1,
           "#f0f921"
          ]
         ]
        },
        "legend": {
         "tracegroupgap": 0
        },
        "scene": {
         "domain": {
          "x": [
           0,
           1
          ],
          "y": [
           0,
           1
          ]
         },
         "xaxis": {
          "title": {
           "text": "Note (Pitch)"
          }
         },
         "yaxis": {
          "title": {
           "text": "Length"
          }
         },
         "zaxis": {
          "title": {
           "text": "Velocity"
          }
         }
        },
        "template": {
         "data": {
          "bar": [
           {
            "error_x": {
             "color": "#2a3f5f"
            },
            "error_y": {
             "color": "#2a3f5f"
            },
            "marker": {
             "line": {
              "color": "#E5ECF6",
              "width": 0.5
             },
             "pattern": {
              "fillmode": "overlay",
              "size": 10,
              "solidity": 0.2
             }
            },
            "type": "bar"
           }
          ],
          "barpolar": [
           {
            "marker": {
             "line": {
              "color": "#E5ECF6",
              "width": 0.5
             },
             "pattern": {
              "fillmode": "overlay",
              "size": 10,
              "solidity": 0.2
             }
            },
            "type": "barpolar"
           }
          ],
          "carpet": [
           {
            "aaxis": {
             "endlinecolor": "#2a3f5f",
             "gridcolor": "white",
             "linecolor": "white",
             "minorgridcolor": "white",
             "startlinecolor": "#2a3f5f"
            },
            "baxis": {
             "endlinecolor": "#2a3f5f",
             "gridcolor": "white",
             "linecolor": "white",
             "minorgridcolor": "white",
             "startlinecolor": "#2a3f5f"
            },
            "type": "carpet"
           }
          ],
          "choropleth": [
           {
            "colorbar": {
             "outlinewidth": 0,
             "ticks": ""
            },
            "type": "choropleth"
           }
          ],
          "contour": [
           {
            "colorbar": {
             "outlinewidth": 0,
             "ticks": ""
            },
            "colorscale": [
             [
              0,
              "#0d0887"
             ],
             [
              0.1111111111111111,
              "#46039f"
             ],
             [
              0.2222222222222222,
              "#7201a8"
             ],
             [
              0.3333333333333333,
              "#9c179e"
             ],
             [
              0.4444444444444444,
              "#bd3786"
             ],
             [
              0.5555555555555556,
              "#d8576b"
             ],
             [
              0.6666666666666666,
              "#ed7953"
             ],
             [
              0.7777777777777778,
              "#fb9f3a"
             ],
             [
              0.8888888888888888,
              "#fdca26"
             ],
             [
              1,
              "#f0f921"
             ]
            ],
            "type": "contour"
           }
          ],
          "contourcarpet": [
           {
            "colorbar": {
             "outlinewidth": 0,
             "ticks": ""
            },
            "type": "contourcarpet"
           }
          ],
          "heatmap": [
           {
            "colorbar": {
             "outlinewidth": 0,
             "ticks": ""
            },
            "colorscale": [
             [
              0,
              "#0d0887"
             ],
             [
              0.1111111111111111,
              "#46039f"
             ],
             [
              0.2222222222222222,
              "#7201a8"
             ],
             [
              0.3333333333333333,
              "#9c179e"
             ],
             [
              0.4444444444444444,
              "#bd3786"
             ],
             [
              0.5555555555555556,
              "#d8576b"
             ],
             [
              0.6666666666666666,
              "#ed7953"
             ],
             [
              0.7777777777777778,
              "#fb9f3a"
             ],
             [
              0.8888888888888888,
              "#fdca26"
             ],
             [
              1,
              "#f0f921"
             ]
            ],
            "type": "heatmap"
           }
          ],
          "heatmapgl": [
           {
            "colorbar": {
             "outlinewidth": 0,
             "ticks": ""
            },
            "colorscale": [
             [
              0,
              "#0d0887"
             ],
             [
              0.1111111111111111,
              "#46039f"
             ],
             [
              0.2222222222222222,
              "#7201a8"
             ],
             [
              0.3333333333333333,
              "#9c179e"
             ],
             [
              0.4444444444444444,
              "#bd3786"
             ],
             [
              0.5555555555555556,
              "#d8576b"
             ],
             [
              0.6666666666666666,
              "#ed7953"
             ],
             [
              0.7777777777777778,
              "#fb9f3a"
             ],
             [
              0.8888888888888888,
              "#fdca26"
             ],
             [
              1,
              "#f0f921"
             ]
            ],
            "type": "heatmapgl"
           }
          ],
          "histogram": [
           {
            "marker": {
             "pattern": {
              "fillmode": "overlay",
              "size": 10,
              "solidity": 0.2
             }
            },
            "type": "histogram"
           }
          ],
          "histogram2d": [
           {
            "colorbar": {
             "outlinewidth": 0,
             "ticks": ""
            },
            "colorscale": [
             [
              0,
              "#0d0887"
             ],
             [
              0.1111111111111111,
              "#46039f"
             ],
             [
              0.2222222222222222,
              "#7201a8"
             ],
             [
              0.3333333333333333,
              "#9c179e"
             ],
             [
              0.4444444444444444,
              "#bd3786"
             ],
             [
              0.5555555555555556,
              "#d8576b"
             ],
             [
              0.6666666666666666,
              "#ed7953"
             ],
             [
              0.7777777777777778,
              "#fb9f3a"
             ],
             [
              0.8888888888888888,
              "#fdca26"
             ],
             [
              1,
              "#f0f921"
             ]
            ],
            "type": "histogram2d"
           }
          ],
          "histogram2dcontour": [
           {
            "colorbar": {
             "outlinewidth": 0,
             "ticks": ""
            },
            "colorscale": [
             [
              0,
              "#0d0887"
             ],
             [
              0.1111111111111111,
              "#46039f"
             ],
             [
              0.2222222222222222,
              "#7201a8"
             ],
             [
              0.3333333333333333,
              "#9c179e"
             ],
             [
              0.4444444444444444,
              "#bd3786"
             ],
             [
              0.5555555555555556,
              "#d8576b"
             ],
             [
              0.6666666666666666,
              "#ed7953"
             ],
             [
              0.7777777777777778,
              "#fb9f3a"
             ],
             [
              0.8888888888888888,
              "#fdca26"
             ],
             [
              1,
              "#f0f921"
             ]
            ],
            "type": "histogram2dcontour"
           }
          ],
          "mesh3d": [
           {
            "colorbar": {
             "outlinewidth": 0,
             "ticks": ""
            },
            "type": "mesh3d"
           }
          ],
          "parcoords": [
           {
            "line": {
             "colorbar": {
              "outlinewidth": 0,
              "ticks": ""
             }
            },
            "type": "parcoords"
           }
          ],
          "pie": [
           {
            "automargin": true,
            "type": "pie"
           }
          ],
          "scatter": [
           {
            "fillpattern": {
             "fillmode": "overlay",
             "size": 10,
             "solidity": 0.2
            },
            "type": "scatter"
           }
          ],
          "scatter3d": [
           {
            "line": {
             "colorbar": {
              "outlinewidth": 0,
              "ticks": ""
             }
            },
            "marker": {
             "colorbar": {
              "outlinewidth": 0,
              "ticks": ""
             }
            },
            "type": "scatter3d"
           }
          ],
          "scattercarpet": [
           {
            "marker": {
             "colorbar": {
              "outlinewidth": 0,
              "ticks": ""
             }
            },
            "type": "scattercarpet"
           }
          ],
          "scattergeo": [
           {
            "marker": {
             "colorbar": {
              "outlinewidth": 0,
              "ticks": ""
             }
            },
            "type": "scattergeo"
           }
          ],
          "scattergl": [
           {
            "marker": {
             "colorbar": {
              "outlinewidth": 0,
              "ticks": ""
             }
            },
            "type": "scattergl"
           }
          ],
          "scattermapbox": [
           {
            "marker": {
             "colorbar": {
              "outlinewidth": 0,
              "ticks": ""
             }
            },
            "type": "scattermapbox"
           }
          ],
          "scatterpolar": [
           {
            "marker": {
             "colorbar": {
              "outlinewidth": 0,
              "ticks": ""
             }
            },
            "type": "scatterpolar"
           }
          ],
          "scatterpolargl": [
           {
            "marker": {
             "colorbar": {
              "outlinewidth": 0,
              "ticks": ""
             }
            },
            "type": "scatterpolargl"
           }
          ],
          "scatterternary": [
           {
            "marker": {
             "colorbar": {
              "outlinewidth": 0,
              "ticks": ""
             }
            },
            "type": "scatterternary"
           }
          ],
          "surface": [
           {
            "colorbar": {
             "outlinewidth": 0,
             "ticks": ""
            },
            "colorscale": [
             [
              0,
              "#0d0887"
             ],
             [
              0.1111111111111111,
              "#46039f"
             ],
             [
              0.2222222222222222,
              "#7201a8"
             ],
             [
              0.3333333333333333,
              "#9c179e"
             ],
             [
              0.4444444444444444,
              "#bd3786"
             ],
             [
              0.5555555555555556,
              "#d8576b"
             ],
             [
              0.6666666666666666,
              "#ed7953"
             ],
             [
              0.7777777777777778,
              "#fb9f3a"
             ],
             [
              0.8888888888888888,
              "#fdca26"
             ],
             [
              1,
              "#f0f921"
             ]
            ],
            "type": "surface"
           }
          ],
          "table": [
           {
            "cells": {
             "fill": {
              "color": "#EBF0F8"
             },
             "line": {
              "color": "white"
             }
            },
            "header": {
             "fill": {
              "color": "#C8D4E3"
             },
             "line": {
              "color": "white"
             }
            },
            "type": "table"
           }
          ]
         },
         "layout": {
          "annotationdefaults": {
           "arrowcolor": "#2a3f5f",
           "arrowhead": 0,
           "arrowwidth": 1
          },
          "autotypenumbers": "strict",
          "coloraxis": {
           "colorbar": {
            "outlinewidth": 0,
            "ticks": ""
           }
          },
          "colorscale": {
           "diverging": [
            [
             0,
             "#8e0152"
            ],
            [
             0.1,
             "#c51b7d"
            ],
            [
             0.2,
             "#de77ae"
            ],
            [
             0.3,
             "#f1b6da"
            ],
            [
             0.4,
             "#fde0ef"
            ],
            [
             0.5,
             "#f7f7f7"
            ],
            [
             0.6,
             "#e6f5d0"
            ],
            [
             0.7,
             "#b8e186"
            ],
            [
             0.8,
             "#7fbc41"
            ],
            [
             0.9,
             "#4d9221"
            ],
            [
             1,
             "#276419"
            ]
           ],
           "sequential": [
            [
             0,
             "#0d0887"
            ],
            [
             0.1111111111111111,
             "#46039f"
            ],
            [
             0.2222222222222222,
             "#7201a8"
            ],
            [
             0.3333333333333333,
             "#9c179e"
            ],
            [
             0.4444444444444444,
             "#bd3786"
            ],
            [
             0.5555555555555556,
             "#d8576b"
            ],
            [
             0.6666666666666666,
             "#ed7953"
            ],
            [
             0.7777777777777778,
             "#fb9f3a"
            ],
            [
             0.8888888888888888,
             "#fdca26"
            ],
            [
             1,
             "#f0f921"
            ]
           ],
           "sequentialminus": [
            [
             0,
             "#0d0887"
            ],
            [
             0.1111111111111111,
             "#46039f"
            ],
            [
             0.2222222222222222,
             "#7201a8"
            ],
            [
             0.3333333333333333,
             "#9c179e"
            ],
            [
             0.4444444444444444,
             "#bd3786"
            ],
            [
             0.5555555555555556,
             "#d8576b"
            ],
            [
             0.6666666666666666,
             "#ed7953"
            ],
            [
             0.7777777777777778,
             "#fb9f3a"
            ],
            [
             0.8888888888888888,
             "#fdca26"
            ],
            [
             1,
             "#f0f921"
            ]
           ]
          },
          "colorway": [
           "#636efa",
           "#EF553B",
           "#00cc96",
           "#ab63fa",
           "#FFA15A",
           "#19d3f3",
           "#FF6692",
           "#B6E880",
           "#FF97FF",
           "#FECB52"
          ],
          "font": {
           "color": "#2a3f5f"
          },
          "geo": {
           "bgcolor": "white",
           "lakecolor": "white",
           "landcolor": "#E5ECF6",
           "showlakes": true,
           "showland": true,
           "subunitcolor": "white"
          },
          "hoverlabel": {
           "align": "left"
          },
          "hovermode": "closest",
          "mapbox": {
           "style": "light"
          },
          "paper_bgcolor": "white",
          "plot_bgcolor": "#E5ECF6",
          "polar": {
           "angularaxis": {
            "gridcolor": "white",
            "linecolor": "white",
            "ticks": ""
           },
           "bgcolor": "#E5ECF6",
           "radialaxis": {
            "gridcolor": "white",
            "linecolor": "white",
            "ticks": ""
           }
          },
          "scene": {
           "xaxis": {
            "backgroundcolor": "#E5ECF6",
            "gridcolor": "white",
            "gridwidth": 2,
            "linecolor": "white",
            "showbackground": true,
            "ticks": "",
            "zerolinecolor": "white"
           },
           "yaxis": {
            "backgroundcolor": "#E5ECF6",
            "gridcolor": "white",
            "gridwidth": 2,
            "linecolor": "white",
            "showbackground": true,
            "ticks": "",
            "zerolinecolor": "white"
           },
           "zaxis": {
            "backgroundcolor": "#E5ECF6",
            "gridcolor": "white",
            "gridwidth": 2,
            "linecolor": "white",
            "showbackground": true,
            "ticks": "",
            "zerolinecolor": "white"
           }
          },
          "shapedefaults": {
           "line": {
            "color": "#2a3f5f"
           }
          },
          "ternary": {
           "aaxis": {
            "gridcolor": "white",
            "linecolor": "white",
            "ticks": ""
           },
           "baxis": {
            "gridcolor": "white",
            "linecolor": "white",
            "ticks": ""
           },
           "bgcolor": "#E5ECF6",
           "caxis": {
            "gridcolor": "white",
            "linecolor": "white",
            "ticks": ""
           }
          },
          "title": {
           "x": 0.05
          },
          "xaxis": {
           "automargin": true,
           "gridcolor": "white",
           "linecolor": "white",
           "ticks": "",
           "title": {
            "standoff": 15
           },
           "zerolinecolor": "white",
           "zerolinewidth": 2
          },
          "yaxis": {
           "automargin": true,
           "gridcolor": "white",
           "linecolor": "white",
           "ticks": "",
           "title": {
            "standoff": 15
           },
           "zerolinecolor": "white",
           "zerolinewidth": 2
          }
         }
        },
        "title": {
         "text": "MIDI Note Clustering"
        }
       }
      }
     },
     "metadata": {},
     "output_type": "display_data"
    }
   ],
   "source": [
    "\n",
    "# Convert the notes array to a pandas DataFrame for Plotly\n",
    "df = pd.DataFrame(notes_array, columns=['Note', 'Length', 'Velocity'])\n",
    "df['Cluster'] = labels\n",
    "\n",
    "# Plot the clusters in 3D using Plotly Express\n",
    "fig = px.scatter_3d(df, x='Note', y='Length', z='Velocity', color='Cluster',\n",
    "                    labels={'Note': 'Note (Pitch)', 'Length': 'Length', 'Velocity': 'Velocity'},\n",
    "                    title='MIDI Note Clustering')\n",
    "\n",
    "fig.show()"
   ]
  },
  {
   "cell_type": "code",
   "execution_count": null,
   "metadata": {},
   "outputs": [],
   "source": []
  },
  {
   "cell_type": "code",
   "execution_count": null,
   "metadata": {},
   "outputs": [],
   "source": []
  },
  {
   "cell_type": "code",
   "execution_count": null,
   "metadata": {},
   "outputs": [],
   "source": []
  },
  {
   "cell_type": "markdown",
   "metadata": {},
   "source": [
    "# Let's dig deeper : Play with chords"
   ]
  },
  {
   "cell_type": "markdown",
   "metadata": {},
   "source": []
  },
  {
   "cell_type": "code",
   "execution_count": null,
   "metadata": {},
   "outputs": [],
   "source": [
    "# import the chord mapping dictionary\n",
    "from chord_mapping import chord_mapping"
   ]
  },
  {
   "cell_type": "code",
   "execution_count": null,
   "metadata": {},
   "outputs": [],
   "source": [
    "# Chord identification\n",
    "# Define common chords and their note structures\n",
    "\n",
    "def identify_chord(notes):\n",
    "    notes = sorted(notes)  # Sort the notes\n",
    "    for chord_name, chord_notes in chord_mapping.items():\n",
    "        if set(chord_notes).issubset(notes):\n",
    "            return chord_name\n",
    "    return 'Unknown'\n",
    "\n",
    "# Extract chords from the collected notes\n",
    "chords = []\n",
    "current_chord = []\n",
    "for note in notes:\n",
    "    current_chord.append(note[0])\n",
    "    chord_name = identify_chord(current_chord)\n",
    "    if chord_name != 'Unknown':\n",
    "        chords.append((note, chord_name))\n",
    "        current_chord = []  # Reset for the next chord\n",
    "\n",
    "# Print identified chords\n",
    "for chord in chords:\n",
    "    print(f\"Chord: {chord[1]}, Note: {chord[0][0]}, Velocity: {chord[0][1]}\")"
   ]
  },
  {
   "cell_type": "code",
   "execution_count": null,
   "metadata": {},
   "outputs": [],
   "source": []
  },
  {
   "cell_type": "code",
   "execution_count": null,
   "metadata": {},
   "outputs": [],
   "source": [
    "# Clustering and Visualization\n",
    "# Convert the collected notes to a NumPy array\n",
    "notes_array = np.array([note[0] for note in notes])\n",
    "\n",
    "# Perform KMeans clustering\n",
    "kmeans = KMeans(n_clusters=3)\n",
    "kmeans.fit(notes_array.reshape(-1, 1))\n",
    "\n",
    "# Get the cluster labels\n",
    "labels = kmeans.labels_\n",
    "\n",
    "# Create a list to store labeled data\n",
    "labeled_data = []\n",
    "for i, note in enumerate(notes):\n",
    "    chord_name = identify_chord([note[0]])\n",
    "    labeled_data.append((note[0], note[1], labels[i], chord_name))\n",
    "\n",
    "# Plot the clusters with chord labels\n",
    "fig, ax = plt.subplots()\n",
    "scatter = ax.scatter(notes_array, [note[1] for note in notes], c=labels, cmap='viridis')\n",
    "for i, txt in enumerate([ld[3] for ld in labeled_data]):\n",
    "    ax.annotate(txt, (notes_array[i], notes[i][1]), fontsize=8, ha='right')\n",
    "plt.xlabel('Note (Pitch)')\n",
    "plt.ylabel('Velocity')\n",
    "plt.title('MIDI Note Clustering with Chord Labels')\n",
    "plt.colorbar(scatter, label='Cluster')\n",
    "plt.show()"
   ]
  },
  {
   "cell_type": "markdown",
   "metadata": {},
   "source": [
    "# What would a supervised method look like?"
   ]
  },
  {
   "cell_type": "code",
   "execution_count": null,
   "metadata": {},
   "outputs": [],
   "source": [
    "import mido\n",
    "import threading\n",
    "import numpy as np\n",
    "import matplotlib.pyplot as plt\n",
    "from sklearn.model_selection import train_test_split\n",
    "from sklearn.ensemble import RandomForestClassifier\n",
    "from sklearn.metrics import accuracy_score, classification_report\n",
    "import time\n",
    "from chord_mapping import chord_mapping  # Import the chord mapping dictionary\n"
   ]
  },
  {
   "cell_type": "code",
   "execution_count": null,
   "metadata": {},
   "outputs": [],
   "source": [
    "\n",
    "def collect_midi_data(input_port, num_notes=100):\n",
    "    notes = []\n",
    "    start_time = time.time()\n",
    "    for msg in input_port:\n",
    "        if msg.type == 'note_on' and msg.velocity > 0:  # Only consider note_on messages with non-zero velocity\n",
    "            timestamp = time.time() - start_time\n",
    "            notes.append((msg.note, msg.velocity, timestamp))\n",
    "            print(f\"Note: {msg.note}, Velocity: {msg.velocity}, Timestamp: {timestamp}\")\n",
    "            if len(notes) >= num_notes:  # Stop collecting after the specified number of notes\n",
    "                break\n",
    "    return notes\n"
   ]
  },
  {
   "cell_type": "code",
   "execution_count": null,
   "metadata": {},
   "outputs": [],
   "source": [
    "def group_notes(notes):\n",
    "    # Sort notes by their start time\n",
    "    notes.sort(key=lambda x: x[2])\n",
    "\n",
    "    chords = []\n",
    "    current_chord = []\n",
    "    \n",
    "    for note in notes:\n",
    "        # If current_chord is empty or there is overlap\n",
    "        if not current_chord or note[2] <= max(n[3] for n in current_chord):\n",
    "            current_chord.append(note)\n",
    "        else:\n",
    "            chords.append(current_chord)\n",
    "            current_chord = [note]\n",
    "    \n",
    "    if current_chord:\n",
    "        chords.append(current_chord)\n",
    "    \n",
    "    return chords"
   ]
  },
  {
   "cell_type": "code",
   "execution_count": null,
   "metadata": {},
   "outputs": [],
   "source": [
    "def normalize_notes(notes):\n",
    "    \"\"\"Normalize notes to a single octave.\"\"\"\n",
    "    return [note % 12 for note in notes]"
   ]
  },
  {
   "cell_type": "code",
   "execution_count": null,
   "metadata": {},
   "outputs": [],
   "source": [
    "\n",
    "def identify_chord(notes):\n",
    "    \"\"\"Identify the chord from normalized notes.\"\"\"\n",
    "    normalized_notes = normalize_notes([note[0] for note in notes])\n",
    "    sorted_notes = sorted(normalized_notes)  # Sort the notes by pitch\n",
    "    for chord_name, chord_notes in chord_mapping.items():\n",
    "        normalized_chord_notes = normalize_notes(chord_notes)\n",
    "        if set(normalized_chord_notes) == set(sorted_notes):\n",
    "            return chord_name\n",
    "    return 'Unknown'\n"
   ]
  },
  {
   "cell_type": "code",
   "execution_count": null,
   "metadata": {},
   "outputs": [],
   "source": [
    "\n",
    "def label_chords(chords):\n",
    "    labeled_chords = []\n",
    "    for chord in chords:\n",
    "        chord_notes = [note[0] for note in chord]\n",
    "        chord_name = identify_chord(chord_notes)\n",
    "        if chord_name != 'Unknown':\n",
    "            labeled_chords.append((chord, chord_name))\n",
    "    return labeled_chords\n"
   ]
  },
  {
   "cell_type": "code",
   "execution_count": null,
   "metadata": {},
   "outputs": [],
   "source": [
    "\n",
    "def prepare_data(labeled_chords):\n",
    "    features = []\n",
    "    labels = []\n",
    "    for chord, chord_name in labeled_chords:\n",
    "        note_features = [note[0] for note in chord] + [note[1] for note in chord]\n",
    "        features.append(note_features)\n",
    "        labels.append(chord_name)\n",
    "    return np.array(features), np.array(labels)\n"
   ]
  },
  {
   "cell_type": "code",
   "execution_count": null,
   "metadata": {},
   "outputs": [],
   "source": [
    "\n",
    "def train_classifier(X_train, y_train):\n",
    "    classifier = RandomForestClassifier(n_estimators=100, random_state=42)\n",
    "    classifier.fit(X_train, y_train)\n",
    "    return classifier\n"
   ]
  },
  {
   "cell_type": "code",
   "execution_count": null,
   "metadata": {},
   "outputs": [],
   "source": [
    "\n",
    "def evaluate_classifier(classifier, X_test, y_test):\n",
    "    y_pred = classifier.predict(X_test)\n",
    "    accuracy = accuracy_score(y_test, y_pred)\n",
    "    report = classification_report(y_test, y_pred)\n",
    "    return accuracy, report\n"
   ]
  },
  {
   "cell_type": "code",
   "execution_count": null,
   "metadata": {},
   "outputs": [],
   "source": [
    "from sklearn.decomposition import PCA\n",
    "def plot_chord_clusters(features, labels, classifier):\n",
    "    if len(features) > 0:\n",
    "        # Reduce dimensions to 2D for visualization using PCA\n",
    "\n",
    "        pca = PCA(n_components=2)\n",
    "        reduced_features = pca.fit_transform(features)\n",
    "        \n",
    "        # Predict the clusters for the features\n",
    "        cluster_labels = classifier.predict(features)\n",
    "        \n",
    "        unique_chords = list(set(labels))\n",
    "        colors = plt.get_cmap('tab20')(np.linspace(0, 1, len(unique_chords)))\n",
    "        chord_color_map = {chord: colors[i] for i, chord in enumerate(unique_chords)}\n",
    "\n",
    "        fig, ax = plt.subplots()\n",
    "        for chord in unique_chords:\n",
    "            idxs = [i for i, label in enumerate(labels) if label == chord]\n",
    "            ax.scatter(reduced_features[idxs, 0], reduced_features[idxs, 1], \n",
    "                       color=chord_color_map[chord], label=chord, alpha=0.6, edgecolors='w', s=100)\n",
    "\n",
    "        ax.set_xlabel('Principal Component 1')\n",
    "        ax.set_ylabel('Principal Component 2')\n",
    "        ax.set_title('MIDI Note Clustering with Chord Labels')\n",
    "        ax.legend(title='Chords')\n",
    "        plt.show()\n",
    "    else:\n",
    "        print(\"No identified chords to plot.\")\n"
   ]
  },
  {
   "cell_type": "code",
   "execution_count": null,
   "metadata": {},
   "outputs": [],
   "source": [
    "\n",
    "def main():\n",
    "    input_port = mido.open_input('LPK25')\n",
    "\n",
    "    notes = collect_midi_data(input_port)\n",
    "    chords = group_notes(notes)\n",
    "    labeled_chords = label_chords(chords)\n",
    "\n",
    "if __name__ == \"__main__\":\n",
    "    main()"
   ]
  },
  {
   "cell_type": "markdown",
   "metadata": {},
   "source": [
    "# Example 3 : Live chord identification"
   ]
  },
  {
   "cell_type": "code",
   "execution_count": null,
   "metadata": {},
   "outputs": [],
   "source": [
    "# Chord is unknown because octaves are not considered\n",
    "# We'll normalize the notes to a single octave"
   ]
  },
  {
   "cell_type": "markdown",
   "metadata": {},
   "source": [
    "#### New approach "
   ]
  },
  {
   "cell_type": "code",
   "execution_count": null,
   "metadata": {},
   "outputs": [],
   "source": [
    "'''\n",
    "Let's generate the chords on the fly based on the note intervals\n",
    "'''"
   ]
  },
  {
   "cell_type": "code",
   "execution_count": null,
   "metadata": {},
   "outputs": [],
   "source": [
    "import mido\n",
    "\n",
    "# Define intervals for common chords\n",
    "CHORD_INTERVALS = {\n",
    "    'major': [0, 4, 7],\n",
    "    'minor': [0, 3, 7],\n",
    "    'diminished': [0, 3, 6],\n",
    "    'augmented': [0, 4, 8],\n",
    "    'sus2': [0, 2, 7],\n",
    "    'sus4': [0, 5, 7],\n",
    "    'add9': [0, 4, 7, 14],\n",
    "    'add11': [0, 4, 7, 17],\n",
    "    'major_6': [0, 4, 7, 9],\n",
    "    'minor_6': [0, 3, 7, 9],\n",
    "    'major_7': [0, 4, 7, 11],\n",
    "    'minor_7': [0, 3, 7, 10],\n",
    "    'dominant_7': [0, 4, 7, 10],\n",
    "    'diminished_7': [0, 3, 6, 9],\n",
    "    'half_diminished_7': [0, 3, 6, 10],\n",
    "    'minor_major_7': [0, 3, 7, 11],\n",
    "    'major_9': [0, 4, 7, 11, 14],\n",
    "    'minor_9': [0, 3, 7, 10, 14],\n",
    "    'dominant_9': [0, 4, 7, 10, 14],\n",
    "    'minor_11': [0, 3, 7, 10, 14, 17],\n",
    "    'dominant_11': [0, 4, 7, 10, 14, 17],\n",
    "    'major_13': [0, 4, 7, 11, 14, 21],\n",
    "    'minor_13': [0, 3, 7, 10, 14, 21],\n",
    "    'dominant_13': [0, 4, 7, 10, 14, 21],\n",
    "    'augmented_7': [0, 4, 8, 10],\n",
    "    'augmented_major_7': [0, 4, 8, 11],\n",
    "    'dominant_7_b5': [0, 4, 6, 10],\n",
    "    'dominant_7_sharp5': [0, 4, 8, 10],\n",
    "    'dominant_7_b9': [0, 4, 7, 10, 13],\n",
    "    'dominant_7_sharp9': [0, 4, 7, 10, 15],\n",
    "    'dominant_7_b5_b9': [0, 4, 6, 10, 13],\n",
    "    'dominant_7_sharp5_sharp9': [0, 4, 8, 10, 15],\n",
    "}\n",
    "\n",
    "NOTE_NAMES = ['C', 'C#', 'D', 'D#', 'E', 'F', 'F#', 'G', 'G#', 'A', 'A#', 'B']\n",
    "\n",
    "def normalize_notes(notes):\n",
    "    \"\"\"Normalize notes to a single octave and sort them.\"\"\"\n",
    "    return sorted([note % 12 for note in notes])\n",
    "\n",
    "def intervals_from_root(notes):\n",
    "    \"\"\"Calculate intervals from the root note.\"\"\"\n",
    "    root = notes[0]\n",
    "    return [(note - root) % 12 for note in notes]\n",
    "\n",
    "def identify_chord(notes):\n",
    "    \"\"\"Identify the chord based on intervals.\"\"\"\n",
    "    normalized_notes = normalize_notes([note[0] for note in notes])\n",
    "    intervals = intervals_from_root(normalized_notes)\n",
    "\n",
    "    for chord_name, chord_intervals in CHORD_INTERVALS.items():\n",
    "        if intervals == chord_intervals:\n",
    "            root_note = NOTE_NAMES[normalized_notes[0]]\n",
    "            return f\"{root_note} {chord_name}\"\n",
    "    return 'Unknown'\n",
    "\n",
    "def process_midi_input(port_name):\n",
    "    with mido.open_input(port_name) as port:\n",
    "        notes_on = []  # Store currently pressed notes\n",
    "        played_chords = []  # Store identified chords\n",
    "\n",
    "        print(f\"Listening on {port_name}...\")\n",
    "\n",
    "        for msg in port:\n",
    "            if msg.type == 'note_on' and msg.velocity > 0:\n",
    "                notes_on.append((msg.note, msg.velocity, msg.time))\n",
    "            elif msg.type == 'note_off' or (msg.type == 'note_on' and msg.velocity == 0):\n",
    "                notes_on = [note for note in notes_on if note[0] != msg.note]\n",
    "\n",
    "            if len(notes_on) > 2:  # Consider chords only if more than two notes are pressed\n",
    "                chord_name = identify_chord(notes_on)\n",
    "                print(f\"Chord: {chord_name}\")\n",
    "                played_chords.append((chord_name, notes_on))\n",
    "\n",
    "if __name__ == \"__main__\":\n",
    "    available_ports = mido.get_input_names()\n",
    "    lpk25_port = None\n",
    "    for port in available_ports:\n",
    "        if 'LPK25' in port:\n",
    "            lpk25_port = port\n",
    "            break\n",
    "    \n",
    "    if lpk25_port:\n",
    "        process_midi_input(lpk25_port)\n",
    "    else:\n",
    "        print(\"LPK25 MIDI port not found.\")\n",
    "\n",
    "NOTE_NAMES = ['C', 'C#', 'D', 'D#', 'E', 'F', 'F#', 'G', 'G#', 'A', 'A#', 'B']\n",
    "\n",
    "def normalize_notes(notes):\n",
    "    \"\"\"Normalize notes to a single octave and sort them.\"\"\"\n",
    "    return sorted([note % 12 for note in notes])\n",
    "\n",
    "def intervals_from_root(notes):\n",
    "    \"\"\"Calculate intervals from the root note.\"\"\"\n",
    "    root = notes[0]\n",
    "    return [(note - root) % 12 for note in notes]\n",
    "\n",
    "def identify_chord(notes):\n",
    "    \"\"\"Identify the chord based on intervals.\"\"\"\n",
    "    normalized_notes = normalize_notes([note[0] for note in notes])\n",
    "    intervals = intervals_from_root(normalized_notes)\n",
    "\n",
    "    for chord_name, chord_intervals in CHORD_INTERVALS.items():\n",
    "        if intervals == chord_intervals:\n",
    "            root_note = NOTE_NAMES[normalized_notes[0]]\n",
    "            return f\"{root_note} {chord_name}\"\n",
    "    return 'Unknown'\n",
    "\n",
    "def process_midi_input(port_name):\n",
    "    with mido.open_input(port_name) as port:\n",
    "        notes_on = []  # Store currently pressed notes\n",
    "        played_chords = []  # Store identified chords\n",
    "\n",
    "        print(f\"Listening on {port_name}...\")\n",
    "\n",
    "        for msg in port:\n",
    "            if msg.type == 'note_on' and msg.velocity > 0:\n",
    "                notes_on.append((msg.note, msg.velocity, msg.time))\n",
    "            elif msg.type == 'note_off' or (msg.type == 'note_on' and msg.velocity == 0):\n",
    "                notes_on = [note for note in notes_on if note[0] != msg.note]\n",
    "\n",
    "            if len(notes_on) > 2:  # Consider chords only if more than two notes are pressed\n",
    "                chord_name = identify_chord(notes_on)\n",
    "                print(f\"Chord: {chord_name}\")\n",
    "                played_chords.append((chord_name, notes_on))\n",
    "\n",
    "if __name__ == \"__main__\":\n",
    "    available_ports = mido.get_input_names()\n",
    "    lpk25_port = None\n",
    "    for port in available_ports:\n",
    "        if 'LPK25' in port:\n",
    "            lpk25_port = port\n",
    "            break\n",
    "    \n",
    "    if lpk25_port:\n",
    "        process_midi_input(lpk25_port)\n",
    "    else:\n",
    "        print(\"LPK25 MIDI port not found.\")"
   ]
  },
  {
   "cell_type": "code",
   "execution_count": null,
   "metadata": {},
   "outputs": [],
   "source": [
    "import chord_mapping # imports the content of chord_mapping.py"
   ]
  },
  {
   "cell_type": "code",
   "execution_count": null,
   "metadata": {},
   "outputs": [],
   "source": [
    "CHORD_INTERVALS"
   ]
  },
  {
   "cell_type": "markdown",
   "metadata": {},
   "source": [
    "# Avec inversions"
   ]
  },
  {
   "cell_type": "code",
   "execution_count": null,
   "metadata": {},
   "outputs": [],
   "source": [
    "''' Inversions ne sont pas affichées, mais detéctées comme la root note'''"
   ]
  },
  {
   "cell_type": "code",
   "execution_count": null,
   "metadata": {},
   "outputs": [],
   "source": [
    "import mido\n",
    "\n",
    "\n",
    "NOTE_NAMES = ['C', 'C#', 'D', 'D#', 'E', 'F', 'F#', 'G', 'G#', 'A', 'A#', 'B']\n",
    "\n",
    "def normalize_notes(notes):\n",
    "    \"\"\"Normalize notes to a single octave and sort them.\"\"\"\n",
    "    return sorted([note % 12 for note in notes])\n",
    "\n",
    "def intervals_from_root(notes):\n",
    "    \"\"\"Calculate intervals from the root note.\"\"\"\n",
    "    root = notes[0]\n",
    "    return [(note - root) % 12 for note in notes]\n",
    "\n",
    "def identify_chord(notes):\n",
    "    \"\"\"Identify the chord based on intervals.\"\"\"\n",
    "    normalized_notes = normalize_notes([note[0] for note in notes])\n",
    "    \n",
    "    for _ in range(len(normalized_notes)):\n",
    "        intervals = intervals_from_root(normalized_notes)\n",
    "        for chord_name, chord_variants in CHORD_INTERVALS.items():\n",
    "            for inversion_name, chord_intervals in chord_variants.items():\n",
    "                if intervals == chord_intervals:\n",
    "                    root_note = NOTE_NAMES[normalized_notes[0]]\n",
    "                    return f\"{root_note} {chord_name} ({inversion_name})\"\n",
    "        normalized_notes.append(normalized_notes.pop(0))  # Rotate the list for next inversion check\n",
    "    \n",
    "    return 'Unknown'\n",
    "\n",
    "def process_midi_input(port_name):\n",
    "    with mido.open_input(port_name) as port:\n",
    "        notes_on = []  # Store currently pressed notes\n",
    "        played_chords = []  # Store identified chords\n",
    "\n",
    "        print(f\"Listening on {port_name}...\")\n",
    "\n",
    "        for msg in port:\n",
    "            if msg.type == 'note_on' and msg.velocity > 0:\n",
    "                notes_on.append((msg.note, msg.velocity, msg.time))\n",
    "            elif msg.type == 'note_off' or (msg.type == 'note_on' and msg.velocity == 0):\n",
    "                notes_on = [note for note in notes_on if note[0] != msg.note]\n",
    "\n",
    "            if len(notes_on) > 2:  # Consider chords only if more than two notes are pressed\n",
    "                chord_name = identify_chord(notes_on)\n",
    "                print(f\"Chord: {chord_name}\")\n",
    "                played_chords.append((chord_name, notes_on))\n",
    "\n",
    "if __name__ == \"__main__\":\n",
    "    available_ports = mido.get_input_names()\n",
    "    lpk25_port = None\n",
    "    for port in available_ports:\n",
    "        if 'LPK25' in port:\n",
    "            lpk25_port = port\n",
    "            break\n",
    "    \n",
    "    if lpk25_port:\n",
    "        process_midi_input(lpk25_port)\n",
    "    else:\n",
    "        print(\"LPK25 MIDI port not found.\")"
   ]
  },
  {
   "cell_type": "code",
   "execution_count": null,
   "metadata": {},
   "outputs": [],
   "source": [
    "#Clustering chords progressions as a music genre "
   ]
  },
  {
   "cell_type": "code",
   "execution_count": null,
   "metadata": {},
   "outputs": [],
   "source": [
    "pip install plotly"
   ]
  },
  {
   "cell_type": "code",
   "execution_count": null,
   "metadata": {},
   "outputs": [],
   "source": [
    "pip install nbformat"
   ]
  },
  {
   "cell_type": "code",
   "execution_count": null,
   "metadata": {},
   "outputs": [],
   "source": []
  }
 ],
 "metadata": {
  "kernelspec": {
   "display_name": "midi_env",
   "language": "python",
   "name": "python3"
  },
  "language_info": {
   "codemirror_mode": {
    "name": "ipython",
    "version": 3
   },
   "file_extension": ".py",
   "mimetype": "text/x-python",
   "name": "python",
   "nbconvert_exporter": "python",
   "pygments_lexer": "ipython3",
   "version": "3.10.13"
  }
 },
 "nbformat": 4,
 "nbformat_minor": 2
}
