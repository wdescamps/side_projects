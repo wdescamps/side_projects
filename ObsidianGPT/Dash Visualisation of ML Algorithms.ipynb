{
 "cells": [
  {
   "cell_type": "code",
   "execution_count": null,
   "id": "0ec8c6f2",
   "metadata": {},
   "outputs": [],
   "source": [
    "# Graph Viz\n",
    "import matplotlib.pyplot as plt\n",
    "import networkx as nx\n",
    "\n",
    "from tqdm import tqdm\n",
    "import datetime\n",
    "import requests\n",
    "import openai\n",
    "import json\n",
    "import os\n",
    "import re\n",
    "\n",
    "import dash\n",
    "from dash import dcc, html\n",
    "import plotly.graph_objs as go\n",
    "from dash.dependencies import Input, Output\n",
    "import networkx as nx\n",
    "import random\n",
    "import numpy as np"
   ]
  },
  {
   "cell_type": "code",
   "execution_count": null,
   "id": "0060a85a",
   "metadata": {},
   "outputs": [],
   "source": []
  },
  {
   "cell_type": "code",
   "execution_count": null,
   "id": "d5ef9d6d",
   "metadata": {},
   "outputs": [],
   "source": [
    "# Load file from disk if necessary\n",
    "filename = f'models_v1_3_2023-09-07.txt'\n",
    "with open(filename, 'r') as read_file:\n",
    "    data_dict = json.load(read_file)"
   ]
  },
  {
   "cell_type": "code",
   "execution_count": null,
   "id": "da6e98ca",
   "metadata": {},
   "outputs": [],
   "source": [
    "data_dict"
   ]
  },
  {
   "cell_type": "code",
   "execution_count": null,
   "id": "13ce9058",
   "metadata": {},
   "outputs": [],
   "source": [
    "# Create a directed graph using NetworkX\n",
    "G = nx.DiGraph()\n",
    "\n",
    "for category, subcategories in data_dict.items():\n",
    "    G.add_node(category)\n",
    "    for subcategory, algorithms in subcategories.items():\n",
    "        G.add_node(subcategory)\n",
    "        G.add_edge(category, subcategory)\n",
    "        for algorithm in algorithms:\n",
    "            G.add_node(algorithm)\n",
    "            G.add_edge(subcategory, algorithm)"
   ]
  },
  {
   "cell_type": "code",
   "execution_count": null,
   "id": "22991b06",
   "metadata": {},
   "outputs": [],
   "source": [
    "# Create Dash app\n",
    "app = dash.Dash(__name__)\n",
    "\n",
    "# Define layout for the app\n",
    "app.layout = html.Div([\n",
    "    dcc.Graph(\n",
    "        id='graph-3d',\n",
    "        config={'displayModeBar': False},\n",
    "        style={'height': '800px'},\n",
    "    ),\n",
    "    dcc.Interval(\n",
    "        id='interval-component',\n",
    "        interval=1 * 50,  # in milliseconds\n",
    "        n_intervals=0\n",
    "    )\n",
    "])"
   ]
  },
  {
   "cell_type": "code",
   "execution_count": null,
   "id": "c598c241",
   "metadata": {},
   "outputs": [],
   "source": [
    "# Create a color mapping for subcategories and their algorithms\n",
    "subcategory_colors = {}\n",
    "for subcategory in G.nodes():\n",
    "    if G.out_degree(subcategory) > 0:  # Check if it's a subcategory (has outgoing edges)\n",
    "        subcategory_colors[subcategory] = f\"rgb({random.randint(0, 255)}, {random.randint(0, 255)}, {random.randint(0, 255)})\"\n"
   ]
  },
  {
   "cell_type": "code",
   "execution_count": null,
   "id": "a2136b8f",
   "metadata": {},
   "outputs": [],
   "source": [
    "def generate_3d_graph():\n",
    "    # Position nodes in 3D space using NetworkX's spring layout\n",
    "    pos = nx.spring_layout(G, dim=3)\n",
    "    \n",
    "\n",
    "    # Create nodes and edges for 3D graph\n",
    "    nodes = []\n",
    "    edges = []\n",
    "\n",
    "    for node, position in pos.items():\n",
    "        x, y, z = position\n",
    "        if node in subcategory_colors:\n",
    "            color = subcategory_colors[node]\n",
    "        else:\n",
    "            color = \"gray\"  # Default color for other nodes\n",
    "        nodes.append(go.Scatter3d(\n",
    "            x=[x],\n",
    "            y=[y],\n",
    "            z=[z],\n",
    "            mode='markers+text',\n",
    "            marker=dict(size=8, color=color),\n",
    "            text=node,\n",
    "            hoverinfo='text'\n",
    "        ))\n",
    "\n",
    "    for edge in G.edges():\n",
    "        source, target = edge\n",
    "        source_pos = pos[source]\n",
    "        target_pos = pos[target]\n",
    "        edge_trace = go.Scatter3d(\n",
    "            x=[source_pos[0], target_pos[0]],\n",
    "            y=[source_pos[1], target_pos[1]],\n",
    "            z=[source_pos[2], target_pos[2]],\n",
    "            mode='lines',\n",
    "            line=dict(width=2, color=\"gray\"),  # Default color for edges\n",
    "        )\n",
    "        edges.append(edge_trace)\n",
    "\n",
    "    return nodes + edges\n",
    "\n",
    "# Define callback to update the 3D graph\n",
    "@app.callback(\n",
    "    Output('graph-3d', 'figure'),\n",
    "    Input('interval-component', 'n_intervals')\n",
    ")\n",
    "def update_graph(n_intervals):\n",
    "    # Generate updated 3D graph data\n",
    "    graph_data = generate_3d_graph()\n",
    "    \n",
    "    # Define layout for the 3D graph\n",
    "    layout = go.Layout(\n",
    "        margin=dict(l=0, r=0, b=0, t=0),\n",
    "        scene=dict(\n",
    "            xaxis=dict(title='', showticklabels=False),\n",
    "            yaxis=dict(title='', showticklabels=False),\n",
    "            zaxis=dict(title='', showticklabels=False),\n",
    "        ),\n",
    "    )\n",
    "    \n",
    "    # Return the updated graph data and layout\n",
    "    return {'data': graph_data, 'layout': layout}\n",
    "\n",
    "if __name__ == '__main__':\n",
    "    app.run(port=2223,debug=True, jupyter_mode=\"external\")"
   ]
  },
  {
   "cell_type": "markdown",
   "id": "11c9f31c",
   "metadata": {},
   "source": [
    "#### Future potential updates: \n",
    "--> Color the nodes the same way as their subcateg"
   ]
  },
  {
   "cell_type": "code",
   "execution_count": null,
   "id": "87c0aa62",
   "metadata": {},
   "outputs": [],
   "source": []
  }
 ],
 "metadata": {
  "kernelspec": {
   "display_name": "Python 3 (ipykernel)",
   "language": "python",
   "name": "python3"
  },
  "language_info": {
   "codemirror_mode": {
    "name": "ipython",
    "version": 3
   },
   "file_extension": ".py",
   "mimetype": "text/x-python",
   "name": "python",
   "nbconvert_exporter": "python",
   "pygments_lexer": "ipython3",
   "version": "3.10.10"
  },
  "toc": {
   "base_numbering": 1,
   "nav_menu": {},
   "number_sections": true,
   "sideBar": true,
   "skip_h1_title": false,
   "title_cell": "Table of Contents",
   "title_sidebar": "Contents",
   "toc_cell": false,
   "toc_position": {},
   "toc_section_display": true,
   "toc_window_display": false
  }
 },
 "nbformat": 4,
 "nbformat_minor": 5
}
