{
 "cells": [
  {
   "cell_type": "code",
   "execution_count": 2,
   "metadata": {},
   "outputs": [
    {
     "ename": "SyntaxError",
     "evalue": "unterminated string literal (detected at line 4) (4073279141.py, line 4)",
     "output_type": "error",
     "traceback": [
      "\u001b[0;36m  Cell \u001b[0;32mIn[2], line 4\u001b[0;36m\u001b[0m\n\u001b[0;31m    --> Permettre à la mairie de réduire l'argent envoyé aux entreprises de traitement de déchets\u001b[0m\n\u001b[0m                                          ^\u001b[0m\n\u001b[0;31mSyntaxError\u001b[0m\u001b[0;31m:\u001b[0m unterminated string literal (detected at line 4)\n"
     ]
    }
   ],
   "source": [
    "Forces  : \n",
    "--> Permettre aux utilisateurs de supermarchés/hypermarchés de réduire leur impact environnemental en 1 clic (filtrer par trash score faible)\n",
    "--> Faire pression sur les producteurs de déchets en créant un besoin de meilleur référencement produit selon un trash score\n",
    "--> Permettre à la mairie de réduire l'argent envoyé aux entreprises de traitement de déchets\n",
    "--> Réduire la quantité de déchets enfouis\n",
    "--> Permettre la création de données concernant le suivi des déchets\n",
    "--> Permettre aux utilisateurs de réduire leur impact environnemental en 1 clic (filtrer par trash score faible)\n",
    "--> Eduquer sur la préciosité des ressources naturelles\n",
    "--> Faire un action de manière ludique\n",
    "\n",
    "But : Postuler à l'incubateur ATIS\n",
    "\n",
    "POC : Dataviz? Site web? -> Sur la ville de Bordeaux\n",
    "Faire un Milanote en parallele pour mapper efficacement les idées et ressources\n"
   ]
  },
  {
   "cell_type": "code",
   "execution_count": null,
   "metadata": {},
   "outputs": [],
   "source": [
    "Comment faire le lien entre la rue et la dechetterie?\n",
    "\n",
    "https://geo.bordeaux-metropole.fr/centres_de_recyclage/\n",
    "--> Répartition des déchetteries sur la ville de Bordeaux"
   ]
  }
 ],
 "metadata": {
  "kernelspec": {
   "display_name": "taxifare-env",
   "language": "python",
   "name": "python3"
  },
  "language_info": {
   "codemirror_mode": {
    "name": "ipython",
    "version": 3
   },
   "file_extension": ".py",
   "mimetype": "text/x-python",
   "name": "python",
   "nbconvert_exporter": "python",
   "pygments_lexer": "ipython3",
   "version": "3.10.10"
  }
 },
 "nbformat": 4,
 "nbformat_minor": 2
}
