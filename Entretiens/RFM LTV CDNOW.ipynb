{
 "cells": [
  {
   "cell_type": "code",
   "execution_count": 22,
   "metadata": {},
   "outputs": [],
   "source": [
    "%matplotlib inline"
   ]
  },
  {
   "cell_type": "code",
   "execution_count": 1,
   "metadata": {},
   "outputs": [
    {
     "name": "stderr",
     "output_type": "stream",
     "text": [
      "Duplicate key in file '/Users/WDescamps/.matplotlib/matplotlibrc', line 2 ('backend: TkAgg')\n"
     ]
    },
    {
     "name": "stdout",
     "output_type": "stream",
     "text": [
      "Using matplotlib backend: TkAgg\n"
     ]
    }
   ],
   "source": [
    "import numpy as np\n",
    "import pandas as pd\n",
    "%matplotlib\n",
    "import matplotlib.pyplot as plt\n",
    "plt.autoscale(enable=True)"
   ]
  },
  {
   "cell_type": "code",
   "execution_count": 2,
   "metadata": {},
   "outputs": [],
   "source": [
    "path = \"/Users/WDescamps/Downloads/CDNOW_master/CDNOW_master.txt\""
   ]
  },
  {
   "cell_type": "code",
   "execution_count": 3,
   "metadata": {},
   "outputs": [],
   "source": [
    "df = pd.read_csv(path, sep=' ',skipinitialspace=True, header=0, names=['user_id','order_date','nb_items','price'])"
   ]
  },
  {
   "cell_type": "code",
   "execution_count": 126,
   "metadata": {},
   "outputs": [
    {
     "data": {
      "text/html": [
       "<div>\n",
       "<style scoped>\n",
       "    .dataframe tbody tr th:only-of-type {\n",
       "        vertical-align: middle;\n",
       "    }\n",
       "\n",
       "    .dataframe tbody tr th {\n",
       "        vertical-align: top;\n",
       "    }\n",
       "\n",
       "    .dataframe thead th {\n",
       "        text-align: right;\n",
       "    }\n",
       "</style>\n",
       "<table border=\"1\" class=\"dataframe\">\n",
       "  <thead>\n",
       "    <tr style=\"text-align: right;\">\n",
       "      <th></th>\n",
       "      <th>user_id</th>\n",
       "      <th>order_date</th>\n",
       "      <th>nb_items</th>\n",
       "      <th>price</th>\n",
       "      <th>month</th>\n",
       "      <th>week</th>\n",
       "      <th>period</th>\n",
       "    </tr>\n",
       "  </thead>\n",
       "  <tbody>\n",
       "    <tr>\n",
       "      <th>0</th>\n",
       "      <td>2</td>\n",
       "      <td>1997-01-12</td>\n",
       "      <td>1</td>\n",
       "      <td>12.0</td>\n",
       "      <td>1997-01-01</td>\n",
       "      <td>1997-01-09</td>\n",
       "      <td>-534.0</td>\n",
       "    </tr>\n",
       "    <tr>\n",
       "      <th>1</th>\n",
       "      <td>2</td>\n",
       "      <td>1997-01-12</td>\n",
       "      <td>5</td>\n",
       "      <td>77.0</td>\n",
       "      <td>1997-01-01</td>\n",
       "      <td>1997-01-09</td>\n",
       "      <td>-534.0</td>\n",
       "    </tr>\n",
       "  </tbody>\n",
       "</table>\n",
       "</div>"
      ],
      "text/plain": [
       "   user_id order_date  nb_items  price      month       week  period\n",
       "0        2 1997-01-12         1   12.0 1997-01-01 1997-01-09  -534.0\n",
       "1        2 1997-01-12         5   77.0 1997-01-01 1997-01-09  -534.0"
      ]
     },
     "execution_count": 126,
     "metadata": {},
     "output_type": "execute_result"
    }
   ],
   "source": [
    "df.head(2) "
   ]
  },
  {
   "cell_type": "code",
   "execution_count": 5,
   "metadata": {},
   "outputs": [],
   "source": [
    "# Convert date field \n",
    "df['order_date']= pd.to_datetime(df['order_date'],format=\"%Y%m%d\")"
   ]
  },
  {
   "cell_type": "code",
   "execution_count": 131,
   "metadata": {},
   "outputs": [],
   "source": [
    "def infos():\n",
    "    print(\"shape : \\n\",df.shape)\n",
    "    print(\"info : \\n\",df.info())\n",
    "    print(\"nulls? : \\n\",pd.isnull(df).any())  \n",
    "    print(\"nbcustomers : \\n\",df.groupby(['user_id']).size().shape)\n",
    "    print(\"Date ranges : \\n\", df['order_date'].min(), df['order_date'].max())"
   ]
  },
  {
   "cell_type": "code",
   "execution_count": 132,
   "metadata": {},
   "outputs": [
    {
     "name": "stdout",
     "output_type": "stream",
     "text": [
      "shape : \n",
      " (69658, 7)\n",
      "<class 'pandas.core.frame.DataFrame'>\n",
      "RangeIndex: 69658 entries, 0 to 69657\n",
      "Data columns (total 7 columns):\n",
      " #   Column      Non-Null Count  Dtype         \n",
      "---  ------      --------------  -----         \n",
      " 0   user_id     69658 non-null  int64         \n",
      " 1   order_date  69658 non-null  datetime64[ns]\n",
      " 2   nb_items    69658 non-null  int64         \n",
      " 3   price       69658 non-null  float64       \n",
      " 4   month       69658 non-null  datetime64[ns]\n",
      " 5   week        69658 non-null  datetime64[ns]\n",
      " 6   period      69658 non-null  float64       \n",
      "dtypes: datetime64[ns](3), float64(2), int64(2)\n",
      "memory usage: 3.7 MB\n",
      "info : \n",
      " None\n",
      "nulls? : \n",
      " user_id       False\n",
      "order_date    False\n",
      "nb_items      False\n",
      "price         False\n",
      "month         False\n",
      "week          False\n",
      "period        False\n",
      "dtype: bool\n",
      "nbcustomers : \n",
      " (23569,)\n",
      "Date ranges : \n",
      " 1997-01-01 00:00:00 1998-06-30 00:00:00\n"
     ]
    }
   ],
   "source": [
    "infos()"
   ]
  },
  {
   "cell_type": "code",
   "execution_count": 129,
   "metadata": {},
   "outputs": [
    {
     "data": {
      "text/html": [
       "<div>\n",
       "<style scoped>\n",
       "    .dataframe tbody tr th:only-of-type {\n",
       "        vertical-align: middle;\n",
       "    }\n",
       "\n",
       "    .dataframe tbody tr th {\n",
       "        vertical-align: top;\n",
       "    }\n",
       "\n",
       "    .dataframe thead th {\n",
       "        text-align: right;\n",
       "    }\n",
       "</style>\n",
       "<table border=\"1\" class=\"dataframe\">\n",
       "  <thead>\n",
       "    <tr style=\"text-align: right;\">\n",
       "      <th></th>\n",
       "      <th>user_id</th>\n",
       "      <th>nb_items</th>\n",
       "      <th>price</th>\n",
       "    </tr>\n",
       "  </thead>\n",
       "  <tbody>\n",
       "    <tr>\n",
       "      <th>count</th>\n",
       "      <td>23569.000000</td>\n",
       "      <td>23569.000000</td>\n",
       "      <td>23569.000000</td>\n",
       "    </tr>\n",
       "    <tr>\n",
       "      <th>mean</th>\n",
       "      <td>2.955492</td>\n",
       "      <td>7.122916</td>\n",
       "      <td>106.084427</td>\n",
       "    </tr>\n",
       "    <tr>\n",
       "      <th>std</th>\n",
       "      <td>4.736642</td>\n",
       "      <td>16.983845</td>\n",
       "      <td>240.929523</td>\n",
       "    </tr>\n",
       "    <tr>\n",
       "      <th>min</th>\n",
       "      <td>1.000000</td>\n",
       "      <td>1.000000</td>\n",
       "      <td>0.000000</td>\n",
       "    </tr>\n",
       "    <tr>\n",
       "      <th>25%</th>\n",
       "      <td>1.000000</td>\n",
       "      <td>1.000000</td>\n",
       "      <td>19.970000</td>\n",
       "    </tr>\n",
       "    <tr>\n",
       "      <th>50%</th>\n",
       "      <td>1.000000</td>\n",
       "      <td>3.000000</td>\n",
       "      <td>43.410000</td>\n",
       "    </tr>\n",
       "    <tr>\n",
       "      <th>75%</th>\n",
       "      <td>3.000000</td>\n",
       "      <td>7.000000</td>\n",
       "      <td>106.490000</td>\n",
       "    </tr>\n",
       "    <tr>\n",
       "      <th>max</th>\n",
       "      <td>217.000000</td>\n",
       "      <td>1033.000000</td>\n",
       "      <td>13990.930000</td>\n",
       "    </tr>\n",
       "  </tbody>\n",
       "</table>\n",
       "</div>"
      ],
      "text/plain": [
       "            user_id      nb_items         price\n",
       "count  23569.000000  23569.000000  23569.000000\n",
       "mean       2.955492      7.122916    106.084427\n",
       "std        4.736642     16.983845    240.929523\n",
       "min        1.000000      1.000000      0.000000\n",
       "25%        1.000000      1.000000     19.970000\n",
       "50%        1.000000      3.000000     43.410000\n",
       "75%        3.000000      7.000000    106.490000\n",
       "max      217.000000   1033.000000  13990.930000"
      ]
     },
     "execution_count": 129,
     "metadata": {},
     "output_type": "execute_result"
    }
   ],
   "source": [
    "users_grouped = df.groupby('user_id').agg({'user_id':'count',\n",
    "                                          'nb_items':'sum',\n",
    "                                          'price':'sum'})\n",
    "users_grouped.describe()"
   ]
  },
  {
   "cell_type": "markdown",
   "metadata": {},
   "source": [
    "# 1- Number of transactions /month and /week"
   ]
  },
  {
   "cell_type": "code",
   "execution_count": 133,
   "metadata": {},
   "outputs": [
    {
     "data": {
      "text/plain": [
       "order_date\n",
       "1997-01-01    211\n",
       "1997-01-02    247\n",
       "1997-01-03    236\n",
       "1997-01-04    178\n",
       "1997-01-05    256\n",
       "dtype: int64"
      ]
     },
     "execution_count": 133,
     "metadata": {},
     "output_type": "execute_result"
    }
   ],
   "source": [
    "# Number of daily transactions\n",
    "ts_transactions = df.groupby(['order_date']).size()\n",
    "ts_transactions.head(5)"
   ]
  },
  {
   "cell_type": "code",
   "execution_count": 11,
   "metadata": {},
   "outputs": [
    {
     "data": {
      "text/html": [
       "<div>\n",
       "<style scoped>\n",
       "    .dataframe tbody tr th:only-of-type {\n",
       "        vertical-align: middle;\n",
       "    }\n",
       "\n",
       "    .dataframe tbody tr th {\n",
       "        vertical-align: top;\n",
       "    }\n",
       "\n",
       "    .dataframe thead th {\n",
       "        text-align: right;\n",
       "    }\n",
       "</style>\n",
       "<table border=\"1\" class=\"dataframe\">\n",
       "  <thead>\n",
       "    <tr style=\"text-align: right;\">\n",
       "      <th></th>\n",
       "      <th>nb_items</th>\n",
       "      <th>price</th>\n",
       "      <th>sum_of_buyers_month</th>\n",
       "    </tr>\n",
       "    <tr>\n",
       "      <th>order_date</th>\n",
       "      <th></th>\n",
       "      <th></th>\n",
       "      <th></th>\n",
       "    </tr>\n",
       "  </thead>\n",
       "  <tbody>\n",
       "    <tr>\n",
       "      <th>1997-01-31</th>\n",
       "      <td>19415</td>\n",
       "      <td>299048.40</td>\n",
       "      <td>7845</td>\n",
       "    </tr>\n",
       "    <tr>\n",
       "      <th>1997-02-28</th>\n",
       "      <td>24921</td>\n",
       "      <td>379590.03</td>\n",
       "      <td>9633</td>\n",
       "    </tr>\n",
       "  </tbody>\n",
       "</table>\n",
       "</div>"
      ],
      "text/plain": [
       "            nb_items      price  sum_of_buyers_month\n",
       "order_date                                          \n",
       "1997-01-31     19415  299048.40                 7845\n",
       "1997-02-28     24921  379590.03                 9633"
      ]
     },
     "execution_count": 11,
     "metadata": {},
     "output_type": "execute_result"
    }
   ],
   "source": [
    "# Month downsampling\n",
    "df_dtindex = df.set_index(['order_date'])   # Set order_dt as index TimeStamp\n",
    "month_grouped = df_dtindex.resample('m').sum()[['nb_items','price']]\n",
    "month_grouped['sum_of_buyers_month'] = df_dtindex.resample('m')['user_id'].nunique()\n",
    "month_grouped.head(2)"
   ]
  },
  {
   "cell_type": "code",
   "execution_count": 16,
   "metadata": {},
   "outputs": [
    {
     "data": {
      "text/html": [
       "<div>\n",
       "<style scoped>\n",
       "    .dataframe tbody tr th:only-of-type {\n",
       "        vertical-align: middle;\n",
       "    }\n",
       "\n",
       "    .dataframe tbody tr th {\n",
       "        vertical-align: top;\n",
       "    }\n",
       "\n",
       "    .dataframe thead th {\n",
       "        text-align: right;\n",
       "    }\n",
       "</style>\n",
       "<table border=\"1\" class=\"dataframe\">\n",
       "  <thead>\n",
       "    <tr style=\"text-align: right;\">\n",
       "      <th></th>\n",
       "      <th>nb_items</th>\n",
       "      <th>price</th>\n",
       "      <th>sum_of_buyers_weeks</th>\n",
       "    </tr>\n",
       "    <tr>\n",
       "      <th>order_date</th>\n",
       "      <th></th>\n",
       "      <th></th>\n",
       "      <th></th>\n",
       "    </tr>\n",
       "  </thead>\n",
       "  <tbody>\n",
       "    <tr>\n",
       "      <th>1997-01-05</th>\n",
       "      <td>2512</td>\n",
       "      <td>39002.30</td>\n",
       "      <td>1101</td>\n",
       "    </tr>\n",
       "    <tr>\n",
       "      <th>1997-01-12</th>\n",
       "      <td>3930</td>\n",
       "      <td>61409.65</td>\n",
       "      <td>1718</td>\n",
       "    </tr>\n",
       "  </tbody>\n",
       "</table>\n",
       "</div>"
      ],
      "text/plain": [
       "            nb_items     price  sum_of_buyers_weeks\n",
       "order_date                                         \n",
       "1997-01-05      2512  39002.30                 1101\n",
       "1997-01-12      3930  61409.65                 1718"
      ]
     },
     "execution_count": 16,
     "metadata": {},
     "output_type": "execute_result"
    }
   ],
   "source": [
    "# Week downsampling\n",
    "week_grouped = df_dtindex.resample('w').sum()[['nb_items','price']]\n",
    "week_grouped['sum_of_buyers_weeks'] = df_dtindex.resample('w')['user_id'].nunique()\n",
    "week_grouped.head(2)"
   ]
  },
  {
   "cell_type": "code",
   "execution_count": 13,
   "metadata": {},
   "outputs": [
    {
     "data": {
      "text/plain": [
       "<AxesSubplot:xlabel='order_date'>"
      ]
     },
     "execution_count": 13,
     "metadata": {},
     "output_type": "execute_result"
    }
   ],
   "source": [
    "week_grouped.plot()"
   ]
  },
  {
   "cell_type": "code",
   "execution_count": 17,
   "metadata": {},
   "outputs": [
    {
     "data": {
      "text/plain": [
       "<AxesSubplot:xlabel='user_id', ylabel='Transaction Count'>"
      ]
     },
     "execution_count": 17,
     "metadata": {},
     "output_type": "execute_result"
    }
   ],
   "source": [
    "# Visualisation through time\n",
    "ts_transactions = df.groupby(['user_id']).size()\n",
    "plt.ylabel('Transaction Count') \n",
    "ts_transactions.plot()"
   ]
  },
  {
   "cell_type": "markdown",
   "metadata": {},
   "source": [
    "# 2- Analysis of consumption"
   ]
  },
  {
   "cell_type": "code",
   "execution_count": 23,
   "metadata": {},
   "outputs": [
    {
     "data": {
      "text/html": [
       "<div>\n",
       "<style scoped>\n",
       "    .dataframe tbody tr th:only-of-type {\n",
       "        vertical-align: middle;\n",
       "    }\n",
       "\n",
       "    .dataframe tbody tr th {\n",
       "        vertical-align: top;\n",
       "    }\n",
       "\n",
       "    .dataframe thead th {\n",
       "        text-align: right;\n",
       "    }\n",
       "</style>\n",
       "<table border=\"1\" class=\"dataframe\">\n",
       "  <thead>\n",
       "    <tr style=\"text-align: right;\">\n",
       "      <th></th>\n",
       "      <th>user_id</th>\n",
       "      <th>nb_items</th>\n",
       "      <th>price</th>\n",
       "    </tr>\n",
       "  </thead>\n",
       "  <tbody>\n",
       "    <tr>\n",
       "      <th>count</th>\n",
       "      <td>23569.000000</td>\n",
       "      <td>23569.000000</td>\n",
       "      <td>23569.000000</td>\n",
       "    </tr>\n",
       "    <tr>\n",
       "      <th>mean</th>\n",
       "      <td>2.955492</td>\n",
       "      <td>7.122916</td>\n",
       "      <td>106.084427</td>\n",
       "    </tr>\n",
       "    <tr>\n",
       "      <th>std</th>\n",
       "      <td>4.736642</td>\n",
       "      <td>16.983845</td>\n",
       "      <td>240.929523</td>\n",
       "    </tr>\n",
       "    <tr>\n",
       "      <th>min</th>\n",
       "      <td>1.000000</td>\n",
       "      <td>1.000000</td>\n",
       "      <td>0.000000</td>\n",
       "    </tr>\n",
       "    <tr>\n",
       "      <th>25%</th>\n",
       "      <td>1.000000</td>\n",
       "      <td>1.000000</td>\n",
       "      <td>19.970000</td>\n",
       "    </tr>\n",
       "    <tr>\n",
       "      <th>50%</th>\n",
       "      <td>1.000000</td>\n",
       "      <td>3.000000</td>\n",
       "      <td>43.410000</td>\n",
       "    </tr>\n",
       "    <tr>\n",
       "      <th>75%</th>\n",
       "      <td>3.000000</td>\n",
       "      <td>7.000000</td>\n",
       "      <td>106.490000</td>\n",
       "    </tr>\n",
       "    <tr>\n",
       "      <th>max</th>\n",
       "      <td>217.000000</td>\n",
       "      <td>1033.000000</td>\n",
       "      <td>13990.930000</td>\n",
       "    </tr>\n",
       "  </tbody>\n",
       "</table>\n",
       "</div>"
      ],
      "text/plain": [
       "            user_id      nb_items         price\n",
       "count  23569.000000  23569.000000  23569.000000\n",
       "mean       2.955492      7.122916    106.084427\n",
       "std        4.736642     16.983845    240.929523\n",
       "min        1.000000      1.000000      0.000000\n",
       "25%        1.000000      1.000000     19.970000\n",
       "50%        1.000000      3.000000     43.410000\n",
       "75%        3.000000      7.000000    106.490000\n",
       "max      217.000000   1033.000000  13990.930000"
      ]
     },
     "execution_count": 23,
     "metadata": {},
     "output_type": "execute_result"
    }
   ],
   "source": [
    "user_grouped = df.groupby('user_id').agg({'user_id':'count',\n",
    "                                          'nb_items':'sum',\n",
    "                                          'price':'sum'})\n",
    "user_grouped.describe()"
   ]
  },
  {
   "cell_type": "code",
   "execution_count": 27,
   "metadata": {},
   "outputs": [
    {
     "data": {
      "text/plain": [
       "<AxesSubplot:ylabel='Frequency'>"
      ]
     },
     "execution_count": 27,
     "metadata": {},
     "output_type": "execute_result"
    },
    {
     "data": {
      "image/png": "[encoded data removed]",
      "text/plain": [
       "<Figure size 1600x320 with 3 Axes>"
      ]
     },
     "metadata": {
      "needs_background": "light"
     },
     "output_type": "display_data"
    }
   ],
   "source": [
    "# Pourquoi ces bins?\n",
    "plt.figure(figsize=(20,4),dpi=80)\n",
    "plt.subplot(1,3,1)\n",
    "user_grouped.query('user_id<17')['user_id'].plot.hist(bins=15)\n",
    "plt.subplot(1,3,2)\n",
    "user_grouped.query('nb_items<58')['nb_items'].plot.hist(bins=30)\n",
    "plt.subplot(1,3,3)\n",
    "user_grouped.query('price<829')['price'].plot.hist(bins=30)"
   ]
  },
  {
   "cell_type": "markdown",
   "metadata": {},
   "source": [
    "most of the data are concentrated in low-value areas, reflecting the average consumption level of most users and the contribution value is not high"
   ]
  },
  {
   "cell_type": "code",
   "execution_count": 29,
   "metadata": {},
   "outputs": [
    {
     "data": {
      "text/plain": [
       "<AxesSubplot:xlabel='nb_items', ylabel='price'>"
      ]
     },
     "execution_count": 29,
     "metadata": {},
     "output_type": "execute_result"
    },
    {
     "data": {
      "image/png": "[encoded data removed]",
      "text/plain": [
       "<Figure size 432x288 with 1 Axes>"
      ]
     },
     "metadata": {
      "needs_background": "light"
     },
     "output_type": "display_data"
    }
   ],
   "source": [
    "user_grouped.plot.scatter(x='nb_items',y='price')"
   ]
  },
  {
   "cell_type": "markdown",
   "metadata": {},
   "source": [
    "mostly linear, so there is a consistency into the product and the buyer type, no big price changes"
   ]
  },
  {
   "cell_type": "code",
   "execution_count": 34,
   "metadata": {},
   "outputs": [
    {
     "data": {
      "text/html": [
       "<div>\n",
       "<style scoped>\n",
       "    .dataframe tbody tr th:only-of-type {\n",
       "        vertical-align: middle;\n",
       "    }\n",
       "\n",
       "    .dataframe tbody tr th {\n",
       "        vertical-align: top;\n",
       "    }\n",
       "\n",
       "    .dataframe thead th {\n",
       "        text-align: right;\n",
       "    }\n",
       "</style>\n",
       "<table border=\"1\" class=\"dataframe\">\n",
       "  <thead>\n",
       "    <tr style=\"text-align: right;\">\n",
       "      <th></th>\n",
       "      <th>nb_items</th>\n",
       "      <th>price</th>\n",
       "      <th>user_sum_month</th>\n",
       "    </tr>\n",
       "    <tr>\n",
       "      <th>order_date</th>\n",
       "      <th></th>\n",
       "      <th></th>\n",
       "      <th></th>\n",
       "    </tr>\n",
       "  </thead>\n",
       "  <tbody>\n",
       "    <tr>\n",
       "      <th>1997-01-31</th>\n",
       "      <td>19415</td>\n",
       "      <td>299048.40</td>\n",
       "      <td>7845</td>\n",
       "    </tr>\n",
       "    <tr>\n",
       "      <th>1997-02-28</th>\n",
       "      <td>24921</td>\n",
       "      <td>379590.03</td>\n",
       "      <td>9633</td>\n",
       "    </tr>\n",
       "    <tr>\n",
       "      <th>1997-03-31</th>\n",
       "      <td>26159</td>\n",
       "      <td>393155.27</td>\n",
       "      <td>9524</td>\n",
       "    </tr>\n",
       "    <tr>\n",
       "      <th>1997-04-30</th>\n",
       "      <td>9729</td>\n",
       "      <td>142824.49</td>\n",
       "      <td>2822</td>\n",
       "    </tr>\n",
       "    <tr>\n",
       "      <th>1997-05-31</th>\n",
       "      <td>7275</td>\n",
       "      <td>107933.30</td>\n",
       "      <td>2214</td>\n",
       "    </tr>\n",
       "  </tbody>\n",
       "</table>\n",
       "</div>"
      ],
      "text/plain": [
       "            nb_items      price  user_sum_month\n",
       "order_date                                     \n",
       "1997-01-31     19415  299048.40            7845\n",
       "1997-02-28     24921  379590.03            9633\n",
       "1997-03-31     26159  393155.27            9524\n",
       "1997-04-30      9729  142824.49            2822\n",
       "1997-05-31      7275  107933.30            2214"
      ]
     },
     "execution_count": 34,
     "metadata": {},
     "output_type": "execute_result"
    }
   ],
   "source": [
    "# 2.2 Downsample the data monthly\n",
    "df_dtindex = df.set_index(['order_date'])   # Set order_dt as index TimeStamp\n",
    "month_grouped = df_dtindex.resample('m').sum()[['nb_items','price']]\n",
    "month_grouped['user_sum_month'] = df_dtindex.resample('m')['user_id'].nunique()\n",
    "month_grouped.head(5)"
   ]
  },
  {
   "cell_type": "code",
   "execution_count": 35,
   "metadata": {},
   "outputs": [
    {
     "data": {
      "text/plain": [
       "array([<AxesSubplot:xlabel='order_date'>,\n",
       "       <AxesSubplot:xlabel='order_date'>,\n",
       "       <AxesSubplot:xlabel='order_date'>], dtype=object)"
      ]
     },
     "execution_count": 35,
     "metadata": {},
     "output_type": "execute_result"
    },
    {
     "data": {
      "image/png": "[encoded data removed]",
      "text/plain": [
       "<Figure size 648x504 with 3 Axes>"
      ]
     },
     "metadata": {
      "needs_background": "light"
     },
     "output_type": "display_data"
    }
   ],
   "source": [
    "month_grouped.plot(kind='line',subplots=True,figsize=(9,7))"
   ]
  },
  {
   "cell_type": "code",
   "execution_count": 36,
   "metadata": {},
   "outputs": [
    {
     "data": {
      "text/html": [
       "<div>\n",
       "<style scoped>\n",
       "    .dataframe tbody tr th:only-of-type {\n",
       "        vertical-align: middle;\n",
       "    }\n",
       "\n",
       "    .dataframe tbody tr th {\n",
       "        vertical-align: top;\n",
       "    }\n",
       "\n",
       "    .dataframe thead th {\n",
       "        text-align: right;\n",
       "    }\n",
       "</style>\n",
       "<table border=\"1\" class=\"dataframe\">\n",
       "  <thead>\n",
       "    <tr style=\"text-align: right;\">\n",
       "      <th></th>\n",
       "      <th>nb_items</th>\n",
       "      <th>price</th>\n",
       "      <th>user_sum_month</th>\n",
       "    </tr>\n",
       "    <tr>\n",
       "      <th>order_date</th>\n",
       "      <th></th>\n",
       "      <th></th>\n",
       "      <th></th>\n",
       "    </tr>\n",
       "  </thead>\n",
       "  <tbody>\n",
       "    <tr>\n",
       "      <th>1997-01-05</th>\n",
       "      <td>2512</td>\n",
       "      <td>39002.30</td>\n",
       "      <td>1101</td>\n",
       "    </tr>\n",
       "    <tr>\n",
       "      <th>1997-01-12</th>\n",
       "      <td>3930</td>\n",
       "      <td>61409.65</td>\n",
       "      <td>1718</td>\n",
       "    </tr>\n",
       "    <tr>\n",
       "      <th>1997-01-19</th>\n",
       "      <td>4149</td>\n",
       "      <td>63856.66</td>\n",
       "      <td>1880</td>\n",
       "    </tr>\n",
       "    <tr>\n",
       "      <th>1997-01-26</th>\n",
       "      <td>4930</td>\n",
       "      <td>75069.10</td>\n",
       "      <td>2128</td>\n",
       "    </tr>\n",
       "    <tr>\n",
       "      <th>1997-02-02</th>\n",
       "      <td>5555</td>\n",
       "      <td>84698.98</td>\n",
       "      <td>2386</td>\n",
       "    </tr>\n",
       "  </tbody>\n",
       "</table>\n",
       "</div>"
      ],
      "text/plain": [
       "            nb_items     price  user_sum_month\n",
       "order_date                                    \n",
       "1997-01-05      2512  39002.30            1101\n",
       "1997-01-12      3930  61409.65            1718\n",
       "1997-01-19      4149  63856.66            1880\n",
       "1997-01-26      4930  75069.10            2128\n",
       "1997-02-02      5555  84698.98            2386"
      ]
     },
     "execution_count": 36,
     "metadata": {},
     "output_type": "execute_result"
    }
   ],
   "source": [
    "# 2.3 Downsample the data weekly\n",
    "df_dtindex = df.set_index(['order_date'])   # Set order_dt as index TimeStamp\n",
    "week_grouped = df_dtindex.resample('w').sum()[['nb_items','price']]\n",
    "week_grouped['user_sum_month'] = df_dtindex.resample('w')['user_id'].nunique()\n",
    "week_grouped.head(5)"
   ]
  },
  {
   "cell_type": "code",
   "execution_count": 37,
   "metadata": {},
   "outputs": [
    {
     "data": {
      "text/plain": [
       "array([<AxesSubplot:xlabel='order_date'>,\n",
       "       <AxesSubplot:xlabel='order_date'>,\n",
       "       <AxesSubplot:xlabel='order_date'>], dtype=object)"
      ]
     },
     "execution_count": 37,
     "metadata": {},
     "output_type": "execute_result"
    },
    {
     "data": {
      "image/png": "[encoded data removed]",
      "text/plain": [
       "<Figure size 648x504 with 3 Axes>"
      ]
     },
     "metadata": {
      "needs_background": "light"
     },
     "output_type": "display_data"
    }
   ],
   "source": [
    "week_grouped.plot(kind='line',subplots=True,figsize=(9,7))"
   ]
  },
  {
   "cell_type": "markdown",
   "metadata": {},
   "source": [
    "Big jump in early 1997. Low user retention. "
   ]
  },
  {
   "cell_type": "code",
   "execution_count": 40,
   "metadata": {},
   "outputs": [
    {
     "data": {
      "text/html": [
       "<div>\n",
       "<style scoped>\n",
       "    .dataframe tbody tr th:only-of-type {\n",
       "        vertical-align: middle;\n",
       "    }\n",
       "\n",
       "    .dataframe tbody tr th {\n",
       "        vertical-align: top;\n",
       "    }\n",
       "\n",
       "    .dataframe thead th {\n",
       "        text-align: right;\n",
       "    }\n",
       "</style>\n",
       "<table border=\"1\" class=\"dataframe\">\n",
       "  <thead>\n",
       "    <tr style=\"text-align: right;\">\n",
       "      <th></th>\n",
       "      <th>user_id</th>\n",
       "      <th>order_date</th>\n",
       "      <th>nb_items</th>\n",
       "      <th>price</th>\n",
       "      <th>month</th>\n",
       "    </tr>\n",
       "  </thead>\n",
       "  <tbody>\n",
       "    <tr>\n",
       "      <th>0</th>\n",
       "      <td>2</td>\n",
       "      <td>1997-01-12</td>\n",
       "      <td>1</td>\n",
       "      <td>12.0</td>\n",
       "      <td>1997-01-01</td>\n",
       "    </tr>\n",
       "    <tr>\n",
       "      <th>1</th>\n",
       "      <td>2</td>\n",
       "      <td>1997-01-12</td>\n",
       "      <td>5</td>\n",
       "      <td>77.0</td>\n",
       "      <td>1997-01-01</td>\n",
       "    </tr>\n",
       "  </tbody>\n",
       "</table>\n",
       "</div>"
      ],
      "text/plain": [
       "   user_id order_date  nb_items  price      month\n",
       "0        2 1997-01-12         1   12.0 1997-01-01\n",
       "1        2 1997-01-12         5   77.0 1997-01-01"
      ]
     },
     "execution_count": 40,
     "metadata": {},
     "output_type": "execute_result"
    }
   ],
   "source": [
    "# User initial and final consumption\n",
    "df[\"month\"] = df[\"order_date\"].values.astype(\"datetime64[M]\")   # Convert year, month and day\n",
    "df.head(2)"
   ]
  },
  {
   "cell_type": "code",
   "execution_count": 41,
   "metadata": {},
   "outputs": [
    {
     "data": {
      "text/plain": [
       "1997-02-01    8476\n",
       "1997-01-01    7845\n",
       "1997-03-01    7248\n",
       "Name: month, dtype: int64"
      ]
     },
     "execution_count": 41,
     "metadata": {},
     "output_type": "execute_result"
    }
   ],
   "source": [
    "# User's initial consumption time analysis\n",
    "df.groupby('user_id').month.min().value_counts()"
   ]
  },
  {
   "cell_type": "code",
   "execution_count": 42,
   "metadata": {},
   "outputs": [],
   "source": [
    "# All buyers were gained in the first 3 months. Lets look at the weeks"
   ]
  },
  {
   "cell_type": "code",
   "execution_count": 46,
   "metadata": {},
   "outputs": [
    {
     "data": {
      "text/html": [
       "<div>\n",
       "<style scoped>\n",
       "    .dataframe tbody tr th:only-of-type {\n",
       "        vertical-align: middle;\n",
       "    }\n",
       "\n",
       "    .dataframe tbody tr th {\n",
       "        vertical-align: top;\n",
       "    }\n",
       "\n",
       "    .dataframe thead th {\n",
       "        text-align: right;\n",
       "    }\n",
       "</style>\n",
       "<table border=\"1\" class=\"dataframe\">\n",
       "  <thead>\n",
       "    <tr style=\"text-align: right;\">\n",
       "      <th></th>\n",
       "      <th>user_id</th>\n",
       "      <th>order_date</th>\n",
       "      <th>nb_items</th>\n",
       "      <th>price</th>\n",
       "      <th>month</th>\n",
       "      <th>week</th>\n",
       "    </tr>\n",
       "  </thead>\n",
       "  <tbody>\n",
       "    <tr>\n",
       "      <th>0</th>\n",
       "      <td>2</td>\n",
       "      <td>1997-01-12</td>\n",
       "      <td>1</td>\n",
       "      <td>12.0</td>\n",
       "      <td>1997-01-01</td>\n",
       "      <td>1997-01-09</td>\n",
       "    </tr>\n",
       "    <tr>\n",
       "      <th>1</th>\n",
       "      <td>2</td>\n",
       "      <td>1997-01-12</td>\n",
       "      <td>5</td>\n",
       "      <td>77.0</td>\n",
       "      <td>1997-01-01</td>\n",
       "      <td>1997-01-09</td>\n",
       "    </tr>\n",
       "  </tbody>\n",
       "</table>\n",
       "</div>"
      ],
      "text/plain": [
       "   user_id order_date  nb_items  price      month       week\n",
       "0        2 1997-01-12         1   12.0 1997-01-01 1997-01-09\n",
       "1        2 1997-01-12         5   77.0 1997-01-01 1997-01-09"
      ]
     },
     "execution_count": 46,
     "metadata": {},
     "output_type": "execute_result"
    }
   ],
   "source": [
    "df[\"week\"] = df[\"order_date\"].values.astype(\"datetime64[W]\")   # Convert year, month and day\n",
    "df.head(2)"
   ]
  },
  {
   "cell_type": "code",
   "execution_count": 47,
   "metadata": {},
   "outputs": [
    {
     "data": {
      "text/plain": [
       "1997-02-27    2208\n",
       "1997-02-06    2194\n",
       "1997-03-06    2161\n",
       "1997-01-30    2128\n",
       "1997-02-20    2071\n",
       "1997-01-23    2026\n",
       "1997-02-13    2019\n",
       "1997-03-13    1990\n",
       "1997-01-16    1823\n",
       "1997-01-09    1648\n",
       "1997-01-02    1578\n",
       "1997-03-20    1515\n",
       "1996-12-26     208\n",
       "Name: week, dtype: int64"
      ]
     },
     "execution_count": 47,
     "metadata": {},
     "output_type": "execute_result"
    }
   ],
   "source": [
    "# User's initial consumption time analysis\n",
    "df.groupby('user_id').week.min().value_counts()"
   ]
  },
  {
   "cell_type": "markdown",
   "metadata": {},
   "source": [
    "All users were acquired in the first 3 months. When we look at weeks over those 3 months, user acquisition rate is pretty stable"
   ]
  },
  {
   "cell_type": "code",
   "execution_count": 53,
   "metadata": {},
   "outputs": [
    {
     "data": {
      "text/plain": [
       "0.5051975051975052"
      ]
     },
     "execution_count": 53,
     "metadata": {},
     "output_type": "execute_result"
    }
   ],
   "source": [
    "# How many people only bought once?\n",
    "user_grouped[user_grouped[\"user_id\"]==1]['user_id'].count()/user_grouped[\"user_id\"].count()"
   ]
  },
  {
   "cell_type": "code",
   "execution_count": 58,
   "metadata": {},
   "outputs": [
    {
     "data": {
      "text/plain": [
       "0.28885400313971743"
      ]
     },
     "execution_count": 58,
     "metadata": {},
     "output_type": "execute_result"
    }
   ],
   "source": [
    "# How many people only bought one item?\n",
    "user_grouped[user_grouped[\"nb_items\"]==1]['user_id'].count()/user_grouped[\"user_id\"].count()"
   ]
  },
  {
   "cell_type": "markdown",
   "metadata": {},
   "source": [
    "# 3- Analysis of repurchase rate"
   ]
  },
  {
   "cell_type": "code",
   "execution_count": 61,
   "metadata": {},
   "outputs": [
    {
     "data": {
      "text/html": [
       "<div>\n",
       "<style scoped>\n",
       "    .dataframe tbody tr th:only-of-type {\n",
       "        vertical-align: middle;\n",
       "    }\n",
       "\n",
       "    .dataframe tbody tr th {\n",
       "        vertical-align: top;\n",
       "    }\n",
       "\n",
       "    .dataframe thead th {\n",
       "        text-align: right;\n",
       "    }\n",
       "</style>\n",
       "<table border=\"1\" class=\"dataframe\">\n",
       "  <thead>\n",
       "    <tr style=\"text-align: right;\">\n",
       "      <th></th>\n",
       "      <th>1997-01-01</th>\n",
       "      <th>1997-02-01</th>\n",
       "      <th>1997-03-01</th>\n",
       "      <th>1997-04-01</th>\n",
       "      <th>1997-05-01</th>\n",
       "      <th>1997-06-01</th>\n",
       "      <th>1997-07-01</th>\n",
       "      <th>1997-08-01</th>\n",
       "      <th>1997-09-01</th>\n",
       "      <th>1997-10-01</th>\n",
       "      <th>1997-11-01</th>\n",
       "      <th>1997-12-01</th>\n",
       "      <th>1998-01-01</th>\n",
       "      <th>1998-02-01</th>\n",
       "      <th>1998-03-01</th>\n",
       "      <th>1998-04-01</th>\n",
       "      <th>1998-05-01</th>\n",
       "      <th>1998-06-01</th>\n",
       "    </tr>\n",
       "    <tr>\n",
       "      <th>user_id</th>\n",
       "      <th></th>\n",
       "      <th></th>\n",
       "      <th></th>\n",
       "      <th></th>\n",
       "      <th></th>\n",
       "      <th></th>\n",
       "      <th></th>\n",
       "      <th></th>\n",
       "      <th></th>\n",
       "      <th></th>\n",
       "      <th></th>\n",
       "      <th></th>\n",
       "      <th></th>\n",
       "      <th></th>\n",
       "      <th></th>\n",
       "      <th></th>\n",
       "      <th></th>\n",
       "      <th></th>\n",
       "    </tr>\n",
       "  </thead>\n",
       "  <tbody>\n",
       "    <tr>\n",
       "      <th>2</th>\n",
       "      <td>2.0</td>\n",
       "      <td>0.0</td>\n",
       "      <td>0.0</td>\n",
       "      <td>0.0</td>\n",
       "      <td>0.0</td>\n",
       "      <td>0.0</td>\n",
       "      <td>0.0</td>\n",
       "      <td>0.0</td>\n",
       "      <td>0.0</td>\n",
       "      <td>0.0</td>\n",
       "      <td>0.0</td>\n",
       "      <td>0.0</td>\n",
       "      <td>0.0</td>\n",
       "      <td>0.0</td>\n",
       "      <td>0.0</td>\n",
       "      <td>0.0</td>\n",
       "      <td>0.0</td>\n",
       "      <td>0.0</td>\n",
       "    </tr>\n",
       "    <tr>\n",
       "      <th>3</th>\n",
       "      <td>1.0</td>\n",
       "      <td>0.0</td>\n",
       "      <td>1.0</td>\n",
       "      <td>1.0</td>\n",
       "      <td>0.0</td>\n",
       "      <td>0.0</td>\n",
       "      <td>0.0</td>\n",
       "      <td>0.0</td>\n",
       "      <td>0.0</td>\n",
       "      <td>0.0</td>\n",
       "      <td>2.0</td>\n",
       "      <td>0.0</td>\n",
       "      <td>0.0</td>\n",
       "      <td>0.0</td>\n",
       "      <td>0.0</td>\n",
       "      <td>0.0</td>\n",
       "      <td>1.0</td>\n",
       "      <td>0.0</td>\n",
       "    </tr>\n",
       "  </tbody>\n",
       "</table>\n",
       "</div>"
      ],
      "text/plain": [
       "         1997-01-01  1997-02-01  1997-03-01  1997-04-01  1997-05-01  \\\n",
       "user_id                                                               \n",
       "2               2.0         0.0         0.0         0.0         0.0   \n",
       "3               1.0         0.0         1.0         1.0         0.0   \n",
       "\n",
       "         1997-06-01  1997-07-01  1997-08-01  1997-09-01  1997-10-01  \\\n",
       "user_id                                                               \n",
       "2               0.0         0.0         0.0         0.0         0.0   \n",
       "3               0.0         0.0         0.0         0.0         0.0   \n",
       "\n",
       "         1997-11-01  1997-12-01  1998-01-01  1998-02-01  1998-03-01  \\\n",
       "user_id                                                               \n",
       "2               0.0         0.0         0.0         0.0         0.0   \n",
       "3               2.0         0.0         0.0         0.0         0.0   \n",
       "\n",
       "         1998-04-01  1998-05-01  1998-06-01  \n",
       "user_id                                      \n",
       "2               0.0         0.0         0.0  \n",
       "3               0.0         1.0         0.0  "
      ]
     },
     "execution_count": 61,
     "metadata": {},
     "output_type": "execute_result"
    }
   ],
   "source": [
    "# In this analysis, the month is used as the statistical window to make a pivot table\n",
    "pivoted_counts = df.pivot_table(index='user_id',columns='month',values='order_date',aggfunc='count').fillna(0)\n",
    "columns_month = df.month.astype('str').sort_values().unique()\n",
    "pivoted_counts.columns = columns_month\n",
    "pivoted_counts.head(2)"
   ]
  },
  {
   "cell_type": "code",
   "execution_count": 65,
   "metadata": {},
   "outputs": [
    {
     "data": {
      "text/html": [
       "<div>\n",
       "<style scoped>\n",
       "    .dataframe tbody tr th:only-of-type {\n",
       "        vertical-align: middle;\n",
       "    }\n",
       "\n",
       "    .dataframe tbody tr th {\n",
       "        vertical-align: top;\n",
       "    }\n",
       "\n",
       "    .dataframe thead th {\n",
       "        text-align: right;\n",
       "    }\n",
       "</style>\n",
       "<table border=\"1\" class=\"dataframe\">\n",
       "  <thead>\n",
       "    <tr style=\"text-align: right;\">\n",
       "      <th></th>\n",
       "      <th>1997-01-01</th>\n",
       "      <th>1997-02-01</th>\n",
       "      <th>1997-03-01</th>\n",
       "      <th>1997-04-01</th>\n",
       "      <th>1997-05-01</th>\n",
       "      <th>1997-06-01</th>\n",
       "      <th>1997-07-01</th>\n",
       "      <th>1997-08-01</th>\n",
       "      <th>1997-09-01</th>\n",
       "      <th>1997-10-01</th>\n",
       "      <th>1997-11-01</th>\n",
       "      <th>1997-12-01</th>\n",
       "      <th>1998-01-01</th>\n",
       "      <th>1998-02-01</th>\n",
       "      <th>1998-03-01</th>\n",
       "      <th>1998-04-01</th>\n",
       "      <th>1998-05-01</th>\n",
       "      <th>1998-06-01</th>\n",
       "    </tr>\n",
       "    <tr>\n",
       "      <th>user_id</th>\n",
       "      <th></th>\n",
       "      <th></th>\n",
       "      <th></th>\n",
       "      <th></th>\n",
       "      <th></th>\n",
       "      <th></th>\n",
       "      <th></th>\n",
       "      <th></th>\n",
       "      <th></th>\n",
       "      <th></th>\n",
       "      <th></th>\n",
       "      <th></th>\n",
       "      <th></th>\n",
       "      <th></th>\n",
       "      <th></th>\n",
       "      <th></th>\n",
       "      <th></th>\n",
       "      <th></th>\n",
       "    </tr>\n",
       "  </thead>\n",
       "  <tbody>\n",
       "    <tr>\n",
       "      <th>2</th>\n",
       "      <td>True</td>\n",
       "      <td>False</td>\n",
       "      <td>False</td>\n",
       "      <td>False</td>\n",
       "      <td>False</td>\n",
       "      <td>False</td>\n",
       "      <td>False</td>\n",
       "      <td>False</td>\n",
       "      <td>False</td>\n",
       "      <td>False</td>\n",
       "      <td>False</td>\n",
       "      <td>False</td>\n",
       "      <td>False</td>\n",
       "      <td>False</td>\n",
       "      <td>False</td>\n",
       "      <td>False</td>\n",
       "      <td>False</td>\n",
       "      <td>False</td>\n",
       "    </tr>\n",
       "    <tr>\n",
       "      <th>3</th>\n",
       "      <td>False</td>\n",
       "      <td>False</td>\n",
       "      <td>False</td>\n",
       "      <td>False</td>\n",
       "      <td>False</td>\n",
       "      <td>False</td>\n",
       "      <td>False</td>\n",
       "      <td>False</td>\n",
       "      <td>False</td>\n",
       "      <td>False</td>\n",
       "      <td>True</td>\n",
       "      <td>False</td>\n",
       "      <td>False</td>\n",
       "      <td>False</td>\n",
       "      <td>False</td>\n",
       "      <td>False</td>\n",
       "      <td>False</td>\n",
       "      <td>False</td>\n",
       "    </tr>\n",
       "    <tr>\n",
       "      <th>4</th>\n",
       "      <td>True</td>\n",
       "      <td>False</td>\n",
       "      <td>False</td>\n",
       "      <td>False</td>\n",
       "      <td>False</td>\n",
       "      <td>False</td>\n",
       "      <td>False</td>\n",
       "      <td>False</td>\n",
       "      <td>False</td>\n",
       "      <td>False</td>\n",
       "      <td>False</td>\n",
       "      <td>False</td>\n",
       "      <td>False</td>\n",
       "      <td>False</td>\n",
       "      <td>False</td>\n",
       "      <td>False</td>\n",
       "      <td>False</td>\n",
       "      <td>False</td>\n",
       "    </tr>\n",
       "    <tr>\n",
       "      <th>5</th>\n",
       "      <td>True</td>\n",
       "      <td>False</td>\n",
       "      <td>False</td>\n",
       "      <td>False</td>\n",
       "      <td>False</td>\n",
       "      <td>False</td>\n",
       "      <td>False</td>\n",
       "      <td>False</td>\n",
       "      <td>False</td>\n",
       "      <td>False</td>\n",
       "      <td>False</td>\n",
       "      <td>True</td>\n",
       "      <td>False</td>\n",
       "      <td>False</td>\n",
       "      <td>False</td>\n",
       "      <td>False</td>\n",
       "      <td>False</td>\n",
       "      <td>False</td>\n",
       "    </tr>\n",
       "    <tr>\n",
       "      <th>6</th>\n",
       "      <td>False</td>\n",
       "      <td>False</td>\n",
       "      <td>False</td>\n",
       "      <td>False</td>\n",
       "      <td>False</td>\n",
       "      <td>False</td>\n",
       "      <td>False</td>\n",
       "      <td>False</td>\n",
       "      <td>False</td>\n",
       "      <td>False</td>\n",
       "      <td>False</td>\n",
       "      <td>False</td>\n",
       "      <td>False</td>\n",
       "      <td>False</td>\n",
       "      <td>False</td>\n",
       "      <td>False</td>\n",
       "      <td>False</td>\n",
       "      <td>False</td>\n",
       "    </tr>\n",
       "  </tbody>\n",
       "</table>\n",
       "</div>"
      ],
      "text/plain": [
       "         1997-01-01  1997-02-01  1997-03-01  1997-04-01  1997-05-01  \\\n",
       "user_id                                                               \n",
       "2              True       False       False       False       False   \n",
       "3             False       False       False       False       False   \n",
       "4              True       False       False       False       False   \n",
       "5              True       False       False       False       False   \n",
       "6             False       False       False       False       False   \n",
       "\n",
       "         1997-06-01  1997-07-01  1997-08-01  1997-09-01  1997-10-01  \\\n",
       "user_id                                                               \n",
       "2             False       False       False       False       False   \n",
       "3             False       False       False       False       False   \n",
       "4             False       False       False       False       False   \n",
       "5             False       False       False       False       False   \n",
       "6             False       False       False       False       False   \n",
       "\n",
       "         1997-11-01  1997-12-01  1998-01-01  1998-02-01  1998-03-01  \\\n",
       "user_id                                                               \n",
       "2             False       False       False       False       False   \n",
       "3              True       False       False       False       False   \n",
       "4             False       False       False       False       False   \n",
       "5             False        True       False       False       False   \n",
       "6             False       False       False       False       False   \n",
       "\n",
       "         1998-04-01  1998-05-01  1998-06-01  \n",
       "user_id                                      \n",
       "2             False       False       False  \n",
       "3             False       False       False  \n",
       "4             False       False       False  \n",
       "5             False       False       False  \n",
       "6             False       False       False  "
      ]
     },
     "execution_count": 65,
     "metadata": {},
     "output_type": "execute_result"
    }
   ],
   "source": [
    "# Users who have consumed twice or more in a monthly time window)\n",
    "(pivoted_counts>1).head(5) "
   ]
  },
  {
   "cell_type": "code",
   "execution_count": 66,
   "metadata": {},
   "outputs": [
    {
     "data": {
      "text/html": [
       "<div>\n",
       "<style scoped>\n",
       "    .dataframe tbody tr th:only-of-type {\n",
       "        vertical-align: middle;\n",
       "    }\n",
       "\n",
       "    .dataframe tbody tr th {\n",
       "        vertical-align: top;\n",
       "    }\n",
       "\n",
       "    .dataframe thead th {\n",
       "        text-align: right;\n",
       "    }\n",
       "</style>\n",
       "<table border=\"1\" class=\"dataframe\">\n",
       "  <thead>\n",
       "    <tr style=\"text-align: right;\">\n",
       "      <th></th>\n",
       "      <th>1997-01-01</th>\n",
       "      <th>1997-02-01</th>\n",
       "      <th>1997-03-01</th>\n",
       "      <th>1997-04-01</th>\n",
       "      <th>1997-05-01</th>\n",
       "      <th>1997-06-01</th>\n",
       "      <th>1997-07-01</th>\n",
       "      <th>1997-08-01</th>\n",
       "      <th>1997-09-01</th>\n",
       "      <th>1997-10-01</th>\n",
       "      <th>1997-11-01</th>\n",
       "      <th>1997-12-01</th>\n",
       "      <th>1998-01-01</th>\n",
       "      <th>1998-02-01</th>\n",
       "      <th>1998-03-01</th>\n",
       "      <th>1998-04-01</th>\n",
       "      <th>1998-05-01</th>\n",
       "      <th>1998-06-01</th>\n",
       "    </tr>\n",
       "    <tr>\n",
       "      <th>user_id</th>\n",
       "      <th></th>\n",
       "      <th></th>\n",
       "      <th></th>\n",
       "      <th></th>\n",
       "      <th></th>\n",
       "      <th></th>\n",
       "      <th></th>\n",
       "      <th></th>\n",
       "      <th></th>\n",
       "      <th></th>\n",
       "      <th></th>\n",
       "      <th></th>\n",
       "      <th></th>\n",
       "      <th></th>\n",
       "      <th></th>\n",
       "      <th></th>\n",
       "      <th></th>\n",
       "      <th></th>\n",
       "    </tr>\n",
       "  </thead>\n",
       "  <tbody>\n",
       "    <tr>\n",
       "      <th>2</th>\n",
       "      <td>True</td>\n",
       "      <td>False</td>\n",
       "      <td>False</td>\n",
       "      <td>False</td>\n",
       "      <td>False</td>\n",
       "      <td>False</td>\n",
       "      <td>False</td>\n",
       "      <td>False</td>\n",
       "      <td>False</td>\n",
       "      <td>False</td>\n",
       "      <td>False</td>\n",
       "      <td>False</td>\n",
       "      <td>False</td>\n",
       "      <td>False</td>\n",
       "      <td>False</td>\n",
       "      <td>False</td>\n",
       "      <td>False</td>\n",
       "      <td>False</td>\n",
       "    </tr>\n",
       "    <tr>\n",
       "      <th>3</th>\n",
       "      <td>True</td>\n",
       "      <td>False</td>\n",
       "      <td>True</td>\n",
       "      <td>True</td>\n",
       "      <td>False</td>\n",
       "      <td>False</td>\n",
       "      <td>False</td>\n",
       "      <td>False</td>\n",
       "      <td>False</td>\n",
       "      <td>False</td>\n",
       "      <td>True</td>\n",
       "      <td>False</td>\n",
       "      <td>False</td>\n",
       "      <td>False</td>\n",
       "      <td>False</td>\n",
       "      <td>False</td>\n",
       "      <td>True</td>\n",
       "      <td>False</td>\n",
       "    </tr>\n",
       "    <tr>\n",
       "      <th>4</th>\n",
       "      <td>True</td>\n",
       "      <td>False</td>\n",
       "      <td>False</td>\n",
       "      <td>False</td>\n",
       "      <td>False</td>\n",
       "      <td>False</td>\n",
       "      <td>False</td>\n",
       "      <td>True</td>\n",
       "      <td>False</td>\n",
       "      <td>False</td>\n",
       "      <td>False</td>\n",
       "      <td>True</td>\n",
       "      <td>False</td>\n",
       "      <td>False</td>\n",
       "      <td>False</td>\n",
       "      <td>False</td>\n",
       "      <td>False</td>\n",
       "      <td>False</td>\n",
       "    </tr>\n",
       "    <tr>\n",
       "      <th>5</th>\n",
       "      <td>True</td>\n",
       "      <td>True</td>\n",
       "      <td>False</td>\n",
       "      <td>True</td>\n",
       "      <td>True</td>\n",
       "      <td>True</td>\n",
       "      <td>True</td>\n",
       "      <td>False</td>\n",
       "      <td>True</td>\n",
       "      <td>False</td>\n",
       "      <td>False</td>\n",
       "      <td>True</td>\n",
       "      <td>True</td>\n",
       "      <td>False</td>\n",
       "      <td>False</td>\n",
       "      <td>False</td>\n",
       "      <td>False</td>\n",
       "      <td>False</td>\n",
       "    </tr>\n",
       "    <tr>\n",
       "      <th>6</th>\n",
       "      <td>True</td>\n",
       "      <td>False</td>\n",
       "      <td>False</td>\n",
       "      <td>False</td>\n",
       "      <td>False</td>\n",
       "      <td>False</td>\n",
       "      <td>False</td>\n",
       "      <td>False</td>\n",
       "      <td>False</td>\n",
       "      <td>False</td>\n",
       "      <td>False</td>\n",
       "      <td>False</td>\n",
       "      <td>False</td>\n",
       "      <td>False</td>\n",
       "      <td>False</td>\n",
       "      <td>False</td>\n",
       "      <td>False</td>\n",
       "      <td>False</td>\n",
       "    </tr>\n",
       "  </tbody>\n",
       "</table>\n",
       "</div>"
      ],
      "text/plain": [
       "         1997-01-01  1997-02-01  1997-03-01  1997-04-01  1997-05-01  \\\n",
       "user_id                                                               \n",
       "2              True       False       False       False       False   \n",
       "3              True       False        True        True       False   \n",
       "4              True       False       False       False       False   \n",
       "5              True        True       False        True        True   \n",
       "6              True       False       False       False       False   \n",
       "\n",
       "         1997-06-01  1997-07-01  1997-08-01  1997-09-01  1997-10-01  \\\n",
       "user_id                                                               \n",
       "2             False       False       False       False       False   \n",
       "3             False       False       False       False       False   \n",
       "4             False       False        True       False       False   \n",
       "5              True        True       False        True       False   \n",
       "6             False       False       False       False       False   \n",
       "\n",
       "         1997-11-01  1997-12-01  1998-01-01  1998-02-01  1998-03-01  \\\n",
       "user_id                                                               \n",
       "2             False       False       False       False       False   \n",
       "3              True       False       False       False       False   \n",
       "4             False        True       False       False       False   \n",
       "5             False        True        True       False       False   \n",
       "6             False       False       False       False       False   \n",
       "\n",
       "         1998-04-01  1998-05-01  1998-06-01  \n",
       "user_id                                      \n",
       "2             False       False       False  \n",
       "3             False        True       False  \n",
       "4             False       False       False  \n",
       "5             False       False       False  \n",
       "6             False       False       False  "
      ]
     },
     "execution_count": 66,
     "metadata": {},
     "output_type": "execute_result"
    }
   ],
   "source": [
    "# users with consumption in the monthly time window\n",
    "(pivoted_counts>=1).head(5) "
   ]
  },
  {
   "cell_type": "code",
   "execution_count": 68,
   "metadata": {},
   "outputs": [
    {
     "data": {
      "text/html": [
       "<div>\n",
       "<style scoped>\n",
       "    .dataframe tbody tr th:only-of-type {\n",
       "        vertical-align: middle;\n",
       "    }\n",
       "\n",
       "    .dataframe tbody tr th {\n",
       "        vertical-align: top;\n",
       "    }\n",
       "\n",
       "    .dataframe thead th {\n",
       "        text-align: right;\n",
       "    }\n",
       "</style>\n",
       "<table border=\"1\" class=\"dataframe\">\n",
       "  <thead>\n",
       "    <tr style=\"text-align: right;\">\n",
       "      <th></th>\n",
       "      <th>Repurchase rate</th>\n",
       "    </tr>\n",
       "  </thead>\n",
       "  <tbody>\n",
       "    <tr>\n",
       "      <th>1997-01-01</th>\n",
       "      <td>0.107584</td>\n",
       "    </tr>\n",
       "    <tr>\n",
       "      <th>1997-02-01</th>\n",
       "      <td>0.122288</td>\n",
       "    </tr>\n",
       "  </tbody>\n",
       "</table>\n",
       "</div>"
      ],
      "text/plain": [
       "            Repurchase rate\n",
       "1997-01-01         0.107584\n",
       "1997-02-01         0.122288"
      ]
     },
     "execution_count": 68,
     "metadata": {},
     "output_type": "execute_result"
    }
   ],
   "source": [
    "# Calculate the proportion of users who have spent twice or more in the monthly time window in the total consumption users\n",
    "month_counts_rate = pd.DataFrame((pivoted_counts>1).sum()/(pivoted_counts>=1).sum(),columns=['Repurchase rate'])\n",
    "month_counts_rate.head(2)"
   ]
  },
  {
   "cell_type": "code",
   "execution_count": 69,
   "metadata": {},
   "outputs": [
    {
     "data": {
      "text/plain": [
       "([0, 1, 2, 3, 4, 5, 6, 7, 8, 9, 10, 11, 12, 13, 14, 15, 16, 17],\n",
       " [Text(0, 0, ''),\n",
       "  Text(0, 0, ''),\n",
       "  Text(0, 0, ''),\n",
       "  Text(0, 0, ''),\n",
       "  Text(0, 0, ''),\n",
       "  Text(0, 0, ''),\n",
       "  Text(0, 0, ''),\n",
       "  Text(0, 0, ''),\n",
       "  Text(0, 0, ''),\n",
       "  Text(0, 0, ''),\n",
       "  Text(0, 0, ''),\n",
       "  Text(0, 0, ''),\n",
       "  Text(0, 0, ''),\n",
       "  Text(0, 0, ''),\n",
       "  Text(0, 0, ''),\n",
       "  Text(0, 0, ''),\n",
       "  Text(0, 0, ''),\n",
       "  Text(0, 0, '')])"
      ]
     },
     "execution_count": 69,
     "metadata": {},
     "output_type": "execute_result"
    },
    {
     "data": {
      "image/png": "[encoded data removed]",
      "text/plain": [
       "<Figure size 800x320 with 1 Axes>"
      ]
     },
     "metadata": {
      "needs_background": "light"
     },
     "output_type": "display_data"
    }
   ],
   "source": [
    "plt.figure(figsize=(10,4),dpi=80)\n",
    "plt.plot(month_counts_rate)\n",
    "plt.xticks(rotation=45)"
   ]
  },
  {
   "cell_type": "markdown",
   "metadata": {},
   "source": [
    "Until April 1997, low repurchase rate, which is explained as we saw earlier that it corresponds to almost all new customers joining in that period. After that, repurchase rate stabilises, meaning old customers are pretty loyal but no new customers are gained."
   ]
  },
  {
   "cell_type": "markdown",
   "metadata": {},
   "source": [
    "We can infer that the value of those old customers is a key point"
   ]
  },
  {
   "cell_type": "markdown",
   "metadata": {},
   "source": [
    "# 4 - RFM Segmentation"
   ]
  },
  {
   "cell_type": "code",
   "execution_count": 72,
   "metadata": {},
   "outputs": [
    {
     "data": {
      "text/html": [
       "<div>\n",
       "<style scoped>\n",
       "    .dataframe tbody tr th:only-of-type {\n",
       "        vertical-align: middle;\n",
       "    }\n",
       "\n",
       "    .dataframe tbody tr th {\n",
       "        vertical-align: top;\n",
       "    }\n",
       "\n",
       "    .dataframe thead th {\n",
       "        text-align: right;\n",
       "    }\n",
       "</style>\n",
       "<table border=\"1\" class=\"dataframe\">\n",
       "  <thead>\n",
       "    <tr style=\"text-align: right;\">\n",
       "      <th></th>\n",
       "      <th>user_id</th>\n",
       "      <th>order_date</th>\n",
       "      <th>nb_items</th>\n",
       "      <th>price</th>\n",
       "      <th>month</th>\n",
       "      <th>week</th>\n",
       "      <th>period</th>\n",
       "    </tr>\n",
       "  </thead>\n",
       "  <tbody>\n",
       "    <tr>\n",
       "      <th>0</th>\n",
       "      <td>2</td>\n",
       "      <td>1997-01-12</td>\n",
       "      <td>1</td>\n",
       "      <td>12.00</td>\n",
       "      <td>1997-01-01</td>\n",
       "      <td>1997-01-09</td>\n",
       "      <td>-534.0</td>\n",
       "    </tr>\n",
       "    <tr>\n",
       "      <th>1</th>\n",
       "      <td>2</td>\n",
       "      <td>1997-01-12</td>\n",
       "      <td>5</td>\n",
       "      <td>77.00</td>\n",
       "      <td>1997-01-01</td>\n",
       "      <td>1997-01-09</td>\n",
       "      <td>-534.0</td>\n",
       "    </tr>\n",
       "    <tr>\n",
       "      <th>2</th>\n",
       "      <td>3</td>\n",
       "      <td>1997-01-02</td>\n",
       "      <td>2</td>\n",
       "      <td>20.76</td>\n",
       "      <td>1997-01-01</td>\n",
       "      <td>1997-01-02</td>\n",
       "      <td>-544.0</td>\n",
       "    </tr>\n",
       "    <tr>\n",
       "      <th>3</th>\n",
       "      <td>3</td>\n",
       "      <td>1997-03-30</td>\n",
       "      <td>2</td>\n",
       "      <td>20.76</td>\n",
       "      <td>1997-03-01</td>\n",
       "      <td>1997-03-27</td>\n",
       "      <td>-457.0</td>\n",
       "    </tr>\n",
       "    <tr>\n",
       "      <th>4</th>\n",
       "      <td>3</td>\n",
       "      <td>1997-04-02</td>\n",
       "      <td>2</td>\n",
       "      <td>19.54</td>\n",
       "      <td>1997-04-01</td>\n",
       "      <td>1997-03-27</td>\n",
       "      <td>-454.0</td>\n",
       "    </tr>\n",
       "  </tbody>\n",
       "</table>\n",
       "</div>"
      ],
      "text/plain": [
       "   user_id order_date  nb_items  price      month       week  period\n",
       "0        2 1997-01-12         1  12.00 1997-01-01 1997-01-09  -534.0\n",
       "1        2 1997-01-12         5  77.00 1997-01-01 1997-01-09  -534.0\n",
       "2        3 1997-01-02         2  20.76 1997-01-01 1997-01-02  -544.0\n",
       "3        3 1997-03-30         2  20.76 1997-03-01 1997-03-27  -457.0\n",
       "4        3 1997-04-02         2  19.54 1997-04-01 1997-03-27  -454.0"
      ]
     },
     "execution_count": 72,
     "metadata": {},
     "output_type": "execute_result"
    }
   ],
   "source": [
    "# The mean value of R\\F\\M is used as the boundary of the three dimensions\n",
    "df['period'] = (df.order_date - df.order_date.max())/np.timedelta64(1,'D')\n",
    "df.head()"
   ]
  },
  {
   "cell_type": "markdown",
   "metadata": {},
   "source": [
    "The more ancient the last consumption time was, the furthest the period is to zero."
   ]
  },
  {
   "cell_type": "code",
   "execution_count": 75,
   "metadata": {},
   "outputs": [
    {
     "data": {
      "text/html": [
       "<div>\n",
       "<style scoped>\n",
       "    .dataframe tbody tr th:only-of-type {\n",
       "        vertical-align: middle;\n",
       "    }\n",
       "\n",
       "    .dataframe tbody tr th {\n",
       "        vertical-align: top;\n",
       "    }\n",
       "\n",
       "    .dataframe thead th {\n",
       "        text-align: right;\n",
       "    }\n",
       "</style>\n",
       "<table border=\"1\" class=\"dataframe\">\n",
       "  <thead>\n",
       "    <tr style=\"text-align: right;\">\n",
       "      <th></th>\n",
       "      <th>F</th>\n",
       "      <th>R</th>\n",
       "      <th>M</th>\n",
       "    </tr>\n",
       "    <tr>\n",
       "      <th>user_id</th>\n",
       "      <th></th>\n",
       "      <th></th>\n",
       "      <th></th>\n",
       "    </tr>\n",
       "  </thead>\n",
       "  <tbody>\n",
       "    <tr>\n",
       "      <th>2</th>\n",
       "      <td>2</td>\n",
       "      <td>-534.0</td>\n",
       "      <td>89.00</td>\n",
       "    </tr>\n",
       "    <tr>\n",
       "      <th>3</th>\n",
       "      <td>6</td>\n",
       "      <td>-33.0</td>\n",
       "      <td>156.46</td>\n",
       "    </tr>\n",
       "    <tr>\n",
       "      <th>4</th>\n",
       "      <td>4</td>\n",
       "      <td>-200.0</td>\n",
       "      <td>100.50</td>\n",
       "    </tr>\n",
       "    <tr>\n",
       "      <th>5</th>\n",
       "      <td>11</td>\n",
       "      <td>-178.0</td>\n",
       "      <td>385.61</td>\n",
       "    </tr>\n",
       "    <tr>\n",
       "      <th>6</th>\n",
       "      <td>1</td>\n",
       "      <td>-545.0</td>\n",
       "      <td>20.99</td>\n",
       "    </tr>\n",
       "  </tbody>\n",
       "</table>\n",
       "</div>"
      ],
      "text/plain": [
       "          F      R       M\n",
       "user_id                   \n",
       "2         2 -534.0   89.00\n",
       "3         6  -33.0  156.46\n",
       "4         4 -200.0  100.50\n",
       "5        11 -178.0  385.61\n",
       "6         1 -545.0   20.99"
      ]
     },
     "execution_count": 75,
     "metadata": {},
     "output_type": "execute_result"
    }
   ],
   "source": [
    "# Use the function of the pivot table to find the recent consumption time, consumption frequency and total consumption amount of each user\n",
    "user_rfm = df.pivot_table(values=['period','nb_items','price'],\n",
    "                          index='user_id',aggfunc={'period': 'max','nb_items':'count','price':'sum'})\n",
    "user_rfm = user_rfm.rename(columns={'period':'R','nb_items':'F','price':'M'})\n",
    "user_rfm.head()"
   ]
  },
  {
   "cell_type": "code",
   "execution_count": 76,
   "metadata": {},
   "outputs": [
    {
     "data": {
      "text/html": [
       "<div>\n",
       "<style scoped>\n",
       "    .dataframe tbody tr th:only-of-type {\n",
       "        vertical-align: middle;\n",
       "    }\n",
       "\n",
       "    .dataframe tbody tr th {\n",
       "        vertical-align: top;\n",
       "    }\n",
       "\n",
       "    .dataframe thead th {\n",
       "        text-align: right;\n",
       "    }\n",
       "</style>\n",
       "<table border=\"1\" class=\"dataframe\">\n",
       "  <thead>\n",
       "    <tr style=\"text-align: right;\">\n",
       "      <th></th>\n",
       "      <th>F</th>\n",
       "      <th>R</th>\n",
       "      <th>M</th>\n",
       "      <th>label</th>\n",
       "    </tr>\n",
       "    <tr>\n",
       "      <th>user_id</th>\n",
       "      <th></th>\n",
       "      <th></th>\n",
       "      <th></th>\n",
       "      <th></th>\n",
       "    </tr>\n",
       "  </thead>\n",
       "  <tbody>\n",
       "    <tr>\n",
       "      <th>2</th>\n",
       "      <td>2</td>\n",
       "      <td>-534.0</td>\n",
       "      <td>89.00</td>\n",
       "      <td>General retention of users</td>\n",
       "    </tr>\n",
       "    <tr>\n",
       "      <th>3</th>\n",
       "      <td>6</td>\n",
       "      <td>-33.0</td>\n",
       "      <td>156.46</td>\n",
       "      <td>Important Value User</td>\n",
       "    </tr>\n",
       "    <tr>\n",
       "      <th>4</th>\n",
       "      <td>4</td>\n",
       "      <td>-200.0</td>\n",
       "      <td>100.50</td>\n",
       "      <td>General value users</td>\n",
       "    </tr>\n",
       "    <tr>\n",
       "      <th>5</th>\n",
       "      <td>11</td>\n",
       "      <td>-178.0</td>\n",
       "      <td>385.61</td>\n",
       "      <td>Important Value User</td>\n",
       "    </tr>\n",
       "    <tr>\n",
       "      <th>6</th>\n",
       "      <td>1</td>\n",
       "      <td>-545.0</td>\n",
       "      <td>20.99</td>\n",
       "      <td>General retention of users</td>\n",
       "    </tr>\n",
       "  </tbody>\n",
       "</table>\n",
       "</div>"
      ],
      "text/plain": [
       "          F      R       M                       label\n",
       "user_id                                               \n",
       "2         2 -534.0   89.00  General retention of users\n",
       "3         6  -33.0  156.46        Important Value User\n",
       "4         4 -200.0  100.50         General value users\n",
       "5        11 -178.0  385.61        Important Value User\n",
       "6         1 -545.0   20.99  General retention of users"
      ]
     },
     "execution_count": 76,
     "metadata": {},
     "output_type": "execute_result"
    }
   ],
   "source": [
    "def level_div(data):\n",
    "    level = data.apply(lambda x: '1' if x>=0 else '0')\n",
    "    label = level['R'] + level['F'] + level['M']\n",
    "    div = {\n",
    "        '111' : 'Important Value User',\n",
    "        '101' : 'Important Development User',\n",
    "        '011' : 'Important to keep users',\n",
    "        '001' : 'Important retention of users',\n",
    "        '110' : 'General value users',\n",
    "        '100' : 'General development users',\n",
    "        '010' : 'Generally keep users',\n",
    "        '000' : 'General retention of users',\n",
    "    }\n",
    "    result = div[label]\n",
    "    return result\n",
    "\n",
    "user_rfm['label'] = (user_rfm - user_rfm.mean()).apply(level_div, axis=1)\n",
    "user_rfm.head()"
   ]
  },
  {
   "cell_type": "code",
   "execution_count": 77,
   "metadata": {},
   "outputs": [
    {
     "data": {
      "text/plain": [
       "General retention of users      13607\n",
       "Important Value User             4617\n",
       "General value users              1974\n",
       "General development users        1532\n",
       "Important retention of users      579\n",
       "Generally keep users              543\n",
       "Important to keep users           449\n",
       "Important Development User        268\n",
       "Name: label, dtype: int64"
      ]
     },
     "execution_count": 77,
     "metadata": {},
     "output_type": "execute_result"
    }
   ],
   "source": [
    "user_rfm.label.value_counts()"
   ]
  },
  {
   "cell_type": "code",
   "execution_count": 78,
   "metadata": {},
   "outputs": [
    {
     "data": {
      "text/plain": [
       "([<matplotlib.patches.Wedge at 0x12b51bbe0>,\n",
       "  <matplotlib.patches.Wedge at 0x12bb43b20>,\n",
       "  <matplotlib.patches.Wedge at 0x12bcb3520>,\n",
       "  <matplotlib.patches.Wedge at 0x12bb49790>,\n",
       "  <matplotlib.patches.Wedge at 0x12b50d190>,\n",
       "  <matplotlib.patches.Wedge at 0x12bd386a0>,\n",
       "  <matplotlib.patches.Wedge at 0x12bd38e20>,\n",
       "  <matplotlib.patches.Wedge at 0x12bda7b80>],\n",
       " [Text(-0.2645995598835945, 1.067701771521153, 'General retention of users'),\n",
       "  Text(-0.4977098714515812, -0.9809612040542942, 'Important Value User'),\n",
       "  Text(0.4374723979809822, -1.009266020930443, 'General value users'),\n",
       "  Text(0.8452403977201083, -0.7039663841846098, 'General development users'),\n",
       "  Text(1.0074793675861549, -0.4415714255793749, 'Important retention of users'),\n",
       "  Text(1.0620267322369876, -0.28652961454974585, 'Generally keep users'),\n",
       "  Text(1.0905326806035038, -0.1440085849376227, 'Important to keep users'),\n",
       "  Text(1.0992982253345562, -0.03928627974618538, 'Important Development User')],\n",
       " [Text(-0.1443270326637788, 0.5823827844660834, '57.7%'),\n",
       "  Text(-0.27147811170086245, -0.5350697476659786, '19.6%'),\n",
       "  Text(0.23862130798962664, -0.5505087386893325, '8.4%'),\n",
       "  Text(0.4610402169382408, -0.3839816641006962, '6.5%'),\n",
       "  Text(0.549534200501539, -0.24085714122511356, '2.5%'),\n",
       "  Text(0.5792873084929022, -0.15628888066349772, '2.3%'),\n",
       "  Text(0.5948360076019111, -0.07855013723870327, '1.9%'),\n",
       "  Text(0.5996172138188488, -0.021428879861555658, '1.1%')])"
      ]
     },
     "execution_count": 78,
     "metadata": {},
     "output_type": "execute_result"
    },
    {
     "data": {
      "image/png": "[encoded data removed]",
      "text/plain": [
       "<Figure size 480x480 with 1 Axes>"
      ]
     },
     "metadata": {},
     "output_type": "display_data"
    }
   ],
   "source": [
    "plt.figure(figsize=(6,6),dpi=80)\n",
    "plt.pie(user_rfm.label.value_counts(),labels=user_rfm.label.value_counts().index,autopct='%3.1f%%')"
   ]
  },
  {
   "cell_type": "code",
   "execution_count": 86,
   "metadata": {},
   "outputs": [
    {
     "data": {
      "text/html": [
       "<div>\n",
       "<style scoped>\n",
       "    .dataframe tbody tr th:only-of-type {\n",
       "        vertical-align: middle;\n",
       "    }\n",
       "\n",
       "    .dataframe tbody tr th {\n",
       "        vertical-align: top;\n",
       "    }\n",
       "\n",
       "    .dataframe thead th {\n",
       "        text-align: right;\n",
       "    }\n",
       "</style>\n",
       "<table border=\"1\" class=\"dataframe\">\n",
       "  <thead>\n",
       "    <tr style=\"text-align: right;\">\n",
       "      <th></th>\n",
       "      <th>1997-01-01</th>\n",
       "      <th>1997-02-01</th>\n",
       "      <th>1997-03-01</th>\n",
       "      <th>1997-04-01</th>\n",
       "      <th>1997-05-01</th>\n",
       "      <th>1997-06-01</th>\n",
       "      <th>1997-07-01</th>\n",
       "      <th>1997-08-01</th>\n",
       "      <th>1997-09-01</th>\n",
       "      <th>1997-10-01</th>\n",
       "      <th>1997-11-01</th>\n",
       "      <th>1997-12-01</th>\n",
       "      <th>1998-01-01</th>\n",
       "      <th>1998-02-01</th>\n",
       "      <th>1998-03-01</th>\n",
       "      <th>1998-04-01</th>\n",
       "      <th>1998-05-01</th>\n",
       "      <th>1998-06-01</th>\n",
       "    </tr>\n",
       "    <tr>\n",
       "      <th>user_id</th>\n",
       "      <th></th>\n",
       "      <th></th>\n",
       "      <th></th>\n",
       "      <th></th>\n",
       "      <th></th>\n",
       "      <th></th>\n",
       "      <th></th>\n",
       "      <th></th>\n",
       "      <th></th>\n",
       "      <th></th>\n",
       "      <th></th>\n",
       "      <th></th>\n",
       "      <th></th>\n",
       "      <th></th>\n",
       "      <th></th>\n",
       "      <th></th>\n",
       "      <th></th>\n",
       "      <th></th>\n",
       "    </tr>\n",
       "  </thead>\n",
       "  <tbody>\n",
       "    <tr>\n",
       "      <th>2</th>\n",
       "      <td>new</td>\n",
       "      <td>inactive</td>\n",
       "      <td>inactive</td>\n",
       "      <td>inactive</td>\n",
       "      <td>inactive</td>\n",
       "      <td>inactive</td>\n",
       "      <td>inactive</td>\n",
       "      <td>inactive</td>\n",
       "      <td>inactive</td>\n",
       "      <td>inactive</td>\n",
       "      <td>inactive</td>\n",
       "      <td>inactive</td>\n",
       "      <td>inactive</td>\n",
       "      <td>inactive</td>\n",
       "      <td>inactive</td>\n",
       "      <td>inactive</td>\n",
       "      <td>inactive</td>\n",
       "      <td>inactive</td>\n",
       "    </tr>\n",
       "    <tr>\n",
       "      <th>3</th>\n",
       "      <td>new</td>\n",
       "      <td>inactive</td>\n",
       "      <td>active</td>\n",
       "      <td>active</td>\n",
       "      <td>inactive</td>\n",
       "      <td>inactive</td>\n",
       "      <td>inactive</td>\n",
       "      <td>inactive</td>\n",
       "      <td>inactive</td>\n",
       "      <td>inactive</td>\n",
       "      <td>active</td>\n",
       "      <td>inactive</td>\n",
       "      <td>inactive</td>\n",
       "      <td>inactive</td>\n",
       "      <td>inactive</td>\n",
       "      <td>inactive</td>\n",
       "      <td>active</td>\n",
       "      <td>inactive</td>\n",
       "    </tr>\n",
       "    <tr>\n",
       "      <th>4</th>\n",
       "      <td>new</td>\n",
       "      <td>inactive</td>\n",
       "      <td>inactive</td>\n",
       "      <td>inactive</td>\n",
       "      <td>inactive</td>\n",
       "      <td>inactive</td>\n",
       "      <td>inactive</td>\n",
       "      <td>active</td>\n",
       "      <td>inactive</td>\n",
       "      <td>inactive</td>\n",
       "      <td>inactive</td>\n",
       "      <td>active</td>\n",
       "      <td>inactive</td>\n",
       "      <td>inactive</td>\n",
       "      <td>inactive</td>\n",
       "      <td>inactive</td>\n",
       "      <td>inactive</td>\n",
       "      <td>inactive</td>\n",
       "    </tr>\n",
       "    <tr>\n",
       "      <th>5</th>\n",
       "      <td>new</td>\n",
       "      <td>active</td>\n",
       "      <td>inactive</td>\n",
       "      <td>active</td>\n",
       "      <td>active</td>\n",
       "      <td>active</td>\n",
       "      <td>active</td>\n",
       "      <td>inactive</td>\n",
       "      <td>active</td>\n",
       "      <td>inactive</td>\n",
       "      <td>inactive</td>\n",
       "      <td>active</td>\n",
       "      <td>active</td>\n",
       "      <td>inactive</td>\n",
       "      <td>inactive</td>\n",
       "      <td>inactive</td>\n",
       "      <td>inactive</td>\n",
       "      <td>inactive</td>\n",
       "    </tr>\n",
       "    <tr>\n",
       "      <th>6</th>\n",
       "      <td>new</td>\n",
       "      <td>inactive</td>\n",
       "      <td>inactive</td>\n",
       "      <td>inactive</td>\n",
       "      <td>inactive</td>\n",
       "      <td>inactive</td>\n",
       "      <td>inactive</td>\n",
       "      <td>inactive</td>\n",
       "      <td>inactive</td>\n",
       "      <td>inactive</td>\n",
       "      <td>inactive</td>\n",
       "      <td>inactive</td>\n",
       "      <td>inactive</td>\n",
       "      <td>inactive</td>\n",
       "      <td>inactive</td>\n",
       "      <td>inactive</td>\n",
       "      <td>inactive</td>\n",
       "      <td>inactive</td>\n",
       "    </tr>\n",
       "  </tbody>\n",
       "</table>\n",
       "</div>"
      ],
      "text/plain": [
       "        1997-01-01 1997-02-01 1997-03-01 1997-04-01 1997-05-01 1997-06-01  \\\n",
       "user_id                                                                     \n",
       "2              new   inactive   inactive   inactive   inactive   inactive   \n",
       "3              new   inactive     active     active   inactive   inactive   \n",
       "4              new   inactive   inactive   inactive   inactive   inactive   \n",
       "5              new     active   inactive     active     active     active   \n",
       "6              new   inactive   inactive   inactive   inactive   inactive   \n",
       "\n",
       "        1997-07-01 1997-08-01 1997-09-01 1997-10-01 1997-11-01 1997-12-01  \\\n",
       "user_id                                                                     \n",
       "2         inactive   inactive   inactive   inactive   inactive   inactive   \n",
       "3         inactive   inactive   inactive   inactive     active   inactive   \n",
       "4         inactive     active   inactive   inactive   inactive     active   \n",
       "5           active   inactive     active   inactive   inactive     active   \n",
       "6         inactive   inactive   inactive   inactive   inactive   inactive   \n",
       "\n",
       "        1998-01-01 1998-02-01 1998-03-01 1998-04-01 1998-05-01 1998-06-01  \n",
       "user_id                                                                    \n",
       "2         inactive   inactive   inactive   inactive   inactive   inactive  \n",
       "3         inactive   inactive   inactive   inactive     active   inactive  \n",
       "4         inactive   inactive   inactive   inactive   inactive   inactive  \n",
       "5           active   inactive   inactive   inactive   inactive   inactive  \n",
       "6         inactive   inactive   inactive   inactive   inactive   inactive  "
      ]
     },
     "execution_count": 86,
     "metadata": {},
     "output_type": "execute_result"
    }
   ],
   "source": [
    "# Stratification of users \n",
    "def user_status(data):\n",
    "    status = []\n",
    "    if data[0] == 0:\n",
    "        status.append('unreg')\n",
    "    else:\n",
    "        status.append('new')\n",
    "    for i in range(data.count()-1):\n",
    "        if data[i+1] == 0:\n",
    "            if status[i] == 'unreg':\n",
    "                status.append('unreg')\n",
    "            else :\n",
    "                status.append('inactive')\n",
    "        else:\n",
    "            if status[i] == 'unreg':\n",
    "                status.append('new')\n",
    "            elif status[i] == 'unactive':\n",
    "                status.append('returning')\n",
    "            else:\n",
    "                status.append('active')\n",
    "    return pd.Series(status,index=data.index)\n",
    "pivoted_user_status = pivoted_counts.apply(user_status, axis=1)\n",
    "pivoted_user_status.head()\n"
   ]
  },
  {
   "cell_type": "code",
   "execution_count": 87,
   "metadata": {},
   "outputs": [
    {
     "data": {
      "text/html": [
       "<div>\n",
       "<style scoped>\n",
       "    .dataframe tbody tr th:only-of-type {\n",
       "        vertical-align: middle;\n",
       "    }\n",
       "\n",
       "    .dataframe tbody tr th {\n",
       "        vertical-align: top;\n",
       "    }\n",
       "\n",
       "    .dataframe thead th {\n",
       "        text-align: right;\n",
       "    }\n",
       "</style>\n",
       "<table border=\"1\" class=\"dataframe\">\n",
       "  <thead>\n",
       "    <tr style=\"text-align: right;\">\n",
       "      <th></th>\n",
       "      <th>1997-01-01</th>\n",
       "      <th>1997-02-01</th>\n",
       "      <th>1997-03-01</th>\n",
       "      <th>1997-04-01</th>\n",
       "      <th>1997-05-01</th>\n",
       "      <th>1997-06-01</th>\n",
       "      <th>1997-07-01</th>\n",
       "      <th>1997-08-01</th>\n",
       "      <th>1997-09-01</th>\n",
       "      <th>1997-10-01</th>\n",
       "      <th>1997-11-01</th>\n",
       "      <th>1997-12-01</th>\n",
       "      <th>1998-01-01</th>\n",
       "      <th>1998-02-01</th>\n",
       "      <th>1998-03-01</th>\n",
       "      <th>1998-04-01</th>\n",
       "      <th>1998-05-01</th>\n",
       "      <th>1998-06-01</th>\n",
       "    </tr>\n",
       "  </thead>\n",
       "  <tbody>\n",
       "    <tr>\n",
       "      <th>active</th>\n",
       "      <td>NaN</td>\n",
       "      <td>1157</td>\n",
       "      <td>2276</td>\n",
       "      <td>2822.0</td>\n",
       "      <td>2214.0</td>\n",
       "      <td>2339.0</td>\n",
       "      <td>2180.0</td>\n",
       "      <td>1772.0</td>\n",
       "      <td>1739.0</td>\n",
       "      <td>1839.0</td>\n",
       "      <td>2028.0</td>\n",
       "      <td>1864.0</td>\n",
       "      <td>1537.0</td>\n",
       "      <td>1551.0</td>\n",
       "      <td>2060.0</td>\n",
       "      <td>1437.0</td>\n",
       "      <td>1488.0</td>\n",
       "      <td>1506.0</td>\n",
       "    </tr>\n",
       "    <tr>\n",
       "      <th>inactive</th>\n",
       "      <td>NaN</td>\n",
       "      <td>6688</td>\n",
       "      <td>14045</td>\n",
       "      <td>20747.0</td>\n",
       "      <td>21355.0</td>\n",
       "      <td>21230.0</td>\n",
       "      <td>21389.0</td>\n",
       "      <td>21797.0</td>\n",
       "      <td>21830.0</td>\n",
       "      <td>21730.0</td>\n",
       "      <td>21541.0</td>\n",
       "      <td>21705.0</td>\n",
       "      <td>22032.0</td>\n",
       "      <td>22018.0</td>\n",
       "      <td>21509.0</td>\n",
       "      <td>22132.0</td>\n",
       "      <td>22081.0</td>\n",
       "      <td>22063.0</td>\n",
       "    </tr>\n",
       "    <tr>\n",
       "      <th>new</th>\n",
       "      <td>7845.0</td>\n",
       "      <td>8476</td>\n",
       "      <td>7248</td>\n",
       "      <td>NaN</td>\n",
       "      <td>NaN</td>\n",
       "      <td>NaN</td>\n",
       "      <td>NaN</td>\n",
       "      <td>NaN</td>\n",
       "      <td>NaN</td>\n",
       "      <td>NaN</td>\n",
       "      <td>NaN</td>\n",
       "      <td>NaN</td>\n",
       "      <td>NaN</td>\n",
       "      <td>NaN</td>\n",
       "      <td>NaN</td>\n",
       "      <td>NaN</td>\n",
       "      <td>NaN</td>\n",
       "      <td>NaN</td>\n",
       "    </tr>\n",
       "  </tbody>\n",
       "</table>\n",
       "</div>"
      ],
      "text/plain": [
       "          1997-01-01  1997-02-01  1997-03-01  1997-04-01  1997-05-01  \\\n",
       "active           NaN        1157        2276      2822.0      2214.0   \n",
       "inactive         NaN        6688       14045     20747.0     21355.0   \n",
       "new           7845.0        8476        7248         NaN         NaN   \n",
       "\n",
       "          1997-06-01  1997-07-01  1997-08-01  1997-09-01  1997-10-01  \\\n",
       "active        2339.0      2180.0      1772.0      1739.0      1839.0   \n",
       "inactive     21230.0     21389.0     21797.0     21830.0     21730.0   \n",
       "new              NaN         NaN         NaN         NaN         NaN   \n",
       "\n",
       "          1997-11-01  1997-12-01  1998-01-01  1998-02-01  1998-03-01  \\\n",
       "active        2028.0      1864.0      1537.0      1551.0      2060.0   \n",
       "inactive     21541.0     21705.0     22032.0     22018.0     21509.0   \n",
       "new              NaN         NaN         NaN         NaN         NaN   \n",
       "\n",
       "          1998-04-01  1998-05-01  1998-06-01  \n",
       "active        1437.0      1488.0      1506.0  \n",
       "inactive     22132.0     22081.0     22063.0  \n",
       "new              NaN         NaN         NaN  "
      ]
     },
     "execution_count": 87,
     "metadata": {},
     "output_type": "execute_result"
    }
   ],
   "source": [
    "user_status_counts = pivoted_user_status.replace('unreg',np.NaN).apply(pd.value_counts)  #value_counts is a function in the Series\n",
    "user_status_counts"
   ]
  },
  {
   "cell_type": "code",
   "execution_count": 88,
   "metadata": {},
   "outputs": [
    {
     "data": {
      "text/plain": [
       "<matplotlib.legend.Legend at 0x12b9171f0>"
      ]
     },
     "execution_count": 88,
     "metadata": {},
     "output_type": "execute_result"
    },
    {
     "data": {
      "image/png": "[encoded data removed]",
      "text/plain": [
       "<Figure size 800x320 with 1 Axes>"
      ]
     },
     "metadata": {
      "needs_background": "light"
     },
     "output_type": "display_data"
    }
   ],
   "source": [
    "# Draw curves of different types of users over time\n",
    "plt.figure(figsize=(10,4),dpi=80)\n",
    "plt.plot(user_status_counts.T)\n",
    "plt.xticks(rotation=45)\n",
    "plt.legend(user_status_counts.index)"
   ]
  },
  {
   "cell_type": "markdown",
   "metadata": {},
   "source": [
    "These curves underlign the previous points about user acquisition in the first three months, and mostly inactive after that. While a loyal customer base is always steadily active even though slightly on the decline."
   ]
  },
  {
   "cell_type": "code",
   "execution_count": 96,
   "metadata": {},
   "outputs": [
    {
     "data": {
      "text/html": [
       "<div>\n",
       "<style scoped>\n",
       "    .dataframe tbody tr th:only-of-type {\n",
       "        vertical-align: middle;\n",
       "    }\n",
       "\n",
       "    .dataframe tbody tr th {\n",
       "        vertical-align: top;\n",
       "    }\n",
       "\n",
       "    .dataframe thead th {\n",
       "        text-align: right;\n",
       "    }\n",
       "</style>\n",
       "<table border=\"1\" class=\"dataframe\">\n",
       "  <thead>\n",
       "    <tr style=\"text-align: right;\">\n",
       "      <th></th>\n",
       "      <th>user_id</th>\n",
       "      <th>order_date</th>\n",
       "      <th>nb_items</th>\n",
       "      <th>price</th>\n",
       "      <th>month</th>\n",
       "      <th>week</th>\n",
       "      <th>period</th>\n",
       "    </tr>\n",
       "  </thead>\n",
       "  <tbody>\n",
       "    <tr>\n",
       "      <th>0</th>\n",
       "      <td>2</td>\n",
       "      <td>1997-01-12</td>\n",
       "      <td>1</td>\n",
       "      <td>12.00</td>\n",
       "      <td>1997-01-01</td>\n",
       "      <td>1997-01-09</td>\n",
       "      <td>-534.0</td>\n",
       "    </tr>\n",
       "    <tr>\n",
       "      <th>1</th>\n",
       "      <td>2</td>\n",
       "      <td>1997-01-12</td>\n",
       "      <td>5</td>\n",
       "      <td>77.00</td>\n",
       "      <td>1997-01-01</td>\n",
       "      <td>1997-01-09</td>\n",
       "      <td>-534.0</td>\n",
       "    </tr>\n",
       "    <tr>\n",
       "      <th>2</th>\n",
       "      <td>3</td>\n",
       "      <td>1997-01-02</td>\n",
       "      <td>2</td>\n",
       "      <td>20.76</td>\n",
       "      <td>1997-01-01</td>\n",
       "      <td>1997-01-02</td>\n",
       "      <td>-544.0</td>\n",
       "    </tr>\n",
       "    <tr>\n",
       "      <th>3</th>\n",
       "      <td>3</td>\n",
       "      <td>1997-03-30</td>\n",
       "      <td>2</td>\n",
       "      <td>20.76</td>\n",
       "      <td>1997-03-01</td>\n",
       "      <td>1997-03-27</td>\n",
       "      <td>-457.0</td>\n",
       "    </tr>\n",
       "    <tr>\n",
       "      <th>4</th>\n",
       "      <td>3</td>\n",
       "      <td>1997-04-02</td>\n",
       "      <td>2</td>\n",
       "      <td>19.54</td>\n",
       "      <td>1997-04-01</td>\n",
       "      <td>1997-03-27</td>\n",
       "      <td>-454.0</td>\n",
       "    </tr>\n",
       "    <tr>\n",
       "      <th>...</th>\n",
       "      <td>...</td>\n",
       "      <td>...</td>\n",
       "      <td>...</td>\n",
       "      <td>...</td>\n",
       "      <td>...</td>\n",
       "      <td>...</td>\n",
       "      <td>...</td>\n",
       "    </tr>\n",
       "    <tr>\n",
       "      <th>69653</th>\n",
       "      <td>23568</td>\n",
       "      <td>1997-04-05</td>\n",
       "      <td>4</td>\n",
       "      <td>83.74</td>\n",
       "      <td>1997-04-01</td>\n",
       "      <td>1997-04-03</td>\n",
       "      <td>-451.0</td>\n",
       "    </tr>\n",
       "    <tr>\n",
       "      <th>69654</th>\n",
       "      <td>23568</td>\n",
       "      <td>1997-04-22</td>\n",
       "      <td>1</td>\n",
       "      <td>14.99</td>\n",
       "      <td>1997-04-01</td>\n",
       "      <td>1997-04-17</td>\n",
       "      <td>-434.0</td>\n",
       "    </tr>\n",
       "    <tr>\n",
       "      <th>69655</th>\n",
       "      <td>23569</td>\n",
       "      <td>1997-03-25</td>\n",
       "      <td>2</td>\n",
       "      <td>25.74</td>\n",
       "      <td>1997-03-01</td>\n",
       "      <td>1997-03-20</td>\n",
       "      <td>-462.0</td>\n",
       "    </tr>\n",
       "    <tr>\n",
       "      <th>69656</th>\n",
       "      <td>23570</td>\n",
       "      <td>1997-03-25</td>\n",
       "      <td>3</td>\n",
       "      <td>51.12</td>\n",
       "      <td>1997-03-01</td>\n",
       "      <td>1997-03-20</td>\n",
       "      <td>-462.0</td>\n",
       "    </tr>\n",
       "    <tr>\n",
       "      <th>69657</th>\n",
       "      <td>23570</td>\n",
       "      <td>1997-03-26</td>\n",
       "      <td>2</td>\n",
       "      <td>42.96</td>\n",
       "      <td>1997-03-01</td>\n",
       "      <td>1997-03-20</td>\n",
       "      <td>-461.0</td>\n",
       "    </tr>\n",
       "  </tbody>\n",
       "</table>\n",
       "<p>69658 rows × 7 columns</p>\n",
       "</div>"
      ],
      "text/plain": [
       "       user_id order_date  nb_items  price      month       week  period\n",
       "0            2 1997-01-12         1  12.00 1997-01-01 1997-01-09  -534.0\n",
       "1            2 1997-01-12         5  77.00 1997-01-01 1997-01-09  -534.0\n",
       "2            3 1997-01-02         2  20.76 1997-01-01 1997-01-02  -544.0\n",
       "3            3 1997-03-30         2  20.76 1997-03-01 1997-03-27  -457.0\n",
       "4            3 1997-04-02         2  19.54 1997-04-01 1997-03-27  -454.0\n",
       "...        ...        ...       ...    ...        ...        ...     ...\n",
       "69653    23568 1997-04-05         4  83.74 1997-04-01 1997-04-03  -451.0\n",
       "69654    23568 1997-04-22         1  14.99 1997-04-01 1997-04-17  -434.0\n",
       "69655    23569 1997-03-25         2  25.74 1997-03-01 1997-03-20  -462.0\n",
       "69656    23570 1997-03-25         3  51.12 1997-03-01 1997-03-20  -462.0\n",
       "69657    23570 1997-03-26         2  42.96 1997-03-01 1997-03-20  -461.0\n",
       "\n",
       "[69658 rows x 7 columns]"
      ]
     },
     "execution_count": 96,
     "metadata": {},
     "output_type": "execute_result"
    }
   ],
   "source": [
    "df"
   ]
  },
  {
   "cell_type": "code",
   "execution_count": 101,
   "metadata": {},
   "outputs": [
    {
     "name": "stderr",
     "output_type": "stream",
     "text": [
      "<ipython-input-101-a8d9fbc774a2>:1: FutureWarning: Indexing with multiple keys (implicitly converted to a tuple of keys) will be deprecated, use a list instead.\n",
      "  user_amount = df.groupby('user_id')['price','nb_items'].sum().reset_index()\n"
     ]
    },
    {
     "data": {
      "text/html": [
       "<div>\n",
       "<style scoped>\n",
       "    .dataframe tbody tr th:only-of-type {\n",
       "        vertical-align: middle;\n",
       "    }\n",
       "\n",
       "    .dataframe tbody tr th {\n",
       "        vertical-align: top;\n",
       "    }\n",
       "\n",
       "    .dataframe thead th {\n",
       "        text-align: right;\n",
       "    }\n",
       "</style>\n",
       "<table border=\"1\" class=\"dataframe\">\n",
       "  <thead>\n",
       "    <tr style=\"text-align: right;\">\n",
       "      <th></th>\n",
       "      <th>user_id</th>\n",
       "      <th>price</th>\n",
       "      <th>nb_items</th>\n",
       "    </tr>\n",
       "  </thead>\n",
       "  <tbody>\n",
       "    <tr>\n",
       "      <th>0</th>\n",
       "      <td>2</td>\n",
       "      <td>89.00</td>\n",
       "      <td>6</td>\n",
       "    </tr>\n",
       "    <tr>\n",
       "      <th>1</th>\n",
       "      <td>3</td>\n",
       "      <td>156.46</td>\n",
       "      <td>16</td>\n",
       "    </tr>\n",
       "  </tbody>\n",
       "</table>\n",
       "</div>"
      ],
      "text/plain": [
       "   user_id   price  nb_items\n",
       "0        2   89.00         6\n",
       "1        3  156.46        16"
      ]
     },
     "execution_count": 101,
     "metadata": {},
     "output_type": "execute_result"
    }
   ],
   "source": [
    "#user_amount = df.groupby('user_id')['price','nb_items'].sum().reset_index()\n",
    "#user_amount.head(2)"
   ]
  },
  {
   "cell_type": "code",
   "execution_count": 104,
   "metadata": {},
   "outputs": [
    {
     "name": "stderr",
     "output_type": "stream",
     "text": [
      "<ipython-input-104-d4e10aa79c22>:3: FutureWarning: Indexing with multiple keys (implicitly converted to a tuple of keys) will be deprecated, use a list instead.\n",
      "  user_amount = df.groupby('user_id')['price','nb_items'].sum().reset_index()\n"
     ]
    },
    {
     "data": {
      "text/html": [
       "<div>\n",
       "<style scoped>\n",
       "    .dataframe tbody tr th:only-of-type {\n",
       "        vertical-align: middle;\n",
       "    }\n",
       "\n",
       "    .dataframe tbody tr th {\n",
       "        vertical-align: top;\n",
       "    }\n",
       "\n",
       "    .dataframe thead th {\n",
       "        text-align: right;\n",
       "    }\n",
       "</style>\n",
       "<table border=\"1\" class=\"dataframe\">\n",
       "  <thead>\n",
       "    <tr style=\"text-align: right;\">\n",
       "      <th></th>\n",
       "      <th>user_id</th>\n",
       "      <th>price</th>\n",
       "      <th>nb_items</th>\n",
       "      <th>amount_cumsum</th>\n",
       "      <th>prop_cumsum</th>\n",
       "    </tr>\n",
       "  </thead>\n",
       "  <tbody>\n",
       "    <tr>\n",
       "      <th>23564</th>\n",
       "      <td>23566</td>\n",
       "      <td>36.00</td>\n",
       "      <td>2</td>\n",
       "      <td>2500041.37</td>\n",
       "      <td>14.891836</td>\n",
       "    </tr>\n",
       "    <tr>\n",
       "      <th>23565</th>\n",
       "      <td>23567</td>\n",
       "      <td>20.97</td>\n",
       "      <td>1</td>\n",
       "      <td>2500062.34</td>\n",
       "      <td>14.891961</td>\n",
       "    </tr>\n",
       "    <tr>\n",
       "      <th>23566</th>\n",
       "      <td>23568</td>\n",
       "      <td>121.70</td>\n",
       "      <td>6</td>\n",
       "      <td>2500184.04</td>\n",
       "      <td>14.892685</td>\n",
       "    </tr>\n",
       "    <tr>\n",
       "      <th>23567</th>\n",
       "      <td>23569</td>\n",
       "      <td>25.74</td>\n",
       "      <td>2</td>\n",
       "      <td>2500209.78</td>\n",
       "      <td>14.892839</td>\n",
       "    </tr>\n",
       "    <tr>\n",
       "      <th>23568</th>\n",
       "      <td>23570</td>\n",
       "      <td>94.08</td>\n",
       "      <td>5</td>\n",
       "      <td>2500303.86</td>\n",
       "      <td>14.893399</td>\n",
       "    </tr>\n",
       "  </tbody>\n",
       "</table>\n",
       "</div>"
      ],
      "text/plain": [
       "       user_id   price  nb_items  amount_cumsum  prop_cumsum\n",
       "23564    23566   36.00         2     2500041.37    14.891836\n",
       "23565    23567   20.97         1     2500062.34    14.891961\n",
       "23566    23568  121.70         6     2500184.04    14.892685\n",
       "23567    23569   25.74         2     2500209.78    14.892839\n",
       "23568    23570   94.08         5     2500303.86    14.893399"
      ]
     },
     "execution_count": 104,
     "metadata": {},
     "output_type": "execute_result"
    }
   ],
   "source": [
    "# User quality analysis through their consumption amount\n",
    "\n",
    "user_amount = df.groupby('user_id')['price','nb_items'].sum().reset_index()\n",
    "user_amount_sum = user_amount['nb_items'].sum()\n",
    "user_amount['amount_cumsum'],user_amount['prop_cumsum'] = user_amount['price'].cumsum(),(user_amount['price']/user_amount_sum).cumsum()\n",
    "user_amount.tail()"
   ]
  },
  {
   "cell_type": "markdown",
   "metadata": {},
   "source": [
    "# 5 - User life cycle analysis (LTV)"
   ]
  },
  {
   "cell_type": "code",
   "execution_count": 108,
   "metadata": {},
   "outputs": [
    {
     "data": {
      "text/html": [
       "<div>\n",
       "<style scoped>\n",
       "    .dataframe tbody tr th:only-of-type {\n",
       "        vertical-align: middle;\n",
       "    }\n",
       "\n",
       "    .dataframe tbody tr th {\n",
       "        vertical-align: top;\n",
       "    }\n",
       "\n",
       "    .dataframe thead th {\n",
       "        text-align: right;\n",
       "    }\n",
       "</style>\n",
       "<table border=\"1\" class=\"dataframe\">\n",
       "  <thead>\n",
       "    <tr style=\"text-align: right;\">\n",
       "      <th></th>\n",
       "      <th>LTV</th>\n",
       "      <th>lifetime</th>\n",
       "    </tr>\n",
       "    <tr>\n",
       "      <th>user_id</th>\n",
       "      <th></th>\n",
       "      <th></th>\n",
       "    </tr>\n",
       "  </thead>\n",
       "  <tbody>\n",
       "    <tr>\n",
       "      <th>2</th>\n",
       "      <td>89.00</td>\n",
       "      <td>0.0</td>\n",
       "    </tr>\n",
       "    <tr>\n",
       "      <th>3</th>\n",
       "      <td>156.46</td>\n",
       "      <td>511.0</td>\n",
       "    </tr>\n",
       "    <tr>\n",
       "      <th>4</th>\n",
       "      <td>100.50</td>\n",
       "      <td>345.0</td>\n",
       "    </tr>\n",
       "    <tr>\n",
       "      <th>5</th>\n",
       "      <td>385.61</td>\n",
       "      <td>367.0</td>\n",
       "    </tr>\n",
       "    <tr>\n",
       "      <th>6</th>\n",
       "      <td>20.99</td>\n",
       "      <td>0.0</td>\n",
       "    </tr>\n",
       "  </tbody>\n",
       "</table>\n",
       "</div>"
      ],
      "text/plain": [
       "            LTV  lifetime\n",
       "user_id                  \n",
       "2         89.00       0.0\n",
       "3        156.46     511.0\n",
       "4        100.50     345.0\n",
       "5        385.61     367.0\n",
       "6         20.99       0.0"
      ]
     },
     "execution_count": 108,
     "metadata": {},
     "output_type": "execute_result"
    }
   ],
   "source": [
    "user_amount1 = df.groupby('user_id')['price'].sum()\n",
    "user_LTV = pd.DataFrame(user_amount1.values,columns=['LTV'],index=user_amount1.index)\n",
    "user_LTV['lifetime'] = (df.groupby('user_id')['order_date'].max()-df.groupby('user_id')['order_date'].min())/np.timedelta64(1,'D')\n",
    "user_LTV.head()"
   ]
  },
  {
   "cell_type": "code",
   "execution_count": 109,
   "metadata": {},
   "outputs": [
    {
     "data": {
      "text/plain": [
       "count    11516.000000\n",
       "mean       276.044807\n",
       "std        166.633990\n",
       "min          1.000000\n",
       "25%        117.000000\n",
       "50%        302.000000\n",
       "75%        429.000000\n",
       "max        544.000000\n",
       "Name: lifetime, dtype: float64"
      ]
     },
     "execution_count": 109,
     "metadata": {},
     "output_type": "execute_result"
    }
   ],
   "source": [
    "user_LTV[user_LTV.lifetime>0].lifetime.describe()"
   ]
  },
  {
   "cell_type": "code",
   "execution_count": 110,
   "metadata": {},
   "outputs": [
    {
     "data": {
      "text/plain": [
       "<AxesSubplot:>"
      ]
     },
     "execution_count": 110,
     "metadata": {},
     "output_type": "execute_result"
    },
    {
     "data": {
      "image/png": "[encoded data removed]",
      "text/plain": [
       "<Figure size 720x432 with 1 Axes>"
      ]
     },
     "metadata": {
      "needs_background": "light"
     },
     "output_type": "display_data"
    }
   ],
   "source": [
    "user_LTV[user_LTV.lifetime>0].lifetime.hist(bins=100,figsize=(10,6))"
   ]
  },
  {
   "cell_type": "markdown",
   "metadata": {},
   "source": [
    "The average life cycle of users who spend more than twice is 276 days. bimodal trend. Users should be guided within 30 days of user consumption to promote consumption again and form consumption habits to extend their life cycle. Users with a user life cycle of 100-400 days need to launch targeted marketing activities based on their characteristics to guide their continuous consumption.\n",
    "Users with a life cycle greater than 400 days are considered loyal users of the website and should focus on maintenance and develop a personalized operation strategy."
   ]
  },
  {
   "cell_type": "code",
   "execution_count": 111,
   "metadata": {},
   "outputs": [
    {
     "data": {
      "text/plain": [
       "<matplotlib.collections.PathCollection at 0x12f39e430>"
      ]
     },
     "execution_count": 111,
     "metadata": {},
     "output_type": "execute_result"
    },
    {
     "data": {
      "image/png": "[encoded data removed]",
      "text/plain": [
       "<Figure size 432x288 with 1 Axes>"
      ]
     },
     "metadata": {
      "needs_background": "light"
     },
     "output_type": "display_data"
    }
   ],
   "source": [
    "# Filter out one shot users and extreme LTV users\n",
    "user_LTV_query = user_LTV.query('lifetime>0' and 'LTV<1500')\n",
    "# Draw a scatter plot of user life cycle and total value of user life cycle (user total consumption)\n",
    "plt.scatter(x=user_LTV_query.lifetime,y=user_LTV_query.LTV)"
   ]
  },
  {
   "cell_type": "code",
   "execution_count": 112,
   "metadata": {},
   "outputs": [
    {
     "data": {
      "text/html": [
       "<div>\n",
       "<style scoped>\n",
       "    .dataframe tbody tr th:only-of-type {\n",
       "        vertical-align: middle;\n",
       "    }\n",
       "\n",
       "    .dataframe tbody tr th {\n",
       "        vertical-align: top;\n",
       "    }\n",
       "\n",
       "    .dataframe thead th {\n",
       "        text-align: right;\n",
       "    }\n",
       "</style>\n",
       "<table border=\"1\" class=\"dataframe\">\n",
       "  <thead>\n",
       "    <tr style=\"text-align: right;\">\n",
       "      <th></th>\n",
       "      <th>user_id</th>\n",
       "      <th>order_date</th>\n",
       "      <th>nb_items</th>\n",
       "      <th>price</th>\n",
       "      <th>month</th>\n",
       "      <th>week</th>\n",
       "      <th>period</th>\n",
       "      <th>order_date_min</th>\n",
       "    </tr>\n",
       "  </thead>\n",
       "  <tbody>\n",
       "    <tr>\n",
       "      <th>0</th>\n",
       "      <td>2</td>\n",
       "      <td>1997-01-12</td>\n",
       "      <td>1</td>\n",
       "      <td>12.00</td>\n",
       "      <td>1997-01-01</td>\n",
       "      <td>1997-01-09</td>\n",
       "      <td>-534.0</td>\n",
       "      <td>1997-01-12</td>\n",
       "    </tr>\n",
       "    <tr>\n",
       "      <th>1</th>\n",
       "      <td>2</td>\n",
       "      <td>1997-01-12</td>\n",
       "      <td>5</td>\n",
       "      <td>77.00</td>\n",
       "      <td>1997-01-01</td>\n",
       "      <td>1997-01-09</td>\n",
       "      <td>-534.0</td>\n",
       "      <td>1997-01-12</td>\n",
       "    </tr>\n",
       "    <tr>\n",
       "      <th>2</th>\n",
       "      <td>3</td>\n",
       "      <td>1997-01-02</td>\n",
       "      <td>2</td>\n",
       "      <td>20.76</td>\n",
       "      <td>1997-01-01</td>\n",
       "      <td>1997-01-02</td>\n",
       "      <td>-544.0</td>\n",
       "      <td>1997-01-02</td>\n",
       "    </tr>\n",
       "    <tr>\n",
       "      <th>3</th>\n",
       "      <td>3</td>\n",
       "      <td>1997-03-30</td>\n",
       "      <td>2</td>\n",
       "      <td>20.76</td>\n",
       "      <td>1997-03-01</td>\n",
       "      <td>1997-03-27</td>\n",
       "      <td>-457.0</td>\n",
       "      <td>1997-01-02</td>\n",
       "    </tr>\n",
       "    <tr>\n",
       "      <th>4</th>\n",
       "      <td>3</td>\n",
       "      <td>1997-04-02</td>\n",
       "      <td>2</td>\n",
       "      <td>19.54</td>\n",
       "      <td>1997-04-01</td>\n",
       "      <td>1997-03-27</td>\n",
       "      <td>-454.0</td>\n",
       "      <td>1997-01-02</td>\n",
       "    </tr>\n",
       "  </tbody>\n",
       "</table>\n",
       "</div>"
      ],
      "text/plain": [
       "   user_id order_date  nb_items  price      month       week  period  \\\n",
       "0        2 1997-01-12         1  12.00 1997-01-01 1997-01-09  -534.0   \n",
       "1        2 1997-01-12         5  77.00 1997-01-01 1997-01-09  -534.0   \n",
       "2        3 1997-01-02         2  20.76 1997-01-01 1997-01-02  -544.0   \n",
       "3        3 1997-03-30         2  20.76 1997-03-01 1997-03-27  -457.0   \n",
       "4        3 1997-04-02         2  19.54 1997-04-01 1997-03-27  -454.0   \n",
       "\n",
       "  order_date_min  \n",
       "0     1997-01-12  \n",
       "1     1997-01-12  \n",
       "2     1997-01-02  \n",
       "3     1997-01-02  \n",
       "4     1997-01-02  "
      ]
     },
     "execution_count": 112,
     "metadata": {},
     "output_type": "execute_result"
    }
   ],
   "source": [
    "# User retention analysis\n",
    "user_retention = pd.merge(left=df, right=df.groupby('user_id')['order_date'].min().reset_index(),\n",
    "                          how='inner', on='user_id', suffixes=('', '_min'))\n",
    "user_retention.head()"
   ]
  },
  {
   "cell_type": "code",
   "execution_count": 115,
   "metadata": {},
   "outputs": [
    {
     "data": {
      "text/html": [
       "<div>\n",
       "<style scoped>\n",
       "    .dataframe tbody tr th:only-of-type {\n",
       "        vertical-align: middle;\n",
       "    }\n",
       "\n",
       "    .dataframe tbody tr th {\n",
       "        vertical-align: top;\n",
       "    }\n",
       "\n",
       "    .dataframe thead th {\n",
       "        text-align: right;\n",
       "    }\n",
       "</style>\n",
       "<table border=\"1\" class=\"dataframe\">\n",
       "  <thead>\n",
       "    <tr style=\"text-align: right;\">\n",
       "      <th></th>\n",
       "      <th>user_id</th>\n",
       "      <th>order_date</th>\n",
       "      <th>nb_items</th>\n",
       "      <th>price</th>\n",
       "      <th>month</th>\n",
       "      <th>week</th>\n",
       "      <th>period</th>\n",
       "      <th>order_date_min</th>\n",
       "      <th>date_diff</th>\n",
       "      <th>date_diff_bin</th>\n",
       "    </tr>\n",
       "  </thead>\n",
       "  <tbody>\n",
       "    <tr>\n",
       "      <th>0</th>\n",
       "      <td>2</td>\n",
       "      <td>1997-01-12</td>\n",
       "      <td>1</td>\n",
       "      <td>12.00</td>\n",
       "      <td>1997-01-01</td>\n",
       "      <td>1997-01-09</td>\n",
       "      <td>-534.0</td>\n",
       "      <td>1997-01-12</td>\n",
       "      <td>0.0</td>\n",
       "      <td>NaN</td>\n",
       "    </tr>\n",
       "    <tr>\n",
       "      <th>1</th>\n",
       "      <td>2</td>\n",
       "      <td>1997-01-12</td>\n",
       "      <td>5</td>\n",
       "      <td>77.00</td>\n",
       "      <td>1997-01-01</td>\n",
       "      <td>1997-01-09</td>\n",
       "      <td>-534.0</td>\n",
       "      <td>1997-01-12</td>\n",
       "      <td>0.0</td>\n",
       "      <td>NaN</td>\n",
       "    </tr>\n",
       "    <tr>\n",
       "      <th>2</th>\n",
       "      <td>3</td>\n",
       "      <td>1997-01-02</td>\n",
       "      <td>2</td>\n",
       "      <td>20.76</td>\n",
       "      <td>1997-01-01</td>\n",
       "      <td>1997-01-02</td>\n",
       "      <td>-544.0</td>\n",
       "      <td>1997-01-02</td>\n",
       "      <td>0.0</td>\n",
       "      <td>NaN</td>\n",
       "    </tr>\n",
       "    <tr>\n",
       "      <th>3</th>\n",
       "      <td>3</td>\n",
       "      <td>1997-03-30</td>\n",
       "      <td>2</td>\n",
       "      <td>20.76</td>\n",
       "      <td>1997-03-01</td>\n",
       "      <td>1997-03-27</td>\n",
       "      <td>-457.0</td>\n",
       "      <td>1997-01-02</td>\n",
       "      <td>87.0</td>\n",
       "      <td>(60.0, 90.0]</td>\n",
       "    </tr>\n",
       "    <tr>\n",
       "      <th>4</th>\n",
       "      <td>3</td>\n",
       "      <td>1997-04-02</td>\n",
       "      <td>2</td>\n",
       "      <td>19.54</td>\n",
       "      <td>1997-04-01</td>\n",
       "      <td>1997-03-27</td>\n",
       "      <td>-454.0</td>\n",
       "      <td>1997-01-02</td>\n",
       "      <td>90.0</td>\n",
       "      <td>(60.0, 90.0]</td>\n",
       "    </tr>\n",
       "  </tbody>\n",
       "</table>\n",
       "</div>"
      ],
      "text/plain": [
       "   user_id order_date  nb_items  price      month       week  period  \\\n",
       "0        2 1997-01-12         1  12.00 1997-01-01 1997-01-09  -534.0   \n",
       "1        2 1997-01-12         5  77.00 1997-01-01 1997-01-09  -534.0   \n",
       "2        3 1997-01-02         2  20.76 1997-01-01 1997-01-02  -544.0   \n",
       "3        3 1997-03-30         2  20.76 1997-03-01 1997-03-27  -457.0   \n",
       "4        3 1997-04-02         2  19.54 1997-04-01 1997-03-27  -454.0   \n",
       "\n",
       "  order_date_min  date_diff date_diff_bin  \n",
       "0     1997-01-12        0.0           NaN  \n",
       "1     1997-01-12        0.0           NaN  \n",
       "2     1997-01-02        0.0           NaN  \n",
       "3     1997-01-02       87.0  (60.0, 90.0]  \n",
       "4     1997-01-02       90.0  (60.0, 90.0]  "
      ]
     },
     "execution_count": 115,
     "metadata": {},
     "output_type": "execute_result"
    }
   ],
   "source": [
    "# Calculate the time interval between the user's consumption and the first consumption, and convert it into a numeric value\n",
    "user_retention['date_diff'] = (user_retention.order_date-user_retention.order_date_min)/np.timedelta64(1,'D')\n",
    "# Bind the user consumption time interval\n",
    "bins = [0,3,7,15,30,60,90,180,365]\n",
    "user_retention['date_diff_bin'] = pd.cut(user_retention.date_diff,bins=bins)\n",
    "user_retention.head()"
   ]
  },
  {
   "cell_type": "code",
   "execution_count": 117,
   "metadata": {},
   "outputs": [
    {
     "data": {
      "text/html": [
       "<div>\n",
       "<style scoped>\n",
       "    .dataframe tbody tr th:only-of-type {\n",
       "        vertical-align: middle;\n",
       "    }\n",
       "\n",
       "    .dataframe tbody tr th {\n",
       "        vertical-align: top;\n",
       "    }\n",
       "\n",
       "    .dataframe thead th {\n",
       "        text-align: right;\n",
       "    }\n",
       "</style>\n",
       "<table border=\"1\" class=\"dataframe\">\n",
       "  <thead>\n",
       "    <tr style=\"text-align: right;\">\n",
       "      <th>date_diff_bin</th>\n",
       "      <th>(0, 3]</th>\n",
       "      <th>(3, 7]</th>\n",
       "      <th>(7, 15]</th>\n",
       "      <th>(15, 30]</th>\n",
       "      <th>(30, 60]</th>\n",
       "      <th>(60, 90]</th>\n",
       "      <th>(90, 180]</th>\n",
       "      <th>(180, 365]</th>\n",
       "    </tr>\n",
       "    <tr>\n",
       "      <th>user_id</th>\n",
       "      <th></th>\n",
       "      <th></th>\n",
       "      <th></th>\n",
       "      <th></th>\n",
       "      <th></th>\n",
       "      <th></th>\n",
       "      <th></th>\n",
       "      <th></th>\n",
       "    </tr>\n",
       "  </thead>\n",
       "  <tbody>\n",
       "    <tr>\n",
       "      <th>2</th>\n",
       "      <td>NaN</td>\n",
       "      <td>NaN</td>\n",
       "      <td>NaN</td>\n",
       "      <td>NaN</td>\n",
       "      <td>NaN</td>\n",
       "      <td>NaN</td>\n",
       "      <td>NaN</td>\n",
       "      <td>NaN</td>\n",
       "    </tr>\n",
       "    <tr>\n",
       "      <th>3</th>\n",
       "      <td>NaN</td>\n",
       "      <td>NaN</td>\n",
       "      <td>NaN</td>\n",
       "      <td>NaN</td>\n",
       "      <td>NaN</td>\n",
       "      <td>40.3</td>\n",
       "      <td>NaN</td>\n",
       "      <td>78.41</td>\n",
       "    </tr>\n",
       "    <tr>\n",
       "      <th>4</th>\n",
       "      <td>NaN</td>\n",
       "      <td>NaN</td>\n",
       "      <td>NaN</td>\n",
       "      <td>29.73</td>\n",
       "      <td>NaN</td>\n",
       "      <td>NaN</td>\n",
       "      <td>NaN</td>\n",
       "      <td>41.44</td>\n",
       "    </tr>\n",
       "    <tr>\n",
       "      <th>5</th>\n",
       "      <td>NaN</td>\n",
       "      <td>NaN</td>\n",
       "      <td>13.97</td>\n",
       "      <td>NaN</td>\n",
       "      <td>38.9</td>\n",
       "      <td>NaN</td>\n",
       "      <td>110.4</td>\n",
       "      <td>155.54</td>\n",
       "    </tr>\n",
       "    <tr>\n",
       "      <th>6</th>\n",
       "      <td>NaN</td>\n",
       "      <td>NaN</td>\n",
       "      <td>NaN</td>\n",
       "      <td>NaN</td>\n",
       "      <td>NaN</td>\n",
       "      <td>NaN</td>\n",
       "      <td>NaN</td>\n",
       "      <td>NaN</td>\n",
       "    </tr>\n",
       "  </tbody>\n",
       "</table>\n",
       "</div>"
      ],
      "text/plain": [
       "date_diff_bin  (0, 3]  (3, 7]  (7, 15]  (15, 30]  (30, 60]  (60, 90]  \\\n",
       "user_id                                                                \n",
       "2                 NaN     NaN      NaN       NaN       NaN       NaN   \n",
       "3                 NaN     NaN      NaN       NaN       NaN      40.3   \n",
       "4                 NaN     NaN      NaN     29.73       NaN       NaN   \n",
       "5                 NaN     NaN    13.97       NaN      38.9       NaN   \n",
       "6                 NaN     NaN      NaN       NaN       NaN       NaN   \n",
       "\n",
       "date_diff_bin  (90, 180]  (180, 365]  \n",
       "user_id                               \n",
       "2                    NaN         NaN  \n",
       "3                    NaN       78.41  \n",
       "4                    NaN       41.44  \n",
       "5                  110.4      155.54  \n",
       "6                    NaN         NaN  "
      ]
     },
     "execution_count": 117,
     "metadata": {},
     "output_type": "execute_result"
    }
   ],
   "source": [
    "# Make a pivot table\n",
    "pivoted_retention = user_retention.pivot_table(index='user_id',columns='date_diff_bin',values='price',aggfunc=sum,dropna=False)\n",
    "pivoted_retention.head()"
   ]
  },
  {
   "cell_type": "code",
   "execution_count": 118,
   "metadata": {},
   "outputs": [
    {
     "data": {
      "text/plain": [
       "date_diff_bin\n",
       "(0, 3]        35.905798\n",
       "(3, 7]        36.385121\n",
       "(7, 15]       42.669895\n",
       "(15, 30]      45.964649\n",
       "(30, 60]      50.215070\n",
       "(60, 90]      48.975277\n",
       "(90, 180]     67.223297\n",
       "(180, 365]    91.960059\n",
       "dtype: float64"
      ]
     },
     "execution_count": 118,
     "metadata": {},
     "output_type": "execute_result"
    }
   ],
   "source": [
    "# Count the average consumption of users in subsequent time periods after the first consumption\n",
    "pivoted_retention.mean()"
   ]
  },
  {
   "cell_type": "markdown",
   "metadata": {},
   "source": [
    "The average consumption amount of users in the latest time bin is higher, but the time range is wider. Relatively, user consumption is relatively higher within 0-3 days after the first consumption."
   ]
  },
  {
   "cell_type": "code",
   "execution_count": 119,
   "metadata": {},
   "outputs": [
    {
     "data": {
      "text/plain": [
       "date_diff_bin\n",
       "(0, 3]        0.026856\n",
       "(3, 7]        0.035129\n",
       "(7, 15]       0.060798\n",
       "(15, 30]      0.090539\n",
       "(30, 60]      0.129699\n",
       "(60, 90]      0.099703\n",
       "(90, 180]     0.197030\n",
       "(180, 365]    0.260246\n",
       "dtype: float64"
      ]
     },
     "execution_count": 119,
     "metadata": {},
     "output_type": "execute_result"
    }
   ],
   "source": [
    "# Calculate the proportion of consuming users in each time period, that is, what proportion of the users who consumed for the first time consumes again in each time period\n",
    "retention = pivoted_retention.count()/23570\n",
    "retention"
   ]
  },
  {
   "cell_type": "code",
   "execution_count": 120,
   "metadata": {},
   "outputs": [
    {
     "data": {
      "text/plain": [
       "<AxesSubplot:xlabel='date_diff_bin'>"
      ]
     },
     "execution_count": 120,
     "metadata": {},
     "output_type": "execute_result"
    },
    {
     "data": {
      "image/png": "[encoded data removed]",
      "text/plain": [
       "<Figure size 432x288 with 1 Axes>"
      ]
     },
     "metadata": {
      "needs_background": "light"
     },
     "output_type": "display_data"
    }
   ],
   "source": [
    "retention.plot.bar()"
   ]
  },
  {
   "cell_type": "markdown",
   "metadata": {},
   "source": [
    "2.7% of users have made purchases within 3 days after the first purchase, and 3.5% of users have made purchases within 3-7 days.\n",
    "About 20% of users have made purchases within three months to six months after the first purchase, and 26% of users have made purchases within six months to one year. "
   ]
  },
  {
   "cell_type": "code",
   "execution_count": 123,
   "metadata": {},
   "outputs": [
    {
     "data": {
      "text/plain": [
       "user_id   \n",
       "2        0      NaN\n",
       "         1      0.0\n",
       "3        2      NaN\n",
       "         3     87.0\n",
       "         4      3.0\n",
       "         5    227.0\n",
       "         6     10.0\n",
       "         7    184.0\n",
       "4        8      NaN\n",
       "         9     17.0\n",
       "Name: date_diff, dtype: float64"
      ]
     },
     "execution_count": 123,
     "metadata": {},
     "output_type": "execute_result"
    }
   ],
   "source": [
    "# 6- What to do with all of this? \n",
    "\n",
    "# Define a function to calculate the time interval of user consumption\n",
    "def diff(group):\n",
    "    d = group.date_diff - group.date_diff.shift(1)\n",
    "    return d\n",
    "last_diff = user_retention.groupby('user_id').apply(diff)\n",
    "last_diff.head(10)"
   ]
  },
  {
   "cell_type": "markdown",
   "metadata": {},
   "source": [
    "The df.shift() function is used to calculate the percentage change: df/df.shift(1)-1"
   ]
  },
  {
   "cell_type": "code",
   "execution_count": 124,
   "metadata": {},
   "outputs": [
    {
     "data": {
      "text/plain": [
       "count    46089.000000\n",
       "mean        68.973768\n",
       "std         91.033032\n",
       "min          0.000000\n",
       "25%         10.000000\n",
       "50%         31.000000\n",
       "75%         89.000000\n",
       "max        533.000000\n",
       "Name: date_diff, dtype: float64"
      ]
     },
     "execution_count": 124,
     "metadata": {},
     "output_type": "execute_result"
    }
   ],
   "source": [
    "last_diff.describe()"
   ]
  },
  {
   "cell_type": "markdown",
   "metadata": {},
   "source": [
    "the mean consumption time interval of users is 69 days. Therefore, if you want to recall users, a consumption interval of about 60 days is a better operation strategy"
   ]
  },
  {
   "cell_type": "code",
   "execution_count": 125,
   "metadata": {},
   "outputs": [
    {
     "data": {
      "text/plain": [
       "<AxesSubplot:>"
      ]
     },
     "execution_count": 125,
     "metadata": {},
     "output_type": "execute_result"
    },
    {
     "data": {
      "image/png": "[encoded data removed]",
      "text/plain": [
       "<Figure size 432x288 with 1 Axes>"
      ]
     },
     "metadata": {
      "needs_background": "light"
     },
     "output_type": "display_data"
    }
   ],
   "source": [
    "last_diff.hist(bins=20)"
   ]
  },
  {
   "cell_type": "markdown",
   "metadata": {},
   "source": [
    "long-tailed distribution, and the consumption interval of most users is indeed relatively short? Users should be activated soon after their first purchase, ideally using the 69 day of mean consumption time users could be activated a bit sooned, ie +/ 30 days and then a second time at 60 days through a fidelisation strategy"
   ]
  },
  {
   "cell_type": "code",
   "execution_count": null,
   "metadata": {},
   "outputs": [],
   "source": []
  },
  {
   "cell_type": "code",
   "execution_count": null,
   "metadata": {},
   "outputs": [],
   "source": []
  },
  {
   "cell_type": "code",
   "execution_count": null,
   "metadata": {},
   "outputs": [],
   "source": []
  },
  {
   "cell_type": "code",
   "execution_count": null,
   "metadata": {},
   "outputs": [],
   "source": []
  },
  {
   "cell_type": "code",
   "execution_count": null,
   "metadata": {},
   "outputs": [],
   "source": [
    "https://www.programmersought.com/article/81005144684/"
   ]
  },
  {
   "cell_type": "code",
   "execution_count": null,
   "metadata": {},
   "outputs": [],
   "source": [
    "https://colab.research.google.com/drive/1yxUkWZSBJWIoxBAi7MIxvkWKNgr0NXDH#scrollTo=jvzYNo4NBtvr"
   ]
  }
 ],
 "metadata": {
  "kernelspec": {
   "display_name": "Python 3",
   "language": "python",
   "name": "python3"
  },
  "language_info": {
   "codemirror_mode": {
    "name": "ipython",
    "version": 3
   },
   "file_extension": ".py",
   "mimetype": "text/x-python",
   "name": "python",
   "nbconvert_exporter": "python",
   "pygments_lexer": "ipython3",
   "version": "3.8.5"
  }
 },
 "nbformat": 4,
 "nbformat_minor": 4
}
