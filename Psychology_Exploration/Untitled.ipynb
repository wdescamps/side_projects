{
 "cells": [
  {
   "cell_type": "code",
   "execution_count": 1,
   "id": "3cdcc78f",
   "metadata": {},
   "outputs": [],
   "source": [
    "from pyvis.network import Network"
   ]
  },
  {
   "cell_type": "code",
   "execution_count": 2,
   "id": "31657191",
   "metadata": {},
   "outputs": [],
   "source": [
    "from configparser import ConfigParser\n",
    "from tqdm import tqdm\n",
    "import datetime\n",
    "import networkx as nx\n",
    "import matplotlib.pyplot as plt\n",
    "import requests\n",
    "import openai\n",
    "import json\n",
    "import os"
   ]
  },
  {
   "cell_type": "code",
   "execution_count": 3,
   "id": "c94e4b27",
   "metadata": {},
   "outputs": [],
   "source": [
    "# Get API key stored in local cfg file\n",
    "# How to is available here : https://towardsdatascience.com/keeping-credentials-safe-in-jupyter-notebooks-fbd215a8e311\n",
    "\n",
    "parser = ConfigParser()\n",
    "_ = parser.read('ObsidianGPT.cfg')\n",
    "openai.api_key = parser.get('my_api', 'auth_key')"
   ]
  },
  {
   "cell_type": "code",
   "execution_count": 4,
   "id": "0f999a14",
   "metadata": {},
   "outputs": [],
   "source": [
    "def generate_text(prompt, GPTmodel):\n",
    "    response = openai.ChatCompletion.create(model=GPTmodel,messages=[{\"role\": \"user\", \"content\": prompt}])\n",
    "    return response.choices[0].message.content.strip()"
   ]
  },
  {
   "cell_type": "code",
   "execution_count": 5,
   "id": "ea48cdb9",
   "metadata": {},
   "outputs": [],
   "source": [
    "def create_obsidian_vault(vault_name, parent_directory):\n",
    "    '''Creates or Updates and Obsidian vault, in a given directory. Params are vault_name, parent_directory'''\n",
    "    vault_path = os.path.join(parent_directory, vault_name)\n",
    "    \n",
    "    # Create the vault directory\n",
    "    os.makedirs(vault_path, exist_ok=True)\n",
    "\n",
    "    # Create default folders within the vault\n",
    "    os.makedirs(os.path.join(vault_path, \"attachments\"), exist_ok=True)\n",
    "    os.makedirs(os.path.join(vault_path, \"notes\"), exist_ok=True)\n",
    "    \n",
    "    return vault_path"
   ]
  },
  {
   "cell_type": "markdown",
   "id": "16dd16e9",
   "metadata": {},
   "source": [
    "## Exloratio musicale matinale"
   ]
  },
  {
   "cell_type": "code",
   "execution_count": 8,
   "id": "f59d6d1f",
   "metadata": {},
   "outputs": [],
   "source": [
    "# Get the list of models for different kinds of data from the GPT API\n",
    "models_prompt = \"\"\"\n",
    "Write a python script which shows each piano chord and it's seventh, minor and major variants on a partition using the music21 library\n",
    "\"\"\""
   ]
  },
  {
   "cell_type": "code",
   "execution_count": 9,
   "id": "d9e92405",
   "metadata": {},
   "outputs": [
    {
     "name": "stdout",
     "output_type": "stream",
     "text": [
      "CPU times: user 36.8 ms, sys: 17.5 ms, total: 54.2 ms\n",
      "Wall time: 17 s\n"
     ]
    },
    {
     "data": {
      "text/plain": [
       "'First, you need to install the music21 library that we will use to build the chords. You can install it using pip:\\n\\n```bash\\npip install music21\\n```\\n\\nAssuming that you have music21 installed, here is a basic python script:\\n\\n```python\\nfrom music21 import chord, note, stream\\n\\n\\ndef show_chord(chord_name):\\n    # Define Major chord\\n    major_chord = chord.Chord(chord_name + \" E G\")\\n    major_chord.duration.type = \\'half\\'\\n    major_stream = stream.Stream()\\n    major_stream.append(major_chord)\\n\\n    # Define Minor chord\\n    minor_chord = chord.Chord(chord_name + \" Eb G\")\\n    minor_chord.duration.type = \\'half\\'\\n    minor_stream = stream.Stream()\\n    minor_stream.append(minor_chord)\\n\\n    # Define Seventh chord\\n    seventh_chord = chord.Chord(chord_name + \" E G B\")\\n    seventh_chord.duration.type = \\'half\\'\\n    seventh_stream = stream.Stream()\\n    seventh_stream.append(seventh_chord)\\n\\n    major_stream.show()\\n    minor_stream.show()\\n    seventh_stream.show()\\n\\n\\nshow_chord(\"C\")\\n```\\nPlease run this script in a local environment because online compilers won\\'t show the musical partitions.\\n\\nThis script will create three partitions for each major, minor, and seventh variant of a C chord. To change the chord, just replace the \"C\" inside the `show_chord(\"C\")` function call with the name of the desired chord.'"
      ]
     },
     "execution_count": 9,
     "metadata": {},
     "output_type": "execute_result"
    }
   ],
   "source": [
    "%%time\n",
    "# Get the list of models, for each data type and problem type\n",
    "models_text = generate_text(models_prompt, GPTmodel=\"gpt-4\") #or gpt-3.5-turbo for faster results vs lower query quality\n",
    "models_text"
   ]
  },
  {
   "cell_type": "code",
   "execution_count": 14,
   "id": "8d098b2f",
   "metadata": {},
   "outputs": [
    {
     "data": {
      "text/plain": [
       "['First, you need to install the music21 library that we will use to build the chords. You can install it using pip:',\n",
       " '',\n",
       " '```bash',\n",
       " 'pip install music21',\n",
       " '```',\n",
       " '',\n",
       " 'Assuming that you have music21 installed, here is a basic python script:',\n",
       " '',\n",
       " '```python',\n",
       " 'from music21 import chord, note, stream',\n",
       " '',\n",
       " '',\n",
       " 'def show_chord(chord_name):',\n",
       " '    # Define Major chord',\n",
       " '    major_chord = chord.Chord(chord_name + \" E G\")',\n",
       " \"    major_chord.duration.type = 'half'\",\n",
       " '    major_stream = stream.Stream()',\n",
       " '    major_stream.append(major_chord)',\n",
       " '',\n",
       " '    # Define Minor chord',\n",
       " '    minor_chord = chord.Chord(chord_name + \" Eb G\")',\n",
       " \"    minor_chord.duration.type = 'half'\",\n",
       " '    minor_stream = stream.Stream()',\n",
       " '    minor_stream.append(minor_chord)',\n",
       " '',\n",
       " '    # Define Seventh chord',\n",
       " '    seventh_chord = chord.Chord(chord_name + \" E G B\")',\n",
       " \"    seventh_chord.duration.type = 'half'\",\n",
       " '    seventh_stream = stream.Stream()',\n",
       " '    seventh_stream.append(seventh_chord)',\n",
       " '',\n",
       " '    major_stream.show()',\n",
       " '    minor_stream.show()',\n",
       " '    seventh_stream.show()',\n",
       " '',\n",
       " '',\n",
       " 'show_chord(\"C\")',\n",
       " '```',\n",
       " \"Please run this script in a local environment because online compilers won't show the musical partitions.\",\n",
       " '',\n",
       " 'This script will create three partitions for each major, minor, and seventh variant of a C chord. To change the chord, just replace the \"C\" inside the `show_chord(\"C\")` function call with the name of the desired chord.']"
      ]
     },
     "execution_count": 14,
     "metadata": {},
     "output_type": "execute_result"
    }
   ],
   "source": [
    "response_=models_text\n",
    "lines = response_.strip().split('\\n')\n",
    "lines"
   ]
  },
  {
   "cell_type": "code",
   "execution_count": null,
   "id": "b8f6293a",
   "metadata": {},
   "outputs": [],
   "source": []
  },
  {
   "cell_type": "code",
   "execution_count": null,
   "id": "f569bb58",
   "metadata": {},
   "outputs": [],
   "source": []
  }
 ],
 "metadata": {
  "kernelspec": {
   "display_name": "Python 3 (ipykernel)",
   "language": "python",
   "name": "python3"
  },
  "language_info": {
   "codemirror_mode": {
    "name": "ipython",
    "version": 3
   },
   "file_extension": ".py",
   "mimetype": "text/x-python",
   "name": "python",
   "nbconvert_exporter": "python",
   "pygments_lexer": "ipython3",
   "version": "3.10.10"
  },
  "toc": {
   "base_numbering": 1,
   "nav_menu": {},
   "number_sections": true,
   "sideBar": true,
   "skip_h1_title": false,
   "title_cell": "Table of Contents",
   "title_sidebar": "Contents",
   "toc_cell": false,
   "toc_position": {},
   "toc_section_display": true,
   "toc_window_display": false
  }
 },
 "nbformat": 4,
 "nbformat_minor": 5
}
