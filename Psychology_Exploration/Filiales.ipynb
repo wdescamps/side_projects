{
 "cells": [
  {
   "cell_type": "code",
   "execution_count": 7,
   "id": "f0cdcb73",
   "metadata": {},
   "outputs": [],
   "source": [
    "#!pip install pyvis"
   ]
  },
  {
   "cell_type": "code",
   "execution_count": 8,
   "id": "4639ea19",
   "metadata": {},
   "outputs": [],
   "source": [
    "from pyvis.network import Network"
   ]
  },
  {
   "cell_type": "code",
   "execution_count": 9,
   "id": "8d67c0b7",
   "metadata": {},
   "outputs": [],
   "source": [
    "from configparser import ConfigParser\n",
    "from tqdm import tqdm\n",
    "import datetime\n",
    "import networkx as nx\n",
    "import matplotlib.pyplot as plt\n",
    "import requests\n",
    "import openai\n",
    "import json\n",
    "import os"
   ]
  },
  {
   "cell_type": "code",
   "execution_count": 10,
   "id": "317cc086",
   "metadata": {},
   "outputs": [],
   "source": [
    "# Get API key stored in local cfg file\n",
    "# How to is available here : https://towardsdatascience.com/keeping-credentials-safe-in-jupyter-notebooks-fbd215a8e311\n",
    "\n",
    "parser = ConfigParser()\n",
    "_ = parser.read('ObsidianGPT.cfg')\n",
    "openai.api_key = parser.get('my_api', 'auth_key')"
   ]
  },
  {
   "cell_type": "code",
   "execution_count": 11,
   "id": "09288e93",
   "metadata": {},
   "outputs": [],
   "source": [
    "def generate_text(prompt, GPTmodel):\n",
    "    response = openai.ChatCompletion.create(model=GPTmodel,messages=[{\"role\": \"user\", \"content\": prompt}])\n",
    "    return response.choices[0].message.content.strip()"
   ]
  },
  {
   "cell_type": "markdown",
   "id": "63816a8d",
   "metadata": {},
   "source": [
    "# Connect to GPT4"
   ]
  },
  {
   "cell_type": "code",
   "execution_count": 13,
   "id": "172185f1",
   "metadata": {},
   "outputs": [],
   "source": [
    "company_name = \"Mulliez Group\""
   ]
  },
  {
   "cell_type": "code",
   "execution_count": 21,
   "id": "5e486ca1",
   "metadata": {},
   "outputs": [],
   "source": [
    "# Get the list of models for different kinds of data from the GPT API\n",
    "models_prompt = f\"\"\"\n",
    "\"Could you please provide a list\n",
    "of all the subsidiaries in which {company_name} \n",
    "holds a majority stake as of the most recent data available?\"\n",
    "\"\"\""
   ]
  },
  {
   "cell_type": "code",
   "execution_count": 22,
   "id": "a8b19d86",
   "metadata": {},
   "outputs": [
    {
     "name": "stdout",
     "output_type": "stream",
     "text": [
      "CPU times: user 19.3 ms, sys: 5.43 ms, total: 24.8 ms\n",
      "Wall time: 57.7 s\n"
     ]
    },
    {
     "data": {
      "text/plain": [
       "\"As of the most recent data available, Mulliez Group holds a majority stake in the following subsidiaries:\\n\\n1. Auchan Retail - A global retail group operating in many countries.\\n2. Adeo - A home improvement and gardening retail chain, which manages brands like Leroy Merlin, Bricoman, and Weldom.\\n3. Decathlon - A sporting goods retailer with stores worldwide.\\n4. Norauto - An automotive services and retail company.\\n5. Kiabi - A fashion retail company with stores mostly in Europe.\\n6. Saint Maclou - A home decoration retail chain specializing in flooring and wall coverings.\\n7. Boulanger - A consumer electronics and appliances retail company.\\n8. Pabe - A Belgium-based holding company that owns several businesses, including Jules, a men's fashion retail brand.\\n9. PicwicToys - A toy retail company in France.\\n10. Cultura - A French retail chain specializing in cultural and creative products, such as books, music, and stationery.\\n11. Oney - A financial services company offering banking and insurance products.\\n12. Midas - A global automotive services company (Mulliez Group holds a majority stake in the European Midas business).\\n13. Flunch - A cafeteria-style restaurant chain in France.\\n14. Pizza Paï - A casual dining restaurant chain in France, focusing on pizza.\\n\\nPlease note that this list may not be exhaustive, as the Mulliez Group has various investments globally, and their portfolio is ever-changing with new acquisitions, sales, and spin-offs.\""
      ]
     },
     "execution_count": 22,
     "metadata": {},
     "output_type": "execute_result"
    }
   ],
   "source": [
    "%%time\n",
    "# Get the list of models, for each data type and problem type\n",
    "models_text = generate_text(models_prompt, GPTmodel=\"gpt-4\") #or gpt-3.5-turbo for faster results vs lower query quality\n",
    "models_text"
   ]
  },
  {
   "cell_type": "code",
   "execution_count": 9,
   "id": "b2f60dcc",
   "metadata": {},
   "outputs": [],
   "source": [
    "today=datetime.datetime.now()"
   ]
  },
  {
   "cell_type": "code",
   "execution_count": 11,
   "id": "47a62926",
   "metadata": {},
   "outputs": [],
   "source": [
    "#save models dict to disk with current date\n",
    "with open(f'raw_models_{today}.txt', 'w') as convert_file:\n",
    "     convert_file.write(json.dumps(models_text))"
   ]
  },
  {
   "cell_type": "code",
   "execution_count": 23,
   "id": "53772c75",
   "metadata": {},
   "outputs": [],
   "source": []
  },
  {
   "cell_type": "code",
   "execution_count": 23,
   "id": "44c7e42f",
   "metadata": {},
   "outputs": [
    {
     "data": {
      "text/plain": [
       "['As of the most recent data available, Mulliez Group holds a majority stake in the following subsidiaries:',\n",
       " '',\n",
       " '1. Auchan Retail - A global retail group operating in many countries.',\n",
       " '2. Adeo - A home improvement and gardening retail chain, which manages brands like Leroy Merlin, Bricoman, and Weldom.',\n",
       " '3. Decathlon - A sporting goods retailer with stores worldwide.',\n",
       " '4. Norauto - An automotive services and retail company.',\n",
       " '5. Kiabi - A fashion retail company with stores mostly in Europe.',\n",
       " '6. Saint Maclou - A home decoration retail chain specializing in flooring and wall coverings.',\n",
       " '7. Boulanger - A consumer electronics and appliances retail company.',\n",
       " \"8. Pabe - A Belgium-based holding company that owns several businesses, including Jules, a men's fashion retail brand.\",\n",
       " '9. PicwicToys - A toy retail company in France.',\n",
       " '10. Cultura - A French retail chain specializing in cultural and creative products, such as books, music, and stationery.',\n",
       " '11. Oney - A financial services company offering banking and insurance products.',\n",
       " '12. Midas - A global automotive services company (Mulliez Group holds a majority stake in the European Midas business).',\n",
       " '13. Flunch - A cafeteria-style restaurant chain in France.',\n",
       " '14. Pizza Paï - A casual dining restaurant chain in France, focusing on pizza.',\n",
       " '',\n",
       " 'Please note that this list may not be exhaustive, as the Mulliez Group has various investments globally, and their portfolio is ever-changing with new acquisitions, sales, and spin-offs.']"
      ]
     },
     "execution_count": 23,
     "metadata": {},
     "output_type": "execute_result"
    }
   ],
   "source": [
    "response_=models_text\n",
    "lines = response_.strip().split('\\n')\n",
    "lines"
   ]
  },
  {
   "cell_type": "markdown",
   "id": "a19c1fae",
   "metadata": {},
   "source": [
    "# Psychology Exploration "
   ]
  },
  {
   "cell_type": "markdown",
   "id": "ea8d3fd3",
   "metadata": {},
   "source": [
    "## v1 - Static Graph"
   ]
  },
  {
   "cell_type": "code",
   "execution_count": 32,
   "id": "1bc68b46",
   "metadata": {},
   "outputs": [],
   "source": [
    "G=nx.Graph()\n",
    "category = ''\n",
    "for line in lines:\n",
    "    line = line.strip()\n",
    "    if not line:  # if it's an empty line, skip\n",
    "        continue\n",
    "    if line.endswith(':'):  # if it's a category line\n",
    "        category = line[:-1]\n",
    "        continue\n",
    "    if '-' in item:  # if there's a '-' in the line, it's a figure or theory\n",
    "        item, associated = item.split('-', 1)\n",
    "        print(item)\n",
    "        item = item.strip()\n",
    "        associated = associated.strip()\n",
    "        G.add_edge(item, associated)\n",
    "    else:  # if it's a subfield, just add the node\n",
    "        G.add_node(item, type=category.lower())"
   ]
  },
  {
   "cell_type": "code",
   "execution_count": 31,
   "id": "bcf7ca9a",
   "metadata": {},
   "outputs": [
    {
     "data": {
      "image/png": "[encoded data removed]",
      "text/plain": [
       "<Figure size 640x480 with 1 Axes>"
      ]
     },
     "metadata": {},
     "output_type": "display_data"
    }
   ],
   "source": [
    "# Draw the graph\n",
    "nx.draw(G, with_labels=True)\n",
    "plt.show()"
   ]
  },
  {
   "cell_type": "markdown",
   "id": "f2e71349",
   "metadata": {},
   "source": [
    "## v2 - Interactive Graph"
   ]
  },
  {
   "cell_type": "code",
   "execution_count": null,
   "id": "d28cae76",
   "metadata": {},
   "outputs": [],
   "source": []
  },
  {
   "cell_type": "code",
   "execution_count": null,
   "id": "567164f3",
   "metadata": {},
   "outputs": [],
   "source": []
  },
  {
   "cell_type": "code",
   "execution_count": 55,
   "id": "ccef8766",
   "metadata": {},
   "outputs": [
    {
     "name": "stdout",
     "output_type": "stream",
     "text": [
      "1. Subfields\n",
      "Cognitive Psychology\n",
      "Developmental Psychology\n",
      "Social Psychology\n",
      "Clinical Psychology\n",
      "Biological Psychology\n",
      "Industrial-Organizational Psychology\n",
      "Health Psychology\n",
      "Forensic Psychology\n",
      "Personality Psychology\n",
      "2. Key Figures\n",
      "Sigmund Freud - Psychoanalysis\n",
      "Carl Jung - Analytical Psychology\n",
      "B.F. Skinner - Behaviorism\n",
      "Jean Piaget - Developmental Psychology\n",
      "Albert Bandura - Social Learning Theory\n",
      "Lev Vygotsky - Cognitive Development\n",
      "Carl Rogers - Humanistic Psychology\n",
      "Abraham Maslow - Humanistic Psychology, Hierarchy of Needs\n",
      "Stanley Milgram - Social Psychology\n",
      "Philip Zimbardo - Social Psychology\n",
      "3. Theories\n",
      "Psychoanalysis - Sigmund Freud\n",
      "Behaviorism - B.F. Skinner\n",
      "Cognitive Development Theory - Jean Piaget\n",
      "Social Learning Theory - Albert Bandura\n",
      "Zone of Proximal Development - Lev Vygotsky\n",
      "Humanistic Psychology - Carl Rogers, Abraham Maslow\n",
      "Hierarchy of Needs - Abraham Maslow\n",
      "Theory of Cognitive Dissonance - Leon Festinger\n",
      "Attachment Theory - John Bowlby and Mary Ainsworth\n",
      "4. Concepts\n",
      "Classical Conditioning - related to Behaviorism (Ivan Pavlov)\n",
      "Operant Conditioning - related to Behaviorism (B.F. Skinner)\n",
      "Observational Learning - related to Social Learning Theory (Albert Bandura)\n",
      "Stages of Cognitive Development - related to Cognitive Development Theory (Jean Piaget)\n",
      "Unconscious Mind - related to Psychoanalysis (Sigmund Freud)\n",
      "Inferiority Complex - related to Analytical Psychology (Carl Jung)\n",
      "Self-Actualization - related to Humanistic Psychology and Hierarchy of Needs (Abraham Maslow)\n",
      "Obedience to Authority - related to Social Psychology (Stanley Milgram)\n",
      "Bystander Effect - related to Social Psychology (John Darley and Bibb Latane)\n",
      "Warning: When  cdn_resources is 'local' jupyter notebook has issues displaying graphics on chrome/safari. Use cdn_resources='in_line' or cdn_resources='remote' if you have issues viewing graphics in a notebook.\n",
      "psychology_graph.html\n"
     ]
    },
    {
     "data": {
      "text/html": [
       "\n",
       "        <iframe\n",
       "            width=\"100%\"\n",
       "            height=\"600px\"\n",
       "            src=\"psychology_graph.html\"\n",
       "            frameborder=\"0\"\n",
       "            allowfullscreen\n",
       "            \n",
       "        ></iframe>\n",
       "        "
      ],
      "text/plain": [
       "<IPython.lib.display.IFrame at 0x13d087a00>"
      ]
     },
     "execution_count": 55,
     "metadata": {},
     "output_type": "execute_result"
    }
   ],
   "source": [
    "### Local Reset to raw data\n",
    "response_=models_text\n",
    "lines = response_.strip().split('\\n')\n",
    "###\n",
    "\n",
    "category = ''\n",
    "for line in lines:\n",
    "    line = line.strip()\n",
    "    if not line:  # if it's an empty line, skip\n",
    "        continue\n",
    "    if line.endswith(':'):  # if it's a category line\n",
    "        category = line[:-1]\n",
    "        print(category)\n",
    "        continue\n",
    "    item = line[line.index('. ')+2:]  # get rid of \"a. \", \"b. \", etc.\n",
    "    print(item)\n",
    "    if '-' in item:  # if there's a '-' in the line, it's a figure or theory\n",
    "        item, associated = item.split('-', 1)\n",
    "        item = item.strip()\n",
    "        associated = associated.strip()\n",
    "        G.add_edge(item, associated)\n",
    "    elif 'related to' in item:  # if there's a 'related to' in the line, it's a concept\n",
    "        item, related = item.split('related to', 1)\n",
    "        item = item.strip()\n",
    "        related = related.strip().strip('()')  # remove parentheses\n",
    "        G.add_edge(item, related)\n",
    "    else:  # if it's a subfield, just add the node\n",
    "        G.add_node(item, type=category.lower())\n",
    "\n",
    "# Convert to a pyvis network\n",
    "net = Network(notebook=True)\n",
    "net.from_nx(G)\n",
    "\n",
    "# Show the interactive graph\n",
    "net.show(\"psychology_graph.html\")"
   ]
  },
  {
   "cell_type": "markdown",
   "id": "8466616c",
   "metadata": {},
   "source": [
    "## v3 - Updates to the GPT Prompt"
   ]
  },
  {
   "cell_type": "raw",
   "id": "6459a264",
   "metadata": {},
   "source": [
    "Idea : Use Bokeh like in this link : \n",
    "\n",
    "https://melaniewalsh.github.io/Intro-Cultural-Analytics/06-Network-Analysis/02-Making-Network-Viz-with-Bokeh.html"
   ]
  },
  {
   "cell_type": "code",
   "execution_count": 57,
   "id": "05f3dea4",
   "metadata": {},
   "outputs": [],
   "source": [
    "prompt_v3 = (\n",
    "    \"Could you please provide an organized and detailed breakdown of the field of psychology? \"\n",
    "    \"This should include the following information:\\n\\n\"\n",
    "    \"1. Major subfields of psychology, listed individually.\\n\"\n",
    "    \"2. Key figures in psychology, listed individually along with their main contributions or theories.\\n\"\n",
    "    \"3. Main theories in psychology, listed individually along with their associated figures or contributors.\\n\"\n",
    "    \"4. Major concepts in psychology, listed individually along with their associated theories or contributors.\\n\\n\"\n",
    "    \"Please provide the information in the following format:\\n\\n\"\n",
    "    \"1. Subfields:\\n\"\n",
    "    \"   a. [Subfield 1]\\n\"\n",
    "    \"   b. [Subfield 2]\\n\"\n",
    "    \"   ...\\n\"\n",
    "    \"2. Key figures:\\n\"\n",
    "    \"   a. [Figure 1] - [Contribution or theory]\\n\"\n",
    "    \"   b. [Figure 2] - [Contribution or theory]\\n\"\n",
    "    \"   ...\\n\"\n",
    "    \"3. Theories:\\n\"\n",
    "    \"   a. [Theory 1] - [Associated figure or contributor]\\n\"\n",
    "    \"   b. [Theory 2] - [Associated figure or contributor]\\n\"\n",
    "    \"   ...\\n\"\n",
    "    \"4. Concepts:\\n\"\n",
    "    \"   a. [Concept 1] - related to [Associated theory or figure]\\n\"\n",
    "    \"   b. [Concept 2] - related to [Associated theory or figure]\\n\"\n",
    "    \"   ...\"\n",
    ")\n"
   ]
  },
  {
   "cell_type": "code",
   "execution_count": 59,
   "id": "66534a94",
   "metadata": {},
   "outputs": [
    {
     "name": "stdout",
     "output_type": "stream",
     "text": [
      "CPU times: user 41.2 ms, sys: 19.2 ms, total: 60.5 ms\n",
      "Wall time: 1min 43s\n"
     ]
    },
    {
     "data": {
      "text/plain": [
       "'1. Subfields:\\n   a. Clinical psychology\\n   b. Cognitive psychology\\n   c. Developmental psychology\\n   d. Educational psychology\\n   e. Social psychology\\n   f. Industrial-organizational psychology\\n   g. Health psychology\\n   h. Neuropsychology\\n   i. Biological psychology\\n   j. Forensic psychology\\n   k. Sports psychology\\n\\n2. Key figures:\\n   a. Sigmund Freud - Psychoanalysis\\n   b. Carl Rogers - Humanistic psychology, client-centered therapy\\n   c. B.F. Skinner - Operant conditioning, behaviorism\\n   d. Jean Piaget - Cognitive development\\n   e. Erik Erikson - Psychosocial development\\n   f. Abraham Maslow - Hierarchy of needs, humanistic psychology\\n   g. Ivan Pavlov - Classical conditioning\\n   h. Carl Jung - Analytical psychology, collective unconscious\\n   i. John Watson - Behaviorism\\n   j. Albert Bandura - Social learning theory, self-efficacy\\n   k. Elizabeth Loftus - Memory research, misinformation effect\\n\\n3. Theories:\\n   a. Psychoanalysis - Sigmund Freud\\n   b. Humanistic psychology - Carl Rogers, Abraham Maslow\\n   c. Behaviorism - B.F. Skinner, John Watson\\n   d. Cognitive development - Jean Piaget\\n   e. Psychosocial development - Erik Erikson\\n   f. Hierarchy of needs - Abraham Maslow\\n   g. Classical conditioning - Ivan Pavlov\\n   h. Analytical psychology - Carl Jung\\n   i. Social learning theory - Albert Bandura\\n   j. Misinformation effect - Elizabeth Loftus\\n\\n4. Concepts:\\n   a. Unconscious mind - related to Psychoanalysis (Sigmund Freud)\\n   b. Self-actualization - related to Humanistic psychology (Abraham Maslow)\\n   c. Positive reinforcement - related to Operant conditioning (B.F. Skinner)\\n   d. Schema - related to Cognitive development (Jean Piaget)\\n   e. Identity crisis - related to Psychosocial development (Erik Erikson)\\n   f. Archetypes - related to Analytical psychology (Carl Jung)\\n   g. Observational learning - related to Social learning theory (Albert Bandura)\\n   h. Cognitive dissonance - related to Social psychology (Leon Festinger)\\n   i. False memories - related to Memory research (Elizabeth Loftus)\\n   j. Nature vs. nurture debate - related to multiple psychological perspectives and figures'"
      ]
     },
     "execution_count": 59,
     "metadata": {},
     "output_type": "execute_result"
    }
   ],
   "source": [
    "%%time\n",
    "# Get the list of models, for each data type and problem type\n",
    "response_v3 = generate_text(prompt_v3, GPTmodel=\"gpt-4\") #or gpt-3.5-turbo for faster results vs lower query quality\n",
    "response_v3\n"
   ]
  },
  {
   "cell_type": "code",
   "execution_count": null,
   "id": "fd6898cd",
   "metadata": {},
   "outputs": [],
   "source": [
    "today=datetime.datetime.now()\n",
    "\n",
    "#save models dict to disk with current date\n",
    "with open(f'response_v3_{today}.txt', 'w') as convert_file:\n",
    "     convert_file.write(json.dumps(response_v3))"
   ]
  },
  {
   "cell_type": "code",
   "execution_count": 65,
   "id": "1be8c271",
   "metadata": {},
   "outputs": [
    {
     "data": {
      "text/plain": [
       "['1. Subfields:',\n",
       " '   a. Clinical psychology',\n",
       " '   b. Cognitive psychology',\n",
       " '   c. Developmental psychology',\n",
       " '   d. Educational psychology',\n",
       " '   e. Social psychology',\n",
       " '   f. Industrial-organizational psychology',\n",
       " '   g. Health psychology',\n",
       " '   h. Neuropsychology',\n",
       " '   i. Biological psychology',\n",
       " '   j. Forensic psychology',\n",
       " '   k. Sports psychology',\n",
       " '',\n",
       " '2. Key figures:',\n",
       " '   a. Sigmund Freud - Psychoanalysis',\n",
       " '   b. Carl Rogers - Humanistic psychology, client-centered therapy',\n",
       " '   c. B.F. Skinner - Operant conditioning, behaviorism',\n",
       " '   d. Jean Piaget - Cognitive development',\n",
       " '   e. Erik Erikson - Psychosocial development',\n",
       " '   f. Abraham Maslow - Hierarchy of needs, humanistic psychology',\n",
       " '   g. Ivan Pavlov - Classical conditioning',\n",
       " '   h. Carl Jung - Analytical psychology, collective unconscious',\n",
       " '   i. John Watson - Behaviorism',\n",
       " '   j. Albert Bandura - Social learning theory, self-efficacy',\n",
       " '   k. Elizabeth Loftus - Memory research, misinformation effect',\n",
       " '',\n",
       " '3. Theories:',\n",
       " '   a. Psychoanalysis - Sigmund Freud',\n",
       " '   b. Humanistic psychology - Carl Rogers, Abraham Maslow',\n",
       " '   c. Behaviorism - B.F. Skinner, John Watson',\n",
       " '   d. Cognitive development - Jean Piaget',\n",
       " '   e. Psychosocial development - Erik Erikson',\n",
       " '   f. Hierarchy of needs - Abraham Maslow',\n",
       " '   g. Classical conditioning - Ivan Pavlov',\n",
       " '   h. Analytical psychology - Carl Jung',\n",
       " '   i. Social learning theory - Albert Bandura',\n",
       " '   j. Misinformation effect - Elizabeth Loftus',\n",
       " '',\n",
       " '4. Concepts:',\n",
       " '   a. Unconscious mind - related to Psychoanalysis (Sigmund Freud)',\n",
       " '   b. Self-actualization - related to Humanistic psychology (Abraham Maslow)',\n",
       " '   c. Positive reinforcement - related to Operant conditioning (B.F. Skinner)',\n",
       " '   d. Schema - related to Cognitive development (Jean Piaget)',\n",
       " '   e. Identity crisis - related to Psychosocial development (Erik Erikson)',\n",
       " '   f. Archetypes - related to Analytical psychology (Carl Jung)',\n",
       " '   g. Observational learning - related to Social learning theory (Albert Bandura)',\n",
       " '   h. Cognitive dissonance - related to Social psychology (Leon Festinger)',\n",
       " '   i. False memories - related to Memory research (Elizabeth Loftus)',\n",
       " '   j. Nature vs. nurture debate - related to multiple psychological perspectives and figures']"
      ]
     },
     "execution_count": 65,
     "metadata": {},
     "output_type": "execute_result"
    }
   ],
   "source": [
    "response_v3_=response_v3\n",
    "lines_v3 = response_v3_.strip().split('\\n')\n",
    "lines_v3"
   ]
  },
  {
   "cell_type": "code",
   "execution_count": 66,
   "id": "44ad27b2",
   "metadata": {},
   "outputs": [
    {
     "name": "stdout",
     "output_type": "stream",
     "text": [
      "1. Subfields\n",
      "Clinical psychology\n",
      "Cognitive psychology\n",
      "Developmental psychology\n",
      "Educational psychology\n",
      "Social psychology\n",
      "Industrial-organizational psychology\n",
      "Health psychology\n",
      "Neuropsychology\n",
      "Biological psychology\n",
      "Forensic psychology\n",
      "Sports psychology\n",
      "2. Key figures\n",
      "Sigmund Freud - Psychoanalysis\n",
      "Carl Rogers - Humanistic psychology, client-centered therapy\n",
      "B.F. Skinner - Operant conditioning, behaviorism\n",
      "Jean Piaget - Cognitive development\n",
      "Erik Erikson - Psychosocial development\n",
      "Abraham Maslow - Hierarchy of needs, humanistic psychology\n",
      "Ivan Pavlov - Classical conditioning\n",
      "Carl Jung - Analytical psychology, collective unconscious\n",
      "John Watson - Behaviorism\n",
      "Albert Bandura - Social learning theory, self-efficacy\n",
      "Elizabeth Loftus - Memory research, misinformation effect\n",
      "3. Theories\n",
      "Psychoanalysis - Sigmund Freud\n",
      "Humanistic psychology - Carl Rogers, Abraham Maslow\n",
      "Behaviorism - B.F. Skinner, John Watson\n",
      "Cognitive development - Jean Piaget\n",
      "Psychosocial development - Erik Erikson\n",
      "Hierarchy of needs - Abraham Maslow\n",
      "Classical conditioning - Ivan Pavlov\n",
      "Analytical psychology - Carl Jung\n",
      "Social learning theory - Albert Bandura\n",
      "Misinformation effect - Elizabeth Loftus\n",
      "4. Concepts\n",
      "Unconscious mind - related to Psychoanalysis (Sigmund Freud)\n",
      "Self-actualization - related to Humanistic psychology (Abraham Maslow)\n",
      "Positive reinforcement - related to Operant conditioning (B.F. Skinner)\n",
      "Schema - related to Cognitive development (Jean Piaget)\n",
      "Identity crisis - related to Psychosocial development (Erik Erikson)\n",
      "Archetypes - related to Analytical psychology (Carl Jung)\n",
      "Observational learning - related to Social learning theory (Albert Bandura)\n",
      "Cognitive dissonance - related to Social psychology (Leon Festinger)\n",
      "False memories - related to Memory research (Elizabeth Loftus)\n",
      "Nature vs. nurture debate - related to multiple psychological perspectives and figures\n",
      "Warning: When  cdn_resources is 'local' jupyter notebook has issues displaying graphics on chrome/safari. Use cdn_resources='in_line' or cdn_resources='remote' if you have issues viewing graphics in a notebook.\n",
      "psychology_graph.html\n"
     ]
    },
    {
     "data": {
      "text/html": [
       "\n",
       "        <iframe\n",
       "            width=\"100%\"\n",
       "            height=\"600px\"\n",
       "            src=\"psychology_graph.html\"\n",
       "            frameborder=\"0\"\n",
       "            allowfullscreen\n",
       "            \n",
       "        ></iframe>\n",
       "        "
      ],
      "text/plain": [
       "<IPython.lib.display.IFrame at 0x13d314910>"
      ]
     },
     "execution_count": 66,
     "metadata": {},
     "output_type": "execute_result"
    }
   ],
   "source": [
    "category = ''\n",
    "for line in lines_v3:\n",
    "    line = line.strip()\n",
    "    if not line:  # if it's an empty line, skip\n",
    "        continue\n",
    "    if line.endswith(':'):  # if it's a category line\n",
    "        category = line[:-1]\n",
    "        print(category)\n",
    "        continue\n",
    "    item = line[line.index('. ')+2:]  # get rid of \"a. \", \"b. \", etc.\n",
    "    print(item)\n",
    "    if '-' in item:  # if there's a '-' in the line, it's a figure or theory\n",
    "        item, associated = item.split('-', 1)\n",
    "        item = item.strip()\n",
    "        associated = associated.strip()\n",
    "        G.add_edge(item, associated)\n",
    "    elif 'related to' in item:  # if there's a 'related to' in the line, it's a concept\n",
    "        item, related = item.split('related to', 1)\n",
    "        item = item.strip()\n",
    "        related = related.strip().strip('()')  # remove parentheses\n",
    "        G.add_edge(item, related)\n",
    "    else:  # if it's a subfield, just add the node\n",
    "        G.add_node(item, type=category.lower())\n",
    "\n",
    "# Convert to a pyvis network\n",
    "net = Network(notebook=True)\n",
    "net.from_nx(G)\n",
    "\n",
    "# Show the interactive graph\n",
    "net.show(\"psychology_graph.html\")"
   ]
  },
  {
   "cell_type": "markdown",
   "id": "3eff30c7",
   "metadata": {},
   "source": [
    "## v4 - Change the prompt to create a better node structure"
   ]
  },
  {
   "cell_type": "code",
   "execution_count": 68,
   "id": "8fe19567",
   "metadata": {},
   "outputs": [],
   "source": [
    "prompt_v4 = (\n",
    "    \"Could you please provide an organized and detailed breakdown of the field of psychology? \"\n",
    "    \"This should include the following information:\\n\\n\"\n",
    "    \"1. Major subfields of psychology, listed individually.\\n\"\n",
    "    \"2. Key figures in psychology, listed individually along with their main contributions or theories \"\n",
    "    \"and the subfield they are most associated with.\\n\"\n",
    "    \"3. Main theories in psychology, listed individually along with their associated key figures.\\n\"\n",
    "    \"4. Major concepts in psychology, listed individually along with their associated theories.\\n\\n\"\n",
    "    \"Please provide the information in the following format:\\n\\n\"\n",
    "    \"1. Subfields:\\n\"\n",
    "    \"   a. [Subfield 1]\\n\"\n",
    "    \"   b. [Subfield 2]\\n\"\n",
    "    \"   ...\\n\"\n",
    "    \"2. Key figures:\\n\"\n",
    "    \"   a. [Figure 1] - [Contribution or theory] - Subfield: [Subfield]\\n\"\n",
    "    \"   b. [Figure 2] - [Contribution or theory] - Subfield: [Subfield]\\n\"\n",
    "    \"   ...\\n\"\n",
    "    \"3. Theories:\\n\"\n",
    "    \"   a. [Theory 1] - Figure: [Associated figure]\\n\"\n",
    "    \"   b. [Theory 2] - Figure: [Associated figure]\\n\"\n",
    "    \"   ...\\n\"\n",
    "    \"4. Concepts:\\n\"\n",
    "    \"   a. [Concept 1] - Theory: [Associated theory]\\n\"\n",
    "    \"   b. [Concept 2] - Theory: [Associated theory]\\n\"\n",
    "    \"   ...\"\n",
    ")"
   ]
  },
  {
   "cell_type": "code",
   "execution_count": 69,
   "id": "c2772511",
   "metadata": {},
   "outputs": [
    {
     "name": "stdout",
     "output_type": "stream",
     "text": [
      "CPU times: user 20.7 ms, sys: 7.33 ms, total: 28 ms\n",
      "Wall time: 1min 50s\n"
     ]
    },
    {
     "data": {
      "text/plain": [
       "'1. Subfields:\\n   a. Clinical psychology\\n   b. Cognitive psychology\\n   c. Developmental psychology\\n   d. Social psychology\\n   e. Biological psychology\\n   f. Industrial/Organizational psychology\\n   g. Health psychology\\n   h. Educational psychology\\n   i. Forensic psychology\\n   j. Sports psychology\\n\\n2. Key figures:\\n   a. Sigmund Freud - Psychoanalysis - Subfield: Clinical psychology\\n   b. B. F. Skinner - Operant conditioning - Subfield: Behavioral psychology\\n   c. Carl Rogers - Person-centered therapy - Subfield: Clinical psychology\\n   d. Jean Piaget - Cognitive development - Subfield: Developmental psychology\\n   e. Albert Bandura - Social learning theory - Subfield: Social psychology\\n   f. Abraham Maslow - Hierarchy of needs - Subfield: Humanistic psychology\\n   g. John Watson - Behaviorism - Subfield: Behavioral psychology\\n   h. Erik Erikson - Psychosocial development - Subfield: Developmental psychology\\n   i. Ivan Pavlov - Classical conditioning - Subfield: Behavioral psychology\\n   j. Elizabeth Loftus - False memory research - Subfield: Cognitive psychology\\n\\n3. Theories:\\n   a. Psychoanalysis - Figure: Sigmund Freud\\n   b. Operant conditioning - Figure: B.F. Skinner\\n   c. Person-centered therapy - Figure: Carl Rogers\\n   d. Cognitive development - Figure: Jean Piaget\\n   e. Social learning theory - Figure: Albert Bandura\\n   f. Hierarchy of needs - Figure: Abraham Maslow\\n   g. Behaviorism - Figure: John Watson\\n   h. Psychosocial development - Figure: Erik Erikson\\n   i. Classical conditioning - Figure: Ivan Pavlov\\n   j. False memory research - Figure: Elizabeth Loftus\\n\\n4. Concepts:\\n   a. The id, ego, and superego - Theory: Psychoanalysis\\n   b. Positive reinforcement and negative reinforcement - Theory: Operant conditioning\\n   c. Unconditional positive regard - Theory: Person-centered therapy\\n   d. Schema and assimilation/accommodation - Theory: Cognitive development\\n   e. Modeling and self-efficacy - Theory: Social learning theory\\n   f. Self-actualization - Theory: Hierarchy of needs\\n   g. Stimulus-response - Theory: Behaviorism\\n   h. Trust vs. mistrust, autonomy vs. shame, and other stages - Theory: Psychosocial development\\n   i. Neutral stimulus, unconditioned stimulus, and conditioned stimulus - Theory: Classical conditioning\\n   j. Misinformation effect and implanting false memories - Theory: False memory research'"
      ]
     },
     "execution_count": 69,
     "metadata": {},
     "output_type": "execute_result"
    }
   ],
   "source": [
    "%%time\n",
    "# Get the list of models, for each data type and problem type\n",
    "response_v4 = generate_text(prompt_v4, GPTmodel=\"gpt-4\") #or gpt-3.5-turbo for faster results vs lower query quality\n",
    "response_v4\n"
   ]
  },
  {
   "cell_type": "code",
   "execution_count": 86,
   "id": "3279c365",
   "metadata": {},
   "outputs": [
    {
     "name": "stdout",
     "output_type": "stream",
     "text": [
      "Warning: When  cdn_resources is 'local' jupyter notebook has issues displaying graphics on chrome/safari. Use cdn_resources='in_line' or cdn_resources='remote' if you have issues viewing graphics in a notebook.\n",
      "psychology_graph_.html\n"
     ]
    },
    {
     "data": {
      "text/html": [
       "\n",
       "        <iframe\n",
       "            width=\"100%\"\n",
       "            height=\"600px\"\n",
       "            src=\"psychology_graph_.html\"\n",
       "            frameborder=\"0\"\n",
       "            allowfullscreen\n",
       "            \n",
       "        ></iframe>\n",
       "        "
      ],
      "text/plain": [
       "<IPython.lib.display.IFrame at 0x13cfcef20>"
      ]
     },
     "execution_count": 86,
     "metadata": {},
     "output_type": "execute_result"
    }
   ],
   "source": [
    "### Local Reset to raw data\n",
    "response_v4_= response_v4\n",
    "lines = response_v4_.strip().split('\\n')\n",
    "###\n",
    "\n",
    "category = ''\n",
    "for line in response_v4_:\n",
    "    line = line.strip()\n",
    "    if not line:  # if it's an empty line, skip\n",
    "        continue\n",
    "    if line.endswith(':'):  # if it's a category line\n",
    "        category = line[:-1]\n",
    "        continue\n",
    "    if '. ' in line:  # if there's a '. ' in the line\n",
    "        item = line[line.index('. ')+2:]  # get rid of \"a. \", \"b. \", etc.\n",
    "        if '-' in item:  # if there's a '-' in the line\n",
    "            parts = item.split('-')\n",
    "            if len(parts) == 3:  # if it's a figure with three parts\n",
    "                item, associated, subfield = [part.strip() for part in parts]\n",
    "                subfield = subfield.split(':')[1].strip()  # Get rid of \"Subfield: \"\n",
    "                G.add_edge(item, associated)\n",
    "                G.add_edge(item, subfield)\n",
    "            else:  # if it's a theory with two parts\n",
    "                item, figure = [part.strip() for part in parts]\n",
    "                figure = figure.split(':')[1].strip()  # Get rid of \"Figure: \"\n",
    "                G.add_edge(item, figure)\n",
    "        elif 'Theory:' in item:  # if there's a 'Theory:' in the line, it's a concept\n",
    "            item, theory = [part.strip() for part in item.split('Theory:')]\n",
    "            G.add_edge(item, theory)\n",
    "    else:  # if it's a subfield, just add the node\n",
    "        G.add_node(line, type=category.lower())\n",
    "\n",
    "# Convert to a pyvis network\n",
    "net = Network(notebook=True)\n",
    "net.from_nx(G)\n",
    "\n",
    "# Show the interactive graph\n",
    "net.show(\"psychology_graph_.html\")"
   ]
  },
  {
   "cell_type": "code",
   "execution_count": null,
   "id": "53d10f74",
   "metadata": {},
   "outputs": [],
   "source": []
  }
 ],
 "metadata": {
  "kernelspec": {
   "display_name": "Python 3 (ipykernel)",
   "language": "python",
   "name": "python3"
  },
  "language_info": {
   "codemirror_mode": {
    "name": "ipython",
    "version": 3
   },
   "file_extension": ".py",
   "mimetype": "text/x-python",
   "name": "python",
   "nbconvert_exporter": "python",
   "pygments_lexer": "ipython3",
   "version": "3.10.10"
  },
  "toc": {
   "base_numbering": 1,
   "nav_menu": {},
   "number_sections": true,
   "sideBar": true,
   "skip_h1_title": false,
   "title_cell": "Table of Contents",
   "title_sidebar": "Contents",
   "toc_cell": false,
   "toc_position": {},
   "toc_section_display": true,
   "toc_window_display": true
  }
 },
 "nbformat": 4,
 "nbformat_minor": 5
}
